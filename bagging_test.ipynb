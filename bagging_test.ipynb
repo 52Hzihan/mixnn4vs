{
 "cells": [
  {
   "cell_type": "code",
   "execution_count": null,
   "metadata": {},
   "outputs": [],
   "source": [
    "from tensorflow import keras\n",
    "from sklearn.metrics import confusion_matrix, ConfusionMatrixDisplay\n",
    "import matplotlib.pyplot as plt\n",
    "import numpy as np\n",
    "import pickle\n",
    "\n",
    "f3 = open('data/split_0.80_0.10_0.10_aug_to_5000_down_sample_True_instance1/test_data', 'rb')\n",
    "X_sequence_test, X_feature_test, X_image_test, Y_test = pickle.load(f3)\n",
    "f3.close()\n",
    "from keras.preprocessing.sequence import pad_sequences\n",
    "X_sequence_test_paded = pad_sequences(X_sequence_test, dtype='float', padding='post', value = np.nan)\n",
    "from util import preprocess\n",
    "X_sequence_test_trimed = preprocess(X_sequence_test_paded)\n",
    "\n",
    "def build_channel(data):\n",
    "    X = []\n",
    "    for image in data:\n",
    "        X.append(image.reshape(128, 128, 1))\n",
    "    return X\n",
    "X_image_test = np.array(build_channel(X_image_test))\n",
    "X_feature_test = np.array(X_feature_test)\n",
    "Y_test = np.array(Y_test)-1\n",
    "\n"
   ]
  },
  {
   "cell_type": "code",
   "execution_count": null,
   "metadata": {},
   "outputs": [],
   "source": [
    "models = []\n",
    "for i in range(0,10):\n",
    "    lodaed_model = keras.models.load_model('')\n",
    "    models.append(lodaed_model)\n",
    "\n",
    "def generate_batch(X_sequence, X_image,  X_feature, Y, batch_size):\n",
    "    idx = 0\n",
    "    batch_num = len(Y)/batch_size\n",
    "    while idx < batch_num:\n",
    "        batch_x_sequence = X_sequence[idx * batch_size : (idx + 1) * batch_size]\n",
    "        batch_x_image = X_image[idx * batch_size : (idx + 1) * batch_size]\n",
    "        batch_x_feature = X_feature[idx * batch_size : (idx + 1) * batch_size]\n",
    "        batch_y = Y[idx * batch_size : (idx + 1) * batch_size]\n",
    "        yield batch_x_sequence, batch_x_image, batch_x_feature, batch_y\n",
    "        idx += 1\n",
    "\n",
    "test_gen = generate_batch(X_sequence_test_trimed, X_image_test, X_feature_test, Y_test, 128)      \n",
    "y_label = Y_test\n",
    "\n",
    "# train_gen = generate_batch(X_train_trimed, Y_train,128)      \n",
    "# y_label = Y_train\n",
    "\n",
    "y_predict = np.array([])\n",
    "for x_sequence, x_image, x_feature, y in test_gen:\n",
    "    results = []\n",
    "    for model in models:\n",
    "        results.append(model.predict({'sequence':x_sequence, \n",
    "                                        # 'image':x_image,\n",
    "                                        'feature':x_feature}))\n",
    "    average_result = np.sum(results, axis=0)\n",
    "    y_predict = np.concatenate([y_predict, np.argmax(average_result, axis=-1)])\n",
    "y_label = y_label.astype(np.int32) \n",
    "y_predict = y_predict.astype(np.int32) \n",
    "cm = confusion_matrix(y_true=y_label, y_pred=y_predict, normalize='true')\n",
    "print(cm.shape)\n",
    "# disp = ConfusionMatrixDisplay(confusion_matrix=cm)\n",
    "# disp.plot(values_format='.2g')\n",
    "\n",
    "classes = ['RRab', 'RRc','RRd', 'Blazhko','Ecl', 'EA' , 'ROT', 'LPV','DS','ACEP', 'Cep-2']\n",
    "\n",
    "from util import cm_plot\n",
    "\n",
    "plotting = cm_plot(cm, classes_types=classes, classifier_model='mix Classifier', nClasses=12,\n",
    "                    cmap=plt.cm.Blues)"
   ]
  }
 ],
 "metadata": {
  "kernelspec": {
   "display_name": "Python 3.9.7 ('DL')",
   "language": "python",
   "name": "python3"
  },
  "language_info": {
   "name": "python",
   "version": "3.9.7"
  },
  "orig_nbformat": 4,
  "vscode": {
   "interpreter": {
    "hash": "686e52782356fa5192d8da796457d9836a4bb6aebab3dc056991bb89ef60f4a8"
   }
  }
 },
 "nbformat": 4,
 "nbformat_minor": 2
}
