{
 "cells": [
  {
   "cell_type": "code",
   "execution_count": 1,
   "metadata": {},
   "outputs": [
    {
     "name": "stdout",
     "output_type": "stream",
     "text": [
      "augmenting\n",
      "batch=1, count=432\n",
      "augmenting\n",
      "batch=2, count=864\n",
      "augmenting\n",
      "batch=3, count=1296\n",
      "augmenting\n",
      "batch=4, count=1448\n",
      "augmenting\n",
      "batch=1, count=375\n",
      "augmenting\n",
      "batch=2, count=750\n",
      "augmenting\n",
      "batch=3, count=1125\n",
      "augmenting\n",
      "batch=4, count=1500\n",
      "augmenting\n",
      "batch=5, count=1505\n",
      "augmenting\n",
      "batch=1, count=50\n",
      "augmenting\n",
      "batch=2, count=100\n",
      "augmenting\n",
      "batch=3, count=150\n",
      "augmenting\n",
      "batch=4, count=200\n",
      "augmenting\n",
      "batch=5, count=250\n",
      "augmenting\n",
      "batch=6, count=300\n",
      "augmenting\n"
     ]
    }
   ],
   "source": [
    "from util import create_dataset \n",
    "create_dataset('data/original_dataset_0.60_0.30_0.10', 2500, down_sample=False, aug_val=True,image=False, instance=0, save_weight=True)"
   ]
  },
  {
   "cell_type": "code",
   "execution_count": 1,
   "metadata": {},
   "outputs": [
    {
     "name": "stderr",
     "output_type": "stream",
     "text": [
      "/tmp/ipykernel_27951/1954777488.py:16: DeprecationWarning: The binary mode of fromstring is deprecated, as it behaves surprisingly on unicode inputs. Use frombuffer instead\n",
      "  buf = np.fromstring(fig.canvas.tostring_argb(), dtype=np.uint8)\n",
      "/tmp/ipykernel_27951/1954777488.py:19: DeprecationWarning: tostring() is deprecated. Use tobytes() instead.\n",
      "  image = Image.frombytes(\"RGBA\", (w, h), buf.tostring())\n"
     ]
    },
    {
     "data": {
      "image/png": "[encoded data removed]",
      "text/plain": [
       "<Figure size 128x128 with 1 Axes>"
      ]
     },
     "metadata": {},
     "output_type": "display_data"
    },
    {
     "name": "stderr",
     "output_type": "stream",
     "text": [
      "Error: no \"view\" rule for type \"image/png\" passed its test case\n",
      "       (for more information, add \"--debug=1\" on the command line)\n"
     ]
    }
   ],
   "source": [
    "import numpy as np\n",
    "import matplotlib.pyplot as plt\n",
    "from PIL import Image\n",
    "x = np.linspace(0,1,300)\n",
    "y = np.random.standard_normal(300)\n",
    "figsize=(4,4)\n",
    "dpi=32\n",
    "fig = plt.figure(figsize=figsize,dpi=dpi)\n",
    "fig.patch.set_facecolor('black')\n",
    "plt.scatter(x,y, s=4,c='w')\n",
    "plt.axis('off')\n",
    "plt.subplots_adjust(top=1, bottom=0, right=1, left=0)\n",
    "plt.margins(0,0)\n",
    "fig.canvas.draw()\n",
    "w, h = fig.canvas.get_width_height()\n",
    "buf = np.fromstring(fig.canvas.tostring_argb(), dtype=np.uint8)\n",
    "buf.shape = (w, h, 4)\n",
    "buf = np.roll(buf, 3, axis=2)\n",
    "image = Image.frombytes(\"RGBA\", (w, h), buf.tostring())\n",
    "image = image.convert('L')\n",
    "image.show()"
   ]
  },
  {
   "cell_type": "code",
   "execution_count": null,
   "metadata": {},
   "outputs": [],
   "source": [
    "from util import create_dataset\n",
    "\n",
    "for i in range(5,10):\n",
    "    original_dataste = 'data/original_dataset_10fold_No%d'%i\n",
    "    create_dataset(original_dataste, class_size=15000, down_sample=False,save_weight=True)\n"
   ]
  },
  {
   "cell_type": "code",
   "execution_count": null,
   "metadata": {},
   "outputs": [],
   "source": [
    "\n",
    "'''\n",
    "这里有错误，生成的train_data是重复的\n",
    "'''\n",
    "from curses import use_default_colors\n",
    "from util import create_dataset\n",
    "import pickle\n",
    "f1 = open('data/original_dataset_0.80_0.10_0.10', 'rb')\n",
    "train_data, val_data, test_data = pickle.load(f1)\n",
    "f1.close()\n",
    "for i in range(0,1):\n",
    "    create_dataset('data/original_dataset_0.80_0.10_0.10',2500, down_sample=True, instance=i,\n",
    "        use_pre_load=True, pre_loaded = (train_data, val_data, test_data))"
   ]
  },
  {
   "cell_type": "code",
   "execution_count": null,
   "metadata": {},
   "outputs": [],
   "source": [
    "from util import  create_dataset_exclude_origin_multi_test\n",
    "create_dataset_exclude_origin_multi_test('data/original_dataset_0.80_0.10_0.10',5000, \n",
    "                                            down_sample=True, multi_test=10)"
   ]
  },
  {
   "cell_type": "code",
   "execution_count": null,
   "metadata": {},
   "outputs": [],
   "source": [
    "import pickle\n",
    "from util import get_sample_cadence\n",
    "f = open('data/original_dataset_0.80_0.10_0.10', 'rb')\n",
    "train_data, val_data, test_data = pickle.load(f)\n",
    "f.close()\n",
    "flatten_train_data = []\n",
    "for type in train_data:\n",
    "    for sample in type:\n",
    "        flatten_train_data.append(sample)"
   ]
  },
  {
   "cell_type": "code",
   "execution_count": null,
   "metadata": {},
   "outputs": [],
   "source": [
    "lc = flatten_train_data[4474]\n",
    "lc.show()\n",
    "x = get_sample_cadence(flatten_train_data, lc.period)\n",
    "lc_simu = lc.generate_GP_simulation(x)\n",
    "lc_simu.show()"
   ]
  },
  {
   "cell_type": "code",
   "execution_count": null,
   "metadata": {},
   "outputs": [],
   "source": [
    "a = np.array([[1,2],[3,4]])\n",
    "b = np.array([[5,6],[7,8]])\n",
    "b2 = np.array([[5,6],[7,8]])\n",
    "c = [a,b, b2]\n",
    "d = np.array(c)\n",
    "print(type(d))\n",
    "print(d)\n",
    "print(d.shape)"
   ]
  },
  {
   "cell_type": "code",
   "execution_count": null,
   "metadata": {},
   "outputs": [],
   "source": [
    "for i in range(0,3):\n",
    "    print(i)"
   ]
  },
  {
   "cell_type": "code",
   "execution_count": 3,
   "metadata": {},
   "outputs": [
    {
     "data": {
      "text/plain": [
       "<matplotlib.collections.PathCollection at 0x7f8cbd7938e0>"
      ]
     },
     "execution_count": 3,
     "metadata": {},
     "output_type": "execute_result"
    },
    {
     "data": {
      "image/png": "[encoded data removed]",
      "text/plain": [
       "<Figure size 432x288 with 1 Axes>"
      ]
     },
     "metadata": {
      "needs_background": "light"
     },
     "output_type": "display_data"
    }
   ],
   "source": [
    "import numpy as np\n",
    "import matplotlib.pyplot as plt\n",
    "x = np.random.uniform(0,1,100)\n",
    "x = np.sort(x)\n",
    "y = np.linspace(0,1,100)\n",
    "plt.scatter(x,y)"
   ]
  }
 ],
 "metadata": {
  "kernelspec": {
   "display_name": "Python 3.9.7 ('DL')",
   "language": "python",
   "name": "python3"
  },
  "language_info": {
   "codemirror_mode": {
    "name": "ipython",
    "version": 3
   },
   "file_extension": ".py",
   "mimetype": "text/x-python",
   "name": "python",
   "nbconvert_exporter": "python",
   "pygments_lexer": "ipython3",
   "version": "3.9.7"
  },
  "orig_nbformat": 4,
  "vscode": {
   "interpreter": {
    "hash": "686e52782356fa5192d8da796457d9836a4bb6aebab3dc056991bb89ef60f4a8"
   }
  }
 },
 "nbformat": 4,
 "nbformat_minor": 2
}
