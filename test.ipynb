{
 "cells": [
  {
   "cell_type": "code",
   "execution_count": null,
   "metadata": {},
   "outputs": [],
   "source": [
    "from util import create_dataset \n",
    "create_dataset('data/original_dataset_0.60_0.30_0.10', 2500, down_sample=False, aug_val=True,image=False, instance=0, save_weight=True)"
   ]
  },
  {
   "cell_type": "code",
   "execution_count": 2,
   "metadata": {},
   "outputs": [
    {
     "name": "stderr",
     "output_type": "stream",
     "text": [
      "/tmp/ipykernel_3841/3707637875.py:14: DeprecationWarning: The binary mode of fromstring is deprecated, as it behaves surprisingly on unicode inputs. Use frombuffer instead\n",
      "  buf = np.fromstring(fig.canvas.tostring_argb(), dtype=np.uint8)\n",
      "/tmp/ipykernel_3841/3707637875.py:17: DeprecationWarning: tostring() is deprecated. Use tobytes() instead.\n",
      "  image = Image.frombytes(\"RGBA\", (w, h), buf.tostring())\n"
     ]
    }
   ],
   "source": [
    "import matplotlib.pyplot as plt\n",
    "import numpy as np\n",
    "\n",
    "def sequence_to_image(x, y, figsize=(4,4),dpi=32):\n",
    "    from PIL import Image\n",
    "    fig = plt.figure(figsize=figsize,dpi=dpi)\n",
    "    fig.patch.set_facecolor('black')\n",
    "    plt.scatter(x,y, s=2,c='w')\n",
    "    plt.axis('off')\n",
    "    plt.subplots_adjust(top=1, bottom=0, right=1, left=0)\n",
    "    plt.margins(0,0)\n",
    "    fig.canvas.draw()\n",
    "    w, h = fig.canvas.get_width_height()\n",
    "    buf = np.fromstring(fig.canvas.tostring_argb(), dtype=np.uint8)\n",
    "    buf.shape = (w, h, 4)\n",
    "    buf = np.roll(buf, 3, axis=2)\n",
    "    image = Image.frombytes(\"RGBA\", (w, h), buf.tostring())\n",
    "    image = image.convert('L')\n",
    "    plt.close('all')\n",
    "    return image\n",
    "\n",
    "import pickle\n",
    "f2 = open('data/split_%dfold_No%d'%(10,0)+'_aug_to_2500_down_sample_True_instance0-9/test_data', 'rb')\n",
    "X_sequence_test, X_feature_test, Y_test = pickle.load(f2) \n",
    "f2.close()\n",
    "images_test = []\n",
    "for sequence in X_sequence_test :\n",
    "    images_test.append(np.array(sequence_to_image(sequence[:,0],sequence[:,1])))\n"
   ]
  },
  {
   "cell_type": "code",
   "execution_count": 9,
   "metadata": {},
   "outputs": [
    {
     "data": {
      "text/plain": [
       "<matplotlib.image.AxesImage at 0x7ff903ea2730>"
      ]
     },
     "execution_count": 9,
     "metadata": {},
     "output_type": "execute_result"
    },
    {
     "data": {
      "image/png": "[encoded data removed]",
      "text/plain": [
       "<Figure size 640x480 with 1 Axes>"
      ]
     },
     "metadata": {},
     "output_type": "display_data"
    }
   ],
   "source": [
    "plt.imshow(images_test[8])"
   ]
  },
  {
   "cell_type": "code",
   "execution_count": 1,
   "metadata": {},
   "outputs": [
    {
     "name": "stderr",
     "output_type": "stream",
     "text": [
      "2023-02-06 17:11:50.743584: I tensorflow/core/platform/cpu_feature_guard.cc:193] This TensorFlow binary is optimized with oneAPI Deep Neural Network Library (oneDNN) to use the following CPU instructions in performance-critical operations:  SSE4.1 SSE4.2 AVX AVX2 AVX512F AVX512_VNNI FMA\n",
      "To enable them in other operations, rebuild TensorFlow with the appropriate compiler flags.\n",
      "2023-02-06 17:11:50.836652: I tensorflow/core/util/util.cc:169] oneDNN custom operations are on. You may see slightly different numerical results due to floating-point round-off errors from different computation orders. To turn them off, set the environment variable `TF_ENABLE_ONEDNN_OPTS=0`.\n",
      "2023-02-06 17:11:52.153797: I tensorflow/core/platform/cpu_feature_guard.cc:193] This TensorFlow binary is optimized with oneAPI Deep Neural Network Library (oneDNN) to use the following CPU instructions in performance-critical operations:  SSE4.1 SSE4.2 AVX AVX2 AVX512F AVX512_VNNI FMA\n",
      "To enable them in other operations, rebuild TensorFlow with the appropriate compiler flags.\n",
      "2023-02-06 17:11:53.323730: I tensorflow/core/common_runtime/gpu/gpu_device.cc:1616] Created device /job:localhost/replica:0/task:0/device:GPU:0 with 22231 MB memory:  -> device: 0, name: GeForce RTX 3090, pci bus id: 0000:73:00.0, compute capability: 8.6\n",
      "2023-02-06 17:11:53.324736: I tensorflow/core/common_runtime/gpu/gpu_device.cc:1616] Created device /job:localhost/replica:0/task:0/device:GPU:1 with 22284 MB memory:  -> device: 1, name: GeForce RTX 3090, pci bus id: 0000:d5:00.0, compute capability: 8.6\n"
     ]
    },
    {
     "name": "stdout",
     "output_type": "stream",
     "text": [
      "Model: \"model\"\n",
      "__________________________________________________________________________________________________\n",
      " Layer (type)                   Output Shape         Param #     Connected to                     \n",
      "==================================================================================================\n",
      " image (InputLayer)             [(None, 128, 128, 1  0           []                               \n",
      "                                )]                                                                \n",
      "                                                                                                  \n",
      " rescaling (Rescaling)          (None, 128, 128, 1)  0           ['image[0][0]']                  \n",
      "                                                                                                  \n",
      " conv2d (Conv2D)                (None, 128, 128, 4)  200         ['rescaling[0][0]']              \n",
      "                                                                                                  \n",
      " conv2d_1 (Conv2D)              (None, 128, 128, 4)  404         ['conv2d[0][0]']                 \n",
      "                                                                                                  \n",
      " batch_normalization (BatchNorm  (None, 128, 128, 4)  16         ['conv2d_1[0][0]']               \n",
      " alization)                                                                                       \n",
      "                                                                                                  \n",
      " dropout_2 (Dropout)            (None, 128, 128, 4)  0           ['batch_normalization[0][0]']    \n",
      "                                                                                                  \n",
      " max_pooling2d (MaxPooling2D)   (None, 63, 63, 4)    0           ['dropout_2[0][0]']              \n",
      "                                                                                                  \n",
      " conv2d_2 (Conv2D)              (None, 63, 63, 8)    296         ['max_pooling2d[0][0]']          \n",
      "                                                                                                  \n",
      " conv2d_3 (Conv2D)              (None, 63, 63, 8)    584         ['conv2d_2[0][0]']               \n",
      "                                                                                                  \n",
      " conv2d_4 (Conv2D)              (None, 63, 63, 8)    584         ['conv2d_3[0][0]']               \n",
      "                                                                                                  \n",
      " batch_normalization_1 (BatchNo  (None, 63, 63, 8)   32          ['conv2d_4[0][0]']               \n",
      " rmalization)                                                                                     \n",
      "                                                                                                  \n",
      " dropout_3 (Dropout)            (None, 63, 63, 8)    0           ['batch_normalization_1[0][0]']  \n",
      "                                                                                                  \n",
      " max_pooling2d_1 (MaxPooling2D)  (None, 31, 31, 8)   0           ['dropout_3[0][0]']              \n",
      "                                                                                                  \n",
      " conv2d_5 (Conv2D)              (None, 31, 31, 16)   1168        ['max_pooling2d_1[0][0]']        \n",
      "                                                                                                  \n",
      " conv2d_6 (Conv2D)              (None, 31, 31, 16)   2320        ['conv2d_5[0][0]']               \n",
      "                                                                                                  \n",
      " conv2d_7 (Conv2D)              (None, 31, 31, 16)   2320        ['conv2d_6[0][0]']               \n",
      "                                                                                                  \n",
      " batch_normalization_2 (BatchNo  (None, 31, 31, 16)  64          ['conv2d_7[0][0]']               \n",
      " rmalization)                                                                                     \n",
      "                                                                                                  \n",
      " dropout_4 (Dropout)            (None, 31, 31, 16)   0           ['batch_normalization_2[0][0]']  \n",
      "                                                                                                  \n",
      " max_pooling2d_2 (MaxPooling2D)  (None, 15, 15, 16)  0           ['dropout_4[0][0]']              \n",
      "                                                                                                  \n",
      " conv2d_8 (Conv2D)              (None, 15, 15, 32)   4640        ['max_pooling2d_2[0][0]']        \n",
      "                                                                                                  \n",
      " conv2d_9 (Conv2D)              (None, 15, 15, 32)   9248        ['conv2d_8[0][0]']               \n",
      "                                                                                                  \n",
      " sequence (InputLayer)          [(None, None, 3)]    0           []                               \n",
      "                                                                                                  \n",
      " batch_normalization_3 (BatchNo  (None, 15, 15, 32)  128         ['conv2d_9[0][0]']               \n",
      " rmalization)                                                                                     \n",
      "                                                                                                  \n",
      " masking (Masking)              (None, None, 3)      0           ['sequence[0][0]']               \n",
      "                                                                                                  \n",
      " dropout_5 (Dropout)            (None, 15, 15, 32)   0           ['batch_normalization_3[0][0]']  \n",
      "                                                                                                  \n",
      " Bidirectional (Bidirectional)  (None, None, 256)    102144      ['masking[0][0]']                \n",
      "                                                                                                  \n",
      " max_pooling2d_3 (MaxPooling2D)  (None, 7, 7, 32)    0           ['dropout_5[0][0]']              \n",
      "                                                                                                  \n",
      " Bidirectional_1 (Bidirectional  (None, 128)         123648      ['Bidirectional[0][0]']          \n",
      " )                                                                                                \n",
      "                                                                                                  \n",
      " global_average_pooling2d (Glob  (None, 32)          0           ['max_pooling2d_3[0][0]']        \n",
      " alAveragePooling2D)                                                                              \n",
      "                                                                                                  \n",
      " dropout (Dropout)              (None, 128)          0           ['Bidirectional_1[0][0]']        \n",
      "                                                                                                  \n",
      " dropout_6 (Dropout)            (None, 32)           0           ['global_average_pooling2d[0][0]'\n",
      "                                                                 ]                                \n",
      "                                                                                                  \n",
      " dense (Dense)                  (None, 128)          16512       ['dropout[0][0]']                \n",
      "                                                                                                  \n",
      " cnn_dense (Dense)              (None, 256)          8448        ['dropout_6[0][0]']              \n",
      "                                                                                                  \n",
      " feature (InputLayer)           [(None, 2)]          0           []                               \n",
      "                                                                                                  \n",
      " dropout_1 (Dropout)            (None, 128)          0           ['dense[0][0]']                  \n",
      "                                                                                                  \n",
      " dropout_7 (Dropout)            (None, 256)          0           ['cnn_dense[0][0]']              \n",
      "                                                                                                  \n",
      " dense_2 (Dense)                (None, 64)           192         ['feature[0][0]']                \n",
      "                                                                                                  \n",
      " dense_1 (Dense)                (None, 32)           4128        ['dropout_1[0][0]']              \n",
      "                                                                                                  \n",
      " cnn_dense_2 (Dense)            (None, 32)           8224        ['dropout_7[0][0]']              \n",
      "                                                                                                  \n",
      " dense_3 (Dense)                (None, 32)           2080        ['dense_2[0][0]']                \n",
      "                                                                                                  \n",
      " concatenate (Concatenate)      (None, 96)           0           ['dense_1[0][0]',                \n",
      "                                                                  'cnn_dense_2[0][0]',            \n",
      "                                                                  'dense_3[0][0]']                \n",
      "                                                                                                  \n",
      " mix_final_dense (Dense)        (None, 11)           1067        ['concatenate[0][0]']            \n",
      "                                                                                                  \n",
      "==================================================================================================\n",
      "Total params: 288,447\n",
      "Trainable params: 41,895\n",
      "Non-trainable params: 246,552\n",
      "__________________________________________________________________________________________________\n"
     ]
    },
    {
     "ename": "",
     "evalue": "",
     "output_type": "error",
     "traceback": [
      "\u001b[1;31m在当前单元格或上一个单元格中执行代码时 Kernel 崩溃。请查看单元格中的代码，以确定故障的可能原因。有关详细信息，请单击 <a href='https://aka.ms/vscodeJupyterKernelCrash'>此处</a>。有关更多详细信息，请查看 Jupyter <a href='command:jupyter.viewOutput'>log</a>。"
     ]
    }
   ],
   "source": [
    "import tensorflow as tf\n",
    "from tensorflow import keras\n",
    "from tensorflow.keras import layers\n",
    "from tensorflow.keras import regularizers\n",
    "\n",
    "import pickle\n",
    "import numpy as np\n",
    "\n",
    "def multi_input_model(sequence_shape, image_shape, feature_shape, num_classes, cnn_lr_lamd=5):\n",
    "\n",
    "    sequence_inputs = keras.Input(shape=sequence_shape, name='sequence')\n",
    "    masking_layer = layers.Masking(mask_value=0, name='masking')\n",
    "    x1 = masking_layer(sequence_inputs)\n",
    "    x1 = layers.Bidirectional(layers.GRU(128, return_sequences=True, trainable=False), name='Bidirectional',trainable=False)(x1)\n",
    "    x1 = layers.Bidirectional(layers.GRU(64, trainable=False), name='Bidirectional_1', trainable=False)(x1)\n",
    "    x1 = layers.Dropout(0.4)(x1)\n",
    "    x1 = layers.Dense(128, activation=\"relu\", name='dense', trainable=False)(x1)\n",
    "    x1 = layers.Dropout(0.4)(x1)\n",
    "    x1 = layers.Dense(32, activation=\"relu\", name='dense_1', trainable=False)(x1)\n",
    "\n",
    "    image_inputs = keras.Input(shape=image_shape, name='image')\n",
    "    x2 = layers.Rescaling(scale=1.0 / 255)(image_inputs)\n",
    "    x2 = layers.Conv2D(filters=4, kernel_size=(7,7), strides=1, activation=\"relu\", padding='same')(x2)\n",
    "    x2 = layers.Conv2D(filters=4, kernel_size=(5,5), strides=1, activation=\"relu\", padding='same')(x2)\n",
    "    x2 = layers.BatchNormalization()(x2)\n",
    "    x2 = layers.Dropout(0.2)(x2)\n",
    "    x2 = layers.MaxPooling2D(pool_size=(3, 3) ,strides=2)(x2)\n",
    "    x2 = layers.Conv2D(filters=8, kernel_size=(3,3), padding='same', activation=\"relu\")(x2)\n",
    "    x2 = layers.Conv2D(filters=8, kernel_size=(3,3), padding='same', activation=\"relu\")(x2)\n",
    "    x2 = layers.Conv2D(filters=8, kernel_size=(3,3), padding='same', activation=\"relu\")(x2)\n",
    "    x2 = layers.BatchNormalization()(x2)\n",
    "    x2 = layers.Dropout(0.2)(x2)\n",
    "    x2 = layers.MaxPooling2D(pool_size=(3, 3), strides=2)(x2)\n",
    "    x2 = layers.Conv2D(filters=16, kernel_size=(3,3), padding='same', activation=\"relu\")(x2)\n",
    "    x2 = layers.Conv2D(filters=16, kernel_size=(3,3), padding='same', activation=\"relu\")(x2)\n",
    "    x2 = layers.Conv2D(filters=16, kernel_size=(3,3), padding='same', activation=\"relu\")(x2)\n",
    "    x2 = layers.BatchNormalization()(x2)\n",
    "    x2 = layers.Dropout(0.2)(x2)\n",
    "    x2 = layers.MaxPooling2D(pool_size=(3, 3), strides=2)(x2)\n",
    "    x2 = layers.Conv2D(filters=32, kernel_size=(3,3), padding='same', activation=\"relu\")(x2)\n",
    "    x2 = layers.Conv2D(filters=32, kernel_size=(3,3), padding='same', activation=\"relu\")(x2)\n",
    "    x2 = layers.BatchNormalization()(x2)\n",
    "    x2 = layers.Dropout(0.2)(x2)\n",
    "    x2 = layers.MaxPooling2D(pool_size=(3, 3), strides=2)(x2)\n",
    "    x2 = layers.GlobalAveragePooling2D()(x2)\n",
    "    x2 = layers.Dropout(0.2)(x2)\n",
    "    x2 = layers.Dense(256, activation=\"relu\", kernel_regularizer='l1', name='cnn_dense')(x2)\n",
    "    x2 = layers.Dropout(0.2)(x2)\n",
    "    x2 = layers.Dense(32, activation=\"relu\", kernel_regularizer='l1', name='cnn_dense_2')(x2)\n",
    "\n",
    "    feature_inputs = keras.Input(shape=feature_shape, name='feature')\n",
    "    x3 = feature_inputs\n",
    "    x3 = layers.Dense(64, activation=\"relu\", name='dense_2', trainable=True)(x3)\n",
    "    x3 = layers.Dense(32, activation=\"relu\",  name='dense_3', trainable=True)(x3)\n",
    "\n",
    "    x = layers.concatenate([x1, x2, x3])\n",
    "    outputs = layers.Dense(num_classes, activation=\"softmax\", name='mix_final_dense')(x)\n",
    "    model = keras.Model(inputs=[sequence_inputs, image_inputs, feature_inputs], outputs=outputs)\n",
    "    return model\n",
    "\n",
    "model = multi_input_model(sequence_shape=(None, 3), image_shape=(128, 128, 1), \n",
    "                        feature_shape=(2,), num_classes=11, cnn_lr_lamd=10)\n",
    "model.compile(\n",
    "optimizer=keras.optimizers.Adam(1e-3),\n",
    "loss=keras.losses.CategoricalCrossentropy(label_smoothing=0.1),\n",
    "metrics=[keras.metrics.CategoricalAccuracy(name=\"acc\")],\n",
    "run_eagerly=False,\n",
    ")\n",
    "callbacks = [\n",
    "keras.callbacks.ModelCheckpoint(\n",
    "  filepath='models/bagging_after_image_0.60_0.30_0.10/mix_model%d/model_{epoch}'%6,\n",
    "  save_freq='epoch'),\n",
    "keras.callbacks.TensorBoard(log_dir='models/bagging_after_image_0.60_0.30_0.10/mix_model%d/logs'%5)\n",
    "]\n",
    "model.load_weights('models/10fold%d/bagging0/rnn_with_feature%d/rnn_weights_min_loss%d.h5'%(0,0,0), by_name=True)\n",
    "model.summary()"
   ]
  },
  {
   "cell_type": "code",
   "execution_count": null,
   "metadata": {},
   "outputs": [],
   "source": [
    "a = float('inf')\n",
    "b = float('nan')\n",
    "print(a)\n",
    "from scipy import stats\n",
    "print(stats.norm.pdf(a))\n",
    "print(stats.norm.pdf(b))"
   ]
  },
  {
   "cell_type": "code",
   "execution_count": null,
   "metadata": {},
   "outputs": [],
   "source": [
    "import numpy as np\n",
    "a = np.array([[1,2,2],[3,4,4],[3,4,4]])\n",
    "b = np.array([[5,6,5],[7,8,6],[7,8,6]])\n",
    "print(np.stack([a,b],axis=2))\n",
    "print(np.stack([a,b],axis=2).shape)"
   ]
  },
  {
   "cell_type": "code",
   "execution_count": null,
   "metadata": {},
   "outputs": [],
   "source": [
    "from scipy import stats\n",
    "print(stats.norm.pdf(-1))"
   ]
  },
  {
   "cell_type": "code",
   "execution_count": null,
   "metadata": {},
   "outputs": [],
   "source": [
    "import numpy as np\n",
    "from math import isnan\n",
    "a = np.array([[1,2],[3,float('nan')]])\n",
    "print(np.sum(a))"
   ]
  },
  {
   "cell_type": "code",
   "execution_count": null,
   "metadata": {},
   "outputs": [],
   "source": [
    "import pickle\n",
    "import numpy as np\n",
    "f1 = open('data/split_uncertainty_image_0.60_0.30_0.10_aug_to_3000_down_sample_True_instance0-9/train_data0', 'rb')\n",
    "X_sequence_train, X_feature_train, X_image_train, X_uncertainty_map, Y_train = pickle.load(f1)\n",
    "f1.close()"
   ]
  },
  {
   "cell_type": "code",
   "execution_count": null,
   "metadata": {},
   "outputs": [],
   "source": [
    "print(len(X_uncertainty_map))"
   ]
  },
  {
   "cell_type": "code",
   "execution_count": null,
   "metadata": {},
   "outputs": [],
   "source": [
    "from math import isnan\n",
    "error_list = []\n",
    "count = 0\n",
    "for map in X_uncertainty_map:\n",
    "    if isnan(np.sum(map)):\n",
    "        error_list.append(map)\n",
    "        count+=1\n",
    "print(count)"
   ]
  },
  {
   "cell_type": "code",
   "execution_count": null,
   "metadata": {},
   "outputs": [],
   "source": [
    "print(len(error_list))\n",
    "import matplotlib.pyplot as plt\n",
    "plt.imshow(error_list[1])"
   ]
  },
  {
   "cell_type": "code",
   "execution_count": null,
   "metadata": {},
   "outputs": [],
   "source": [
    "from LightCurve import CRTS_VS_LightCurve\n",
    "from util import get_meta_information\n",
    "info_file = 'data/SSS_Per_Tab.txt'\n",
    "info = get_meta_information(info_file)\n",
    "lc = CRTS_VS_LightCurve()\n",
    "test_sample1 = 'data/original_data/type/1/3019100001287.dat' \n",
    "lc.read_CRTS_dat(test_sample1, id='3019100001287')\n",
    "period = info.loc[int(lc.id), 'Period']\n",
    "lc.fold(period, normalize_phase=False)\n",
    "lc.clean()\n",
    "# lc.show()\n",
    "\n",
    "import random\n",
    "import numpy as np\n",
    "import matplotlib.pyplot as plt\n",
    "\n",
    "x = np.linspace(0,period, 200)\n",
    "image = lc.to_image()\n",
    "# plt.imshow(image)\n",
    "\n",
    "import time\n",
    "\n",
    "lc = lc.generate_GP_simulation(x, phase_shift_ratio=0.5)\n",
    "t1 = time.time()\n",
    "uncertainty_map = lc.to_uncertainty_map()\n",
    "t2 = time.time()\n",
    "print((t2-t1)*1000)\n",
    "plt.imshow(uncertainty_map)\n"
   ]
  },
  {
   "cell_type": "code",
   "execution_count": null,
   "metadata": {},
   "outputs": [],
   "source": [
    "# lc = lc.generate_GP_simulation(x, phase_shift_ratio=0.5)\n",
    "image = lc.to_image()\n",
    "plt.imshow(image)"
   ]
  },
  {
   "cell_type": "code",
   "execution_count": null,
   "metadata": {},
   "outputs": [],
   "source": [
    "import numpy as np\n",
    "x = np.linspace(0,1,10)\n",
    "print(x)"
   ]
  },
  {
   "cell_type": "code",
   "execution_count": null,
   "metadata": {},
   "outputs": [],
   "source": [
    "import numpy as np\n",
    "import matplotlib.pyplot as plt\n",
    "from PIL import Image\n",
    "x = np.linspace(0,1,300)\n",
    "y = np.random.standard_normal(300)\n",
    "figsize=(4,4)\n",
    "dpi=32\n",
    "fig = plt.figure(figsize=figsize,dpi=dpi)\n",
    "fig.patch.set_facecolor('black')\n",
    "plt.scatter(x,y, s=4,c='w')\n",
    "plt.axis('off')\n",
    "plt.subplots_adjust(top=1, bottom=0, right=1, left=0)\n",
    "plt.margins(0,0)\n",
    "fig.canvas.draw()\n",
    "w, h = fig.canvas.get_width_height()\n",
    "buf = np.fromstring(fig.canvas.tostring_argb(), dtype=np.uint8)\n",
    "buf.shape = (w, h, 4)\n",
    "buf = np.roll(buf, 3, axis=2)\n",
    "image = Image.frombytes(\"RGBA\", (w, h), buf.tostring())\n",
    "image = image.convert('L')\n",
    "image.show()"
   ]
  },
  {
   "cell_type": "code",
   "execution_count": null,
   "metadata": {},
   "outputs": [],
   "source": [
    "from util import create_dataset\n",
    "\n",
    "for i in range(5,10):\n",
    "    original_dataste = 'data/original_dataset_10fold_No%d'%i\n",
    "    create_dataset(original_dataste, class_size=15000, down_sample=False,save_weight=True)\n"
   ]
  },
  {
   "cell_type": "code",
   "execution_count": null,
   "metadata": {},
   "outputs": [],
   "source": [
    "\n",
    "'''\n",
    "这里有错误，生成的train_data是重复的\n",
    "'''\n",
    "from curses import use_default_colors\n",
    "from util import create_dataset\n",
    "import pickle\n",
    "f1 = open('data/original_dataset_0.80_0.10_0.10', 'rb')\n",
    "train_data, val_data, test_data = pickle.load(f1)\n",
    "f1.close()\n",
    "for i in range(0,1):\n",
    "    create_dataset('data/original_dataset_0.80_0.10_0.10',2500, down_sample=True, instance=i,\n",
    "        use_pre_load=True, pre_loaded = (train_data, val_data, test_data))"
   ]
  },
  {
   "cell_type": "code",
   "execution_count": null,
   "metadata": {},
   "outputs": [],
   "source": [
    "from util import  create_dataset_exclude_origin_multi_test\n",
    "create_dataset_exclude_origin_multi_test('data/original_dataset_0.80_0.10_0.10',5000, \n",
    "                                            down_sample=True, multi_test=10)"
   ]
  },
  {
   "cell_type": "code",
   "execution_count": null,
   "metadata": {},
   "outputs": [],
   "source": [
    "import pickle\n",
    "from util import get_sample_cadence\n",
    "f = open('data/original_dataset_0.80_0.10_0.10', 'rb')\n",
    "train_data, val_data, test_data = pickle.load(f)\n",
    "f.close()\n",
    "flatten_train_data = []\n",
    "for type in train_data:\n",
    "    for sample in type:\n",
    "        flatten_train_data.append(sample)"
   ]
  },
  {
   "cell_type": "code",
   "execution_count": null,
   "metadata": {},
   "outputs": [],
   "source": [
    "lc = flatten_train_data[4474]\n",
    "lc.show()\n",
    "x = get_sample_cadence(flatten_train_data, lc.period)\n",
    "lc_simu = lc.generate_GP_simulation(x)\n",
    "lc_simu.show()"
   ]
  },
  {
   "cell_type": "code",
   "execution_count": null,
   "metadata": {},
   "outputs": [],
   "source": [
    "a = np.array([[1,2],[3,4]])\n",
    "b = np.array([[5,6],[7,8]])\n",
    "b2 = np.array([[5,6],[7,8]])\n",
    "c = [a,b, b2]\n",
    "d = np.array(c)\n",
    "print(type(d))\n",
    "print(d)\n",
    "print(d.shape)"
   ]
  },
  {
   "cell_type": "code",
   "execution_count": null,
   "metadata": {},
   "outputs": [],
   "source": [
    "for i in range(0,3):\n",
    "    print(i)"
   ]
  },
  {
   "cell_type": "code",
   "execution_count": null,
   "metadata": {},
   "outputs": [],
   "source": [
    "import numpy as np\n",
    "import matplotlib.pyplot as plt\n",
    "x = np.random.uniform(0,1,100)\n",
    "x = np.sort(x)\n",
    "y = np.linspace(0,1,100)\n",
    "plt.scatter(x,y)"
   ]
  }
 ],
 "metadata": {
  "kernelspec": {
   "display_name": "Python 3.9.7 ('DL')",
   "language": "python",
   "name": "python3"
  },
  "language_info": {
   "codemirror_mode": {
    "name": "ipython",
    "version": 3
   },
   "file_extension": ".py",
   "mimetype": "text/x-python",
   "name": "python",
   "nbconvert_exporter": "python",
   "pygments_lexer": "ipython3",
   "version": "3.9.12"
  },
  "orig_nbformat": 4,
  "vscode": {
   "interpreter": {
    "hash": "686e52782356fa5192d8da796457d9836a4bb6aebab3dc056991bb89ef60f4a8"
   }
  }
 },
 "nbformat": 4,
 "nbformat_minor": 2
}
