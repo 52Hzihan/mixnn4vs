{
 "cells": [
  {
   "cell_type": "code",
   "execution_count": 1,
   "metadata": {},
   "outputs": [],
   "source": [
    "import tensorflow as tf\n",
    "from tensorflow import keras\n",
    "from tensorflow.keras import layers\n",
    "from tensorflow.keras import regularizers\n",
    "\n",
    "import pickle\n",
    "import numpy as np\n",
    "\n",
    "f2 = open('data/split_0.80_0.10_0.10_aug_to_2500_down_sample_True_instance0-9/val_data', 'rb')\n",
    "X_sequence_val, X_feature_val, X_image_val, Y_val = pickle.load(f2)\n",
    "f2.close()\n",
    "\n",
    "from keras.preprocessing.sequence import pad_sequences\n",
    "from util import preprocess\n",
    "\n",
    "total_X_sequence_train = []\n",
    "total_X_feature_train = []\n",
    "# total_X_image_train = []\n",
    "total_Y_train = []\n",
    "for i in range(0,10):\n",
    "    f = open('data/split_0.80_0.10_0.10_aug_to_2500_down_sample_True_instance0-9/train_data%d'%i, 'rb')\n",
    "    X_sequence_train, X_feature_train, X_image_train, Y_train = pickle.load(f)\n",
    "    X_sequence_train_paded = pad_sequences(X_sequence_train, dtype='float', padding='post', value = np.nan)\n",
    "    X_sequence_train_trimed = preprocess(X_sequence_train_paded)\n",
    "    X_feature_train = np.array(X_feature_train)\n",
    "    Y_train = np.array(Y_train)-1\n",
    "\n",
    "    Y_train = keras.utils.to_categorical(Y_train, num_classes=11)\n",
    "\n",
    "    total_X_sequence_train.append(X_sequence_train_trimed)\n",
    "    total_X_feature_train.append(X_feature_train)\n",
    "    total_Y_train.append(Y_train)\n",
    "    f.close()\n",
    "\n",
    "X_sequence_val_paded = pad_sequences(X_sequence_val, dtype='float', padding='post', value = np.nan)\n",
    "X_sequence_val_trimed = preprocess(X_sequence_val_paded)\n",
    "X_feature_val = np.array(X_feature_val)\n",
    "Y_val = np.array(Y_val)-1\n",
    "\n",
    "\n",
    "Y_val = keras.utils.to_categorical(Y_val, num_classes=11)"
   ]
  },
  {
   "cell_type": "code",
   "execution_count": 2,
   "metadata": {},
   "outputs": [],
   "source": [
    "def rnn_with_feature(sequence_shape, feature_shape, num_classes):\n",
    "    sequence_inputs = keras.Input(shape=sequence_shape, name='sequence')\n",
    "    masking_layer = layers.Masking(mask_value=0)\n",
    "    x1 = masking_layer(sequence_inputs)\n",
    "    x1 = layers.Bidirectional(layers.GRU(128, return_sequences=True))(x1)\n",
    "    x1 = layers.Bidirectional(layers.GRU(64))(x1)\n",
    "    x1 = layers.Dropout(0.4)(x1)\n",
    "    x1 = layers.Dense(128, activation=\"relu\")(x1)\n",
    "    x1 = layers.Dropout(0.4)(x1)\n",
    "    x1 = layers.Dense(32, activation=\"relu\")(x1)\n",
    "\n",
    "    feature_inputs = keras.Input(shape=feature_shape, name='feature')\n",
    "    x3 = feature_inputs\n",
    "    x3 = layers.Dense(64, activation=\"relu\")(x3)\n",
    "    x3 = layers.Dense(32, activation=\"relu\")(x3)\n",
    "\n",
    "    x = layers.concatenate([x1, x3])\n",
    "\n",
    "    outputs = layers.Dense(num_classes, activation=\"softmax\")(x)\n",
    "    model = keras.Model(inputs=[sequence_inputs, feature_inputs], outputs=outputs)\n",
    "    return model"
   ]
  },
  {
   "cell_type": "code",
   "execution_count": 4,
   "metadata": {},
   "outputs": [
    {
     "name": "stderr",
     "output_type": "stream",
     "text": [
      "2022-10-19 16:06:46.048121: I tensorflow/core/profiler/lib/profiler_session.cc:131] Profiler session initializing.\n",
      "2022-10-19 16:06:46.048153: I tensorflow/core/profiler/lib/profiler_session.cc:146] Profiler session started.\n",
      "2022-10-19 16:06:46.603604: I tensorflow/core/profiler/lib/profiler_session.cc:164] Profiler session tear down.\n",
      "2022-10-19 16:06:46.603771: I tensorflow/core/profiler/internal/gpu/cupti_tracer.cc:1748] CUPTI activity buffer flushed\n"
     ]
    },
    {
     "name": "stdout",
     "output_type": "stream",
     "text": [
      "Epoch 1/7\n",
      "  1/860 [..............................] - ETA: 1:52:18 - loss: 3.4122 - acc: 0.0625"
     ]
    },
    {
     "name": "stderr",
     "output_type": "stream",
     "text": [
      "2022-10-19 16:06:54.927974: I tensorflow/core/profiler/lib/profiler_session.cc:131] Profiler session initializing.\n",
      "2022-10-19 16:06:54.928013: I tensorflow/core/profiler/lib/profiler_session.cc:146] Profiler session started.\n"
     ]
    },
    {
     "name": "stdout",
     "output_type": "stream",
     "text": [
      "  2/860 [..............................] - ETA: 12:09 - loss: 5.0656 - acc: 0.1406  "
     ]
    },
    {
     "name": "stderr",
     "output_type": "stream",
     "text": [
      "2022-10-19 16:06:55.667668: I tensorflow/core/profiler/lib/profiler_session.cc:66] Profiler session collecting data.\n",
      "2022-10-19 16:06:55.668032: I tensorflow/core/profiler/internal/gpu/cupti_tracer.cc:1748] CUPTI activity buffer flushed\n",
      "2022-10-19 16:06:55.718323: I tensorflow/core/profiler/internal/gpu/cupti_collector.cc:673]  GpuTracer has collected 5505 callback api events and 5502 activity events. \n",
      "2022-10-19 16:06:55.797401: I tensorflow/core/profiler/lib/profiler_session.cc:164] Profiler session tear down.\n",
      "2022-10-19 16:06:55.895228: I tensorflow/core/profiler/rpc/client/save_profile.cc:136] Creating directory: models/bagging/rnn_with_feature1/logs/train/plugins/profile/2022_10_19_16_06_55\n",
      "\n",
      "2022-10-19 16:06:55.964688: I tensorflow/core/profiler/rpc/client/save_profile.cc:142] Dumped gzipped tool data for trace.json.gz to models/bagging/rnn_with_feature1/logs/train/plugins/profile/2022_10_19_16_06_55/dell-Precision-7920-Tower.trace.json.gz\n",
      "2022-10-19 16:06:56.026614: I tensorflow/core/profiler/rpc/client/save_profile.cc:136] Creating directory: models/bagging/rnn_with_feature1/logs/train/plugins/profile/2022_10_19_16_06_55\n",
      "\n",
      "2022-10-19 16:06:56.030596: I tensorflow/core/profiler/rpc/client/save_profile.cc:142] Dumped gzipped tool data for memory_profile.json.gz to models/bagging/rnn_with_feature1/logs/train/plugins/profile/2022_10_19_16_06_55/dell-Precision-7920-Tower.memory_profile.json.gz\n",
      "2022-10-19 16:06:56.032394: I tensorflow/core/profiler/rpc/client/capture_profile.cc:251] Creating directory: models/bagging/rnn_with_feature1/logs/train/plugins/profile/2022_10_19_16_06_55\n",
      "Dumped tool data for xplane.pb to models/bagging/rnn_with_feature1/logs/train/plugins/profile/2022_10_19_16_06_55/dell-Precision-7920-Tower.xplane.pb\n",
      "Dumped tool data for overview_page.pb to models/bagging/rnn_with_feature1/logs/train/plugins/profile/2022_10_19_16_06_55/dell-Precision-7920-Tower.overview_page.pb\n",
      "Dumped tool data for input_pipeline.pb to models/bagging/rnn_with_feature1/logs/train/plugins/profile/2022_10_19_16_06_55/dell-Precision-7920-Tower.input_pipeline.pb\n",
      "Dumped tool data for tensorflow_stats.pb to models/bagging/rnn_with_feature1/logs/train/plugins/profile/2022_10_19_16_06_55/dell-Precision-7920-Tower.tensorflow_stats.pb\n",
      "Dumped tool data for kernel_stats.pb to models/bagging/rnn_with_feature1/logs/train/plugins/profile/2022_10_19_16_06_55/dell-Precision-7920-Tower.kernel_stats.pb\n",
      "\n"
     ]
    },
    {
     "name": "stdout",
     "output_type": "stream",
     "text": [
      "860/860 [==============================] - 96s 103ms/step - loss: 1.8178 - acc: 0.4376 - val_loss: 1.4923 - val_acc: 0.6175\n"
     ]
    },
    {
     "name": "stderr",
     "output_type": "stream",
     "text": [
      "2022-10-19 16:08:29.204313: W tensorflow/python/util/util.cc:348] Sets are not currently considered sequences, but this may change in the future, so consider avoiding using them.\n",
      "WARNING:absl:Found untraced functions such as gru_cell_7_layer_call_and_return_conditional_losses, gru_cell_7_layer_call_fn, gru_cell_8_layer_call_and_return_conditional_losses, gru_cell_8_layer_call_fn, gru_cell_10_layer_call_and_return_conditional_losses while saving (showing 5 of 20). These functions will not be directly callable after loading.\n"
     ]
    },
    {
     "name": "stdout",
     "output_type": "stream",
     "text": [
      "INFO:tensorflow:Assets written to: models/bagging/rnn_with_feature1/model_1/assets\n"
     ]
    },
    {
     "name": "stderr",
     "output_type": "stream",
     "text": [
      "INFO:tensorflow:Assets written to: models/bagging/rnn_with_feature1/model_1/assets\n"
     ]
    },
    {
     "name": "stdout",
     "output_type": "stream",
     "text": [
      "Epoch 2/7\n",
      "860/860 [==============================] - 85s 99ms/step - loss: 1.3481 - acc: 0.6683 - val_loss: 1.1766 - val_acc: 0.7644\n"
     ]
    },
    {
     "name": "stderr",
     "output_type": "stream",
     "text": [
      "WARNING:absl:Found untraced functions such as gru_cell_7_layer_call_and_return_conditional_losses, gru_cell_7_layer_call_fn, gru_cell_8_layer_call_and_return_conditional_losses, gru_cell_8_layer_call_fn, gru_cell_10_layer_call_and_return_conditional_losses while saving (showing 5 of 20). These functions will not be directly callable after loading.\n"
     ]
    },
    {
     "name": "stdout",
     "output_type": "stream",
     "text": [
      "INFO:tensorflow:Assets written to: models/bagging/rnn_with_feature1/model_2/assets\n"
     ]
    },
    {
     "name": "stderr",
     "output_type": "stream",
     "text": [
      "INFO:tensorflow:Assets written to: models/bagging/rnn_with_feature1/model_2/assets\n"
     ]
    },
    {
     "name": "stdout",
     "output_type": "stream",
     "text": [
      "Epoch 3/7\n",
      "860/860 [==============================] - 85s 98ms/step - loss: 1.0878 - acc: 0.7962 - val_loss: 1.0240 - val_acc: 0.8144\n"
     ]
    },
    {
     "name": "stderr",
     "output_type": "stream",
     "text": [
      "WARNING:absl:Found untraced functions such as gru_cell_7_layer_call_and_return_conditional_losses, gru_cell_7_layer_call_fn, gru_cell_8_layer_call_and_return_conditional_losses, gru_cell_8_layer_call_fn, gru_cell_10_layer_call_and_return_conditional_losses while saving (showing 5 of 20). These functions will not be directly callable after loading.\n"
     ]
    },
    {
     "name": "stdout",
     "output_type": "stream",
     "text": [
      "INFO:tensorflow:Assets written to: models/bagging/rnn_with_feature1/model_3/assets\n"
     ]
    },
    {
     "name": "stderr",
     "output_type": "stream",
     "text": [
      "INFO:tensorflow:Assets written to: models/bagging/rnn_with_feature1/model_3/assets\n"
     ]
    },
    {
     "name": "stdout",
     "output_type": "stream",
     "text": [
      "Epoch 4/7\n",
      "860/860 [==============================] - 85s 99ms/step - loss: 0.9809 - acc: 0.8391 - val_loss: 1.0107 - val_acc: 0.8201\n"
     ]
    },
    {
     "name": "stderr",
     "output_type": "stream",
     "text": [
      "WARNING:absl:Found untraced functions such as gru_cell_7_layer_call_and_return_conditional_losses, gru_cell_7_layer_call_fn, gru_cell_8_layer_call_and_return_conditional_losses, gru_cell_8_layer_call_fn, gru_cell_10_layer_call_and_return_conditional_losses while saving (showing 5 of 20). These functions will not be directly callable after loading.\n"
     ]
    },
    {
     "name": "stdout",
     "output_type": "stream",
     "text": [
      "INFO:tensorflow:Assets written to: models/bagging/rnn_with_feature1/model_4/assets\n"
     ]
    },
    {
     "name": "stderr",
     "output_type": "stream",
     "text": [
      "INFO:tensorflow:Assets written to: models/bagging/rnn_with_feature1/model_4/assets\n"
     ]
    },
    {
     "name": "stdout",
     "output_type": "stream",
     "text": [
      "Epoch 5/7\n",
      "860/860 [==============================] - 85s 99ms/step - loss: 0.9013 - acc: 0.8673 - val_loss: 0.9542 - val_acc: 0.8309\n"
     ]
    },
    {
     "name": "stderr",
     "output_type": "stream",
     "text": [
      "WARNING:absl:Found untraced functions such as gru_cell_7_layer_call_and_return_conditional_losses, gru_cell_7_layer_call_fn, gru_cell_8_layer_call_and_return_conditional_losses, gru_cell_8_layer_call_fn, gru_cell_10_layer_call_and_return_conditional_losses while saving (showing 5 of 20). These functions will not be directly callable after loading.\n"
     ]
    },
    {
     "name": "stdout",
     "output_type": "stream",
     "text": [
      "INFO:tensorflow:Assets written to: models/bagging/rnn_with_feature1/model_5/assets\n"
     ]
    },
    {
     "name": "stderr",
     "output_type": "stream",
     "text": [
      "INFO:tensorflow:Assets written to: models/bagging/rnn_with_feature1/model_5/assets\n"
     ]
    },
    {
     "name": "stdout",
     "output_type": "stream",
     "text": [
      "Epoch 6/7\n",
      "860/860 [==============================] - 84s 98ms/step - loss: 0.8564 - acc: 0.8829 - val_loss: 0.9813 - val_acc: 0.8354\n"
     ]
    },
    {
     "name": "stderr",
     "output_type": "stream",
     "text": [
      "WARNING:absl:Found untraced functions such as gru_cell_7_layer_call_and_return_conditional_losses, gru_cell_7_layer_call_fn, gru_cell_8_layer_call_and_return_conditional_losses, gru_cell_8_layer_call_fn, gru_cell_10_layer_call_and_return_conditional_losses while saving (showing 5 of 20). These functions will not be directly callable after loading.\n"
     ]
    },
    {
     "name": "stdout",
     "output_type": "stream",
     "text": [
      "INFO:tensorflow:Assets written to: models/bagging/rnn_with_feature1/model_6/assets\n"
     ]
    },
    {
     "name": "stderr",
     "output_type": "stream",
     "text": [
      "INFO:tensorflow:Assets written to: models/bagging/rnn_with_feature1/model_6/assets\n"
     ]
    },
    {
     "name": "stdout",
     "output_type": "stream",
     "text": [
      "Epoch 7/7\n",
      "860/860 [==============================] - 85s 99ms/step - loss: 0.8201 - acc: 0.8951 - val_loss: 0.9710 - val_acc: 0.8362\n"
     ]
    },
    {
     "name": "stderr",
     "output_type": "stream",
     "text": [
      "WARNING:absl:Found untraced functions such as gru_cell_7_layer_call_and_return_conditional_losses, gru_cell_7_layer_call_fn, gru_cell_8_layer_call_and_return_conditional_losses, gru_cell_8_layer_call_fn, gru_cell_10_layer_call_and_return_conditional_losses while saving (showing 5 of 20). These functions will not be directly callable after loading.\n"
     ]
    },
    {
     "name": "stdout",
     "output_type": "stream",
     "text": [
      "INFO:tensorflow:Assets written to: models/bagging/rnn_with_feature1/model_7/assets\n"
     ]
    },
    {
     "name": "stderr",
     "output_type": "stream",
     "text": [
      "INFO:tensorflow:Assets written to: models/bagging/rnn_with_feature1/model_7/assets\n",
      "2022-10-19 16:18:43.302904: I tensorflow/core/profiler/lib/profiler_session.cc:131] Profiler session initializing.\n",
      "2022-10-19 16:18:43.302937: I tensorflow/core/profiler/lib/profiler_session.cc:146] Profiler session started.\n",
      "2022-10-19 16:18:43.924156: I tensorflow/core/profiler/lib/profiler_session.cc:164] Profiler session tear down.\n",
      "2022-10-19 16:18:43.924341: I tensorflow/core/profiler/internal/gpu/cupti_tracer.cc:1748] CUPTI activity buffer flushed\n"
     ]
    },
    {
     "name": "stdout",
     "output_type": "stream",
     "text": [
      "Epoch 1/7\n",
      "  1/860 [..............................] - ETA: 2:13:26 - loss: 6.3345 - acc: 0.1250"
     ]
    },
    {
     "name": "stderr",
     "output_type": "stream",
     "text": [
      "2022-10-19 16:18:53.740843: I tensorflow/core/profiler/lib/profiler_session.cc:131] Profiler session initializing.\n",
      "2022-10-19 16:18:53.740881: I tensorflow/core/profiler/lib/profiler_session.cc:146] Profiler session started.\n"
     ]
    },
    {
     "name": "stdout",
     "output_type": "stream",
     "text": [
      "  2/860 [..............................] - ETA: 8:14 - loss: 5.6972 - acc: 0.1250   "
     ]
    },
    {
     "name": "stderr",
     "output_type": "stream",
     "text": [
      "2022-10-19 16:18:54.274712: I tensorflow/core/profiler/lib/profiler_session.cc:66] Profiler session collecting data.\n",
      "2022-10-19 16:18:54.275370: I tensorflow/core/profiler/internal/gpu/cupti_tracer.cc:1748] CUPTI activity buffer flushed\n",
      "2022-10-19 16:18:54.325321: I tensorflow/core/profiler/internal/gpu/cupti_collector.cc:673]  GpuTracer has collected 6007 callback api events and 6004 activity events. \n",
      "2022-10-19 16:18:54.420259: I tensorflow/core/profiler/lib/profiler_session.cc:164] Profiler session tear down.\n",
      "2022-10-19 16:18:54.528615: I tensorflow/core/profiler/rpc/client/save_profile.cc:136] Creating directory: models/bagging/rnn_with_feature2/logs/train/plugins/profile/2022_10_19_16_18_54\n",
      "\n",
      "2022-10-19 16:18:54.603117: I tensorflow/core/profiler/rpc/client/save_profile.cc:142] Dumped gzipped tool data for trace.json.gz to models/bagging/rnn_with_feature2/logs/train/plugins/profile/2022_10_19_16_18_54/dell-Precision-7920-Tower.trace.json.gz\n",
      "2022-10-19 16:18:54.671548: I tensorflow/core/profiler/rpc/client/save_profile.cc:136] Creating directory: models/bagging/rnn_with_feature2/logs/train/plugins/profile/2022_10_19_16_18_54\n",
      "\n",
      "2022-10-19 16:18:54.675783: I tensorflow/core/profiler/rpc/client/save_profile.cc:142] Dumped gzipped tool data for memory_profile.json.gz to models/bagging/rnn_with_feature2/logs/train/plugins/profile/2022_10_19_16_18_54/dell-Precision-7920-Tower.memory_profile.json.gz\n",
      "2022-10-19 16:18:54.677437: I tensorflow/core/profiler/rpc/client/capture_profile.cc:251] Creating directory: models/bagging/rnn_with_feature2/logs/train/plugins/profile/2022_10_19_16_18_54\n",
      "Dumped tool data for xplane.pb to models/bagging/rnn_with_feature2/logs/train/plugins/profile/2022_10_19_16_18_54/dell-Precision-7920-Tower.xplane.pb\n",
      "Dumped tool data for overview_page.pb to models/bagging/rnn_with_feature2/logs/train/plugins/profile/2022_10_19_16_18_54/dell-Precision-7920-Tower.overview_page.pb\n",
      "Dumped tool data for input_pipeline.pb to models/bagging/rnn_with_feature2/logs/train/plugins/profile/2022_10_19_16_18_54/dell-Precision-7920-Tower.input_pipeline.pb\n",
      "Dumped tool data for tensorflow_stats.pb to models/bagging/rnn_with_feature2/logs/train/plugins/profile/2022_10_19_16_18_54/dell-Precision-7920-Tower.tensorflow_stats.pb\n",
      "Dumped tool data for kernel_stats.pb to models/bagging/rnn_with_feature2/logs/train/plugins/profile/2022_10_19_16_18_54/dell-Precision-7920-Tower.kernel_stats.pb\n",
      "\n"
     ]
    },
    {
     "name": "stdout",
     "output_type": "stream",
     "text": [
      "860/860 [==============================] - 98s 103ms/step - loss: 1.7959 - acc: 0.4473 - val_loss: 1.4868 - val_acc: 0.5764\n"
     ]
    },
    {
     "name": "stderr",
     "output_type": "stream",
     "text": [
      "WARNING:absl:Found untraced functions such as gru_cell_13_layer_call_and_return_conditional_losses, gru_cell_13_layer_call_fn, gru_cell_14_layer_call_and_return_conditional_losses, gru_cell_14_layer_call_fn, gru_cell_16_layer_call_and_return_conditional_losses while saving (showing 5 of 20). These functions will not be directly callable after loading.\n"
     ]
    },
    {
     "name": "stdout",
     "output_type": "stream",
     "text": [
      "INFO:tensorflow:Assets written to: models/bagging/rnn_with_feature2/model_1/assets\n"
     ]
    },
    {
     "name": "stderr",
     "output_type": "stream",
     "text": [
      "INFO:tensorflow:Assets written to: models/bagging/rnn_with_feature2/model_1/assets\n"
     ]
    },
    {
     "name": "stdout",
     "output_type": "stream",
     "text": [
      "Epoch 2/7\n",
      "860/860 [==============================] - 85s 99ms/step - loss: 1.2932 - acc: 0.6961 - val_loss: 1.1169 - val_acc: 0.7851\n"
     ]
    },
    {
     "name": "stderr",
     "output_type": "stream",
     "text": [
      "WARNING:absl:Found untraced functions such as gru_cell_13_layer_call_and_return_conditional_losses, gru_cell_13_layer_call_fn, gru_cell_14_layer_call_and_return_conditional_losses, gru_cell_14_layer_call_fn, gru_cell_16_layer_call_and_return_conditional_losses while saving (showing 5 of 20). These functions will not be directly callable after loading.\n"
     ]
    },
    {
     "name": "stdout",
     "output_type": "stream",
     "text": [
      "INFO:tensorflow:Assets written to: models/bagging/rnn_with_feature2/model_2/assets\n"
     ]
    },
    {
     "name": "stderr",
     "output_type": "stream",
     "text": [
      "INFO:tensorflow:Assets written to: models/bagging/rnn_with_feature2/model_2/assets\n"
     ]
    },
    {
     "name": "stdout",
     "output_type": "stream",
     "text": [
      "Epoch 3/7\n",
      "860/860 [==============================] - 85s 99ms/step - loss: 1.0804 - acc: 0.8005 - val_loss: 1.0103 - val_acc: 0.8425\n"
     ]
    },
    {
     "name": "stderr",
     "output_type": "stream",
     "text": [
      "WARNING:absl:Found untraced functions such as gru_cell_13_layer_call_and_return_conditional_losses, gru_cell_13_layer_call_fn, gru_cell_14_layer_call_and_return_conditional_losses, gru_cell_14_layer_call_fn, gru_cell_16_layer_call_and_return_conditional_losses while saving (showing 5 of 20). These functions will not be directly callable after loading.\n"
     ]
    },
    {
     "name": "stdout",
     "output_type": "stream",
     "text": [
      "INFO:tensorflow:Assets written to: models/bagging/rnn_with_feature2/model_3/assets\n"
     ]
    },
    {
     "name": "stderr",
     "output_type": "stream",
     "text": [
      "INFO:tensorflow:Assets written to: models/bagging/rnn_with_feature2/model_3/assets\n"
     ]
    },
    {
     "name": "stdout",
     "output_type": "stream",
     "text": [
      "Epoch 4/7\n",
      "860/860 [==============================] - 85s 99ms/step - loss: 0.9919 - acc: 0.8362 - val_loss: 0.9733 - val_acc: 0.8491\n"
     ]
    },
    {
     "name": "stderr",
     "output_type": "stream",
     "text": [
      "WARNING:absl:Found untraced functions such as gru_cell_13_layer_call_and_return_conditional_losses, gru_cell_13_layer_call_fn, gru_cell_14_layer_call_and_return_conditional_losses, gru_cell_14_layer_call_fn, gru_cell_16_layer_call_and_return_conditional_losses while saving (showing 5 of 20). These functions will not be directly callable after loading.\n"
     ]
    },
    {
     "name": "stdout",
     "output_type": "stream",
     "text": [
      "INFO:tensorflow:Assets written to: models/bagging/rnn_with_feature2/model_4/assets\n"
     ]
    },
    {
     "name": "stderr",
     "output_type": "stream",
     "text": [
      "INFO:tensorflow:Assets written to: models/bagging/rnn_with_feature2/model_4/assets\n"
     ]
    },
    {
     "name": "stdout",
     "output_type": "stream",
     "text": [
      "Epoch 5/7\n",
      "860/860 [==============================] - 85s 99ms/step - loss: 0.9315 - acc: 0.8615 - val_loss: 0.9599 - val_acc: 0.8392\n"
     ]
    },
    {
     "name": "stderr",
     "output_type": "stream",
     "text": [
      "WARNING:absl:Found untraced functions such as gru_cell_13_layer_call_and_return_conditional_losses, gru_cell_13_layer_call_fn, gru_cell_14_layer_call_and_return_conditional_losses, gru_cell_14_layer_call_fn, gru_cell_16_layer_call_and_return_conditional_losses while saving (showing 5 of 20). These functions will not be directly callable after loading.\n"
     ]
    },
    {
     "name": "stdout",
     "output_type": "stream",
     "text": [
      "INFO:tensorflow:Assets written to: models/bagging/rnn_with_feature2/model_5/assets\n"
     ]
    },
    {
     "name": "stderr",
     "output_type": "stream",
     "text": [
      "INFO:tensorflow:Assets written to: models/bagging/rnn_with_feature2/model_5/assets\n"
     ]
    },
    {
     "name": "stdout",
     "output_type": "stream",
     "text": [
      "Epoch 6/7\n",
      "860/860 [==============================] - 85s 99ms/step - loss: 0.8829 - acc: 0.8774 - val_loss: 0.9484 - val_acc: 0.8455\n"
     ]
    },
    {
     "name": "stderr",
     "output_type": "stream",
     "text": [
      "WARNING:absl:Found untraced functions such as gru_cell_13_layer_call_and_return_conditional_losses, gru_cell_13_layer_call_fn, gru_cell_14_layer_call_and_return_conditional_losses, gru_cell_14_layer_call_fn, gru_cell_16_layer_call_and_return_conditional_losses while saving (showing 5 of 20). These functions will not be directly callable after loading.\n"
     ]
    },
    {
     "name": "stdout",
     "output_type": "stream",
     "text": [
      "INFO:tensorflow:Assets written to: models/bagging/rnn_with_feature2/model_6/assets\n"
     ]
    },
    {
     "name": "stderr",
     "output_type": "stream",
     "text": [
      "INFO:tensorflow:Assets written to: models/bagging/rnn_with_feature2/model_6/assets\n"
     ]
    },
    {
     "name": "stdout",
     "output_type": "stream",
     "text": [
      "Epoch 7/7\n",
      "860/860 [==============================] - 85s 99ms/step - loss: 0.8410 - acc: 0.8910 - val_loss: 0.9819 - val_acc: 0.8437\n"
     ]
    },
    {
     "name": "stderr",
     "output_type": "stream",
     "text": [
      "WARNING:absl:Found untraced functions such as gru_cell_13_layer_call_and_return_conditional_losses, gru_cell_13_layer_call_fn, gru_cell_14_layer_call_and_return_conditional_losses, gru_cell_14_layer_call_fn, gru_cell_16_layer_call_and_return_conditional_losses while saving (showing 5 of 20). These functions will not be directly callable after loading.\n"
     ]
    },
    {
     "name": "stdout",
     "output_type": "stream",
     "text": [
      "INFO:tensorflow:Assets written to: models/bagging/rnn_with_feature2/model_7/assets\n"
     ]
    },
    {
     "name": "stderr",
     "output_type": "stream",
     "text": [
      "INFO:tensorflow:Assets written to: models/bagging/rnn_with_feature2/model_7/assets\n",
      "2022-10-19 16:30:45.932991: I tensorflow/core/profiler/lib/profiler_session.cc:131] Profiler session initializing.\n",
      "2022-10-19 16:30:45.933025: I tensorflow/core/profiler/lib/profiler_session.cc:146] Profiler session started.\n",
      "2022-10-19 16:30:46.437513: I tensorflow/core/profiler/lib/profiler_session.cc:164] Profiler session tear down.\n",
      "2022-10-19 16:30:46.437660: I tensorflow/core/profiler/internal/gpu/cupti_tracer.cc:1748] CUPTI activity buffer flushed\n"
     ]
    },
    {
     "name": "stdout",
     "output_type": "stream",
     "text": [
      "Epoch 1/7\n",
      "  1/860 [..............................] - ETA: 2:17:49 - loss: 2.8351 - acc: 0.1562"
     ]
    },
    {
     "name": "stderr",
     "output_type": "stream",
     "text": [
      "2022-10-19 16:30:56.576157: I tensorflow/core/profiler/lib/profiler_session.cc:131] Profiler session initializing.\n",
      "2022-10-19 16:30:56.576195: I tensorflow/core/profiler/lib/profiler_session.cc:146] Profiler session started.\n"
     ]
    },
    {
     "name": "stdout",
     "output_type": "stream",
     "text": [
      "  2/860 [..............................] - ETA: 9:01 - loss: 2.6670 - acc: 0.1250   "
     ]
    },
    {
     "name": "stderr",
     "output_type": "stream",
     "text": [
      "2022-10-19 16:30:57.147574: I tensorflow/core/profiler/lib/profiler_session.cc:66] Profiler session collecting data.\n",
      "2022-10-19 16:30:57.148779: I tensorflow/core/profiler/internal/gpu/cupti_tracer.cc:1748] CUPTI activity buffer flushed\n",
      "2022-10-19 16:30:57.225098: I tensorflow/core/profiler/internal/gpu/cupti_collector.cc:673]  GpuTracer has collected 6015 callback api events and 6012 activity events. \n",
      "2022-10-19 16:30:57.332752: I tensorflow/core/profiler/lib/profiler_session.cc:164] Profiler session tear down.\n",
      "2022-10-19 16:30:57.457831: I tensorflow/core/profiler/rpc/client/save_profile.cc:136] Creating directory: models/bagging/rnn_with_feature3/logs/train/plugins/profile/2022_10_19_16_30_57\n",
      "\n",
      "2022-10-19 16:30:57.532953: I tensorflow/core/profiler/rpc/client/save_profile.cc:142] Dumped gzipped tool data for trace.json.gz to models/bagging/rnn_with_feature3/logs/train/plugins/profile/2022_10_19_16_30_57/dell-Precision-7920-Tower.trace.json.gz\n",
      "2022-10-19 16:30:57.608561: I tensorflow/core/profiler/rpc/client/save_profile.cc:136] Creating directory: models/bagging/rnn_with_feature3/logs/train/plugins/profile/2022_10_19_16_30_57\n",
      "\n",
      "2022-10-19 16:30:57.612812: I tensorflow/core/profiler/rpc/client/save_profile.cc:142] Dumped gzipped tool data for memory_profile.json.gz to models/bagging/rnn_with_feature3/logs/train/plugins/profile/2022_10_19_16_30_57/dell-Precision-7920-Tower.memory_profile.json.gz\n",
      "2022-10-19 16:30:57.614448: I tensorflow/core/profiler/rpc/client/capture_profile.cc:251] Creating directory: models/bagging/rnn_with_feature3/logs/train/plugins/profile/2022_10_19_16_30_57\n",
      "Dumped tool data for xplane.pb to models/bagging/rnn_with_feature3/logs/train/plugins/profile/2022_10_19_16_30_57/dell-Precision-7920-Tower.xplane.pb\n",
      "Dumped tool data for overview_page.pb to models/bagging/rnn_with_feature3/logs/train/plugins/profile/2022_10_19_16_30_57/dell-Precision-7920-Tower.overview_page.pb\n",
      "Dumped tool data for input_pipeline.pb to models/bagging/rnn_with_feature3/logs/train/plugins/profile/2022_10_19_16_30_57/dell-Precision-7920-Tower.input_pipeline.pb\n",
      "Dumped tool data for tensorflow_stats.pb to models/bagging/rnn_with_feature3/logs/train/plugins/profile/2022_10_19_16_30_57/dell-Precision-7920-Tower.tensorflow_stats.pb\n",
      "Dumped tool data for kernel_stats.pb to models/bagging/rnn_with_feature3/logs/train/plugins/profile/2022_10_19_16_30_57/dell-Precision-7920-Tower.kernel_stats.pb\n",
      "\n"
     ]
    },
    {
     "name": "stdout",
     "output_type": "stream",
     "text": [
      "860/860 [==============================] - 99s 104ms/step - loss: 1.7993 - acc: 0.4360 - val_loss: 1.4694 - val_acc: 0.5833\n"
     ]
    },
    {
     "name": "stderr",
     "output_type": "stream",
     "text": [
      "WARNING:absl:Found untraced functions such as gru_cell_19_layer_call_and_return_conditional_losses, gru_cell_19_layer_call_fn, gru_cell_20_layer_call_and_return_conditional_losses, gru_cell_20_layer_call_fn, gru_cell_22_layer_call_and_return_conditional_losses while saving (showing 5 of 20). These functions will not be directly callable after loading.\n"
     ]
    },
    {
     "name": "stdout",
     "output_type": "stream",
     "text": [
      "INFO:tensorflow:Assets written to: models/bagging/rnn_with_feature3/model_1/assets\n"
     ]
    },
    {
     "name": "stderr",
     "output_type": "stream",
     "text": [
      "INFO:tensorflow:Assets written to: models/bagging/rnn_with_feature3/model_1/assets\n"
     ]
    },
    {
     "name": "stdout",
     "output_type": "stream",
     "text": [
      "Epoch 2/7\n",
      "860/860 [==============================] - 85s 99ms/step - loss: 1.2996 - acc: 0.6777 - val_loss: 1.1018 - val_acc: 0.7744\n"
     ]
    },
    {
     "name": "stderr",
     "output_type": "stream",
     "text": [
      "WARNING:absl:Found untraced functions such as gru_cell_19_layer_call_and_return_conditional_losses, gru_cell_19_layer_call_fn, gru_cell_20_layer_call_and_return_conditional_losses, gru_cell_20_layer_call_fn, gru_cell_22_layer_call_and_return_conditional_losses while saving (showing 5 of 20). These functions will not be directly callable after loading.\n"
     ]
    },
    {
     "name": "stdout",
     "output_type": "stream",
     "text": [
      "INFO:tensorflow:Assets written to: models/bagging/rnn_with_feature3/model_2/assets\n"
     ]
    },
    {
     "name": "stderr",
     "output_type": "stream",
     "text": [
      "INFO:tensorflow:Assets written to: models/bagging/rnn_with_feature3/model_2/assets\n"
     ]
    },
    {
     "name": "stdout",
     "output_type": "stream",
     "text": [
      "Epoch 3/7\n",
      "860/860 [==============================] - 85s 99ms/step - loss: 1.0399 - acc: 0.8038 - val_loss: 1.0028 - val_acc: 0.8216\n"
     ]
    },
    {
     "name": "stderr",
     "output_type": "stream",
     "text": [
      "WARNING:absl:Found untraced functions such as gru_cell_19_layer_call_and_return_conditional_losses, gru_cell_19_layer_call_fn, gru_cell_20_layer_call_and_return_conditional_losses, gru_cell_20_layer_call_fn, gru_cell_22_layer_call_and_return_conditional_losses while saving (showing 5 of 20). These functions will not be directly callable after loading.\n"
     ]
    },
    {
     "name": "stdout",
     "output_type": "stream",
     "text": [
      "INFO:tensorflow:Assets written to: models/bagging/rnn_with_feature3/model_3/assets\n"
     ]
    },
    {
     "name": "stderr",
     "output_type": "stream",
     "text": [
      "INFO:tensorflow:Assets written to: models/bagging/rnn_with_feature3/model_3/assets\n"
     ]
    },
    {
     "name": "stdout",
     "output_type": "stream",
     "text": [
      "Epoch 4/7\n",
      "860/860 [==============================] - 85s 99ms/step - loss: 0.9470 - acc: 0.8448 - val_loss: 1.0007 - val_acc: 0.8217\n"
     ]
    },
    {
     "name": "stderr",
     "output_type": "stream",
     "text": [
      "WARNING:absl:Found untraced functions such as gru_cell_19_layer_call_and_return_conditional_losses, gru_cell_19_layer_call_fn, gru_cell_20_layer_call_and_return_conditional_losses, gru_cell_20_layer_call_fn, gru_cell_22_layer_call_and_return_conditional_losses while saving (showing 5 of 20). These functions will not be directly callable after loading.\n"
     ]
    },
    {
     "name": "stdout",
     "output_type": "stream",
     "text": [
      "INFO:tensorflow:Assets written to: models/bagging/rnn_with_feature3/model_4/assets\n"
     ]
    },
    {
     "name": "stderr",
     "output_type": "stream",
     "text": [
      "INFO:tensorflow:Assets written to: models/bagging/rnn_with_feature3/model_4/assets\n"
     ]
    },
    {
     "name": "stdout",
     "output_type": "stream",
     "text": [
      "Epoch 5/7\n",
      "860/860 [==============================] - 85s 99ms/step - loss: 0.8836 - acc: 0.8699 - val_loss: 0.9420 - val_acc: 0.8411\n"
     ]
    },
    {
     "name": "stderr",
     "output_type": "stream",
     "text": [
      "WARNING:absl:Found untraced functions such as gru_cell_19_layer_call_and_return_conditional_losses, gru_cell_19_layer_call_fn, gru_cell_20_layer_call_and_return_conditional_losses, gru_cell_20_layer_call_fn, gru_cell_22_layer_call_and_return_conditional_losses while saving (showing 5 of 20). These functions will not be directly callable after loading.\n"
     ]
    },
    {
     "name": "stdout",
     "output_type": "stream",
     "text": [
      "INFO:tensorflow:Assets written to: models/bagging/rnn_with_feature3/model_5/assets\n"
     ]
    },
    {
     "name": "stderr",
     "output_type": "stream",
     "text": [
      "INFO:tensorflow:Assets written to: models/bagging/rnn_with_feature3/model_5/assets\n"
     ]
    },
    {
     "name": "stdout",
     "output_type": "stream",
     "text": [
      "Epoch 6/7\n",
      "860/860 [==============================] - 85s 99ms/step - loss: 0.8429 - acc: 0.8864 - val_loss: 0.9876 - val_acc: 0.8129\n"
     ]
    },
    {
     "name": "stderr",
     "output_type": "stream",
     "text": [
      "WARNING:absl:Found untraced functions such as gru_cell_19_layer_call_and_return_conditional_losses, gru_cell_19_layer_call_fn, gru_cell_20_layer_call_and_return_conditional_losses, gru_cell_20_layer_call_fn, gru_cell_22_layer_call_and_return_conditional_losses while saving (showing 5 of 20). These functions will not be directly callable after loading.\n"
     ]
    },
    {
     "name": "stdout",
     "output_type": "stream",
     "text": [
      "INFO:tensorflow:Assets written to: models/bagging/rnn_with_feature3/model_6/assets\n"
     ]
    },
    {
     "name": "stderr",
     "output_type": "stream",
     "text": [
      "INFO:tensorflow:Assets written to: models/bagging/rnn_with_feature3/model_6/assets\n"
     ]
    },
    {
     "name": "stdout",
     "output_type": "stream",
     "text": [
      "Epoch 7/7\n",
      "860/860 [==============================] - 85s 99ms/step - loss: 0.8091 - acc: 0.8996 - val_loss: 0.9692 - val_acc: 0.8246\n"
     ]
    },
    {
     "name": "stderr",
     "output_type": "stream",
     "text": [
      "WARNING:absl:Found untraced functions such as gru_cell_19_layer_call_and_return_conditional_losses, gru_cell_19_layer_call_fn, gru_cell_20_layer_call_and_return_conditional_losses, gru_cell_20_layer_call_fn, gru_cell_22_layer_call_and_return_conditional_losses while saving (showing 5 of 20). These functions will not be directly callable after loading.\n"
     ]
    },
    {
     "name": "stdout",
     "output_type": "stream",
     "text": [
      "INFO:tensorflow:Assets written to: models/bagging/rnn_with_feature3/model_7/assets\n"
     ]
    },
    {
     "name": "stderr",
     "output_type": "stream",
     "text": [
      "INFO:tensorflow:Assets written to: models/bagging/rnn_with_feature3/model_7/assets\n",
      "2022-10-19 16:42:50.498940: I tensorflow/core/profiler/lib/profiler_session.cc:131] Profiler session initializing.\n",
      "2022-10-19 16:42:50.498974: I tensorflow/core/profiler/lib/profiler_session.cc:146] Profiler session started.\n",
      "2022-10-19 16:42:51.001314: I tensorflow/core/profiler/lib/profiler_session.cc:164] Profiler session tear down.\n",
      "2022-10-19 16:42:51.001516: I tensorflow/core/profiler/internal/gpu/cupti_tracer.cc:1748] CUPTI activity buffer flushed\n"
     ]
    },
    {
     "name": "stdout",
     "output_type": "stream",
     "text": [
      "Epoch 1/7\n",
      "  1/860 [..............................] - ETA: 1:43:18 - loss: 3.5399 - acc: 0.0938"
     ]
    },
    {
     "name": "stderr",
     "output_type": "stream",
     "text": [
      "2022-10-19 16:42:58.673992: I tensorflow/core/profiler/lib/profiler_session.cc:131] Profiler session initializing.\n",
      "2022-10-19 16:42:58.674028: I tensorflow/core/profiler/lib/profiler_session.cc:146] Profiler session started.\n"
     ]
    },
    {
     "name": "stdout",
     "output_type": "stream",
     "text": [
      "  2/860 [..............................] - ETA: 8:31 - loss: 4.3713 - acc: 0.0781   "
     ]
    },
    {
     "name": "stderr",
     "output_type": "stream",
     "text": [
      "2022-10-19 16:42:59.245070: I tensorflow/core/profiler/lib/profiler_session.cc:66] Profiler session collecting data.\n",
      "2022-10-19 16:42:59.245626: I tensorflow/core/profiler/internal/gpu/cupti_tracer.cc:1748] CUPTI activity buffer flushed\n",
      "2022-10-19 16:42:59.292202: I tensorflow/core/profiler/internal/gpu/cupti_collector.cc:673]  GpuTracer has collected 6043 callback api events and 6040 activity events. \n",
      "2022-10-19 16:42:59.383381: I tensorflow/core/profiler/lib/profiler_session.cc:164] Profiler session tear down.\n",
      "2022-10-19 16:42:59.493621: I tensorflow/core/profiler/rpc/client/save_profile.cc:136] Creating directory: models/bagging/rnn_with_feature4/logs/train/plugins/profile/2022_10_19_16_42_59\n",
      "\n",
      "2022-10-19 16:42:59.568561: I tensorflow/core/profiler/rpc/client/save_profile.cc:142] Dumped gzipped tool data for trace.json.gz to models/bagging/rnn_with_feature4/logs/train/plugins/profile/2022_10_19_16_42_59/dell-Precision-7920-Tower.trace.json.gz\n",
      "2022-10-19 16:42:59.635585: I tensorflow/core/profiler/rpc/client/save_profile.cc:136] Creating directory: models/bagging/rnn_with_feature4/logs/train/plugins/profile/2022_10_19_16_42_59\n",
      "\n",
      "2022-10-19 16:42:59.639736: I tensorflow/core/profiler/rpc/client/save_profile.cc:142] Dumped gzipped tool data for memory_profile.json.gz to models/bagging/rnn_with_feature4/logs/train/plugins/profile/2022_10_19_16_42_59/dell-Precision-7920-Tower.memory_profile.json.gz\n",
      "2022-10-19 16:42:59.641400: I tensorflow/core/profiler/rpc/client/capture_profile.cc:251] Creating directory: models/bagging/rnn_with_feature4/logs/train/plugins/profile/2022_10_19_16_42_59\n",
      "Dumped tool data for xplane.pb to models/bagging/rnn_with_feature4/logs/train/plugins/profile/2022_10_19_16_42_59/dell-Precision-7920-Tower.xplane.pb\n",
      "Dumped tool data for overview_page.pb to models/bagging/rnn_with_feature4/logs/train/plugins/profile/2022_10_19_16_42_59/dell-Precision-7920-Tower.overview_page.pb\n",
      "Dumped tool data for input_pipeline.pb to models/bagging/rnn_with_feature4/logs/train/plugins/profile/2022_10_19_16_42_59/dell-Precision-7920-Tower.input_pipeline.pb\n",
      "Dumped tool data for tensorflow_stats.pb to models/bagging/rnn_with_feature4/logs/train/plugins/profile/2022_10_19_16_42_59/dell-Precision-7920-Tower.tensorflow_stats.pb\n",
      "Dumped tool data for kernel_stats.pb to models/bagging/rnn_with_feature4/logs/train/plugins/profile/2022_10_19_16_42_59/dell-Precision-7920-Tower.kernel_stats.pb\n",
      "\n"
     ]
    },
    {
     "name": "stdout",
     "output_type": "stream",
     "text": [
      "860/860 [==============================] - 97s 104ms/step - loss: 1.8401 - acc: 0.4225 - val_loss: 1.4787 - val_acc: 0.6294\n"
     ]
    },
    {
     "name": "stderr",
     "output_type": "stream",
     "text": [
      "WARNING:absl:Found untraced functions such as gru_cell_25_layer_call_and_return_conditional_losses, gru_cell_25_layer_call_fn, gru_cell_26_layer_call_and_return_conditional_losses, gru_cell_26_layer_call_fn, gru_cell_28_layer_call_and_return_conditional_losses while saving (showing 5 of 20). These functions will not be directly callable after loading.\n"
     ]
    },
    {
     "name": "stdout",
     "output_type": "stream",
     "text": [
      "INFO:tensorflow:Assets written to: models/bagging/rnn_with_feature4/model_1/assets\n"
     ]
    },
    {
     "name": "stderr",
     "output_type": "stream",
     "text": [
      "INFO:tensorflow:Assets written to: models/bagging/rnn_with_feature4/model_1/assets\n"
     ]
    },
    {
     "name": "stdout",
     "output_type": "stream",
     "text": [
      "Epoch 2/7\n",
      "860/860 [==============================] - 85s 99ms/step - loss: 1.4438 - acc: 0.6149 - val_loss: 1.3525 - val_acc: 0.7081\n"
     ]
    },
    {
     "name": "stderr",
     "output_type": "stream",
     "text": [
      "WARNING:absl:Found untraced functions such as gru_cell_25_layer_call_and_return_conditional_losses, gru_cell_25_layer_call_fn, gru_cell_26_layer_call_and_return_conditional_losses, gru_cell_26_layer_call_fn, gru_cell_28_layer_call_and_return_conditional_losses while saving (showing 5 of 20). These functions will not be directly callable after loading.\n"
     ]
    },
    {
     "name": "stdout",
     "output_type": "stream",
     "text": [
      "INFO:tensorflow:Assets written to: models/bagging/rnn_with_feature4/model_2/assets\n"
     ]
    },
    {
     "name": "stderr",
     "output_type": "stream",
     "text": [
      "INFO:tensorflow:Assets written to: models/bagging/rnn_with_feature4/model_2/assets\n"
     ]
    },
    {
     "name": "stdout",
     "output_type": "stream",
     "text": [
      "Epoch 3/7\n",
      "860/860 [==============================] - 85s 99ms/step - loss: 1.1521 - acc: 0.7658 - val_loss: 1.0169 - val_acc: 0.8261\n"
     ]
    },
    {
     "name": "stderr",
     "output_type": "stream",
     "text": [
      "WARNING:absl:Found untraced functions such as gru_cell_25_layer_call_and_return_conditional_losses, gru_cell_25_layer_call_fn, gru_cell_26_layer_call_and_return_conditional_losses, gru_cell_26_layer_call_fn, gru_cell_28_layer_call_and_return_conditional_losses while saving (showing 5 of 20). These functions will not be directly callable after loading.\n"
     ]
    },
    {
     "name": "stdout",
     "output_type": "stream",
     "text": [
      "INFO:tensorflow:Assets written to: models/bagging/rnn_with_feature4/model_3/assets\n"
     ]
    },
    {
     "name": "stderr",
     "output_type": "stream",
     "text": [
      "INFO:tensorflow:Assets written to: models/bagging/rnn_with_feature4/model_3/assets\n"
     ]
    },
    {
     "name": "stdout",
     "output_type": "stream",
     "text": [
      "Epoch 4/7\n",
      "860/860 [==============================] - 85s 99ms/step - loss: 1.0010 - acc: 0.8306 - val_loss: 0.9547 - val_acc: 0.8513\n"
     ]
    },
    {
     "name": "stderr",
     "output_type": "stream",
     "text": [
      "WARNING:absl:Found untraced functions such as gru_cell_25_layer_call_and_return_conditional_losses, gru_cell_25_layer_call_fn, gru_cell_26_layer_call_and_return_conditional_losses, gru_cell_26_layer_call_fn, gru_cell_28_layer_call_and_return_conditional_losses while saving (showing 5 of 20). These functions will not be directly callable after loading.\n"
     ]
    },
    {
     "name": "stdout",
     "output_type": "stream",
     "text": [
      "INFO:tensorflow:Assets written to: models/bagging/rnn_with_feature4/model_4/assets\n"
     ]
    },
    {
     "name": "stderr",
     "output_type": "stream",
     "text": [
      "INFO:tensorflow:Assets written to: models/bagging/rnn_with_feature4/model_4/assets\n"
     ]
    },
    {
     "name": "stdout",
     "output_type": "stream",
     "text": [
      "Epoch 5/7\n",
      "860/860 [==============================] - 85s 99ms/step - loss: 0.9391 - acc: 0.8531 - val_loss: 0.9254 - val_acc: 0.8490\n"
     ]
    },
    {
     "name": "stderr",
     "output_type": "stream",
     "text": [
      "WARNING:absl:Found untraced functions such as gru_cell_25_layer_call_and_return_conditional_losses, gru_cell_25_layer_call_fn, gru_cell_26_layer_call_and_return_conditional_losses, gru_cell_26_layer_call_fn, gru_cell_28_layer_call_and_return_conditional_losses while saving (showing 5 of 20). These functions will not be directly callable after loading.\n"
     ]
    },
    {
     "name": "stdout",
     "output_type": "stream",
     "text": [
      "INFO:tensorflow:Assets written to: models/bagging/rnn_with_feature4/model_5/assets\n"
     ]
    },
    {
     "name": "stderr",
     "output_type": "stream",
     "text": [
      "INFO:tensorflow:Assets written to: models/bagging/rnn_with_feature4/model_5/assets\n"
     ]
    },
    {
     "name": "stdout",
     "output_type": "stream",
     "text": [
      "Epoch 6/7\n",
      "860/860 [==============================] - 86s 100ms/step - loss: 0.8805 - acc: 0.8725 - val_loss: 0.9601 - val_acc: 0.8416\n"
     ]
    },
    {
     "name": "stderr",
     "output_type": "stream",
     "text": [
      "WARNING:absl:Found untraced functions such as gru_cell_25_layer_call_and_return_conditional_losses, gru_cell_25_layer_call_fn, gru_cell_26_layer_call_and_return_conditional_losses, gru_cell_26_layer_call_fn, gru_cell_28_layer_call_and_return_conditional_losses while saving (showing 5 of 20). These functions will not be directly callable after loading.\n"
     ]
    },
    {
     "name": "stdout",
     "output_type": "stream",
     "text": [
      "INFO:tensorflow:Assets written to: models/bagging/rnn_with_feature4/model_6/assets\n"
     ]
    },
    {
     "name": "stderr",
     "output_type": "stream",
     "text": [
      "INFO:tensorflow:Assets written to: models/bagging/rnn_with_feature4/model_6/assets\n"
     ]
    },
    {
     "name": "stdout",
     "output_type": "stream",
     "text": [
      "Epoch 7/7\n",
      "860/860 [==============================] - 85s 99ms/step - loss: 0.8357 - acc: 0.8867 - val_loss: 0.9295 - val_acc: 0.8347\n"
     ]
    },
    {
     "name": "stderr",
     "output_type": "stream",
     "text": [
      "WARNING:absl:Found untraced functions such as gru_cell_25_layer_call_and_return_conditional_losses, gru_cell_25_layer_call_fn, gru_cell_26_layer_call_and_return_conditional_losses, gru_cell_26_layer_call_fn, gru_cell_28_layer_call_and_return_conditional_losses while saving (showing 5 of 20). These functions will not be directly callable after loading.\n"
     ]
    },
    {
     "name": "stdout",
     "output_type": "stream",
     "text": [
      "INFO:tensorflow:Assets written to: models/bagging/rnn_with_feature4/model_7/assets\n"
     ]
    },
    {
     "name": "stderr",
     "output_type": "stream",
     "text": [
      "INFO:tensorflow:Assets written to: models/bagging/rnn_with_feature4/model_7/assets\n",
      "2022-10-19 16:54:52.174172: I tensorflow/core/profiler/lib/profiler_session.cc:131] Profiler session initializing.\n",
      "2022-10-19 16:54:52.174204: I tensorflow/core/profiler/lib/profiler_session.cc:146] Profiler session started.\n",
      "2022-10-19 16:54:52.701184: I tensorflow/core/profiler/lib/profiler_session.cc:164] Profiler session tear down.\n",
      "2022-10-19 16:54:52.701360: I tensorflow/core/profiler/internal/gpu/cupti_tracer.cc:1748] CUPTI activity buffer flushed\n"
     ]
    },
    {
     "name": "stdout",
     "output_type": "stream",
     "text": [
      "Epoch 1/7\n",
      "  1/860 [..............................] - ETA: 1:43:41 - loss: 3.9941 - acc: 0.0625"
     ]
    },
    {
     "name": "stderr",
     "output_type": "stream",
     "text": [
      "2022-10-19 16:55:00.403694: I tensorflow/core/profiler/lib/profiler_session.cc:131] Profiler session initializing.\n",
      "2022-10-19 16:55:00.403730: I tensorflow/core/profiler/lib/profiler_session.cc:146] Profiler session started.\n"
     ]
    },
    {
     "name": "stdout",
     "output_type": "stream",
     "text": [
      "  2/860 [..............................] - ETA: 10:01 - loss: 4.2512 - acc: 0.0781  "
     ]
    },
    {
     "name": "stderr",
     "output_type": "stream",
     "text": [
      "2022-10-19 16:55:01.087825: I tensorflow/core/profiler/lib/profiler_session.cc:66] Profiler session collecting data.\n",
      "2022-10-19 16:55:01.088382: I tensorflow/core/profiler/internal/gpu/cupti_tracer.cc:1748] CUPTI activity buffer flushed\n",
      "2022-10-19 16:55:01.133776: I tensorflow/core/profiler/internal/gpu/cupti_collector.cc:673]  GpuTracer has collected 5699 callback api events and 5696 activity events. \n",
      "2022-10-19 16:55:01.220626: I tensorflow/core/profiler/lib/profiler_session.cc:164] Profiler session tear down.\n",
      "2022-10-19 16:55:01.322299: I tensorflow/core/profiler/rpc/client/save_profile.cc:136] Creating directory: models/bagging/rnn_with_feature5/logs/train/plugins/profile/2022_10_19_16_55_01\n",
      "\n",
      "2022-10-19 16:55:01.393619: I tensorflow/core/profiler/rpc/client/save_profile.cc:142] Dumped gzipped tool data for trace.json.gz to models/bagging/rnn_with_feature5/logs/train/plugins/profile/2022_10_19_16_55_01/dell-Precision-7920-Tower.trace.json.gz\n",
      "2022-10-19 16:55:01.458603: I tensorflow/core/profiler/rpc/client/save_profile.cc:136] Creating directory: models/bagging/rnn_with_feature5/logs/train/plugins/profile/2022_10_19_16_55_01\n",
      "\n",
      "2022-10-19 16:55:01.462756: I tensorflow/core/profiler/rpc/client/save_profile.cc:142] Dumped gzipped tool data for memory_profile.json.gz to models/bagging/rnn_with_feature5/logs/train/plugins/profile/2022_10_19_16_55_01/dell-Precision-7920-Tower.memory_profile.json.gz\n",
      "2022-10-19 16:55:01.464321: I tensorflow/core/profiler/rpc/client/capture_profile.cc:251] Creating directory: models/bagging/rnn_with_feature5/logs/train/plugins/profile/2022_10_19_16_55_01\n",
      "Dumped tool data for xplane.pb to models/bagging/rnn_with_feature5/logs/train/plugins/profile/2022_10_19_16_55_01/dell-Precision-7920-Tower.xplane.pb\n",
      "Dumped tool data for overview_page.pb to models/bagging/rnn_with_feature5/logs/train/plugins/profile/2022_10_19_16_55_01/dell-Precision-7920-Tower.overview_page.pb\n",
      "Dumped tool data for input_pipeline.pb to models/bagging/rnn_with_feature5/logs/train/plugins/profile/2022_10_19_16_55_01/dell-Precision-7920-Tower.input_pipeline.pb\n",
      "Dumped tool data for tensorflow_stats.pb to models/bagging/rnn_with_feature5/logs/train/plugins/profile/2022_10_19_16_55_01/dell-Precision-7920-Tower.tensorflow_stats.pb\n",
      "Dumped tool data for kernel_stats.pb to models/bagging/rnn_with_feature5/logs/train/plugins/profile/2022_10_19_16_55_01/dell-Precision-7920-Tower.kernel_stats.pb\n",
      "\n"
     ]
    },
    {
     "name": "stdout",
     "output_type": "stream",
     "text": [
      "860/860 [==============================] - 97s 104ms/step - loss: 1.8091 - acc: 0.4289 - val_loss: 1.4513 - val_acc: 0.6064\n"
     ]
    },
    {
     "name": "stderr",
     "output_type": "stream",
     "text": [
      "WARNING:absl:Found untraced functions such as gru_cell_31_layer_call_and_return_conditional_losses, gru_cell_31_layer_call_fn, gru_cell_32_layer_call_and_return_conditional_losses, gru_cell_32_layer_call_fn, gru_cell_34_layer_call_and_return_conditional_losses while saving (showing 5 of 20). These functions will not be directly callable after loading.\n"
     ]
    },
    {
     "name": "stdout",
     "output_type": "stream",
     "text": [
      "INFO:tensorflow:Assets written to: models/bagging/rnn_with_feature5/model_1/assets\n"
     ]
    },
    {
     "name": "stderr",
     "output_type": "stream",
     "text": [
      "INFO:tensorflow:Assets written to: models/bagging/rnn_with_feature5/model_1/assets\n"
     ]
    },
    {
     "name": "stdout",
     "output_type": "stream",
     "text": [
      "Epoch 2/7\n",
      "860/860 [==============================] - 85s 99ms/step - loss: 1.2300 - acc: 0.7142 - val_loss: 1.1024 - val_acc: 0.7849\n"
     ]
    },
    {
     "name": "stderr",
     "output_type": "stream",
     "text": [
      "WARNING:absl:Found untraced functions such as gru_cell_31_layer_call_and_return_conditional_losses, gru_cell_31_layer_call_fn, gru_cell_32_layer_call_and_return_conditional_losses, gru_cell_32_layer_call_fn, gru_cell_34_layer_call_and_return_conditional_losses while saving (showing 5 of 20). These functions will not be directly callable after loading.\n"
     ]
    },
    {
     "name": "stdout",
     "output_type": "stream",
     "text": [
      "INFO:tensorflow:Assets written to: models/bagging/rnn_with_feature5/model_2/assets\n"
     ]
    },
    {
     "name": "stderr",
     "output_type": "stream",
     "text": [
      "INFO:tensorflow:Assets written to: models/bagging/rnn_with_feature5/model_2/assets\n"
     ]
    },
    {
     "name": "stdout",
     "output_type": "stream",
     "text": [
      "Epoch 3/7\n",
      "860/860 [==============================] - 83s 97ms/step - loss: 1.0427 - acc: 0.8111 - val_loss: 1.0212 - val_acc: 0.8235\n"
     ]
    },
    {
     "name": "stderr",
     "output_type": "stream",
     "text": [
      "WARNING:absl:Found untraced functions such as gru_cell_31_layer_call_and_return_conditional_losses, gru_cell_31_layer_call_fn, gru_cell_32_layer_call_and_return_conditional_losses, gru_cell_32_layer_call_fn, gru_cell_34_layer_call_and_return_conditional_losses while saving (showing 5 of 20). These functions will not be directly callable after loading.\n"
     ]
    },
    {
     "name": "stdout",
     "output_type": "stream",
     "text": [
      "INFO:tensorflow:Assets written to: models/bagging/rnn_with_feature5/model_3/assets\n"
     ]
    },
    {
     "name": "stderr",
     "output_type": "stream",
     "text": [
      "INFO:tensorflow:Assets written to: models/bagging/rnn_with_feature5/model_3/assets\n"
     ]
    },
    {
     "name": "stdout",
     "output_type": "stream",
     "text": [
      "Epoch 4/7\n",
      "860/860 [==============================] - 85s 99ms/step - loss: 0.9549 - acc: 0.8477 - val_loss: 0.9641 - val_acc: 0.8208\n"
     ]
    },
    {
     "name": "stderr",
     "output_type": "stream",
     "text": [
      "WARNING:absl:Found untraced functions such as gru_cell_31_layer_call_and_return_conditional_losses, gru_cell_31_layer_call_fn, gru_cell_32_layer_call_and_return_conditional_losses, gru_cell_32_layer_call_fn, gru_cell_34_layer_call_and_return_conditional_losses while saving (showing 5 of 20). These functions will not be directly callable after loading.\n"
     ]
    },
    {
     "name": "stdout",
     "output_type": "stream",
     "text": [
      "INFO:tensorflow:Assets written to: models/bagging/rnn_with_feature5/model_4/assets\n"
     ]
    },
    {
     "name": "stderr",
     "output_type": "stream",
     "text": [
      "INFO:tensorflow:Assets written to: models/bagging/rnn_with_feature5/model_4/assets\n"
     ]
    },
    {
     "name": "stdout",
     "output_type": "stream",
     "text": [
      "Epoch 5/7\n",
      "860/860 [==============================] - 85s 99ms/step - loss: 0.9026 - acc: 0.8678 - val_loss: 0.9386 - val_acc: 0.8565\n"
     ]
    },
    {
     "name": "stderr",
     "output_type": "stream",
     "text": [
      "WARNING:absl:Found untraced functions such as gru_cell_31_layer_call_and_return_conditional_losses, gru_cell_31_layer_call_fn, gru_cell_32_layer_call_and_return_conditional_losses, gru_cell_32_layer_call_fn, gru_cell_34_layer_call_and_return_conditional_losses while saving (showing 5 of 20). These functions will not be directly callable after loading.\n"
     ]
    },
    {
     "name": "stdout",
     "output_type": "stream",
     "text": [
      "INFO:tensorflow:Assets written to: models/bagging/rnn_with_feature5/model_5/assets\n"
     ]
    },
    {
     "name": "stderr",
     "output_type": "stream",
     "text": [
      "INFO:tensorflow:Assets written to: models/bagging/rnn_with_feature5/model_5/assets\n"
     ]
    },
    {
     "name": "stdout",
     "output_type": "stream",
     "text": [
      "Epoch 6/7\n",
      "860/860 [==============================] - 85s 99ms/step - loss: 0.8660 - acc: 0.8805 - val_loss: 0.9344 - val_acc: 0.8430\n"
     ]
    },
    {
     "name": "stderr",
     "output_type": "stream",
     "text": [
      "WARNING:absl:Found untraced functions such as gru_cell_31_layer_call_and_return_conditional_losses, gru_cell_31_layer_call_fn, gru_cell_32_layer_call_and_return_conditional_losses, gru_cell_32_layer_call_fn, gru_cell_34_layer_call_and_return_conditional_losses while saving (showing 5 of 20). These functions will not be directly callable after loading.\n"
     ]
    },
    {
     "name": "stdout",
     "output_type": "stream",
     "text": [
      "INFO:tensorflow:Assets written to: models/bagging/rnn_with_feature5/model_6/assets\n"
     ]
    },
    {
     "name": "stderr",
     "output_type": "stream",
     "text": [
      "INFO:tensorflow:Assets written to: models/bagging/rnn_with_feature5/model_6/assets\n"
     ]
    },
    {
     "name": "stdout",
     "output_type": "stream",
     "text": [
      "Epoch 7/7\n",
      "860/860 [==============================] - 85s 99ms/step - loss: 0.8342 - acc: 0.8908 - val_loss: 0.9191 - val_acc: 0.8468\n"
     ]
    },
    {
     "name": "stderr",
     "output_type": "stream",
     "text": [
      "WARNING:absl:Found untraced functions such as gru_cell_31_layer_call_and_return_conditional_losses, gru_cell_31_layer_call_fn, gru_cell_32_layer_call_and_return_conditional_losses, gru_cell_32_layer_call_fn, gru_cell_34_layer_call_and_return_conditional_losses while saving (showing 5 of 20). These functions will not be directly callable after loading.\n"
     ]
    },
    {
     "name": "stdout",
     "output_type": "stream",
     "text": [
      "INFO:tensorflow:Assets written to: models/bagging/rnn_with_feature5/model_7/assets\n"
     ]
    },
    {
     "name": "stderr",
     "output_type": "stream",
     "text": [
      "INFO:tensorflow:Assets written to: models/bagging/rnn_with_feature5/model_7/assets\n",
      "2022-10-19 17:06:59.206456: I tensorflow/core/profiler/lib/profiler_session.cc:131] Profiler session initializing.\n",
      "2022-10-19 17:06:59.206492: I tensorflow/core/profiler/lib/profiler_session.cc:146] Profiler session started.\n",
      "2022-10-19 17:06:59.724519: I tensorflow/core/profiler/lib/profiler_session.cc:164] Profiler session tear down.\n",
      "2022-10-19 17:06:59.724725: I tensorflow/core/profiler/internal/gpu/cupti_tracer.cc:1748] CUPTI activity buffer flushed\n"
     ]
    },
    {
     "name": "stdout",
     "output_type": "stream",
     "text": [
      "Epoch 1/7\n",
      "  1/860 [..............................] - ETA: 1:46:44 - loss: 2.5741 - acc: 0.0938"
     ]
    },
    {
     "name": "stderr",
     "output_type": "stream",
     "text": [
      "2022-10-19 17:07:07.662369: I tensorflow/core/profiler/lib/profiler_session.cc:131] Profiler session initializing.\n",
      "2022-10-19 17:07:07.662407: I tensorflow/core/profiler/lib/profiler_session.cc:146] Profiler session started.\n"
     ]
    },
    {
     "name": "stdout",
     "output_type": "stream",
     "text": [
      "  2/860 [..............................] - ETA: 8:21 - loss: 2.6962 - acc: 0.1562   "
     ]
    },
    {
     "name": "stderr",
     "output_type": "stream",
     "text": [
      "2022-10-19 17:07:08.212630: I tensorflow/core/profiler/lib/profiler_session.cc:66] Profiler session collecting data.\n",
      "2022-10-19 17:07:08.213621: I tensorflow/core/profiler/internal/gpu/cupti_tracer.cc:1748] CUPTI activity buffer flushed\n",
      "2022-10-19 17:07:08.274675: I tensorflow/core/profiler/internal/gpu/cupti_collector.cc:673]  GpuTracer has collected 6217 callback api events and 6214 activity events. \n",
      "2022-10-19 17:07:08.386654: I tensorflow/core/profiler/lib/profiler_session.cc:164] Profiler session tear down.\n",
      "2022-10-19 17:07:08.509076: I tensorflow/core/profiler/rpc/client/save_profile.cc:136] Creating directory: models/bagging/rnn_with_feature6/logs/train/plugins/profile/2022_10_19_17_07_08\n",
      "\n",
      "2022-10-19 17:07:08.586154: I tensorflow/core/profiler/rpc/client/save_profile.cc:142] Dumped gzipped tool data for trace.json.gz to models/bagging/rnn_with_feature6/logs/train/plugins/profile/2022_10_19_17_07_08/dell-Precision-7920-Tower.trace.json.gz\n",
      "2022-10-19 17:07:08.657291: I tensorflow/core/profiler/rpc/client/save_profile.cc:136] Creating directory: models/bagging/rnn_with_feature6/logs/train/plugins/profile/2022_10_19_17_07_08\n",
      "\n",
      "2022-10-19 17:07:08.661331: I tensorflow/core/profiler/rpc/client/save_profile.cc:142] Dumped gzipped tool data for memory_profile.json.gz to models/bagging/rnn_with_feature6/logs/train/plugins/profile/2022_10_19_17_07_08/dell-Precision-7920-Tower.memory_profile.json.gz\n",
      "2022-10-19 17:07:08.662979: I tensorflow/core/profiler/rpc/client/capture_profile.cc:251] Creating directory: models/bagging/rnn_with_feature6/logs/train/plugins/profile/2022_10_19_17_07_08\n",
      "Dumped tool data for xplane.pb to models/bagging/rnn_with_feature6/logs/train/plugins/profile/2022_10_19_17_07_08/dell-Precision-7920-Tower.xplane.pb\n",
      "Dumped tool data for overview_page.pb to models/bagging/rnn_with_feature6/logs/train/plugins/profile/2022_10_19_17_07_08/dell-Precision-7920-Tower.overview_page.pb\n",
      "Dumped tool data for input_pipeline.pb to models/bagging/rnn_with_feature6/logs/train/plugins/profile/2022_10_19_17_07_08/dell-Precision-7920-Tower.input_pipeline.pb\n",
      "Dumped tool data for tensorflow_stats.pb to models/bagging/rnn_with_feature6/logs/train/plugins/profile/2022_10_19_17_07_08/dell-Precision-7920-Tower.tensorflow_stats.pb\n",
      "Dumped tool data for kernel_stats.pb to models/bagging/rnn_with_feature6/logs/train/plugins/profile/2022_10_19_17_07_08/dell-Precision-7920-Tower.kernel_stats.pb\n",
      "\n"
     ]
    },
    {
     "name": "stdout",
     "output_type": "stream",
     "text": [
      "860/860 [==============================] - 99s 107ms/step - loss: 1.8434 - acc: 0.4164 - val_loss: 1.4151 - val_acc: 0.6304\n"
     ]
    },
    {
     "name": "stderr",
     "output_type": "stream",
     "text": [
      "WARNING:absl:Found untraced functions such as gru_cell_37_layer_call_and_return_conditional_losses, gru_cell_37_layer_call_fn, gru_cell_38_layer_call_and_return_conditional_losses, gru_cell_38_layer_call_fn, gru_cell_40_layer_call_and_return_conditional_losses while saving (showing 5 of 20). These functions will not be directly callable after loading.\n"
     ]
    },
    {
     "name": "stdout",
     "output_type": "stream",
     "text": [
      "INFO:tensorflow:Assets written to: models/bagging/rnn_with_feature6/model_1/assets\n"
     ]
    },
    {
     "name": "stderr",
     "output_type": "stream",
     "text": [
      "INFO:tensorflow:Assets written to: models/bagging/rnn_with_feature6/model_1/assets\n"
     ]
    },
    {
     "name": "stdout",
     "output_type": "stream",
     "text": [
      "Epoch 2/7\n",
      "860/860 [==============================] - 85s 99ms/step - loss: 1.2242 - acc: 0.7331 - val_loss: 1.1059 - val_acc: 0.7860\n"
     ]
    },
    {
     "name": "stderr",
     "output_type": "stream",
     "text": [
      "WARNING:absl:Found untraced functions such as gru_cell_37_layer_call_and_return_conditional_losses, gru_cell_37_layer_call_fn, gru_cell_38_layer_call_and_return_conditional_losses, gru_cell_38_layer_call_fn, gru_cell_40_layer_call_and_return_conditional_losses while saving (showing 5 of 20). These functions will not be directly callable after loading.\n"
     ]
    },
    {
     "name": "stdout",
     "output_type": "stream",
     "text": [
      "INFO:tensorflow:Assets written to: models/bagging/rnn_with_feature6/model_2/assets\n"
     ]
    },
    {
     "name": "stderr",
     "output_type": "stream",
     "text": [
      "INFO:tensorflow:Assets written to: models/bagging/rnn_with_feature6/model_2/assets\n"
     ]
    },
    {
     "name": "stdout",
     "output_type": "stream",
     "text": [
      "Epoch 3/7\n",
      "860/860 [==============================] - 84s 98ms/step - loss: 1.0445 - acc: 0.8191 - val_loss: 0.9816 - val_acc: 0.8336\n"
     ]
    },
    {
     "name": "stderr",
     "output_type": "stream",
     "text": [
      "WARNING:absl:Found untraced functions such as gru_cell_37_layer_call_and_return_conditional_losses, gru_cell_37_layer_call_fn, gru_cell_38_layer_call_and_return_conditional_losses, gru_cell_38_layer_call_fn, gru_cell_40_layer_call_and_return_conditional_losses while saving (showing 5 of 20). These functions will not be directly callable after loading.\n"
     ]
    },
    {
     "name": "stdout",
     "output_type": "stream",
     "text": [
      "INFO:tensorflow:Assets written to: models/bagging/rnn_with_feature6/model_3/assets\n"
     ]
    },
    {
     "name": "stderr",
     "output_type": "stream",
     "text": [
      "INFO:tensorflow:Assets written to: models/bagging/rnn_with_feature6/model_3/assets\n"
     ]
    },
    {
     "name": "stdout",
     "output_type": "stream",
     "text": [
      "Epoch 4/7\n",
      "860/860 [==============================] - 85s 99ms/step - loss: 0.9565 - acc: 0.8544 - val_loss: 0.9635 - val_acc: 0.8379\n"
     ]
    },
    {
     "name": "stderr",
     "output_type": "stream",
     "text": [
      "WARNING:absl:Found untraced functions such as gru_cell_37_layer_call_and_return_conditional_losses, gru_cell_37_layer_call_fn, gru_cell_38_layer_call_and_return_conditional_losses, gru_cell_38_layer_call_fn, gru_cell_40_layer_call_and_return_conditional_losses while saving (showing 5 of 20). These functions will not be directly callable after loading.\n"
     ]
    },
    {
     "name": "stdout",
     "output_type": "stream",
     "text": [
      "INFO:tensorflow:Assets written to: models/bagging/rnn_with_feature6/model_4/assets\n"
     ]
    },
    {
     "name": "stderr",
     "output_type": "stream",
     "text": [
      "INFO:tensorflow:Assets written to: models/bagging/rnn_with_feature6/model_4/assets\n"
     ]
    },
    {
     "name": "stdout",
     "output_type": "stream",
     "text": [
      "Epoch 5/7\n",
      "860/860 [==============================] - 85s 99ms/step - loss: 0.9014 - acc: 0.8706 - val_loss: 0.9624 - val_acc: 0.8223\n"
     ]
    },
    {
     "name": "stderr",
     "output_type": "stream",
     "text": [
      "WARNING:absl:Found untraced functions such as gru_cell_37_layer_call_and_return_conditional_losses, gru_cell_37_layer_call_fn, gru_cell_38_layer_call_and_return_conditional_losses, gru_cell_38_layer_call_fn, gru_cell_40_layer_call_and_return_conditional_losses while saving (showing 5 of 20). These functions will not be directly callable after loading.\n"
     ]
    },
    {
     "name": "stdout",
     "output_type": "stream",
     "text": [
      "INFO:tensorflow:Assets written to: models/bagging/rnn_with_feature6/model_5/assets\n"
     ]
    },
    {
     "name": "stderr",
     "output_type": "stream",
     "text": [
      "INFO:tensorflow:Assets written to: models/bagging/rnn_with_feature6/model_5/assets\n"
     ]
    },
    {
     "name": "stdout",
     "output_type": "stream",
     "text": [
      "Epoch 6/7\n",
      "860/860 [==============================] - 85s 98ms/step - loss: 0.8664 - acc: 0.8816 - val_loss: 0.9229 - val_acc: 0.8501\n"
     ]
    },
    {
     "name": "stderr",
     "output_type": "stream",
     "text": [
      "WARNING:absl:Found untraced functions such as gru_cell_37_layer_call_and_return_conditional_losses, gru_cell_37_layer_call_fn, gru_cell_38_layer_call_and_return_conditional_losses, gru_cell_38_layer_call_fn, gru_cell_40_layer_call_and_return_conditional_losses while saving (showing 5 of 20). These functions will not be directly callable after loading.\n"
     ]
    },
    {
     "name": "stdout",
     "output_type": "stream",
     "text": [
      "INFO:tensorflow:Assets written to: models/bagging/rnn_with_feature6/model_6/assets\n"
     ]
    },
    {
     "name": "stderr",
     "output_type": "stream",
     "text": [
      "INFO:tensorflow:Assets written to: models/bagging/rnn_with_feature6/model_6/assets\n"
     ]
    },
    {
     "name": "stdout",
     "output_type": "stream",
     "text": [
      "Epoch 7/7\n",
      "860/860 [==============================] - 85s 99ms/step - loss: 0.8265 - acc: 0.8929 - val_loss: 0.9916 - val_acc: 0.8188\n"
     ]
    },
    {
     "name": "stderr",
     "output_type": "stream",
     "text": [
      "WARNING:absl:Found untraced functions such as gru_cell_37_layer_call_and_return_conditional_losses, gru_cell_37_layer_call_fn, gru_cell_38_layer_call_and_return_conditional_losses, gru_cell_38_layer_call_fn, gru_cell_40_layer_call_and_return_conditional_losses while saving (showing 5 of 20). These functions will not be directly callable after loading.\n"
     ]
    },
    {
     "name": "stdout",
     "output_type": "stream",
     "text": [
      "INFO:tensorflow:Assets written to: models/bagging/rnn_with_feature6/model_7/assets\n"
     ]
    },
    {
     "name": "stderr",
     "output_type": "stream",
     "text": [
      "INFO:tensorflow:Assets written to: models/bagging/rnn_with_feature6/model_7/assets\n",
      "2022-10-19 17:19:05.009243: I tensorflow/core/profiler/lib/profiler_session.cc:131] Profiler session initializing.\n",
      "2022-10-19 17:19:05.009278: I tensorflow/core/profiler/lib/profiler_session.cc:146] Profiler session started.\n",
      "2022-10-19 17:19:05.517276: I tensorflow/core/profiler/lib/profiler_session.cc:164] Profiler session tear down.\n",
      "2022-10-19 17:19:05.517419: I tensorflow/core/profiler/internal/gpu/cupti_tracer.cc:1748] CUPTI activity buffer flushed\n"
     ]
    },
    {
     "name": "stdout",
     "output_type": "stream",
     "text": [
      "Epoch 1/7\n",
      "  1/860 [..............................] - ETA: 2:22:27 - loss: 2.5607 - acc: 0.1875"
     ]
    },
    {
     "name": "stderr",
     "output_type": "stream",
     "text": [
      "2022-10-19 17:19:15.942653: I tensorflow/core/profiler/lib/profiler_session.cc:131] Profiler session initializing.\n",
      "2022-10-19 17:19:15.942694: I tensorflow/core/profiler/lib/profiler_session.cc:146] Profiler session started.\n"
     ]
    },
    {
     "name": "stdout",
     "output_type": "stream",
     "text": [
      "  2/860 [..............................] - ETA: 9:01 - loss: 2.4815 - acc: 0.1875   "
     ]
    },
    {
     "name": "stderr",
     "output_type": "stream",
     "text": [
      "2022-10-19 17:19:16.547802: I tensorflow/core/profiler/lib/profiler_session.cc:66] Profiler session collecting data.\n",
      "2022-10-19 17:19:16.549737: I tensorflow/core/profiler/internal/gpu/cupti_tracer.cc:1748] CUPTI activity buffer flushed\n",
      "2022-10-19 17:19:16.615462: I tensorflow/core/profiler/internal/gpu/cupti_collector.cc:673]  GpuTracer has collected 5961 callback api events and 5958 activity events. \n",
      "2022-10-19 17:19:16.729909: I tensorflow/core/profiler/lib/profiler_session.cc:164] Profiler session tear down.\n",
      "2022-10-19 17:19:16.886294: I tensorflow/core/profiler/rpc/client/save_profile.cc:136] Creating directory: models/bagging/rnn_with_feature7/logs/train/plugins/profile/2022_10_19_17_19_16\n",
      "\n",
      "2022-10-19 17:19:16.961127: I tensorflow/core/profiler/rpc/client/save_profile.cc:142] Dumped gzipped tool data for trace.json.gz to models/bagging/rnn_with_feature7/logs/train/plugins/profile/2022_10_19_17_19_16/dell-Precision-7920-Tower.trace.json.gz\n",
      "2022-10-19 17:19:17.065022: I tensorflow/core/profiler/rpc/client/save_profile.cc:136] Creating directory: models/bagging/rnn_with_feature7/logs/train/plugins/profile/2022_10_19_17_19_16\n",
      "\n",
      "2022-10-19 17:19:17.069408: I tensorflow/core/profiler/rpc/client/save_profile.cc:142] Dumped gzipped tool data for memory_profile.json.gz to models/bagging/rnn_with_feature7/logs/train/plugins/profile/2022_10_19_17_19_16/dell-Precision-7920-Tower.memory_profile.json.gz\n",
      "2022-10-19 17:19:17.071362: I tensorflow/core/profiler/rpc/client/capture_profile.cc:251] Creating directory: models/bagging/rnn_with_feature7/logs/train/plugins/profile/2022_10_19_17_19_16\n",
      "Dumped tool data for xplane.pb to models/bagging/rnn_with_feature7/logs/train/plugins/profile/2022_10_19_17_19_16/dell-Precision-7920-Tower.xplane.pb\n",
      "Dumped tool data for overview_page.pb to models/bagging/rnn_with_feature7/logs/train/plugins/profile/2022_10_19_17_19_16/dell-Precision-7920-Tower.overview_page.pb\n",
      "Dumped tool data for input_pipeline.pb to models/bagging/rnn_with_feature7/logs/train/plugins/profile/2022_10_19_17_19_16/dell-Precision-7920-Tower.input_pipeline.pb\n",
      "Dumped tool data for tensorflow_stats.pb to models/bagging/rnn_with_feature7/logs/train/plugins/profile/2022_10_19_17_19_16/dell-Precision-7920-Tower.tensorflow_stats.pb\n",
      "Dumped tool data for kernel_stats.pb to models/bagging/rnn_with_feature7/logs/train/plugins/profile/2022_10_19_17_19_16/dell-Precision-7920-Tower.kernel_stats.pb\n",
      "\n"
     ]
    },
    {
     "name": "stdout",
     "output_type": "stream",
     "text": [
      "860/860 [==============================] - 100s 105ms/step - loss: 1.7982 - acc: 0.4258 - val_loss: 1.4712 - val_acc: 0.6191\n"
     ]
    },
    {
     "name": "stderr",
     "output_type": "stream",
     "text": [
      "WARNING:absl:Found untraced functions such as gru_cell_43_layer_call_and_return_conditional_losses, gru_cell_43_layer_call_fn, gru_cell_44_layer_call_and_return_conditional_losses, gru_cell_44_layer_call_fn, gru_cell_46_layer_call_and_return_conditional_losses while saving (showing 5 of 20). These functions will not be directly callable after loading.\n"
     ]
    },
    {
     "name": "stdout",
     "output_type": "stream",
     "text": [
      "INFO:tensorflow:Assets written to: models/bagging/rnn_with_feature7/model_1/assets\n"
     ]
    },
    {
     "name": "stderr",
     "output_type": "stream",
     "text": [
      "INFO:tensorflow:Assets written to: models/bagging/rnn_with_feature7/model_1/assets\n"
     ]
    },
    {
     "name": "stdout",
     "output_type": "stream",
     "text": [
      "Epoch 2/7\n",
      "860/860 [==============================] - 86s 100ms/step - loss: 1.3252 - acc: 0.6692 - val_loss: 1.1916 - val_acc: 0.7465\n"
     ]
    },
    {
     "name": "stderr",
     "output_type": "stream",
     "text": [
      "WARNING:absl:Found untraced functions such as gru_cell_43_layer_call_and_return_conditional_losses, gru_cell_43_layer_call_fn, gru_cell_44_layer_call_and_return_conditional_losses, gru_cell_44_layer_call_fn, gru_cell_46_layer_call_and_return_conditional_losses while saving (showing 5 of 20). These functions will not be directly callable after loading.\n"
     ]
    },
    {
     "name": "stdout",
     "output_type": "stream",
     "text": [
      "INFO:tensorflow:Assets written to: models/bagging/rnn_with_feature7/model_2/assets\n"
     ]
    },
    {
     "name": "stderr",
     "output_type": "stream",
     "text": [
      "INFO:tensorflow:Assets written to: models/bagging/rnn_with_feature7/model_2/assets\n"
     ]
    },
    {
     "name": "stdout",
     "output_type": "stream",
     "text": [
      "Epoch 3/7\n",
      "860/860 [==============================] - 86s 99ms/step - loss: 1.0658 - acc: 0.7989 - val_loss: 1.0123 - val_acc: 0.8294\n"
     ]
    },
    {
     "name": "stderr",
     "output_type": "stream",
     "text": [
      "WARNING:absl:Found untraced functions such as gru_cell_43_layer_call_and_return_conditional_losses, gru_cell_43_layer_call_fn, gru_cell_44_layer_call_and_return_conditional_losses, gru_cell_44_layer_call_fn, gru_cell_46_layer_call_and_return_conditional_losses while saving (showing 5 of 20). These functions will not be directly callable after loading.\n"
     ]
    },
    {
     "name": "stdout",
     "output_type": "stream",
     "text": [
      "INFO:tensorflow:Assets written to: models/bagging/rnn_with_feature7/model_3/assets\n"
     ]
    },
    {
     "name": "stderr",
     "output_type": "stream",
     "text": [
      "INFO:tensorflow:Assets written to: models/bagging/rnn_with_feature7/model_3/assets\n"
     ]
    },
    {
     "name": "stdout",
     "output_type": "stream",
     "text": [
      "Epoch 4/7\n",
      "860/860 [==============================] - 86s 100ms/step - loss: 0.9705 - acc: 0.8371 - val_loss: 0.9795 - val_acc: 0.8250\n"
     ]
    },
    {
     "name": "stderr",
     "output_type": "stream",
     "text": [
      "WARNING:absl:Found untraced functions such as gru_cell_43_layer_call_and_return_conditional_losses, gru_cell_43_layer_call_fn, gru_cell_44_layer_call_and_return_conditional_losses, gru_cell_44_layer_call_fn, gru_cell_46_layer_call_and_return_conditional_losses while saving (showing 5 of 20). These functions will not be directly callable after loading.\n"
     ]
    },
    {
     "name": "stdout",
     "output_type": "stream",
     "text": [
      "INFO:tensorflow:Assets written to: models/bagging/rnn_with_feature7/model_4/assets\n"
     ]
    },
    {
     "name": "stderr",
     "output_type": "stream",
     "text": [
      "INFO:tensorflow:Assets written to: models/bagging/rnn_with_feature7/model_4/assets\n"
     ]
    },
    {
     "name": "stdout",
     "output_type": "stream",
     "text": [
      "Epoch 5/7\n",
      "860/860 [==============================] - 86s 100ms/step - loss: 0.9117 - acc: 0.8592 - val_loss: 0.9362 - val_acc: 0.8319\n"
     ]
    },
    {
     "name": "stderr",
     "output_type": "stream",
     "text": [
      "WARNING:absl:Found untraced functions such as gru_cell_43_layer_call_and_return_conditional_losses, gru_cell_43_layer_call_fn, gru_cell_44_layer_call_and_return_conditional_losses, gru_cell_44_layer_call_fn, gru_cell_46_layer_call_and_return_conditional_losses while saving (showing 5 of 20). These functions will not be directly callable after loading.\n"
     ]
    },
    {
     "name": "stdout",
     "output_type": "stream",
     "text": [
      "INFO:tensorflow:Assets written to: models/bagging/rnn_with_feature7/model_5/assets\n"
     ]
    },
    {
     "name": "stderr",
     "output_type": "stream",
     "text": [
      "INFO:tensorflow:Assets written to: models/bagging/rnn_with_feature7/model_5/assets\n"
     ]
    },
    {
     "name": "stdout",
     "output_type": "stream",
     "text": [
      "Epoch 6/7\n",
      "860/860 [==============================] - 85s 99ms/step - loss: 0.8696 - acc: 0.8747 - val_loss: 0.9310 - val_acc: 0.8473\n"
     ]
    },
    {
     "name": "stderr",
     "output_type": "stream",
     "text": [
      "WARNING:absl:Found untraced functions such as gru_cell_43_layer_call_and_return_conditional_losses, gru_cell_43_layer_call_fn, gru_cell_44_layer_call_and_return_conditional_losses, gru_cell_44_layer_call_fn, gru_cell_46_layer_call_and_return_conditional_losses while saving (showing 5 of 20). These functions will not be directly callable after loading.\n"
     ]
    },
    {
     "name": "stdout",
     "output_type": "stream",
     "text": [
      "INFO:tensorflow:Assets written to: models/bagging/rnn_with_feature7/model_6/assets\n"
     ]
    },
    {
     "name": "stderr",
     "output_type": "stream",
     "text": [
      "INFO:tensorflow:Assets written to: models/bagging/rnn_with_feature7/model_6/assets\n"
     ]
    },
    {
     "name": "stdout",
     "output_type": "stream",
     "text": [
      "Epoch 7/7\n",
      "860/860 [==============================] - 86s 99ms/step - loss: 0.8439 - acc: 0.8825 - val_loss: 0.9533 - val_acc: 0.8284\n"
     ]
    },
    {
     "name": "stderr",
     "output_type": "stream",
     "text": [
      "WARNING:absl:Found untraced functions such as gru_cell_43_layer_call_and_return_conditional_losses, gru_cell_43_layer_call_fn, gru_cell_44_layer_call_and_return_conditional_losses, gru_cell_44_layer_call_fn, gru_cell_46_layer_call_and_return_conditional_losses while saving (showing 5 of 20). These functions will not be directly callable after loading.\n"
     ]
    },
    {
     "name": "stdout",
     "output_type": "stream",
     "text": [
      "INFO:tensorflow:Assets written to: models/bagging/rnn_with_feature7/model_7/assets\n"
     ]
    },
    {
     "name": "stderr",
     "output_type": "stream",
     "text": [
      "INFO:tensorflow:Assets written to: models/bagging/rnn_with_feature7/model_7/assets\n",
      "2022-10-19 17:31:15.709450: I tensorflow/core/profiler/lib/profiler_session.cc:131] Profiler session initializing.\n",
      "2022-10-19 17:31:15.709486: I tensorflow/core/profiler/lib/profiler_session.cc:146] Profiler session started.\n",
      "2022-10-19 17:31:16.217804: I tensorflow/core/profiler/lib/profiler_session.cc:164] Profiler session tear down.\n",
      "2022-10-19 17:31:16.217983: I tensorflow/core/profiler/internal/gpu/cupti_tracer.cc:1748] CUPTI activity buffer flushed\n"
     ]
    },
    {
     "name": "stdout",
     "output_type": "stream",
     "text": [
      "Epoch 1/7\n",
      "  1/860 [..............................] - ETA: 2:17:09 - loss: 2.7749 - acc: 0.0000e+00"
     ]
    },
    {
     "name": "stderr",
     "output_type": "stream",
     "text": [
      "2022-10-19 17:31:26.265082: I tensorflow/core/profiler/lib/profiler_session.cc:131] Profiler session initializing.\n",
      "2022-10-19 17:31:26.265117: I tensorflow/core/profiler/lib/profiler_session.cc:146] Profiler session started.\n"
     ]
    },
    {
     "name": "stdout",
     "output_type": "stream",
     "text": [
      "  2/860 [..............................] - ETA: 9:14 - loss: 2.5819 - acc: 0.0312       "
     ]
    },
    {
     "name": "stderr",
     "output_type": "stream",
     "text": [
      "2022-10-19 17:31:26.874786: I tensorflow/core/profiler/lib/profiler_session.cc:66] Profiler session collecting data.\n",
      "2022-10-19 17:31:26.876055: I tensorflow/core/profiler/internal/gpu/cupti_tracer.cc:1748] CUPTI activity buffer flushed\n",
      "2022-10-19 17:31:26.938664: I tensorflow/core/profiler/internal/gpu/cupti_collector.cc:673]  GpuTracer has collected 5959 callback api events and 5956 activity events. \n",
      "2022-10-19 17:31:27.048851: I tensorflow/core/profiler/lib/profiler_session.cc:164] Profiler session tear down.\n",
      "2022-10-19 17:31:27.200731: I tensorflow/core/profiler/rpc/client/save_profile.cc:136] Creating directory: models/bagging/rnn_with_feature8/logs/train/plugins/profile/2022_10_19_17_31_27\n",
      "\n",
      "2022-10-19 17:31:27.275143: I tensorflow/core/profiler/rpc/client/save_profile.cc:142] Dumped gzipped tool data for trace.json.gz to models/bagging/rnn_with_feature8/logs/train/plugins/profile/2022_10_19_17_31_27/dell-Precision-7920-Tower.trace.json.gz\n",
      "2022-10-19 17:31:27.378636: I tensorflow/core/profiler/rpc/client/save_profile.cc:136] Creating directory: models/bagging/rnn_with_feature8/logs/train/plugins/profile/2022_10_19_17_31_27\n",
      "\n",
      "2022-10-19 17:31:27.382959: I tensorflow/core/profiler/rpc/client/save_profile.cc:142] Dumped gzipped tool data for memory_profile.json.gz to models/bagging/rnn_with_feature8/logs/train/plugins/profile/2022_10_19_17_31_27/dell-Precision-7920-Tower.memory_profile.json.gz\n",
      "2022-10-19 17:31:27.384688: I tensorflow/core/profiler/rpc/client/capture_profile.cc:251] Creating directory: models/bagging/rnn_with_feature8/logs/train/plugins/profile/2022_10_19_17_31_27\n",
      "Dumped tool data for xplane.pb to models/bagging/rnn_with_feature8/logs/train/plugins/profile/2022_10_19_17_31_27/dell-Precision-7920-Tower.xplane.pb\n",
      "Dumped tool data for overview_page.pb to models/bagging/rnn_with_feature8/logs/train/plugins/profile/2022_10_19_17_31_27/dell-Precision-7920-Tower.overview_page.pb\n",
      "Dumped tool data for input_pipeline.pb to models/bagging/rnn_with_feature8/logs/train/plugins/profile/2022_10_19_17_31_27/dell-Precision-7920-Tower.input_pipeline.pb\n",
      "Dumped tool data for tensorflow_stats.pb to models/bagging/rnn_with_feature8/logs/train/plugins/profile/2022_10_19_17_31_27/dell-Precision-7920-Tower.tensorflow_stats.pb\n",
      "Dumped tool data for kernel_stats.pb to models/bagging/rnn_with_feature8/logs/train/plugins/profile/2022_10_19_17_31_27/dell-Precision-7920-Tower.kernel_stats.pb\n",
      "\n"
     ]
    },
    {
     "name": "stdout",
     "output_type": "stream",
     "text": [
      "860/860 [==============================] - 99s 104ms/step - loss: 1.8604 - acc: 0.4022 - val_loss: 1.5663 - val_acc: 0.5479\n"
     ]
    },
    {
     "name": "stderr",
     "output_type": "stream",
     "text": [
      "WARNING:absl:Found untraced functions such as gru_cell_49_layer_call_and_return_conditional_losses, gru_cell_49_layer_call_fn, gru_cell_50_layer_call_and_return_conditional_losses, gru_cell_50_layer_call_fn, gru_cell_52_layer_call_and_return_conditional_losses while saving (showing 5 of 20). These functions will not be directly callable after loading.\n"
     ]
    },
    {
     "name": "stdout",
     "output_type": "stream",
     "text": [
      "INFO:tensorflow:Assets written to: models/bagging/rnn_with_feature8/model_1/assets\n"
     ]
    },
    {
     "name": "stderr",
     "output_type": "stream",
     "text": [
      "INFO:tensorflow:Assets written to: models/bagging/rnn_with_feature8/model_1/assets\n"
     ]
    },
    {
     "name": "stdout",
     "output_type": "stream",
     "text": [
      "Epoch 2/7\n",
      "860/860 [==============================] - 85s 99ms/step - loss: 1.4415 - acc: 0.6154 - val_loss: 1.2557 - val_acc: 0.7064\n"
     ]
    },
    {
     "name": "stderr",
     "output_type": "stream",
     "text": [
      "WARNING:absl:Found untraced functions such as gru_cell_49_layer_call_and_return_conditional_losses, gru_cell_49_layer_call_fn, gru_cell_50_layer_call_and_return_conditional_losses, gru_cell_50_layer_call_fn, gru_cell_52_layer_call_and_return_conditional_losses while saving (showing 5 of 20). These functions will not be directly callable after loading.\n"
     ]
    },
    {
     "name": "stdout",
     "output_type": "stream",
     "text": [
      "INFO:tensorflow:Assets written to: models/bagging/rnn_with_feature8/model_2/assets\n"
     ]
    },
    {
     "name": "stderr",
     "output_type": "stream",
     "text": [
      "INFO:tensorflow:Assets written to: models/bagging/rnn_with_feature8/model_2/assets\n"
     ]
    },
    {
     "name": "stdout",
     "output_type": "stream",
     "text": [
      "Epoch 3/7\n",
      "860/860 [==============================] - 85s 99ms/step - loss: 1.1953 - acc: 0.7364 - val_loss: 1.0786 - val_acc: 0.8013\n"
     ]
    },
    {
     "name": "stderr",
     "output_type": "stream",
     "text": [
      "WARNING:absl:Found untraced functions such as gru_cell_49_layer_call_and_return_conditional_losses, gru_cell_49_layer_call_fn, gru_cell_50_layer_call_and_return_conditional_losses, gru_cell_50_layer_call_fn, gru_cell_52_layer_call_and_return_conditional_losses while saving (showing 5 of 20). These functions will not be directly callable after loading.\n"
     ]
    },
    {
     "name": "stdout",
     "output_type": "stream",
     "text": [
      "INFO:tensorflow:Assets written to: models/bagging/rnn_with_feature8/model_3/assets\n"
     ]
    },
    {
     "name": "stderr",
     "output_type": "stream",
     "text": [
      "INFO:tensorflow:Assets written to: models/bagging/rnn_with_feature8/model_3/assets\n"
     ]
    },
    {
     "name": "stdout",
     "output_type": "stream",
     "text": [
      "Epoch 4/7\n",
      "860/860 [==============================] - 85s 99ms/step - loss: 1.0058 - acc: 0.8241 - val_loss: 0.9972 - val_acc: 0.8353\n"
     ]
    },
    {
     "name": "stderr",
     "output_type": "stream",
     "text": [
      "WARNING:absl:Found untraced functions such as gru_cell_49_layer_call_and_return_conditional_losses, gru_cell_49_layer_call_fn, gru_cell_50_layer_call_and_return_conditional_losses, gru_cell_50_layer_call_fn, gru_cell_52_layer_call_and_return_conditional_losses while saving (showing 5 of 20). These functions will not be directly callable after loading.\n"
     ]
    },
    {
     "name": "stdout",
     "output_type": "stream",
     "text": [
      "INFO:tensorflow:Assets written to: models/bagging/rnn_with_feature8/model_4/assets\n"
     ]
    },
    {
     "name": "stderr",
     "output_type": "stream",
     "text": [
      "INFO:tensorflow:Assets written to: models/bagging/rnn_with_feature8/model_4/assets\n"
     ]
    },
    {
     "name": "stdout",
     "output_type": "stream",
     "text": [
      "Epoch 5/7\n",
      "860/860 [==============================] - 85s 99ms/step - loss: 0.9239 - acc: 0.8562 - val_loss: 0.9478 - val_acc: 0.8366\n"
     ]
    },
    {
     "name": "stderr",
     "output_type": "stream",
     "text": [
      "WARNING:absl:Found untraced functions such as gru_cell_49_layer_call_and_return_conditional_losses, gru_cell_49_layer_call_fn, gru_cell_50_layer_call_and_return_conditional_losses, gru_cell_50_layer_call_fn, gru_cell_52_layer_call_and_return_conditional_losses while saving (showing 5 of 20). These functions will not be directly callable after loading.\n"
     ]
    },
    {
     "name": "stdout",
     "output_type": "stream",
     "text": [
      "INFO:tensorflow:Assets written to: models/bagging/rnn_with_feature8/model_5/assets\n"
     ]
    },
    {
     "name": "stderr",
     "output_type": "stream",
     "text": [
      "INFO:tensorflow:Assets written to: models/bagging/rnn_with_feature8/model_5/assets\n"
     ]
    },
    {
     "name": "stdout",
     "output_type": "stream",
     "text": [
      "Epoch 6/7\n",
      "860/860 [==============================] - 85s 99ms/step - loss: 0.8660 - acc: 0.8792 - val_loss: 0.9464 - val_acc: 0.8408\n"
     ]
    },
    {
     "name": "stderr",
     "output_type": "stream",
     "text": [
      "WARNING:absl:Found untraced functions such as gru_cell_49_layer_call_and_return_conditional_losses, gru_cell_49_layer_call_fn, gru_cell_50_layer_call_and_return_conditional_losses, gru_cell_50_layer_call_fn, gru_cell_52_layer_call_and_return_conditional_losses while saving (showing 5 of 20). These functions will not be directly callable after loading.\n"
     ]
    },
    {
     "name": "stdout",
     "output_type": "stream",
     "text": [
      "INFO:tensorflow:Assets written to: models/bagging/rnn_with_feature8/model_6/assets\n"
     ]
    },
    {
     "name": "stderr",
     "output_type": "stream",
     "text": [
      "INFO:tensorflow:Assets written to: models/bagging/rnn_with_feature8/model_6/assets\n"
     ]
    },
    {
     "name": "stdout",
     "output_type": "stream",
     "text": [
      "Epoch 7/7\n",
      "860/860 [==============================] - 85s 99ms/step - loss: 0.8306 - acc: 0.8941 - val_loss: 0.9583 - val_acc: 0.8262\n"
     ]
    },
    {
     "name": "stderr",
     "output_type": "stream",
     "text": [
      "WARNING:absl:Found untraced functions such as gru_cell_49_layer_call_and_return_conditional_losses, gru_cell_49_layer_call_fn, gru_cell_50_layer_call_and_return_conditional_losses, gru_cell_50_layer_call_fn, gru_cell_52_layer_call_and_return_conditional_losses while saving (showing 5 of 20). These functions will not be directly callable after loading.\n"
     ]
    },
    {
     "name": "stdout",
     "output_type": "stream",
     "text": [
      "INFO:tensorflow:Assets written to: models/bagging/rnn_with_feature8/model_7/assets\n"
     ]
    },
    {
     "name": "stderr",
     "output_type": "stream",
     "text": [
      "INFO:tensorflow:Assets written to: models/bagging/rnn_with_feature8/model_7/assets\n",
      "2022-10-19 17:43:23.128571: I tensorflow/core/profiler/lib/profiler_session.cc:131] Profiler session initializing.\n",
      "2022-10-19 17:43:23.128607: I tensorflow/core/profiler/lib/profiler_session.cc:146] Profiler session started.\n",
      "2022-10-19 17:43:23.605266: I tensorflow/core/profiler/lib/profiler_session.cc:164] Profiler session tear down.\n",
      "2022-10-19 17:43:23.605415: I tensorflow/core/profiler/internal/gpu/cupti_tracer.cc:1748] CUPTI activity buffer flushed\n"
     ]
    },
    {
     "name": "stdout",
     "output_type": "stream",
     "text": [
      "Epoch 1/7\n",
      "  1/860 [..............................] - ETA: 2:19:13 - loss: 2.4885 - acc: 0.1875"
     ]
    },
    {
     "name": "stderr",
     "output_type": "stream",
     "text": [
      "2022-10-19 17:43:33.805693: I tensorflow/core/profiler/lib/profiler_session.cc:131] Profiler session initializing.\n",
      "2022-10-19 17:43:33.805730: I tensorflow/core/profiler/lib/profiler_session.cc:146] Profiler session started.\n"
     ]
    },
    {
     "name": "stdout",
     "output_type": "stream",
     "text": [
      "  2/860 [..............................] - ETA: 9:12 - loss: 4.7231 - acc: 0.1406   "
     ]
    },
    {
     "name": "stderr",
     "output_type": "stream",
     "text": [
      "2022-10-19 17:43:34.422315: I tensorflow/core/profiler/lib/profiler_session.cc:66] Profiler session collecting data.\n",
      "2022-10-19 17:43:34.423422: I tensorflow/core/profiler/internal/gpu/cupti_tracer.cc:1748] CUPTI activity buffer flushed\n",
      "2022-10-19 17:43:34.490377: I tensorflow/core/profiler/internal/gpu/cupti_collector.cc:673]  GpuTracer has collected 6063 callback api events and 6060 activity events. \n",
      "2022-10-19 17:43:34.603714: I tensorflow/core/profiler/lib/profiler_session.cc:164] Profiler session tear down.\n",
      "2022-10-19 17:43:34.762556: I tensorflow/core/profiler/rpc/client/save_profile.cc:136] Creating directory: models/bagging/rnn_with_feature9/logs/train/plugins/profile/2022_10_19_17_43_34\n",
      "\n",
      "2022-10-19 17:43:34.838145: I tensorflow/core/profiler/rpc/client/save_profile.cc:142] Dumped gzipped tool data for trace.json.gz to models/bagging/rnn_with_feature9/logs/train/plugins/profile/2022_10_19_17_43_34/dell-Precision-7920-Tower.trace.json.gz\n",
      "2022-10-19 17:43:34.943554: I tensorflow/core/profiler/rpc/client/save_profile.cc:136] Creating directory: models/bagging/rnn_with_feature9/logs/train/plugins/profile/2022_10_19_17_43_34\n",
      "\n",
      "2022-10-19 17:43:34.947936: I tensorflow/core/profiler/rpc/client/save_profile.cc:142] Dumped gzipped tool data for memory_profile.json.gz to models/bagging/rnn_with_feature9/logs/train/plugins/profile/2022_10_19_17_43_34/dell-Precision-7920-Tower.memory_profile.json.gz\n",
      "2022-10-19 17:43:34.949662: I tensorflow/core/profiler/rpc/client/capture_profile.cc:251] Creating directory: models/bagging/rnn_with_feature9/logs/train/plugins/profile/2022_10_19_17_43_34\n",
      "Dumped tool data for xplane.pb to models/bagging/rnn_with_feature9/logs/train/plugins/profile/2022_10_19_17_43_34/dell-Precision-7920-Tower.xplane.pb\n",
      "Dumped tool data for overview_page.pb to models/bagging/rnn_with_feature9/logs/train/plugins/profile/2022_10_19_17_43_34/dell-Precision-7920-Tower.overview_page.pb\n",
      "Dumped tool data for input_pipeline.pb to models/bagging/rnn_with_feature9/logs/train/plugins/profile/2022_10_19_17_43_34/dell-Precision-7920-Tower.input_pipeline.pb\n",
      "Dumped tool data for tensorflow_stats.pb to models/bagging/rnn_with_feature9/logs/train/plugins/profile/2022_10_19_17_43_34/dell-Precision-7920-Tower.tensorflow_stats.pb\n",
      "Dumped tool data for kernel_stats.pb to models/bagging/rnn_with_feature9/logs/train/plugins/profile/2022_10_19_17_43_34/dell-Precision-7920-Tower.kernel_stats.pb\n",
      "\n"
     ]
    },
    {
     "name": "stdout",
     "output_type": "stream",
     "text": [
      "860/860 [==============================] - 100s 105ms/step - loss: 1.8444 - acc: 0.4166 - val_loss: 1.4992 - val_acc: 0.5868\n"
     ]
    },
    {
     "name": "stderr",
     "output_type": "stream",
     "text": [
      "WARNING:absl:Found untraced functions such as gru_cell_55_layer_call_and_return_conditional_losses, gru_cell_55_layer_call_fn, gru_cell_56_layer_call_and_return_conditional_losses, gru_cell_56_layer_call_fn, gru_cell_58_layer_call_and_return_conditional_losses while saving (showing 5 of 20). These functions will not be directly callable after loading.\n"
     ]
    },
    {
     "name": "stdout",
     "output_type": "stream",
     "text": [
      "INFO:tensorflow:Assets written to: models/bagging/rnn_with_feature9/model_1/assets\n"
     ]
    },
    {
     "name": "stderr",
     "output_type": "stream",
     "text": [
      "INFO:tensorflow:Assets written to: models/bagging/rnn_with_feature9/model_1/assets\n"
     ]
    },
    {
     "name": "stdout",
     "output_type": "stream",
     "text": [
      "Epoch 2/7\n",
      "860/860 [==============================] - 85s 99ms/step - loss: 1.2548 - acc: 0.7051 - val_loss: 1.0693 - val_acc: 0.8198\n"
     ]
    },
    {
     "name": "stderr",
     "output_type": "stream",
     "text": [
      "WARNING:absl:Found untraced functions such as gru_cell_55_layer_call_and_return_conditional_losses, gru_cell_55_layer_call_fn, gru_cell_56_layer_call_and_return_conditional_losses, gru_cell_56_layer_call_fn, gru_cell_58_layer_call_and_return_conditional_losses while saving (showing 5 of 20). These functions will not be directly callable after loading.\n"
     ]
    },
    {
     "name": "stdout",
     "output_type": "stream",
     "text": [
      "INFO:tensorflow:Assets written to: models/bagging/rnn_with_feature9/model_2/assets\n"
     ]
    },
    {
     "name": "stderr",
     "output_type": "stream",
     "text": [
      "INFO:tensorflow:Assets written to: models/bagging/rnn_with_feature9/model_2/assets\n"
     ]
    },
    {
     "name": "stdout",
     "output_type": "stream",
     "text": [
      "Epoch 3/7\n",
      "860/860 [==============================] - 85s 99ms/step - loss: 1.0396 - acc: 0.8130 - val_loss: 0.9919 - val_acc: 0.8259\n"
     ]
    },
    {
     "name": "stderr",
     "output_type": "stream",
     "text": [
      "WARNING:absl:Found untraced functions such as gru_cell_55_layer_call_and_return_conditional_losses, gru_cell_55_layer_call_fn, gru_cell_56_layer_call_and_return_conditional_losses, gru_cell_56_layer_call_fn, gru_cell_58_layer_call_and_return_conditional_losses while saving (showing 5 of 20). These functions will not be directly callable after loading.\n"
     ]
    },
    {
     "name": "stdout",
     "output_type": "stream",
     "text": [
      "INFO:tensorflow:Assets written to: models/bagging/rnn_with_feature9/model_3/assets\n"
     ]
    },
    {
     "name": "stderr",
     "output_type": "stream",
     "text": [
      "INFO:tensorflow:Assets written to: models/bagging/rnn_with_feature9/model_3/assets\n"
     ]
    },
    {
     "name": "stdout",
     "output_type": "stream",
     "text": [
      "Epoch 4/7\n",
      "860/860 [==============================] - 85s 99ms/step - loss: 0.9575 - acc: 0.8445 - val_loss: 0.9390 - val_acc: 0.8447\n"
     ]
    },
    {
     "name": "stderr",
     "output_type": "stream",
     "text": [
      "WARNING:absl:Found untraced functions such as gru_cell_55_layer_call_and_return_conditional_losses, gru_cell_55_layer_call_fn, gru_cell_56_layer_call_and_return_conditional_losses, gru_cell_56_layer_call_fn, gru_cell_58_layer_call_and_return_conditional_losses while saving (showing 5 of 20). These functions will not be directly callable after loading.\n"
     ]
    },
    {
     "name": "stdout",
     "output_type": "stream",
     "text": [
      "INFO:tensorflow:Assets written to: models/bagging/rnn_with_feature9/model_4/assets\n"
     ]
    },
    {
     "name": "stderr",
     "output_type": "stream",
     "text": [
      "INFO:tensorflow:Assets written to: models/bagging/rnn_with_feature9/model_4/assets\n"
     ]
    },
    {
     "name": "stdout",
     "output_type": "stream",
     "text": [
      "Epoch 5/7\n",
      "860/860 [==============================] - 85s 99ms/step - loss: 0.8957 - acc: 0.8688 - val_loss: 0.9324 - val_acc: 0.8421\n"
     ]
    },
    {
     "name": "stderr",
     "output_type": "stream",
     "text": [
      "WARNING:absl:Found untraced functions such as gru_cell_55_layer_call_and_return_conditional_losses, gru_cell_55_layer_call_fn, gru_cell_56_layer_call_and_return_conditional_losses, gru_cell_56_layer_call_fn, gru_cell_58_layer_call_and_return_conditional_losses while saving (showing 5 of 20). These functions will not be directly callable after loading.\n"
     ]
    },
    {
     "name": "stdout",
     "output_type": "stream",
     "text": [
      "INFO:tensorflow:Assets written to: models/bagging/rnn_with_feature9/model_5/assets\n"
     ]
    },
    {
     "name": "stderr",
     "output_type": "stream",
     "text": [
      "INFO:tensorflow:Assets written to: models/bagging/rnn_with_feature9/model_5/assets\n"
     ]
    },
    {
     "name": "stdout",
     "output_type": "stream",
     "text": [
      "Epoch 6/7\n",
      "860/860 [==============================] - 85s 99ms/step - loss: 0.8585 - acc: 0.8802 - val_loss: 0.9288 - val_acc: 0.8350\n"
     ]
    },
    {
     "name": "stderr",
     "output_type": "stream",
     "text": [
      "WARNING:absl:Found untraced functions such as gru_cell_55_layer_call_and_return_conditional_losses, gru_cell_55_layer_call_fn, gru_cell_56_layer_call_and_return_conditional_losses, gru_cell_56_layer_call_fn, gru_cell_58_layer_call_and_return_conditional_losses while saving (showing 5 of 20). These functions will not be directly callable after loading.\n"
     ]
    },
    {
     "name": "stdout",
     "output_type": "stream",
     "text": [
      "INFO:tensorflow:Assets written to: models/bagging/rnn_with_feature9/model_6/assets\n"
     ]
    },
    {
     "name": "stderr",
     "output_type": "stream",
     "text": [
      "INFO:tensorflow:Assets written to: models/bagging/rnn_with_feature9/model_6/assets\n"
     ]
    },
    {
     "name": "stdout",
     "output_type": "stream",
     "text": [
      "Epoch 7/7\n",
      "860/860 [==============================] - 85s 99ms/step - loss: 0.8258 - acc: 0.8909 - val_loss: 0.9571 - val_acc: 0.8203\n"
     ]
    },
    {
     "name": "stderr",
     "output_type": "stream",
     "text": [
      "WARNING:absl:Found untraced functions such as gru_cell_55_layer_call_and_return_conditional_losses, gru_cell_55_layer_call_fn, gru_cell_56_layer_call_and_return_conditional_losses, gru_cell_56_layer_call_fn, gru_cell_58_layer_call_and_return_conditional_losses while saving (showing 5 of 20). These functions will not be directly callable after loading.\n"
     ]
    },
    {
     "name": "stdout",
     "output_type": "stream",
     "text": [
      "INFO:tensorflow:Assets written to: models/bagging/rnn_with_feature9/model_7/assets\n"
     ]
    },
    {
     "name": "stderr",
     "output_type": "stream",
     "text": [
      "INFO:tensorflow:Assets written to: models/bagging/rnn_with_feature9/model_7/assets\n"
     ]
    }
   ],
   "source": [
    "X_val = {'sequence':X_sequence_val_trimed, 'feature':X_feature_val}\n",
    "lr_schedule = keras.optimizers.schedules.ExponentialDecay(\n",
    "    initial_learning_rate=1e-3,\n",
    "    decay_steps=430,\n",
    "    decay_rate=0.9)\n",
    "\n",
    "for i in range(1,10):\n",
    "    model = rnn_with_feature(sequence_shape=(None, 3),feature_shape=(2,), num_classes=11)\n",
    "    model.compile(\n",
    "    optimizer=keras.optimizers.Adam(lr_schedule),\n",
    "    # loss=\"sparse_categorical_crossentropy\",\n",
    "    loss=keras.losses.CategoricalCrossentropy(label_smoothing=0.1),\n",
    "    # metrics=[keras.metrics.SparseCategoricalAccuracy(name=\"acc\")],\n",
    "    metrics=[keras.metrics.CategoricalAccuracy(name=\"acc\")],\n",
    "    run_eagerly=False,\n",
    "    )\n",
    "    callbacks = [\n",
    "    keras.callbacks.ModelCheckpoint(\n",
    "        filepath='models/bagging/rnn_with_feature%d/model_{epoch}'%i,\n",
    "        save_freq='epoch'),\n",
    "    keras.callbacks.TensorBoard(log_dir='models/bagging/rnn_with_feature%d/logs'%i)\n",
    "    ]\n",
    "    X_train = {'sequence':total_X_sequence_train[i], 'feature':total_X_feature_train[i]}\n",
    "    model.fit(X_train, total_Y_train[i], batch_size=32, epochs=7, \n",
    "        validation_data=(X_val, Y_val), callbacks=callbacks)\n"
   ]
  }
 ],
 "metadata": {
  "kernelspec": {
   "display_name": "Python 3.9.7 ('DL')",
   "language": "python",
   "name": "python3"
  },
  "language_info": {
   "codemirror_mode": {
    "name": "ipython",
    "version": 3
   },
   "file_extension": ".py",
   "mimetype": "text/x-python",
   "name": "python",
   "nbconvert_exporter": "python",
   "pygments_lexer": "ipython3",
   "version": "3.9.7"
  },
  "orig_nbformat": 4,
  "vscode": {
   "interpreter": {
    "hash": "686e52782356fa5192d8da796457d9836a4bb6aebab3dc056991bb89ef60f4a8"
   }
  }
 },
 "nbformat": 4,
 "nbformat_minor": 2
}
