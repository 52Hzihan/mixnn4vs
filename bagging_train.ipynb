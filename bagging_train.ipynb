{
 "cells": [
  {
   "cell_type": "code",
   "execution_count": 2,
   "metadata": {},
   "outputs": [
    {
     "ename": "ImportError",
     "evalue": "cannot import name 'pad_sequences' from 'keras.preprocessing.sequence' (/home/zhkang/softwares/anaconda3/envs/DL/lib/python3.9/site-packages/keras/preprocessing/sequence.py)",
     "output_type": "error",
     "traceback": [
      "\u001b[0;31m---------------------------------------------------------------------------\u001b[0m",
      "\u001b[0;31mImportError\u001b[0m                               Traceback (most recent call last)",
      "Cell \u001b[0;32mIn [2], line 14\u001b[0m\n\u001b[1;32m     11\u001b[0m \u001b[39m# X_sequence_val, X_feature_val, Y_val = pickle.load(f2)\u001b[39;00m\n\u001b[1;32m     12\u001b[0m f2\u001b[39m.\u001b[39mclose()\n\u001b[0;32m---> 14\u001b[0m \u001b[39mfrom\u001b[39;00m \u001b[39mkeras\u001b[39;00m\u001b[39m.\u001b[39;00m\u001b[39mpreprocessing\u001b[39;00m\u001b[39m.\u001b[39;00m\u001b[39msequence\u001b[39;00m \u001b[39mimport\u001b[39;00m pad_sequences\n\u001b[1;32m     15\u001b[0m \u001b[39mfrom\u001b[39;00m \u001b[39mutil\u001b[39;00m \u001b[39mimport\u001b[39;00m preprocess\n\u001b[1;32m     17\u001b[0m total_X_sequence_train \u001b[39m=\u001b[39m []\n",
      "\u001b[0;31mImportError\u001b[0m: cannot import name 'pad_sequences' from 'keras.preprocessing.sequence' (/home/zhkang/softwares/anaconda3/envs/DL/lib/python3.9/site-packages/keras/preprocessing/sequence.py)"
     ]
    }
   ],
   "source": [
    "import tensorflow as tf\n",
    "from tensorflow import keras\n",
    "from tensorflow.keras import layers\n",
    "from tensorflow.keras import regularizers\n",
    "\n",
    "import pickle\n",
    "import numpy as np\n",
    "\n",
    "f2 = open('data/split_image_0.60_0.30_0.10_aug_to_1875_down_sample_True_instance0-9/val_data', 'rb')\n",
    "X_sequence_val, X_feature_val, X_image_val, Y_val = pickle.load(f2)\n",
    "# X_sequence_val, X_feature_val, Y_val = pickle.load(f2)\n",
    "f2.close()\n",
    "\n",
    "from keras_preprocessing.sequence import pad_sequences\n",
    "from util import preprocess\n",
    "\n",
    "total_X_sequence_train = []\n",
    "total_X_feature_train = []\n",
    "# total_X_image_train = []\n",
    "total_Y_train = []\n",
    "for i in range(0,10):\n",
    "    f = open('data/split_image_0.60_0.30_0.10_aug_to_1875_down_sample_True_instance0-9/train_data%d'%i, 'rb')\n",
    "    X_sequence_train, X_feature_train, X_image_train, Y_train = pickle.load(f)\n",
    "    # X_sequence_train, X_feature_train, Y_train = pickle.load(f)\n",
    "    X_sequence_train_paded = pad_sequences(X_sequence_train, dtype='float', padding='post', value = np.nan)\n",
    "    X_sequence_train_trimed = preprocess(X_sequence_train_paded)\n",
    "    X_feature_train = np.array(X_feature_train)\n",
    "    Y_train = np.array(Y_train)-1\n",
    "    Y_train = keras.utils.to_categorical(Y_train, num_classes=11)\n",
    "\n",
    "    total_X_sequence_train.append(X_sequence_train_trimed)\n",
    "    total_X_feature_train.append(X_feature_train)\n",
    "    total_Y_train.append(Y_train)\n",
    "    f.close()\n",
    "\n",
    "X_sequence_val_paded = pad_sequences(X_sequence_val, dtype='float', padding='post', value = np.nan)\n",
    "X_sequence_val_trimed = preprocess(X_sequence_val_paded)\n",
    "X_feature_val = np.array(X_feature_val)\n",
    "Y_val = np.array(Y_val)-1\n",
    "\n",
    "\n",
    "Y_val = keras.utils.to_categorical(Y_val, num_classes=11)"
   ]
  },
  {
   "cell_type": "code",
   "execution_count": 3,
   "metadata": {},
   "outputs": [
    {
     "name": "stderr",
     "output_type": "stream",
     "text": [
      "2022-10-27 20:00:26.009168: I tensorflow/core/profiler/lib/profiler_session.cc:131] Profiler session initializing.\n",
      "2022-10-27 20:00:26.009328: I tensorflow/core/profiler/lib/profiler_session.cc:146] Profiler session started.\n",
      "2022-10-27 20:00:26.621151: I tensorflow/core/profiler/lib/profiler_session.cc:164] Profiler session tear down.\n",
      "2022-10-27 20:00:26.621325: I tensorflow/core/profiler/internal/gpu/cupti_tracer.cc:1748] CUPTI activity buffer flushed\n"
     ]
    },
    {
     "name": "stdout",
     "output_type": "stream",
     "text": [
      "Epoch 1/10\n",
      "  1/645 [..............................] - ETA: 2:36:56 - loss: 14.1130 - acc: 0.0625"
     ]
    },
    {
     "name": "stderr",
     "output_type": "stream",
     "text": [
      "2022-10-27 20:00:41.766429: I tensorflow/core/profiler/lib/profiler_session.cc:131] Profiler session initializing.\n",
      "2022-10-27 20:00:41.766842: I tensorflow/core/profiler/lib/profiler_session.cc:146] Profiler session started.\n"
     ]
    },
    {
     "name": "stdout",
     "output_type": "stream",
     "text": [
      "  2/645 [..............................] - ETA: 8:10 - loss: 12.3595 - acc: 0.0312   "
     ]
    },
    {
     "name": "stderr",
     "output_type": "stream",
     "text": [
      "2022-10-27 20:00:42.501389: I tensorflow/core/profiler/lib/profiler_session.cc:66] Profiler session collecting data.\n",
      "2022-10-27 20:00:42.503874: I tensorflow/core/profiler/internal/gpu/cupti_tracer.cc:1748] CUPTI activity buffer flushed\n",
      "2022-10-27 20:00:42.593923: I tensorflow/core/profiler/internal/gpu/cupti_collector.cc:673]  GpuTracer has collected 6079 callback api events and 6076 activity events. \n",
      "2022-10-27 20:00:42.782314: I tensorflow/core/profiler/lib/profiler_session.cc:164] Profiler session tear down.\n",
      "2022-10-27 20:00:43.025494: I tensorflow/core/profiler/rpc/client/save_profile.cc:136] Creating directory: models/bagging_random_cadence_0.60_0.30_0.10/rnn_with_feature1/logs/train/plugins/profile/2022_10_27_20_00_42\n",
      "\n",
      "2022-10-27 20:00:43.172950: I tensorflow/core/profiler/rpc/client/save_profile.cc:142] Dumped gzipped tool data for trace.json.gz to models/bagging_random_cadence_0.60_0.30_0.10/rnn_with_feature1/logs/train/plugins/profile/2022_10_27_20_00_42/dell-Precision-7920-Tower.trace.json.gz\n"
     ]
    },
    {
     "name": "stdout",
     "output_type": "stream",
     "text": [
      "  3/645 [..............................] - ETA: 10:52 - loss: 10.8984 - acc: 0.0417"
     ]
    },
    {
     "name": "stderr",
     "output_type": "stream",
     "text": [
      "2022-10-27 20:00:43.370720: I tensorflow/core/profiler/rpc/client/save_profile.cc:136] Creating directory: models/bagging_random_cadence_0.60_0.30_0.10/rnn_with_feature1/logs/train/plugins/profile/2022_10_27_20_00_42\n",
      "\n",
      "2022-10-27 20:00:43.383622: I tensorflow/core/profiler/rpc/client/save_profile.cc:142] Dumped gzipped tool data for memory_profile.json.gz to models/bagging_random_cadence_0.60_0.30_0.10/rnn_with_feature1/logs/train/plugins/profile/2022_10_27_20_00_42/dell-Precision-7920-Tower.memory_profile.json.gz\n",
      "2022-10-27 20:00:43.386258: I tensorflow/core/profiler/rpc/client/capture_profile.cc:251] Creating directory: models/bagging_random_cadence_0.60_0.30_0.10/rnn_with_feature1/logs/train/plugins/profile/2022_10_27_20_00_42\n",
      "Dumped tool data for xplane.pb to models/bagging_random_cadence_0.60_0.30_0.10/rnn_with_feature1/logs/train/plugins/profile/2022_10_27_20_00_42/dell-Precision-7920-Tower.xplane.pb\n",
      "Dumped tool data for overview_page.pb to models/bagging_random_cadence_0.60_0.30_0.10/rnn_with_feature1/logs/train/plugins/profile/2022_10_27_20_00_42/dell-Precision-7920-Tower.overview_page.pb\n",
      "Dumped tool data for input_pipeline.pb to models/bagging_random_cadence_0.60_0.30_0.10/rnn_with_feature1/logs/train/plugins/profile/2022_10_27_20_00_42/dell-Precision-7920-Tower.input_pipeline.pb\n",
      "Dumped tool data for tensorflow_stats.pb to models/bagging_random_cadence_0.60_0.30_0.10/rnn_with_feature1/logs/train/plugins/profile/2022_10_27_20_00_42/dell-Precision-7920-Tower.tensorflow_stats.pb\n",
      "Dumped tool data for kernel_stats.pb to models/bagging_random_cadence_0.60_0.30_0.10/rnn_with_feature1/logs/train/plugins/profile/2022_10_27_20_00_42/dell-Precision-7920-Tower.kernel_stats.pb\n",
      "\n"
     ]
    },
    {
     "name": "stdout",
     "output_type": "stream",
     "text": [
      "645/645 [==============================] - 60s 70ms/step - loss: 1.9647 - acc: 0.3987 - val_loss: 1.5501 - val_acc: 0.5928\n"
     ]
    },
    {
     "name": "stderr",
     "output_type": "stream",
     "text": [
      "WARNING:absl:Found untraced functions such as gru_cell_55_layer_call_and_return_conditional_losses, gru_cell_55_layer_call_fn, gru_cell_56_layer_call_and_return_conditional_losses, gru_cell_56_layer_call_fn, gru_cell_58_layer_call_and_return_conditional_losses while saving (showing 5 of 20). These functions will not be directly callable after loading.\n"
     ]
    },
    {
     "name": "stdout",
     "output_type": "stream",
     "text": [
      "INFO:tensorflow:Assets written to: models/bagging_random_cadence_0.60_0.30_0.10/rnn_with_feature1/model_1/assets\n"
     ]
    },
    {
     "name": "stderr",
     "output_type": "stream",
     "text": [
      "INFO:tensorflow:Assets written to: models/bagging_random_cadence_0.60_0.30_0.10/rnn_with_feature1/model_1/assets\n"
     ]
    },
    {
     "name": "stdout",
     "output_type": "stream",
     "text": [
      "Epoch 2/10\n",
      "645/645 [==============================] - 39s 61ms/step - loss: 1.3694 - acc: 0.6669 - val_loss: 1.2002 - val_acc: 0.7794\n"
     ]
    },
    {
     "name": "stderr",
     "output_type": "stream",
     "text": [
      "WARNING:absl:Found untraced functions such as gru_cell_55_layer_call_and_return_conditional_losses, gru_cell_55_layer_call_fn, gru_cell_56_layer_call_and_return_conditional_losses, gru_cell_56_layer_call_fn, gru_cell_58_layer_call_and_return_conditional_losses while saving (showing 5 of 20). These functions will not be directly callable after loading.\n"
     ]
    },
    {
     "name": "stdout",
     "output_type": "stream",
     "text": [
      "INFO:tensorflow:Assets written to: models/bagging_random_cadence_0.60_0.30_0.10/rnn_with_feature1/model_2/assets\n"
     ]
    },
    {
     "name": "stderr",
     "output_type": "stream",
     "text": [
      "INFO:tensorflow:Assets written to: models/bagging_random_cadence_0.60_0.30_0.10/rnn_with_feature1/model_2/assets\n"
     ]
    },
    {
     "name": "stdout",
     "output_type": "stream",
     "text": [
      "Epoch 3/10\n",
      "645/645 [==============================] - 39s 61ms/step - loss: 1.0939 - acc: 0.8040 - val_loss: 1.0666 - val_acc: 0.7956\n"
     ]
    },
    {
     "name": "stderr",
     "output_type": "stream",
     "text": [
      "WARNING:absl:Found untraced functions such as gru_cell_55_layer_call_and_return_conditional_losses, gru_cell_55_layer_call_fn, gru_cell_56_layer_call_and_return_conditional_losses, gru_cell_56_layer_call_fn, gru_cell_58_layer_call_and_return_conditional_losses while saving (showing 5 of 20). These functions will not be directly callable after loading.\n"
     ]
    },
    {
     "name": "stdout",
     "output_type": "stream",
     "text": [
      "INFO:tensorflow:Assets written to: models/bagging_random_cadence_0.60_0.30_0.10/rnn_with_feature1/model_3/assets\n"
     ]
    },
    {
     "name": "stderr",
     "output_type": "stream",
     "text": [
      "INFO:tensorflow:Assets written to: models/bagging_random_cadence_0.60_0.30_0.10/rnn_with_feature1/model_3/assets\n"
     ]
    },
    {
     "name": "stdout",
     "output_type": "stream",
     "text": [
      "Epoch 4/10\n",
      "645/645 [==============================] - 39s 61ms/step - loss: 1.0080 - acc: 0.8352 - val_loss: 0.9952 - val_acc: 0.8059\n"
     ]
    },
    {
     "name": "stderr",
     "output_type": "stream",
     "text": [
      "WARNING:absl:Found untraced functions such as gru_cell_55_layer_call_and_return_conditional_losses, gru_cell_55_layer_call_fn, gru_cell_56_layer_call_and_return_conditional_losses, gru_cell_56_layer_call_fn, gru_cell_58_layer_call_and_return_conditional_losses while saving (showing 5 of 20). These functions will not be directly callable after loading.\n"
     ]
    },
    {
     "name": "stdout",
     "output_type": "stream",
     "text": [
      "INFO:tensorflow:Assets written to: models/bagging_random_cadence_0.60_0.30_0.10/rnn_with_feature1/model_4/assets\n"
     ]
    },
    {
     "name": "stderr",
     "output_type": "stream",
     "text": [
      "INFO:tensorflow:Assets written to: models/bagging_random_cadence_0.60_0.30_0.10/rnn_with_feature1/model_4/assets\n"
     ]
    },
    {
     "name": "stdout",
     "output_type": "stream",
     "text": [
      "Epoch 5/10\n",
      "645/645 [==============================] - 62s 96ms/step - loss: 0.9304 - acc: 0.8652 - val_loss: 1.0298 - val_acc: 0.7975\n"
     ]
    },
    {
     "name": "stderr",
     "output_type": "stream",
     "text": [
      "WARNING:absl:Found untraced functions such as gru_cell_55_layer_call_and_return_conditional_losses, gru_cell_55_layer_call_fn, gru_cell_56_layer_call_and_return_conditional_losses, gru_cell_56_layer_call_fn, gru_cell_58_layer_call_and_return_conditional_losses while saving (showing 5 of 20). These functions will not be directly callable after loading.\n"
     ]
    },
    {
     "name": "stdout",
     "output_type": "stream",
     "text": [
      "INFO:tensorflow:Assets written to: models/bagging_random_cadence_0.60_0.30_0.10/rnn_with_feature1/model_5/assets\n"
     ]
    },
    {
     "name": "stderr",
     "output_type": "stream",
     "text": [
      "INFO:tensorflow:Assets written to: models/bagging_random_cadence_0.60_0.30_0.10/rnn_with_feature1/model_5/assets\n"
     ]
    },
    {
     "name": "stdout",
     "output_type": "stream",
     "text": [
      "Epoch 6/10\n",
      "645/645 [==============================] - 62s 96ms/step - loss: 0.8790 - acc: 0.8806 - val_loss: 1.0457 - val_acc: 0.7963\n"
     ]
    },
    {
     "name": "stderr",
     "output_type": "stream",
     "text": [
      "WARNING:absl:Found untraced functions such as gru_cell_55_layer_call_and_return_conditional_losses, gru_cell_55_layer_call_fn, gru_cell_56_layer_call_and_return_conditional_losses, gru_cell_56_layer_call_fn, gru_cell_58_layer_call_and_return_conditional_losses while saving (showing 5 of 20). These functions will not be directly callable after loading.\n"
     ]
    },
    {
     "name": "stdout",
     "output_type": "stream",
     "text": [
      "INFO:tensorflow:Assets written to: models/bagging_random_cadence_0.60_0.30_0.10/rnn_with_feature1/model_6/assets\n"
     ]
    },
    {
     "name": "stderr",
     "output_type": "stream",
     "text": [
      "INFO:tensorflow:Assets written to: models/bagging_random_cadence_0.60_0.30_0.10/rnn_with_feature1/model_6/assets\n"
     ]
    },
    {
     "name": "stdout",
     "output_type": "stream",
     "text": [
      "Epoch 7/10\n",
      "645/645 [==============================] - 62s 96ms/step - loss: 0.8279 - acc: 0.8977 - val_loss: 1.0567 - val_acc: 0.7968\n"
     ]
    },
    {
     "name": "stderr",
     "output_type": "stream",
     "text": [
      "WARNING:absl:Found untraced functions such as gru_cell_55_layer_call_and_return_conditional_losses, gru_cell_55_layer_call_fn, gru_cell_56_layer_call_and_return_conditional_losses, gru_cell_56_layer_call_fn, gru_cell_58_layer_call_and_return_conditional_losses while saving (showing 5 of 20). These functions will not be directly callable after loading.\n"
     ]
    },
    {
     "name": "stdout",
     "output_type": "stream",
     "text": [
      "INFO:tensorflow:Assets written to: models/bagging_random_cadence_0.60_0.30_0.10/rnn_with_feature1/model_7/assets\n"
     ]
    },
    {
     "name": "stderr",
     "output_type": "stream",
     "text": [
      "INFO:tensorflow:Assets written to: models/bagging_random_cadence_0.60_0.30_0.10/rnn_with_feature1/model_7/assets\n"
     ]
    },
    {
     "name": "stdout",
     "output_type": "stream",
     "text": [
      "Epoch 8/10\n",
      "645/645 [==============================] - 61s 95ms/step - loss: 0.7940 - acc: 0.9088 - val_loss: 1.0619 - val_acc: 0.7662\n"
     ]
    },
    {
     "name": "stderr",
     "output_type": "stream",
     "text": [
      "WARNING:absl:Found untraced functions such as gru_cell_55_layer_call_and_return_conditional_losses, gru_cell_55_layer_call_fn, gru_cell_56_layer_call_and_return_conditional_losses, gru_cell_56_layer_call_fn, gru_cell_58_layer_call_and_return_conditional_losses while saving (showing 5 of 20). These functions will not be directly callable after loading.\n"
     ]
    },
    {
     "name": "stdout",
     "output_type": "stream",
     "text": [
      "INFO:tensorflow:Assets written to: models/bagging_random_cadence_0.60_0.30_0.10/rnn_with_feature1/model_8/assets\n"
     ]
    },
    {
     "name": "stderr",
     "output_type": "stream",
     "text": [
      "INFO:tensorflow:Assets written to: models/bagging_random_cadence_0.60_0.30_0.10/rnn_with_feature1/model_8/assets\n"
     ]
    },
    {
     "name": "stdout",
     "output_type": "stream",
     "text": [
      "Epoch 9/10\n",
      "645/645 [==============================] - 61s 95ms/step - loss: 0.7636 - acc: 0.9153 - val_loss: 1.0717 - val_acc: 0.7709\n"
     ]
    },
    {
     "name": "stderr",
     "output_type": "stream",
     "text": [
      "WARNING:absl:Found untraced functions such as gru_cell_55_layer_call_and_return_conditional_losses, gru_cell_55_layer_call_fn, gru_cell_56_layer_call_and_return_conditional_losses, gru_cell_56_layer_call_fn, gru_cell_58_layer_call_and_return_conditional_losses while saving (showing 5 of 20). These functions will not be directly callable after loading.\n"
     ]
    },
    {
     "name": "stdout",
     "output_type": "stream",
     "text": [
      "INFO:tensorflow:Assets written to: models/bagging_random_cadence_0.60_0.30_0.10/rnn_with_feature1/model_9/assets\n"
     ]
    },
    {
     "name": "stderr",
     "output_type": "stream",
     "text": [
      "INFO:tensorflow:Assets written to: models/bagging_random_cadence_0.60_0.30_0.10/rnn_with_feature1/model_9/assets\n"
     ]
    },
    {
     "name": "stdout",
     "output_type": "stream",
     "text": [
      "Epoch 10/10\n",
      "645/645 [==============================] - 40s 62ms/step - loss: 0.7401 - acc: 0.9247 - val_loss: 1.2457 - val_acc: 0.7188\n"
     ]
    },
    {
     "name": "stderr",
     "output_type": "stream",
     "text": [
      "WARNING:absl:Found untraced functions such as gru_cell_55_layer_call_and_return_conditional_losses, gru_cell_55_layer_call_fn, gru_cell_56_layer_call_and_return_conditional_losses, gru_cell_56_layer_call_fn, gru_cell_58_layer_call_and_return_conditional_losses while saving (showing 5 of 20). These functions will not be directly callable after loading.\n"
     ]
    },
    {
     "name": "stdout",
     "output_type": "stream",
     "text": [
      "INFO:tensorflow:Assets written to: models/bagging_random_cadence_0.60_0.30_0.10/rnn_with_feature1/model_10/assets\n"
     ]
    },
    {
     "name": "stderr",
     "output_type": "stream",
     "text": [
      "INFO:tensorflow:Assets written to: models/bagging_random_cadence_0.60_0.30_0.10/rnn_with_feature1/model_10/assets\n"
     ]
    }
   ],
   "source": [
    "from mix_models import rnn_with_feature\n",
    "\n",
    "X_val = {'sequence':X_sequence_val_trimed, 'feature':X_feature_val}\n",
    "lr_schedule = keras.optimizers.schedules.ExponentialDecay(\n",
    "    initial_learning_rate=1e-3,\n",
    "    decay_steps=860,\n",
    "    decay_rate=0.85)\n",
    "\n",
    "for i in range(1,2):\n",
    "    model = rnn_with_feature(sequence_shape=(None, 3),feature_shape=(2,), num_classes=11)\n",
    "    model.compile(\n",
    "    optimizer=keras.optimizers.Adam(1e-3),\n",
    "    # loss=\"sparse_categorical_crossentropy\",\n",
    "    loss=keras.losses.CategoricalCrossentropy(label_smoothing=0.1),\n",
    "    # metrics=[keras.metrics.SparseCategoricalAccuracy(name=\"acc\")],\n",
    "    metrics=[keras.metrics.CategoricalAccuracy(name=\"acc\")],\n",
    "    run_eagerly=False,\n",
    "    )\n",
    "    callbacks = [\n",
    "    keras.callbacks.ModelCheckpoint(\n",
    "        filepath='models/bagging_random_cadence_0.60_0.30_0.10/rnn_with_feature%d/model_{epoch}'%i,\n",
    "        save_freq='epoch'),\n",
    "    keras.callbacks.TensorBoard(log_dir='models/bagging_random_cadence_0.60_0.30_0.10/rnn_with_feature%d/logs'%i)\n",
    "    ]\n",
    "    X_train = {'sequence':total_X_sequence_train[i], 'feature':total_X_feature_train[i]}\n",
    "    model.fit(X_train, total_Y_train[i], batch_size=32, epochs=10, \n",
    "        validation_data=(X_val, Y_val), callbacks=callbacks)\n"
   ]
  }
 ],
 "metadata": {
  "kernelspec": {
   "display_name": "Python 3.9.7 ('DL')",
   "language": "python",
   "name": "python3"
  },
  "language_info": {
   "codemirror_mode": {
    "name": "ipython",
    "version": 3
   },
   "file_extension": ".py",
   "mimetype": "text/x-python",
   "name": "python",
   "nbconvert_exporter": "python",
   "pygments_lexer": "ipython3",
   "version": "3.9.12"
  },
  "orig_nbformat": 4,
  "vscode": {
   "interpreter": {
    "hash": "686e52782356fa5192d8da796457d9836a4bb6aebab3dc056991bb89ef60f4a8"
   }
  }
 },
 "nbformat": 4,
 "nbformat_minor": 2
}
