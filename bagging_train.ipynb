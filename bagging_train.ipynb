{
 "cells": [
  {
   "cell_type": "code",
   "execution_count": 1,
   "metadata": {},
   "outputs": [],
   "source": [
    "import tensorflow as tf\n",
    "from tensorflow import keras\n",
    "from tensorflow.keras import layers\n",
    "from tensorflow.keras import regularizers\n",
    "\n",
    "import pickle\n",
    "import numpy as np\n",
    "\n",
    "f2 = open('data/split_0.80_0.10_0.10_aug_to_2500_down_sample_True_instance0-9/val_data', 'rb')\n",
    "X_sequence_val, X_feature_val, X_image_val, Y_val = pickle.load(f2)\n",
    "f2.close()\n",
    "\n",
    "from keras.preprocessing.sequence import pad_sequences\n",
    "from util import preprocess\n",
    "\n",
    "total_X_sequence_train = []\n",
    "total_X_feature_train = []\n",
    "# total_X_image_train = []\n",
    "total_Y_train = []\n",
    "for i in range(0,10):\n",
    "    f = open('data/split_0.80_0.10_0.10_aug_to_2500_down_sample_True_instance0-9/train_data%d'%i, 'rb')\n",
    "    X_sequence_train, X_feature_train, X_image_train, Y_train = pickle.load(f)\n",
    "    X_sequence_train_paded = pad_sequences(X_sequence_train, dtype='float', padding='post', value = np.nan)\n",
    "    X_sequence_train_trimed = preprocess(X_sequence_train_paded)\n",
    "    X_feature_train = np.array(X_feature_train)\n",
    "    Y_train = np.array(Y_train)-1\n",
    "\n",
    "    Y_train = keras.utils.to_categorical(Y_train, num_classes=11)\n",
    "\n",
    "    total_X_sequence_train.append(X_sequence_train_trimed)\n",
    "    total_X_feature_train.append(X_feature_train)\n",
    "    total_Y_train.append(Y_train)\n",
    "    f.close()\n",
    "\n",
    "X_sequence_val_paded = pad_sequences(X_sequence_val, dtype='float', padding='post', value = np.nan)\n",
    "X_sequence_val_trimed = preprocess(X_sequence_val_paded)\n",
    "X_feature_val = np.array(X_feature_val)\n",
    "Y_val = np.array(Y_val)-1\n",
    "\n",
    "\n",
    "Y_val = keras.utils.to_categorical(Y_val, num_classes=11)"
   ]
  },
  {
   "cell_type": "code",
   "execution_count": 3,
   "metadata": {},
   "outputs": [
    {
     "name": "stderr",
     "output_type": "stream",
     "text": [
      "2022-10-19 19:49:45.853449: I tensorflow/core/platform/cpu_feature_guard.cc:142] This TensorFlow binary is optimized with oneAPI Deep Neural Network Library (oneDNN) to use the following CPU instructions in performance-critical operations:  SSE4.1 SSE4.2 AVX AVX2 AVX512F FMA\n",
      "To enable them in other operations, rebuild TensorFlow with the appropriate compiler flags.\n",
      "2022-10-19 19:49:46.743268: I tensorflow/core/common_runtime/gpu/gpu_device.cc:1510] Created device /job:localhost/replica:0/task:0/device:GPU:0 with 22245 MB memory:  -> device: 0, name: GeForce RTX 3090, pci bus id: 0000:73:00.0, compute capability: 8.6\n",
      "2022-10-19 19:49:46.744284: I tensorflow/core/common_runtime/gpu/gpu_device.cc:1510] Created device /job:localhost/replica:0/task:0/device:GPU:1 with 22300 MB memory:  -> device: 1, name: GeForce RTX 3090, pci bus id: 0000:d5:00.0, compute capability: 8.6\n",
      "2022-10-19 19:49:48.710931: I tensorflow/core/profiler/lib/profiler_session.cc:131] Profiler session initializing.\n",
      "2022-10-19 19:49:48.710961: I tensorflow/core/profiler/lib/profiler_session.cc:146] Profiler session started.\n",
      "2022-10-19 19:49:48.710997: I tensorflow/core/profiler/internal/gpu/cupti_tracer.cc:1614] Profiler found 2 GPUs\n",
      "2022-10-19 19:49:49.056501: I tensorflow/core/profiler/lib/profiler_session.cc:164] Profiler session tear down.\n",
      "2022-10-19 19:49:49.056662: I tensorflow/core/profiler/internal/gpu/cupti_tracer.cc:1748] CUPTI activity buffer flushed\n",
      "2022-10-19 19:49:49.332513: I tensorflow/compiler/mlir/mlir_graph_optimization_pass.cc:185] None of the MLIR Optimization Passes are enabled (registered 2)\n"
     ]
    },
    {
     "name": "stdout",
     "output_type": "stream",
     "text": [
      "Epoch 1/10\n"
     ]
    },
    {
     "name": "stderr",
     "output_type": "stream",
     "text": [
      "2022-10-19 19:49:56.217074: I tensorflow/stream_executor/cuda/cuda_blas.cc:1760] TensorFloat-32 will be used for the matrix multiplication. This will only be logged once.\n",
      "2022-10-19 19:49:56.385635: I tensorflow/stream_executor/cuda/cuda_dnn.cc:369] Loaded cuDNN version 8401\n",
      "Could not load symbol cublasGetSmCountTarget from libcublas.so.11. Error: /home/zhkang/softwares/anaconda3/envs/DL/lib/python3.9/site-packages/tensorflow/python/../../../../libcublas.so.11: undefined symbol: cublasGetSmCountTarget\n"
     ]
    },
    {
     "name": "stdout",
     "output_type": "stream",
     "text": [
      "  1/860 [..............................] - ETA: 1:55:59 - loss: 4.9954 - acc: 0.0938"
     ]
    },
    {
     "name": "stderr",
     "output_type": "stream",
     "text": [
      "2022-10-19 19:49:57.639285: I tensorflow/core/profiler/lib/profiler_session.cc:131] Profiler session initializing.\n",
      "2022-10-19 19:49:57.639321: I tensorflow/core/profiler/lib/profiler_session.cc:146] Profiler session started.\n"
     ]
    },
    {
     "name": "stdout",
     "output_type": "stream",
     "text": [
      "  2/860 [..............................] - ETA: 12:12 - loss: 6.2651 - acc: 0.1250  "
     ]
    },
    {
     "name": "stderr",
     "output_type": "stream",
     "text": [
      "2022-10-19 19:49:58.305338: I tensorflow/core/profiler/lib/profiler_session.cc:66] Profiler session collecting data.\n",
      "2022-10-19 19:49:58.305662: I tensorflow/core/profiler/internal/gpu/cupti_tracer.cc:1748] CUPTI activity buffer flushed\n",
      "2022-10-19 19:49:58.366894: I tensorflow/core/profiler/internal/gpu/cupti_collector.cc:673]  GpuTracer has collected 5871 callback api events and 5868 activity events. \n",
      "2022-10-19 19:49:58.449516: I tensorflow/core/profiler/lib/profiler_session.cc:164] Profiler session tear down.\n",
      "2022-10-19 19:49:58.550234: I tensorflow/core/profiler/rpc/client/save_profile.cc:136] Creating directory: models/bagging/rnn_with_feature1/logs/train/plugins/profile/2022_10_19_19_49_58\n",
      "\n",
      "2022-10-19 19:49:58.624616: I tensorflow/core/profiler/rpc/client/save_profile.cc:142] Dumped gzipped tool data for trace.json.gz to models/bagging/rnn_with_feature1/logs/train/plugins/profile/2022_10_19_19_49_58/dell-Precision-7920-Tower.trace.json.gz\n",
      "2022-10-19 19:49:58.686585: I tensorflow/core/profiler/rpc/client/save_profile.cc:136] Creating directory: models/bagging/rnn_with_feature1/logs/train/plugins/profile/2022_10_19_19_49_58\n",
      "\n",
      "2022-10-19 19:49:58.690360: I tensorflow/core/profiler/rpc/client/save_profile.cc:142] Dumped gzipped tool data for memory_profile.json.gz to models/bagging/rnn_with_feature1/logs/train/plugins/profile/2022_10_19_19_49_58/dell-Precision-7920-Tower.memory_profile.json.gz\n",
      "2022-10-19 19:49:58.691852: I tensorflow/core/profiler/rpc/client/capture_profile.cc:251] Creating directory: models/bagging/rnn_with_feature1/logs/train/plugins/profile/2022_10_19_19_49_58\n",
      "Dumped tool data for xplane.pb to models/bagging/rnn_with_feature1/logs/train/plugins/profile/2022_10_19_19_49_58/dell-Precision-7920-Tower.xplane.pb\n",
      "Dumped tool data for overview_page.pb to models/bagging/rnn_with_feature1/logs/train/plugins/profile/2022_10_19_19_49_58/dell-Precision-7920-Tower.overview_page.pb\n",
      "Dumped tool data for input_pipeline.pb to models/bagging/rnn_with_feature1/logs/train/plugins/profile/2022_10_19_19_49_58/dell-Precision-7920-Tower.input_pipeline.pb\n",
      "Dumped tool data for tensorflow_stats.pb to models/bagging/rnn_with_feature1/logs/train/plugins/profile/2022_10_19_19_49_58/dell-Precision-7920-Tower.tensorflow_stats.pb\n",
      "Dumped tool data for kernel_stats.pb to models/bagging/rnn_with_feature1/logs/train/plugins/profile/2022_10_19_19_49_58/dell-Precision-7920-Tower.kernel_stats.pb\n",
      "\n"
     ]
    },
    {
     "name": "stdout",
     "output_type": "stream",
     "text": [
      "860/860 [==============================] - 96s 102ms/step - loss: 1.9624 - acc: 0.3650 - val_loss: 1.5838 - val_acc: 0.5352\n"
     ]
    },
    {
     "name": "stderr",
     "output_type": "stream",
     "text": [
      "2022-10-19 19:51:31.163206: W tensorflow/python/util/util.cc:348] Sets are not currently considered sequences, but this may change in the future, so consider avoiding using them.\n",
      "WARNING:absl:Found untraced functions such as gru_cell_1_layer_call_and_return_conditional_losses, gru_cell_1_layer_call_fn, gru_cell_2_layer_call_and_return_conditional_losses, gru_cell_2_layer_call_fn, gru_cell_4_layer_call_and_return_conditional_losses while saving (showing 5 of 20). These functions will not be directly callable after loading.\n"
     ]
    },
    {
     "name": "stdout",
     "output_type": "stream",
     "text": [
      "INFO:tensorflow:Assets written to: models/bagging/rnn_with_feature1/model_1/assets\n"
     ]
    },
    {
     "name": "stderr",
     "output_type": "stream",
     "text": [
      "INFO:tensorflow:Assets written to: models/bagging/rnn_with_feature1/model_1/assets\n"
     ]
    },
    {
     "name": "stdout",
     "output_type": "stream",
     "text": [
      "Epoch 2/10\n",
      "860/860 [==============================] - 84s 98ms/step - loss: 1.2695 - acc: 0.7002 - val_loss: 1.0952 - val_acc: 0.8158\n"
     ]
    },
    {
     "name": "stderr",
     "output_type": "stream",
     "text": [
      "WARNING:absl:Found untraced functions such as gru_cell_1_layer_call_and_return_conditional_losses, gru_cell_1_layer_call_fn, gru_cell_2_layer_call_and_return_conditional_losses, gru_cell_2_layer_call_fn, gru_cell_4_layer_call_and_return_conditional_losses while saving (showing 5 of 20). These functions will not be directly callable after loading.\n"
     ]
    },
    {
     "name": "stdout",
     "output_type": "stream",
     "text": [
      "INFO:tensorflow:Assets written to: models/bagging/rnn_with_feature1/model_2/assets\n"
     ]
    },
    {
     "name": "stderr",
     "output_type": "stream",
     "text": [
      "INFO:tensorflow:Assets written to: models/bagging/rnn_with_feature1/model_2/assets\n"
     ]
    },
    {
     "name": "stdout",
     "output_type": "stream",
     "text": [
      "Epoch 3/10\n",
      "860/860 [==============================] - 84s 98ms/step - loss: 1.0410 - acc: 0.8116 - val_loss: 0.9962 - val_acc: 0.8353\n"
     ]
    },
    {
     "name": "stderr",
     "output_type": "stream",
     "text": [
      "WARNING:absl:Found untraced functions such as gru_cell_1_layer_call_and_return_conditional_losses, gru_cell_1_layer_call_fn, gru_cell_2_layer_call_and_return_conditional_losses, gru_cell_2_layer_call_fn, gru_cell_4_layer_call_and_return_conditional_losses while saving (showing 5 of 20). These functions will not be directly callable after loading.\n"
     ]
    },
    {
     "name": "stdout",
     "output_type": "stream",
     "text": [
      "INFO:tensorflow:Assets written to: models/bagging/rnn_with_feature1/model_3/assets\n"
     ]
    },
    {
     "name": "stderr",
     "output_type": "stream",
     "text": [
      "INFO:tensorflow:Assets written to: models/bagging/rnn_with_feature1/model_3/assets\n"
     ]
    },
    {
     "name": "stdout",
     "output_type": "stream",
     "text": [
      "Epoch 4/10\n",
      "860/860 [==============================] - 84s 98ms/step - loss: 0.9612 - acc: 0.8461 - val_loss: 0.9716 - val_acc: 0.8472\n"
     ]
    },
    {
     "name": "stderr",
     "output_type": "stream",
     "text": [
      "WARNING:absl:Found untraced functions such as gru_cell_1_layer_call_and_return_conditional_losses, gru_cell_1_layer_call_fn, gru_cell_2_layer_call_and_return_conditional_losses, gru_cell_2_layer_call_fn, gru_cell_4_layer_call_and_return_conditional_losses while saving (showing 5 of 20). These functions will not be directly callable after loading.\n"
     ]
    },
    {
     "name": "stdout",
     "output_type": "stream",
     "text": [
      "INFO:tensorflow:Assets written to: models/bagging/rnn_with_feature1/model_4/assets\n"
     ]
    },
    {
     "name": "stderr",
     "output_type": "stream",
     "text": [
      "INFO:tensorflow:Assets written to: models/bagging/rnn_with_feature1/model_4/assets\n"
     ]
    },
    {
     "name": "stdout",
     "output_type": "stream",
     "text": [
      "Epoch 5/10\n",
      "860/860 [==============================] - 84s 98ms/step - loss: 0.9156 - acc: 0.8660 - val_loss: 0.9629 - val_acc: 0.8318\n"
     ]
    },
    {
     "name": "stderr",
     "output_type": "stream",
     "text": [
      "WARNING:absl:Found untraced functions such as gru_cell_1_layer_call_and_return_conditional_losses, gru_cell_1_layer_call_fn, gru_cell_2_layer_call_and_return_conditional_losses, gru_cell_2_layer_call_fn, gru_cell_4_layer_call_and_return_conditional_losses while saving (showing 5 of 20). These functions will not be directly callable after loading.\n"
     ]
    },
    {
     "name": "stdout",
     "output_type": "stream",
     "text": [
      "INFO:tensorflow:Assets written to: models/bagging/rnn_with_feature1/model_5/assets\n"
     ]
    },
    {
     "name": "stderr",
     "output_type": "stream",
     "text": [
      "INFO:tensorflow:Assets written to: models/bagging/rnn_with_feature1/model_5/assets\n"
     ]
    },
    {
     "name": "stdout",
     "output_type": "stream",
     "text": [
      "Epoch 6/10\n",
      "860/860 [==============================] - 84s 98ms/step - loss: 0.8912 - acc: 0.8757 - val_loss: 0.9696 - val_acc: 0.8359\n"
     ]
    },
    {
     "name": "stderr",
     "output_type": "stream",
     "text": [
      "WARNING:absl:Found untraced functions such as gru_cell_1_layer_call_and_return_conditional_losses, gru_cell_1_layer_call_fn, gru_cell_2_layer_call_and_return_conditional_losses, gru_cell_2_layer_call_fn, gru_cell_4_layer_call_and_return_conditional_losses while saving (showing 5 of 20). These functions will not be directly callable after loading.\n"
     ]
    },
    {
     "name": "stdout",
     "output_type": "stream",
     "text": [
      "INFO:tensorflow:Assets written to: models/bagging/rnn_with_feature1/model_6/assets\n"
     ]
    },
    {
     "name": "stderr",
     "output_type": "stream",
     "text": [
      "INFO:tensorflow:Assets written to: models/bagging/rnn_with_feature1/model_6/assets\n"
     ]
    },
    {
     "name": "stdout",
     "output_type": "stream",
     "text": [
      "Epoch 7/10\n",
      "860/860 [==============================] - 84s 98ms/step - loss: 0.8588 - acc: 0.8876 - val_loss: 0.9457 - val_acc: 0.8441\n"
     ]
    },
    {
     "name": "stderr",
     "output_type": "stream",
     "text": [
      "WARNING:absl:Found untraced functions such as gru_cell_1_layer_call_and_return_conditional_losses, gru_cell_1_layer_call_fn, gru_cell_2_layer_call_and_return_conditional_losses, gru_cell_2_layer_call_fn, gru_cell_4_layer_call_and_return_conditional_losses while saving (showing 5 of 20). These functions will not be directly callable after loading.\n"
     ]
    },
    {
     "name": "stdout",
     "output_type": "stream",
     "text": [
      "INFO:tensorflow:Assets written to: models/bagging/rnn_with_feature1/model_7/assets\n"
     ]
    },
    {
     "name": "stderr",
     "output_type": "stream",
     "text": [
      "INFO:tensorflow:Assets written to: models/bagging/rnn_with_feature1/model_7/assets\n"
     ]
    },
    {
     "name": "stdout",
     "output_type": "stream",
     "text": [
      "Epoch 8/10\n",
      "860/860 [==============================] - 84s 97ms/step - loss: 0.8383 - acc: 0.8944 - val_loss: 0.9409 - val_acc: 0.8332\n"
     ]
    },
    {
     "name": "stderr",
     "output_type": "stream",
     "text": [
      "WARNING:absl:Found untraced functions such as gru_cell_1_layer_call_and_return_conditional_losses, gru_cell_1_layer_call_fn, gru_cell_2_layer_call_and_return_conditional_losses, gru_cell_2_layer_call_fn, gru_cell_4_layer_call_and_return_conditional_losses while saving (showing 5 of 20). These functions will not be directly callable after loading.\n"
     ]
    },
    {
     "name": "stdout",
     "output_type": "stream",
     "text": [
      "INFO:tensorflow:Assets written to: models/bagging/rnn_with_feature1/model_8/assets\n"
     ]
    },
    {
     "name": "stderr",
     "output_type": "stream",
     "text": [
      "INFO:tensorflow:Assets written to: models/bagging/rnn_with_feature1/model_8/assets\n"
     ]
    },
    {
     "name": "stdout",
     "output_type": "stream",
     "text": [
      "Epoch 9/10\n",
      "860/860 [==============================] - 84s 98ms/step - loss: 0.8232 - acc: 0.8985 - val_loss: 1.0013 - val_acc: 0.8110\n"
     ]
    },
    {
     "name": "stderr",
     "output_type": "stream",
     "text": [
      "WARNING:absl:Found untraced functions such as gru_cell_1_layer_call_and_return_conditional_losses, gru_cell_1_layer_call_fn, gru_cell_2_layer_call_and_return_conditional_losses, gru_cell_2_layer_call_fn, gru_cell_4_layer_call_and_return_conditional_losses while saving (showing 5 of 20). These functions will not be directly callable after loading.\n"
     ]
    },
    {
     "name": "stdout",
     "output_type": "stream",
     "text": [
      "INFO:tensorflow:Assets written to: models/bagging/rnn_with_feature1/model_9/assets\n"
     ]
    },
    {
     "name": "stderr",
     "output_type": "stream",
     "text": [
      "INFO:tensorflow:Assets written to: models/bagging/rnn_with_feature1/model_9/assets\n"
     ]
    },
    {
     "name": "stdout",
     "output_type": "stream",
     "text": [
      "Epoch 10/10\n",
      "860/860 [==============================] - 84s 98ms/step - loss: 0.8114 - acc: 0.9034 - val_loss: 1.0033 - val_acc: 0.8263\n"
     ]
    },
    {
     "name": "stderr",
     "output_type": "stream",
     "text": [
      "WARNING:absl:Found untraced functions such as gru_cell_1_layer_call_and_return_conditional_losses, gru_cell_1_layer_call_fn, gru_cell_2_layer_call_and_return_conditional_losses, gru_cell_2_layer_call_fn, gru_cell_4_layer_call_and_return_conditional_losses while saving (showing 5 of 20). These functions will not be directly callable after loading.\n"
     ]
    },
    {
     "name": "stdout",
     "output_type": "stream",
     "text": [
      "INFO:tensorflow:Assets written to: models/bagging/rnn_with_feature1/model_10/assets\n"
     ]
    },
    {
     "name": "stderr",
     "output_type": "stream",
     "text": [
      "INFO:tensorflow:Assets written to: models/bagging/rnn_with_feature1/model_10/assets\n",
      "2022-10-19 20:06:40.941437: I tensorflow/core/profiler/lib/profiler_session.cc:131] Profiler session initializing.\n",
      "2022-10-19 20:06:40.941482: I tensorflow/core/profiler/lib/profiler_session.cc:146] Profiler session started.\n",
      "2022-10-19 20:06:41.738939: I tensorflow/core/profiler/lib/profiler_session.cc:164] Profiler session tear down.\n",
      "2022-10-19 20:06:41.739136: I tensorflow/core/profiler/internal/gpu/cupti_tracer.cc:1748] CUPTI activity buffer flushed\n"
     ]
    },
    {
     "name": "stdout",
     "output_type": "stream",
     "text": [
      "Epoch 1/10\n",
      "  1/860 [..............................] - ETA: 2:15:59 - loss: 4.3840 - acc: 0.1875"
     ]
    },
    {
     "name": "stderr",
     "output_type": "stream",
     "text": [
      "2022-10-19 20:06:51.661391: I tensorflow/core/profiler/lib/profiler_session.cc:131] Profiler session initializing.\n",
      "2022-10-19 20:06:51.661428: I tensorflow/core/profiler/lib/profiler_session.cc:146] Profiler session started.\n"
     ]
    },
    {
     "name": "stdout",
     "output_type": "stream",
     "text": [
      "  2/860 [..............................] - ETA: 12:27 - loss: 4.9667 - acc: 0.1875  "
     ]
    },
    {
     "name": "stderr",
     "output_type": "stream",
     "text": [
      "2022-10-19 20:06:52.481751: I tensorflow/core/profiler/lib/profiler_session.cc:66] Profiler session collecting data.\n",
      "2022-10-19 20:06:52.482290: I tensorflow/core/profiler/internal/gpu/cupti_tracer.cc:1748] CUPTI activity buffer flushed\n",
      "2022-10-19 20:06:52.530443: I tensorflow/core/profiler/internal/gpu/cupti_collector.cc:673]  GpuTracer has collected 5833 callback api events and 5830 activity events. \n",
      "2022-10-19 20:06:52.616196: I tensorflow/core/profiler/lib/profiler_session.cc:164] Profiler session tear down.\n",
      "2022-10-19 20:06:52.720551: I tensorflow/core/profiler/rpc/client/save_profile.cc:136] Creating directory: models/bagging/rnn_with_feature2/logs/train/plugins/profile/2022_10_19_20_06_52\n",
      "\n",
      "2022-10-19 20:06:52.796412: I tensorflow/core/profiler/rpc/client/save_profile.cc:142] Dumped gzipped tool data for trace.json.gz to models/bagging/rnn_with_feature2/logs/train/plugins/profile/2022_10_19_20_06_52/dell-Precision-7920-Tower.trace.json.gz\n",
      "2022-10-19 20:06:52.861007: I tensorflow/core/profiler/rpc/client/save_profile.cc:136] Creating directory: models/bagging/rnn_with_feature2/logs/train/plugins/profile/2022_10_19_20_06_52\n",
      "\n",
      "2022-10-19 20:06:52.865030: I tensorflow/core/profiler/rpc/client/save_profile.cc:142] Dumped gzipped tool data for memory_profile.json.gz to models/bagging/rnn_with_feature2/logs/train/plugins/profile/2022_10_19_20_06_52/dell-Precision-7920-Tower.memory_profile.json.gz\n",
      "2022-10-19 20:06:52.866745: I tensorflow/core/profiler/rpc/client/capture_profile.cc:251] Creating directory: models/bagging/rnn_with_feature2/logs/train/plugins/profile/2022_10_19_20_06_52\n",
      "Dumped tool data for xplane.pb to models/bagging/rnn_with_feature2/logs/train/plugins/profile/2022_10_19_20_06_52/dell-Precision-7920-Tower.xplane.pb\n",
      "Dumped tool data for overview_page.pb to models/bagging/rnn_with_feature2/logs/train/plugins/profile/2022_10_19_20_06_52/dell-Precision-7920-Tower.overview_page.pb\n",
      "Dumped tool data for input_pipeline.pb to models/bagging/rnn_with_feature2/logs/train/plugins/profile/2022_10_19_20_06_52/dell-Precision-7920-Tower.input_pipeline.pb\n",
      "Dumped tool data for tensorflow_stats.pb to models/bagging/rnn_with_feature2/logs/train/plugins/profile/2022_10_19_20_06_52/dell-Precision-7920-Tower.tensorflow_stats.pb\n",
      "Dumped tool data for kernel_stats.pb to models/bagging/rnn_with_feature2/logs/train/plugins/profile/2022_10_19_20_06_52/dell-Precision-7920-Tower.kernel_stats.pb\n",
      "\n"
     ]
    },
    {
     "name": "stdout",
     "output_type": "stream",
     "text": [
      "860/860 [==============================] - 97s 102ms/step - loss: 1.7695 - acc: 0.4577 - val_loss: 1.2595 - val_acc: 0.7239\n"
     ]
    },
    {
     "name": "stderr",
     "output_type": "stream",
     "text": [
      "WARNING:absl:Found untraced functions such as gru_cell_7_layer_call_and_return_conditional_losses, gru_cell_7_layer_call_fn, gru_cell_8_layer_call_and_return_conditional_losses, gru_cell_8_layer_call_fn, gru_cell_10_layer_call_and_return_conditional_losses while saving (showing 5 of 20). These functions will not be directly callable after loading.\n"
     ]
    },
    {
     "name": "stdout",
     "output_type": "stream",
     "text": [
      "INFO:tensorflow:Assets written to: models/bagging/rnn_with_feature2/model_1/assets\n"
     ]
    },
    {
     "name": "stderr",
     "output_type": "stream",
     "text": [
      "INFO:tensorflow:Assets written to: models/bagging/rnn_with_feature2/model_1/assets\n"
     ]
    },
    {
     "name": "stdout",
     "output_type": "stream",
     "text": [
      "Epoch 2/10\n",
      "860/860 [==============================] - 84s 98ms/step - loss: 1.2011 - acc: 0.7431 - val_loss: 1.0994 - val_acc: 0.8190\n"
     ]
    },
    {
     "name": "stderr",
     "output_type": "stream",
     "text": [
      "WARNING:absl:Found untraced functions such as gru_cell_7_layer_call_and_return_conditional_losses, gru_cell_7_layer_call_fn, gru_cell_8_layer_call_and_return_conditional_losses, gru_cell_8_layer_call_fn, gru_cell_10_layer_call_and_return_conditional_losses while saving (showing 5 of 20). These functions will not be directly callable after loading.\n"
     ]
    },
    {
     "name": "stdout",
     "output_type": "stream",
     "text": [
      "INFO:tensorflow:Assets written to: models/bagging/rnn_with_feature2/model_2/assets\n"
     ]
    },
    {
     "name": "stderr",
     "output_type": "stream",
     "text": [
      "INFO:tensorflow:Assets written to: models/bagging/rnn_with_feature2/model_2/assets\n"
     ]
    },
    {
     "name": "stdout",
     "output_type": "stream",
     "text": [
      "Epoch 3/10\n",
      "860/860 [==============================] - 84s 98ms/step - loss: 1.0592 - acc: 0.8085 - val_loss: 1.0436 - val_acc: 0.8217\n"
     ]
    },
    {
     "name": "stderr",
     "output_type": "stream",
     "text": [
      "WARNING:absl:Found untraced functions such as gru_cell_7_layer_call_and_return_conditional_losses, gru_cell_7_layer_call_fn, gru_cell_8_layer_call_and_return_conditional_losses, gru_cell_8_layer_call_fn, gru_cell_10_layer_call_and_return_conditional_losses while saving (showing 5 of 20). These functions will not be directly callable after loading.\n"
     ]
    },
    {
     "name": "stdout",
     "output_type": "stream",
     "text": [
      "INFO:tensorflow:Assets written to: models/bagging/rnn_with_feature2/model_3/assets\n"
     ]
    },
    {
     "name": "stderr",
     "output_type": "stream",
     "text": [
      "INFO:tensorflow:Assets written to: models/bagging/rnn_with_feature2/model_3/assets\n"
     ]
    },
    {
     "name": "stdout",
     "output_type": "stream",
     "text": [
      "Epoch 4/10\n",
      "860/860 [==============================] - 84s 98ms/step - loss: 0.9829 - acc: 0.8421 - val_loss: 0.9981 - val_acc: 0.8268\n"
     ]
    },
    {
     "name": "stderr",
     "output_type": "stream",
     "text": [
      "WARNING:absl:Found untraced functions such as gru_cell_7_layer_call_and_return_conditional_losses, gru_cell_7_layer_call_fn, gru_cell_8_layer_call_and_return_conditional_losses, gru_cell_8_layer_call_fn, gru_cell_10_layer_call_and_return_conditional_losses while saving (showing 5 of 20). These functions will not be directly callable after loading.\n"
     ]
    },
    {
     "name": "stdout",
     "output_type": "stream",
     "text": [
      "INFO:tensorflow:Assets written to: models/bagging/rnn_with_feature2/model_4/assets\n"
     ]
    },
    {
     "name": "stderr",
     "output_type": "stream",
     "text": [
      "INFO:tensorflow:Assets written to: models/bagging/rnn_with_feature2/model_4/assets\n"
     ]
    },
    {
     "name": "stdout",
     "output_type": "stream",
     "text": [
      "Epoch 5/10\n",
      "860/860 [==============================] - 84s 98ms/step - loss: 0.9306 - acc: 0.8625 - val_loss: 0.9808 - val_acc: 0.8428\n"
     ]
    },
    {
     "name": "stderr",
     "output_type": "stream",
     "text": [
      "WARNING:absl:Found untraced functions such as gru_cell_7_layer_call_and_return_conditional_losses, gru_cell_7_layer_call_fn, gru_cell_8_layer_call_and_return_conditional_losses, gru_cell_8_layer_call_fn, gru_cell_10_layer_call_and_return_conditional_losses while saving (showing 5 of 20). These functions will not be directly callable after loading.\n"
     ]
    },
    {
     "name": "stdout",
     "output_type": "stream",
     "text": [
      "INFO:tensorflow:Assets written to: models/bagging/rnn_with_feature2/model_5/assets\n"
     ]
    },
    {
     "name": "stderr",
     "output_type": "stream",
     "text": [
      "INFO:tensorflow:Assets written to: models/bagging/rnn_with_feature2/model_5/assets\n"
     ]
    },
    {
     "name": "stdout",
     "output_type": "stream",
     "text": [
      "Epoch 6/10\n",
      "860/860 [==============================] - 84s 97ms/step - loss: 0.8963 - acc: 0.8737 - val_loss: 0.9788 - val_acc: 0.8194\n"
     ]
    },
    {
     "name": "stderr",
     "output_type": "stream",
     "text": [
      "WARNING:absl:Found untraced functions such as gru_cell_7_layer_call_and_return_conditional_losses, gru_cell_7_layer_call_fn, gru_cell_8_layer_call_and_return_conditional_losses, gru_cell_8_layer_call_fn, gru_cell_10_layer_call_and_return_conditional_losses while saving (showing 5 of 20). These functions will not be directly callable after loading.\n"
     ]
    },
    {
     "name": "stdout",
     "output_type": "stream",
     "text": [
      "INFO:tensorflow:Assets written to: models/bagging/rnn_with_feature2/model_6/assets\n"
     ]
    },
    {
     "name": "stderr",
     "output_type": "stream",
     "text": [
      "INFO:tensorflow:Assets written to: models/bagging/rnn_with_feature2/model_6/assets\n"
     ]
    },
    {
     "name": "stdout",
     "output_type": "stream",
     "text": [
      "Epoch 7/10\n",
      "860/860 [==============================] - 84s 98ms/step - loss: 0.8654 - acc: 0.8840 - val_loss: 0.9721 - val_acc: 0.8209\n"
     ]
    },
    {
     "name": "stderr",
     "output_type": "stream",
     "text": [
      "WARNING:absl:Found untraced functions such as gru_cell_7_layer_call_and_return_conditional_losses, gru_cell_7_layer_call_fn, gru_cell_8_layer_call_and_return_conditional_losses, gru_cell_8_layer_call_fn, gru_cell_10_layer_call_and_return_conditional_losses while saving (showing 5 of 20). These functions will not be directly callable after loading.\n"
     ]
    },
    {
     "name": "stdout",
     "output_type": "stream",
     "text": [
      "INFO:tensorflow:Assets written to: models/bagging/rnn_with_feature2/model_7/assets\n"
     ]
    },
    {
     "name": "stderr",
     "output_type": "stream",
     "text": [
      "INFO:tensorflow:Assets written to: models/bagging/rnn_with_feature2/model_7/assets\n"
     ]
    },
    {
     "name": "stdout",
     "output_type": "stream",
     "text": [
      "Epoch 8/10\n",
      "860/860 [==============================] - 84s 97ms/step - loss: 0.8437 - acc: 0.8908 - val_loss: 0.9730 - val_acc: 0.8346\n"
     ]
    },
    {
     "name": "stderr",
     "output_type": "stream",
     "text": [
      "WARNING:absl:Found untraced functions such as gru_cell_7_layer_call_and_return_conditional_losses, gru_cell_7_layer_call_fn, gru_cell_8_layer_call_and_return_conditional_losses, gru_cell_8_layer_call_fn, gru_cell_10_layer_call_and_return_conditional_losses while saving (showing 5 of 20). These functions will not be directly callable after loading.\n"
     ]
    },
    {
     "name": "stdout",
     "output_type": "stream",
     "text": [
      "INFO:tensorflow:Assets written to: models/bagging/rnn_with_feature2/model_8/assets\n"
     ]
    },
    {
     "name": "stderr",
     "output_type": "stream",
     "text": [
      "INFO:tensorflow:Assets written to: models/bagging/rnn_with_feature2/model_8/assets\n"
     ]
    },
    {
     "name": "stdout",
     "output_type": "stream",
     "text": [
      "Epoch 9/10\n",
      "860/860 [==============================] - 84s 98ms/step - loss: 0.8251 - acc: 0.8987 - val_loss: 1.0176 - val_acc: 0.8111\n"
     ]
    },
    {
     "name": "stderr",
     "output_type": "stream",
     "text": [
      "WARNING:absl:Found untraced functions such as gru_cell_7_layer_call_and_return_conditional_losses, gru_cell_7_layer_call_fn, gru_cell_8_layer_call_and_return_conditional_losses, gru_cell_8_layer_call_fn, gru_cell_10_layer_call_and_return_conditional_losses while saving (showing 5 of 20). These functions will not be directly callable after loading.\n"
     ]
    },
    {
     "name": "stdout",
     "output_type": "stream",
     "text": [
      "INFO:tensorflow:Assets written to: models/bagging/rnn_with_feature2/model_9/assets\n"
     ]
    },
    {
     "name": "stderr",
     "output_type": "stream",
     "text": [
      "INFO:tensorflow:Assets written to: models/bagging/rnn_with_feature2/model_9/assets\n"
     ]
    },
    {
     "name": "stdout",
     "output_type": "stream",
     "text": [
      "Epoch 10/10\n",
      "860/860 [==============================] - 84s 98ms/step - loss: 0.8137 - acc: 0.9020 - val_loss: 0.9596 - val_acc: 0.8344\n"
     ]
    },
    {
     "name": "stderr",
     "output_type": "stream",
     "text": [
      "WARNING:absl:Found untraced functions such as gru_cell_7_layer_call_and_return_conditional_losses, gru_cell_7_layer_call_fn, gru_cell_8_layer_call_and_return_conditional_losses, gru_cell_8_layer_call_fn, gru_cell_10_layer_call_and_return_conditional_losses while saving (showing 5 of 20). These functions will not be directly callable after loading.\n"
     ]
    },
    {
     "name": "stdout",
     "output_type": "stream",
     "text": [
      "INFO:tensorflow:Assets written to: models/bagging/rnn_with_feature2/model_10/assets\n"
     ]
    },
    {
     "name": "stderr",
     "output_type": "stream",
     "text": [
      "INFO:tensorflow:Assets written to: models/bagging/rnn_with_feature2/model_10/assets\n",
      "2022-10-19 20:23:35.790505: I tensorflow/core/profiler/lib/profiler_session.cc:131] Profiler session initializing.\n",
      "2022-10-19 20:23:35.790538: I tensorflow/core/profiler/lib/profiler_session.cc:146] Profiler session started.\n",
      "2022-10-19 20:23:36.512659: I tensorflow/core/profiler/lib/profiler_session.cc:164] Profiler session tear down.\n",
      "2022-10-19 20:23:36.512829: I tensorflow/core/profiler/internal/gpu/cupti_tracer.cc:1748] CUPTI activity buffer flushed\n"
     ]
    },
    {
     "name": "stdout",
     "output_type": "stream",
     "text": [
      "Epoch 1/10\n",
      "  1/860 [..............................] - ETA: 2:15:50 - loss: 11.7243 - acc: 0.0625"
     ]
    },
    {
     "name": "stderr",
     "output_type": "stream",
     "text": [
      "2022-10-19 20:23:46.410042: I tensorflow/core/profiler/lib/profiler_session.cc:131] Profiler session initializing.\n",
      "2022-10-19 20:23:46.410080: I tensorflow/core/profiler/lib/profiler_session.cc:146] Profiler session started.\n"
     ]
    },
    {
     "name": "stdout",
     "output_type": "stream",
     "text": [
      "  2/860 [..............................] - ETA: 9:39 - loss: 11.0470 - acc: 0.0625   "
     ]
    },
    {
     "name": "stderr",
     "output_type": "stream",
     "text": [
      "2022-10-19 20:23:47.054490: I tensorflow/core/profiler/lib/profiler_session.cc:66] Profiler session collecting data.\n",
      "2022-10-19 20:23:47.055601: I tensorflow/core/profiler/internal/gpu/cupti_tracer.cc:1748] CUPTI activity buffer flushed\n",
      "2022-10-19 20:23:47.115357: I tensorflow/core/profiler/internal/gpu/cupti_collector.cc:673]  GpuTracer has collected 6035 callback api events and 6032 activity events. \n",
      "2022-10-19 20:23:47.219709: I tensorflow/core/profiler/lib/profiler_session.cc:164] Profiler session tear down.\n",
      "2022-10-19 20:23:47.333211: I tensorflow/core/profiler/rpc/client/save_profile.cc:136] Creating directory: models/bagging/rnn_with_feature3/logs/train/plugins/profile/2022_10_19_20_23_47\n",
      "\n",
      "2022-10-19 20:23:47.408654: I tensorflow/core/profiler/rpc/client/save_profile.cc:142] Dumped gzipped tool data for trace.json.gz to models/bagging/rnn_with_feature3/logs/train/plugins/profile/2022_10_19_20_23_47/dell-Precision-7920-Tower.trace.json.gz\n",
      "2022-10-19 20:23:47.479739: I tensorflow/core/profiler/rpc/client/save_profile.cc:136] Creating directory: models/bagging/rnn_with_feature3/logs/train/plugins/profile/2022_10_19_20_23_47\n",
      "\n",
      "2022-10-19 20:23:47.483804: I tensorflow/core/profiler/rpc/client/save_profile.cc:142] Dumped gzipped tool data for memory_profile.json.gz to models/bagging/rnn_with_feature3/logs/train/plugins/profile/2022_10_19_20_23_47/dell-Precision-7920-Tower.memory_profile.json.gz\n",
      "2022-10-19 20:23:47.485427: I tensorflow/core/profiler/rpc/client/capture_profile.cc:251] Creating directory: models/bagging/rnn_with_feature3/logs/train/plugins/profile/2022_10_19_20_23_47\n",
      "Dumped tool data for xplane.pb to models/bagging/rnn_with_feature3/logs/train/plugins/profile/2022_10_19_20_23_47/dell-Precision-7920-Tower.xplane.pb\n",
      "Dumped tool data for overview_page.pb to models/bagging/rnn_with_feature3/logs/train/plugins/profile/2022_10_19_20_23_47/dell-Precision-7920-Tower.overview_page.pb\n",
      "Dumped tool data for input_pipeline.pb to models/bagging/rnn_with_feature3/logs/train/plugins/profile/2022_10_19_20_23_47/dell-Precision-7920-Tower.input_pipeline.pb\n",
      "Dumped tool data for tensorflow_stats.pb to models/bagging/rnn_with_feature3/logs/train/plugins/profile/2022_10_19_20_23_47/dell-Precision-7920-Tower.tensorflow_stats.pb\n",
      "Dumped tool data for kernel_stats.pb to models/bagging/rnn_with_feature3/logs/train/plugins/profile/2022_10_19_20_23_47/dell-Precision-7920-Tower.kernel_stats.pb\n",
      "\n"
     ]
    },
    {
     "name": "stdout",
     "output_type": "stream",
     "text": [
      "860/860 [==============================] - 92s 96ms/step - loss: 1.8739 - acc: 0.4349 - val_loss: 1.2924 - val_acc: 0.6896\n"
     ]
    },
    {
     "name": "stderr",
     "output_type": "stream",
     "text": [
      "WARNING:absl:Found untraced functions such as gru_cell_13_layer_call_and_return_conditional_losses, gru_cell_13_layer_call_fn, gru_cell_14_layer_call_and_return_conditional_losses, gru_cell_14_layer_call_fn, gru_cell_16_layer_call_and_return_conditional_losses while saving (showing 5 of 20). These functions will not be directly callable after loading.\n"
     ]
    },
    {
     "name": "stdout",
     "output_type": "stream",
     "text": [
      "INFO:tensorflow:Assets written to: models/bagging/rnn_with_feature3/model_1/assets\n"
     ]
    },
    {
     "name": "stderr",
     "output_type": "stream",
     "text": [
      "INFO:tensorflow:Assets written to: models/bagging/rnn_with_feature3/model_1/assets\n"
     ]
    },
    {
     "name": "stdout",
     "output_type": "stream",
     "text": [
      "Epoch 2/10\n",
      "860/860 [==============================] - 78s 91ms/step - loss: 1.1631 - acc: 0.7495 - val_loss: 1.1173 - val_acc: 0.7814\n"
     ]
    },
    {
     "name": "stderr",
     "output_type": "stream",
     "text": [
      "WARNING:absl:Found untraced functions such as gru_cell_13_layer_call_and_return_conditional_losses, gru_cell_13_layer_call_fn, gru_cell_14_layer_call_and_return_conditional_losses, gru_cell_14_layer_call_fn, gru_cell_16_layer_call_and_return_conditional_losses while saving (showing 5 of 20). These functions will not be directly callable after loading.\n"
     ]
    },
    {
     "name": "stdout",
     "output_type": "stream",
     "text": [
      "INFO:tensorflow:Assets written to: models/bagging/rnn_with_feature3/model_2/assets\n"
     ]
    },
    {
     "name": "stderr",
     "output_type": "stream",
     "text": [
      "INFO:tensorflow:Assets written to: models/bagging/rnn_with_feature3/model_2/assets\n"
     ]
    },
    {
     "name": "stdout",
     "output_type": "stream",
     "text": [
      "Epoch 3/10\n",
      "860/860 [==============================] - 80s 93ms/step - loss: 1.0278 - acc: 0.8203 - val_loss: 0.9910 - val_acc: 0.8429\n"
     ]
    },
    {
     "name": "stderr",
     "output_type": "stream",
     "text": [
      "WARNING:absl:Found untraced functions such as gru_cell_13_layer_call_and_return_conditional_losses, gru_cell_13_layer_call_fn, gru_cell_14_layer_call_and_return_conditional_losses, gru_cell_14_layer_call_fn, gru_cell_16_layer_call_and_return_conditional_losses while saving (showing 5 of 20). These functions will not be directly callable after loading.\n"
     ]
    },
    {
     "name": "stdout",
     "output_type": "stream",
     "text": [
      "INFO:tensorflow:Assets written to: models/bagging/rnn_with_feature3/model_3/assets\n"
     ]
    },
    {
     "name": "stderr",
     "output_type": "stream",
     "text": [
      "INFO:tensorflow:Assets written to: models/bagging/rnn_with_feature3/model_3/assets\n"
     ]
    },
    {
     "name": "stdout",
     "output_type": "stream",
     "text": [
      "Epoch 4/10\n",
      "860/860 [==============================] - 78s 91ms/step - loss: 0.9629 - acc: 0.8496 - val_loss: 0.9694 - val_acc: 0.8507\n"
     ]
    },
    {
     "name": "stderr",
     "output_type": "stream",
     "text": [
      "WARNING:absl:Found untraced functions such as gru_cell_13_layer_call_and_return_conditional_losses, gru_cell_13_layer_call_fn, gru_cell_14_layer_call_and_return_conditional_losses, gru_cell_14_layer_call_fn, gru_cell_16_layer_call_and_return_conditional_losses while saving (showing 5 of 20). These functions will not be directly callable after loading.\n"
     ]
    },
    {
     "name": "stdout",
     "output_type": "stream",
     "text": [
      "INFO:tensorflow:Assets written to: models/bagging/rnn_with_feature3/model_4/assets\n"
     ]
    },
    {
     "name": "stderr",
     "output_type": "stream",
     "text": [
      "INFO:tensorflow:Assets written to: models/bagging/rnn_with_feature3/model_4/assets\n"
     ]
    },
    {
     "name": "stdout",
     "output_type": "stream",
     "text": [
      "Epoch 5/10\n",
      "860/860 [==============================] - 79s 92ms/step - loss: 0.9246 - acc: 0.8670 - val_loss: 0.9770 - val_acc: 0.8487\n"
     ]
    },
    {
     "name": "stderr",
     "output_type": "stream",
     "text": [
      "WARNING:absl:Found untraced functions such as gru_cell_13_layer_call_and_return_conditional_losses, gru_cell_13_layer_call_fn, gru_cell_14_layer_call_and_return_conditional_losses, gru_cell_14_layer_call_fn, gru_cell_16_layer_call_and_return_conditional_losses while saving (showing 5 of 20). These functions will not be directly callable after loading.\n"
     ]
    },
    {
     "name": "stdout",
     "output_type": "stream",
     "text": [
      "INFO:tensorflow:Assets written to: models/bagging/rnn_with_feature3/model_5/assets\n"
     ]
    },
    {
     "name": "stderr",
     "output_type": "stream",
     "text": [
      "INFO:tensorflow:Assets written to: models/bagging/rnn_with_feature3/model_5/assets\n"
     ]
    },
    {
     "name": "stdout",
     "output_type": "stream",
     "text": [
      "Epoch 6/10\n",
      "860/860 [==============================] - 78s 91ms/step - loss: 0.8892 - acc: 0.8810 - val_loss: 0.9708 - val_acc: 0.8554\n"
     ]
    },
    {
     "name": "stderr",
     "output_type": "stream",
     "text": [
      "WARNING:absl:Found untraced functions such as gru_cell_13_layer_call_and_return_conditional_losses, gru_cell_13_layer_call_fn, gru_cell_14_layer_call_and_return_conditional_losses, gru_cell_14_layer_call_fn, gru_cell_16_layer_call_and_return_conditional_losses while saving (showing 5 of 20). These functions will not be directly callable after loading.\n"
     ]
    },
    {
     "name": "stdout",
     "output_type": "stream",
     "text": [
      "INFO:tensorflow:Assets written to: models/bagging/rnn_with_feature3/model_6/assets\n"
     ]
    },
    {
     "name": "stderr",
     "output_type": "stream",
     "text": [
      "INFO:tensorflow:Assets written to: models/bagging/rnn_with_feature3/model_6/assets\n"
     ]
    },
    {
     "name": "stdout",
     "output_type": "stream",
     "text": [
      "Epoch 7/10\n",
      "860/860 [==============================] - 78s 90ms/step - loss: 0.8655 - acc: 0.8872 - val_loss: 0.9768 - val_acc: 0.8423\n"
     ]
    },
    {
     "name": "stderr",
     "output_type": "stream",
     "text": [
      "WARNING:absl:Found untraced functions such as gru_cell_13_layer_call_and_return_conditional_losses, gru_cell_13_layer_call_fn, gru_cell_14_layer_call_and_return_conditional_losses, gru_cell_14_layer_call_fn, gru_cell_16_layer_call_and_return_conditional_losses while saving (showing 5 of 20). These functions will not be directly callable after loading.\n"
     ]
    },
    {
     "name": "stdout",
     "output_type": "stream",
     "text": [
      "INFO:tensorflow:Assets written to: models/bagging/rnn_with_feature3/model_7/assets\n"
     ]
    },
    {
     "name": "stderr",
     "output_type": "stream",
     "text": [
      "INFO:tensorflow:Assets written to: models/bagging/rnn_with_feature3/model_7/assets\n"
     ]
    },
    {
     "name": "stdout",
     "output_type": "stream",
     "text": [
      "Epoch 8/10\n",
      "860/860 [==============================] - 78s 90ms/step - loss: 0.8451 - acc: 0.8954 - val_loss: 0.9510 - val_acc: 0.8519\n"
     ]
    },
    {
     "name": "stderr",
     "output_type": "stream",
     "text": [
      "WARNING:absl:Found untraced functions such as gru_cell_13_layer_call_and_return_conditional_losses, gru_cell_13_layer_call_fn, gru_cell_14_layer_call_and_return_conditional_losses, gru_cell_14_layer_call_fn, gru_cell_16_layer_call_and_return_conditional_losses while saving (showing 5 of 20). These functions will not be directly callable after loading.\n"
     ]
    },
    {
     "name": "stdout",
     "output_type": "stream",
     "text": [
      "INFO:tensorflow:Assets written to: models/bagging/rnn_with_feature3/model_8/assets\n"
     ]
    },
    {
     "name": "stderr",
     "output_type": "stream",
     "text": [
      "INFO:tensorflow:Assets written to: models/bagging/rnn_with_feature3/model_8/assets\n"
     ]
    },
    {
     "name": "stdout",
     "output_type": "stream",
     "text": [
      "Epoch 9/10\n",
      "860/860 [==============================] - 77s 90ms/step - loss: 0.8265 - acc: 0.9018 - val_loss: 1.0007 - val_acc: 0.8285\n"
     ]
    },
    {
     "name": "stderr",
     "output_type": "stream",
     "text": [
      "WARNING:absl:Found untraced functions such as gru_cell_13_layer_call_and_return_conditional_losses, gru_cell_13_layer_call_fn, gru_cell_14_layer_call_and_return_conditional_losses, gru_cell_14_layer_call_fn, gru_cell_16_layer_call_and_return_conditional_losses while saving (showing 5 of 20). These functions will not be directly callable after loading.\n"
     ]
    },
    {
     "name": "stdout",
     "output_type": "stream",
     "text": [
      "INFO:tensorflow:Assets written to: models/bagging/rnn_with_feature3/model_9/assets\n"
     ]
    },
    {
     "name": "stderr",
     "output_type": "stream",
     "text": [
      "INFO:tensorflow:Assets written to: models/bagging/rnn_with_feature3/model_9/assets\n"
     ]
    },
    {
     "name": "stdout",
     "output_type": "stream",
     "text": [
      "Epoch 10/10\n",
      "860/860 [==============================] - 78s 91ms/step - loss: 0.8126 - acc: 0.9056 - val_loss: 0.9740 - val_acc: 0.8290\n"
     ]
    },
    {
     "name": "stderr",
     "output_type": "stream",
     "text": [
      "WARNING:absl:Found untraced functions such as gru_cell_13_layer_call_and_return_conditional_losses, gru_cell_13_layer_call_fn, gru_cell_14_layer_call_and_return_conditional_losses, gru_cell_14_layer_call_fn, gru_cell_16_layer_call_and_return_conditional_losses while saving (showing 5 of 20). These functions will not be directly callable after loading.\n"
     ]
    },
    {
     "name": "stdout",
     "output_type": "stream",
     "text": [
      "INFO:tensorflow:Assets written to: models/bagging/rnn_with_feature3/model_10/assets\n"
     ]
    },
    {
     "name": "stderr",
     "output_type": "stream",
     "text": [
      "INFO:tensorflow:Assets written to: models/bagging/rnn_with_feature3/model_10/assets\n",
      "2022-10-19 20:39:34.854282: I tensorflow/core/profiler/lib/profiler_session.cc:131] Profiler session initializing.\n",
      "2022-10-19 20:39:34.854311: I tensorflow/core/profiler/lib/profiler_session.cc:146] Profiler session started.\n",
      "2022-10-19 20:39:35.395614: I tensorflow/core/profiler/lib/profiler_session.cc:164] Profiler session tear down.\n",
      "2022-10-19 20:39:35.395794: I tensorflow/core/profiler/internal/gpu/cupti_tracer.cc:1748] CUPTI activity buffer flushed\n"
     ]
    },
    {
     "name": "stdout",
     "output_type": "stream",
     "text": [
      "Epoch 1/10\n",
      "  1/860 [..............................] - ETA: 2:16:47 - loss: 3.3388 - acc: 0.0938"
     ]
    },
    {
     "name": "stderr",
     "output_type": "stream",
     "text": [
      "2022-10-19 20:39:45.537793: I tensorflow/core/profiler/lib/profiler_session.cc:131] Profiler session initializing.\n",
      "2022-10-19 20:39:45.537831: I tensorflow/core/profiler/lib/profiler_session.cc:146] Profiler session started.\n"
     ]
    },
    {
     "name": "stdout",
     "output_type": "stream",
     "text": [
      "  2/860 [..............................] - ETA: 12:21 - loss: 2.8690 - acc: 0.0625  "
     ]
    },
    {
     "name": "stderr",
     "output_type": "stream",
     "text": [
      "2022-10-19 20:39:46.137222: I tensorflow/core/profiler/lib/profiler_session.cc:66] Profiler session collecting data.\n",
      "2022-10-19 20:39:46.138047: I tensorflow/core/profiler/internal/gpu/cupti_tracer.cc:1748] CUPTI activity buffer flushed\n",
      "2022-10-19 20:39:46.198075: I tensorflow/core/profiler/internal/gpu/cupti_collector.cc:673]  GpuTracer has collected 5947 callback api events and 5944 activity events. \n",
      "2022-10-19 20:39:46.300919: I tensorflow/core/profiler/lib/profiler_session.cc:164] Profiler session tear down.\n",
      "2022-10-19 20:39:46.412990: I tensorflow/core/profiler/rpc/client/save_profile.cc:136] Creating directory: models/bagging/rnn_with_feature4/logs/train/plugins/profile/2022_10_19_20_39_46\n",
      "\n",
      "2022-10-19 20:39:46.487805: I tensorflow/core/profiler/rpc/client/save_profile.cc:142] Dumped gzipped tool data for trace.json.gz to models/bagging/rnn_with_feature4/logs/train/plugins/profile/2022_10_19_20_39_46/dell-Precision-7920-Tower.trace.json.gz\n",
      "2022-10-19 20:39:46.556990: I tensorflow/core/profiler/rpc/client/save_profile.cc:136] Creating directory: models/bagging/rnn_with_feature4/logs/train/plugins/profile/2022_10_19_20_39_46\n",
      "\n",
      "2022-10-19 20:39:46.561074: I tensorflow/core/profiler/rpc/client/save_profile.cc:142] Dumped gzipped tool data for memory_profile.json.gz to models/bagging/rnn_with_feature4/logs/train/plugins/profile/2022_10_19_20_39_46/dell-Precision-7920-Tower.memory_profile.json.gz\n",
      "2022-10-19 20:39:46.562840: I tensorflow/core/profiler/rpc/client/capture_profile.cc:251] Creating directory: models/bagging/rnn_with_feature4/logs/train/plugins/profile/2022_10_19_20_39_46\n",
      "Dumped tool data for xplane.pb to models/bagging/rnn_with_feature4/logs/train/plugins/profile/2022_10_19_20_39_46/dell-Precision-7920-Tower.xplane.pb\n",
      "Dumped tool data for overview_page.pb to models/bagging/rnn_with_feature4/logs/train/plugins/profile/2022_10_19_20_39_46/dell-Precision-7920-Tower.overview_page.pb\n",
      "Dumped tool data for input_pipeline.pb to models/bagging/rnn_with_feature4/logs/train/plugins/profile/2022_10_19_20_39_46/dell-Precision-7920-Tower.input_pipeline.pb\n",
      "Dumped tool data for tensorflow_stats.pb to models/bagging/rnn_with_feature4/logs/train/plugins/profile/2022_10_19_20_39_46/dell-Precision-7920-Tower.tensorflow_stats.pb\n",
      "Dumped tool data for kernel_stats.pb to models/bagging/rnn_with_feature4/logs/train/plugins/profile/2022_10_19_20_39_46/dell-Precision-7920-Tower.kernel_stats.pb\n",
      "\n"
     ]
    },
    {
     "name": "stdout",
     "output_type": "stream",
     "text": [
      "860/860 [==============================] - 92s 96ms/step - loss: 1.7446 - acc: 0.4724 - val_loss: 1.3102 - val_acc: 0.7008\n"
     ]
    },
    {
     "name": "stderr",
     "output_type": "stream",
     "text": [
      "WARNING:absl:Found untraced functions such as gru_cell_19_layer_call_and_return_conditional_losses, gru_cell_19_layer_call_fn, gru_cell_20_layer_call_and_return_conditional_losses, gru_cell_20_layer_call_fn, gru_cell_22_layer_call_and_return_conditional_losses while saving (showing 5 of 20). These functions will not be directly callable after loading.\n"
     ]
    },
    {
     "name": "stdout",
     "output_type": "stream",
     "text": [
      "INFO:tensorflow:Assets written to: models/bagging/rnn_with_feature4/model_1/assets\n"
     ]
    },
    {
     "name": "stderr",
     "output_type": "stream",
     "text": [
      "INFO:tensorflow:Assets written to: models/bagging/rnn_with_feature4/model_1/assets\n"
     ]
    },
    {
     "name": "stdout",
     "output_type": "stream",
     "text": [
      "Epoch 2/10\n",
      "860/860 [==============================] - 78s 91ms/step - loss: 1.1594 - acc: 0.7596 - val_loss: 1.0735 - val_acc: 0.8174\n"
     ]
    },
    {
     "name": "stderr",
     "output_type": "stream",
     "text": [
      "WARNING:absl:Found untraced functions such as gru_cell_19_layer_call_and_return_conditional_losses, gru_cell_19_layer_call_fn, gru_cell_20_layer_call_and_return_conditional_losses, gru_cell_20_layer_call_fn, gru_cell_22_layer_call_and_return_conditional_losses while saving (showing 5 of 20). These functions will not be directly callable after loading.\n"
     ]
    },
    {
     "name": "stdout",
     "output_type": "stream",
     "text": [
      "INFO:tensorflow:Assets written to: models/bagging/rnn_with_feature4/model_2/assets\n"
     ]
    },
    {
     "name": "stderr",
     "output_type": "stream",
     "text": [
      "INFO:tensorflow:Assets written to: models/bagging/rnn_with_feature4/model_2/assets\n"
     ]
    },
    {
     "name": "stdout",
     "output_type": "stream",
     "text": [
      "Epoch 3/10\n",
      "860/860 [==============================] - 78s 91ms/step - loss: 1.0190 - acc: 0.8283 - val_loss: 1.0150 - val_acc: 0.8464\n"
     ]
    },
    {
     "name": "stderr",
     "output_type": "stream",
     "text": [
      "WARNING:absl:Found untraced functions such as gru_cell_19_layer_call_and_return_conditional_losses, gru_cell_19_layer_call_fn, gru_cell_20_layer_call_and_return_conditional_losses, gru_cell_20_layer_call_fn, gru_cell_22_layer_call_and_return_conditional_losses while saving (showing 5 of 20). These functions will not be directly callable after loading.\n"
     ]
    },
    {
     "name": "stdout",
     "output_type": "stream",
     "text": [
      "INFO:tensorflow:Assets written to: models/bagging/rnn_with_feature4/model_3/assets\n"
     ]
    },
    {
     "name": "stderr",
     "output_type": "stream",
     "text": [
      "INFO:tensorflow:Assets written to: models/bagging/rnn_with_feature4/model_3/assets\n"
     ]
    },
    {
     "name": "stdout",
     "output_type": "stream",
     "text": [
      "Epoch 4/10\n",
      "860/860 [==============================] - 78s 90ms/step - loss: 0.9498 - acc: 0.8570 - val_loss: 0.9837 - val_acc: 0.8342\n"
     ]
    },
    {
     "name": "stderr",
     "output_type": "stream",
     "text": [
      "WARNING:absl:Found untraced functions such as gru_cell_19_layer_call_and_return_conditional_losses, gru_cell_19_layer_call_fn, gru_cell_20_layer_call_and_return_conditional_losses, gru_cell_20_layer_call_fn, gru_cell_22_layer_call_and_return_conditional_losses while saving (showing 5 of 20). These functions will not be directly callable after loading.\n"
     ]
    },
    {
     "name": "stdout",
     "output_type": "stream",
     "text": [
      "INFO:tensorflow:Assets written to: models/bagging/rnn_with_feature4/model_4/assets\n"
     ]
    },
    {
     "name": "stderr",
     "output_type": "stream",
     "text": [
      "INFO:tensorflow:Assets written to: models/bagging/rnn_with_feature4/model_4/assets\n"
     ]
    },
    {
     "name": "stdout",
     "output_type": "stream",
     "text": [
      "Epoch 5/10\n",
      "860/860 [==============================] - 78s 91ms/step - loss: 0.9054 - acc: 0.8735 - val_loss: 0.9818 - val_acc: 0.8366\n"
     ]
    },
    {
     "name": "stderr",
     "output_type": "stream",
     "text": [
      "WARNING:absl:Found untraced functions such as gru_cell_19_layer_call_and_return_conditional_losses, gru_cell_19_layer_call_fn, gru_cell_20_layer_call_and_return_conditional_losses, gru_cell_20_layer_call_fn, gru_cell_22_layer_call_and_return_conditional_losses while saving (showing 5 of 20). These functions will not be directly callable after loading.\n"
     ]
    },
    {
     "name": "stdout",
     "output_type": "stream",
     "text": [
      "INFO:tensorflow:Assets written to: models/bagging/rnn_with_feature4/model_5/assets\n"
     ]
    },
    {
     "name": "stderr",
     "output_type": "stream",
     "text": [
      "INFO:tensorflow:Assets written to: models/bagging/rnn_with_feature4/model_5/assets\n"
     ]
    },
    {
     "name": "stdout",
     "output_type": "stream",
     "text": [
      "Epoch 6/10\n",
      "860/860 [==============================] - 78s 90ms/step - loss: 0.8733 - acc: 0.8870 - val_loss: 0.9533 - val_acc: 0.8464\n"
     ]
    },
    {
     "name": "stderr",
     "output_type": "stream",
     "text": [
      "WARNING:absl:Found untraced functions such as gru_cell_19_layer_call_and_return_conditional_losses, gru_cell_19_layer_call_fn, gru_cell_20_layer_call_and_return_conditional_losses, gru_cell_20_layer_call_fn, gru_cell_22_layer_call_and_return_conditional_losses while saving (showing 5 of 20). These functions will not be directly callable after loading.\n"
     ]
    },
    {
     "name": "stdout",
     "output_type": "stream",
     "text": [
      "INFO:tensorflow:Assets written to: models/bagging/rnn_with_feature4/model_6/assets\n"
     ]
    },
    {
     "name": "stderr",
     "output_type": "stream",
     "text": [
      "INFO:tensorflow:Assets written to: models/bagging/rnn_with_feature4/model_6/assets\n"
     ]
    },
    {
     "name": "stdout",
     "output_type": "stream",
     "text": [
      "Epoch 7/10\n",
      "860/860 [==============================] - 82s 96ms/step - loss: 0.8476 - acc: 0.8963 - val_loss: 0.9853 - val_acc: 0.8440\n"
     ]
    },
    {
     "name": "stderr",
     "output_type": "stream",
     "text": [
      "WARNING:absl:Found untraced functions such as gru_cell_19_layer_call_and_return_conditional_losses, gru_cell_19_layer_call_fn, gru_cell_20_layer_call_and_return_conditional_losses, gru_cell_20_layer_call_fn, gru_cell_22_layer_call_and_return_conditional_losses while saving (showing 5 of 20). These functions will not be directly callable after loading.\n"
     ]
    },
    {
     "name": "stdout",
     "output_type": "stream",
     "text": [
      "INFO:tensorflow:Assets written to: models/bagging/rnn_with_feature4/model_7/assets\n"
     ]
    },
    {
     "name": "stderr",
     "output_type": "stream",
     "text": [
      "INFO:tensorflow:Assets written to: models/bagging/rnn_with_feature4/model_7/assets\n"
     ]
    },
    {
     "name": "stdout",
     "output_type": "stream",
     "text": [
      "Epoch 8/10\n",
      "860/860 [==============================] - 85s 99ms/step - loss: 0.8241 - acc: 0.9037 - val_loss: 0.9958 - val_acc: 0.8402\n"
     ]
    },
    {
     "name": "stderr",
     "output_type": "stream",
     "text": [
      "WARNING:absl:Found untraced functions such as gru_cell_19_layer_call_and_return_conditional_losses, gru_cell_19_layer_call_fn, gru_cell_20_layer_call_and_return_conditional_losses, gru_cell_20_layer_call_fn, gru_cell_22_layer_call_and_return_conditional_losses while saving (showing 5 of 20). These functions will not be directly callable after loading.\n"
     ]
    },
    {
     "name": "stdout",
     "output_type": "stream",
     "text": [
      "INFO:tensorflow:Assets written to: models/bagging/rnn_with_feature4/model_8/assets\n"
     ]
    },
    {
     "name": "stderr",
     "output_type": "stream",
     "text": [
      "INFO:tensorflow:Assets written to: models/bagging/rnn_with_feature4/model_8/assets\n"
     ]
    },
    {
     "name": "stdout",
     "output_type": "stream",
     "text": [
      "Epoch 9/10\n",
      "860/860 [==============================] - 84s 98ms/step - loss: 0.8079 - acc: 0.9073 - val_loss: 0.9740 - val_acc: 0.8417\n"
     ]
    },
    {
     "name": "stderr",
     "output_type": "stream",
     "text": [
      "WARNING:absl:Found untraced functions such as gru_cell_19_layer_call_and_return_conditional_losses, gru_cell_19_layer_call_fn, gru_cell_20_layer_call_and_return_conditional_losses, gru_cell_20_layer_call_fn, gru_cell_22_layer_call_and_return_conditional_losses while saving (showing 5 of 20). These functions will not be directly callable after loading.\n"
     ]
    },
    {
     "name": "stdout",
     "output_type": "stream",
     "text": [
      "INFO:tensorflow:Assets written to: models/bagging/rnn_with_feature4/model_9/assets\n"
     ]
    },
    {
     "name": "stderr",
     "output_type": "stream",
     "text": [
      "INFO:tensorflow:Assets written to: models/bagging/rnn_with_feature4/model_9/assets\n"
     ]
    },
    {
     "name": "stdout",
     "output_type": "stream",
     "text": [
      "Epoch 10/10\n",
      "860/860 [==============================] - 52s 61ms/step - loss: 0.7943 - acc: 0.9118 - val_loss: 0.9883 - val_acc: 0.8401\n"
     ]
    },
    {
     "name": "stderr",
     "output_type": "stream",
     "text": [
      "WARNING:absl:Found untraced functions such as gru_cell_19_layer_call_and_return_conditional_losses, gru_cell_19_layer_call_fn, gru_cell_20_layer_call_and_return_conditional_losses, gru_cell_20_layer_call_fn, gru_cell_22_layer_call_and_return_conditional_losses while saving (showing 5 of 20). These functions will not be directly callable after loading.\n"
     ]
    },
    {
     "name": "stdout",
     "output_type": "stream",
     "text": [
      "INFO:tensorflow:Assets written to: models/bagging/rnn_with_feature4/model_10/assets\n"
     ]
    },
    {
     "name": "stderr",
     "output_type": "stream",
     "text": [
      "INFO:tensorflow:Assets written to: models/bagging/rnn_with_feature4/model_10/assets\n",
      "2022-10-19 20:56:10.067579: I tensorflow/core/profiler/lib/profiler_session.cc:131] Profiler session initializing.\n",
      "2022-10-19 20:56:10.067617: I tensorflow/core/profiler/lib/profiler_session.cc:146] Profiler session started.\n",
      "2022-10-19 20:56:10.645759: I tensorflow/core/profiler/lib/profiler_session.cc:164] Profiler session tear down.\n",
      "2022-10-19 20:56:10.645902: I tensorflow/core/profiler/internal/gpu/cupti_tracer.cc:1748] CUPTI activity buffer flushed\n"
     ]
    },
    {
     "name": "stdout",
     "output_type": "stream",
     "text": [
      "Epoch 1/10\n",
      "  1/860 [..............................] - ETA: 2:53:42 - loss: 3.9794 - acc: 0.1562"
     ]
    },
    {
     "name": "stderr",
     "output_type": "stream",
     "text": [
      "2022-10-19 20:56:23.408918: I tensorflow/core/profiler/lib/profiler_session.cc:131] Profiler session initializing.\n",
      "2022-10-19 20:56:23.411165: I tensorflow/core/profiler/lib/profiler_session.cc:146] Profiler session started.\n"
     ]
    },
    {
     "name": "stdout",
     "output_type": "stream",
     "text": [
      "  2/860 [..............................] - ETA: 14:29 - loss: 4.4667 - acc: 0.1094  "
     ]
    },
    {
     "name": "stderr",
     "output_type": "stream",
     "text": [
      "2022-10-19 20:56:24.236416: I tensorflow/core/profiler/lib/profiler_session.cc:66] Profiler session collecting data.\n",
      "2022-10-19 20:56:24.238534: I tensorflow/core/profiler/internal/gpu/cupti_tracer.cc:1748] CUPTI activity buffer flushed\n",
      "2022-10-19 20:56:24.393316: I tensorflow/core/profiler/internal/gpu/cupti_collector.cc:673]  GpuTracer has collected 5639 callback api events and 5636 activity events. \n",
      "2022-10-19 20:56:24.574952: I tensorflow/core/profiler/lib/profiler_session.cc:164] Profiler session tear down.\n",
      "2022-10-19 20:56:24.767769: I tensorflow/core/profiler/rpc/client/save_profile.cc:136] Creating directory: models/bagging/rnn_with_feature5/logs/train/plugins/profile/2022_10_19_20_56_24\n",
      "\n",
      "2022-10-19 20:56:24.876506: I tensorflow/core/profiler/rpc/client/save_profile.cc:142] Dumped gzipped tool data for trace.json.gz to models/bagging/rnn_with_feature5/logs/train/plugins/profile/2022_10_19_20_56_24/dell-Precision-7920-Tower.trace.json.gz\n",
      "2022-10-19 20:56:24.997548: I tensorflow/core/profiler/rpc/client/save_profile.cc:136] Creating directory: models/bagging/rnn_with_feature5/logs/train/plugins/profile/2022_10_19_20_56_24\n",
      "\n",
      "2022-10-19 20:56:25.003830: I tensorflow/core/profiler/rpc/client/save_profile.cc:142] Dumped gzipped tool data for memory_profile.json.gz to models/bagging/rnn_with_feature5/logs/train/plugins/profile/2022_10_19_20_56_24/dell-Precision-7920-Tower.memory_profile.json.gz\n",
      "2022-10-19 20:56:25.006225: I tensorflow/core/profiler/rpc/client/capture_profile.cc:251] Creating directory: models/bagging/rnn_with_feature5/logs/train/plugins/profile/2022_10_19_20_56_24\n",
      "Dumped tool data for xplane.pb to models/bagging/rnn_with_feature5/logs/train/plugins/profile/2022_10_19_20_56_24/dell-Precision-7920-Tower.xplane.pb\n",
      "Dumped tool data for overview_page.pb to models/bagging/rnn_with_feature5/logs/train/plugins/profile/2022_10_19_20_56_24/dell-Precision-7920-Tower.overview_page.pb\n",
      "Dumped tool data for input_pipeline.pb to models/bagging/rnn_with_feature5/logs/train/plugins/profile/2022_10_19_20_56_24/dell-Precision-7920-Tower.input_pipeline.pb\n",
      "Dumped tool data for tensorflow_stats.pb to models/bagging/rnn_with_feature5/logs/train/plugins/profile/2022_10_19_20_56_24/dell-Precision-7920-Tower.tensorflow_stats.pb\n",
      "Dumped tool data for kernel_stats.pb to models/bagging/rnn_with_feature5/logs/train/plugins/profile/2022_10_19_20_56_24/dell-Precision-7920-Tower.kernel_stats.pb\n",
      "\n"
     ]
    },
    {
     "name": "stdout",
     "output_type": "stream",
     "text": [
      "860/860 [==============================] - 70s 67ms/step - loss: 1.8109 - acc: 0.4405 - val_loss: 1.4969 - val_acc: 0.5763\n"
     ]
    },
    {
     "name": "stderr",
     "output_type": "stream",
     "text": [
      "WARNING:absl:Found untraced functions such as gru_cell_25_layer_call_and_return_conditional_losses, gru_cell_25_layer_call_fn, gru_cell_26_layer_call_and_return_conditional_losses, gru_cell_26_layer_call_fn, gru_cell_28_layer_call_and_return_conditional_losses while saving (showing 5 of 20). These functions will not be directly callable after loading.\n"
     ]
    },
    {
     "name": "stdout",
     "output_type": "stream",
     "text": [
      "INFO:tensorflow:Assets written to: models/bagging/rnn_with_feature5/model_1/assets\n"
     ]
    },
    {
     "name": "stderr",
     "output_type": "stream",
     "text": [
      "INFO:tensorflow:Assets written to: models/bagging/rnn_with_feature5/model_1/assets\n"
     ]
    },
    {
     "name": "stdout",
     "output_type": "stream",
     "text": [
      "Epoch 2/10\n",
      "860/860 [==============================] - 52s 60ms/step - loss: 1.2984 - acc: 0.6879 - val_loss: 1.1214 - val_acc: 0.7983\n"
     ]
    },
    {
     "name": "stderr",
     "output_type": "stream",
     "text": [
      "WARNING:absl:Found untraced functions such as gru_cell_25_layer_call_and_return_conditional_losses, gru_cell_25_layer_call_fn, gru_cell_26_layer_call_and_return_conditional_losses, gru_cell_26_layer_call_fn, gru_cell_28_layer_call_and_return_conditional_losses while saving (showing 5 of 20). These functions will not be directly callable after loading.\n"
     ]
    },
    {
     "name": "stdout",
     "output_type": "stream",
     "text": [
      "INFO:tensorflow:Assets written to: models/bagging/rnn_with_feature5/model_2/assets\n"
     ]
    },
    {
     "name": "stderr",
     "output_type": "stream",
     "text": [
      "INFO:tensorflow:Assets written to: models/bagging/rnn_with_feature5/model_2/assets\n"
     ]
    },
    {
     "name": "stdout",
     "output_type": "stream",
     "text": [
      "Epoch 3/10\n",
      "860/860 [==============================] - 50s 59ms/step - loss: 1.0604 - acc: 0.8055 - val_loss: 0.9748 - val_acc: 0.8445\n"
     ]
    },
    {
     "name": "stderr",
     "output_type": "stream",
     "text": [
      "WARNING:absl:Found untraced functions such as gru_cell_25_layer_call_and_return_conditional_losses, gru_cell_25_layer_call_fn, gru_cell_26_layer_call_and_return_conditional_losses, gru_cell_26_layer_call_fn, gru_cell_28_layer_call_and_return_conditional_losses while saving (showing 5 of 20). These functions will not be directly callable after loading.\n"
     ]
    },
    {
     "name": "stdout",
     "output_type": "stream",
     "text": [
      "INFO:tensorflow:Assets written to: models/bagging/rnn_with_feature5/model_3/assets\n"
     ]
    },
    {
     "name": "stderr",
     "output_type": "stream",
     "text": [
      "INFO:tensorflow:Assets written to: models/bagging/rnn_with_feature5/model_3/assets\n"
     ]
    },
    {
     "name": "stdout",
     "output_type": "stream",
     "text": [
      "Epoch 4/10\n",
      "860/860 [==============================] - 51s 60ms/step - loss: 0.9655 - acc: 0.8412 - val_loss: 0.9602 - val_acc: 0.8503\n"
     ]
    },
    {
     "name": "stderr",
     "output_type": "stream",
     "text": [
      "WARNING:absl:Found untraced functions such as gru_cell_25_layer_call_and_return_conditional_losses, gru_cell_25_layer_call_fn, gru_cell_26_layer_call_and_return_conditional_losses, gru_cell_26_layer_call_fn, gru_cell_28_layer_call_and_return_conditional_losses while saving (showing 5 of 20). These functions will not be directly callable after loading.\n"
     ]
    },
    {
     "name": "stdout",
     "output_type": "stream",
     "text": [
      "INFO:tensorflow:Assets written to: models/bagging/rnn_with_feature5/model_4/assets\n"
     ]
    },
    {
     "name": "stderr",
     "output_type": "stream",
     "text": [
      "INFO:tensorflow:Assets written to: models/bagging/rnn_with_feature5/model_4/assets\n"
     ]
    },
    {
     "name": "stdout",
     "output_type": "stream",
     "text": [
      "Epoch 5/10\n",
      "860/860 [==============================] - 82s 96ms/step - loss: 0.9154 - acc: 0.8608 - val_loss: 0.9524 - val_acc: 0.8437\n"
     ]
    },
    {
     "name": "stderr",
     "output_type": "stream",
     "text": [
      "WARNING:absl:Found untraced functions such as gru_cell_25_layer_call_and_return_conditional_losses, gru_cell_25_layer_call_fn, gru_cell_26_layer_call_and_return_conditional_losses, gru_cell_26_layer_call_fn, gru_cell_28_layer_call_and_return_conditional_losses while saving (showing 5 of 20). These functions will not be directly callable after loading.\n"
     ]
    },
    {
     "name": "stdout",
     "output_type": "stream",
     "text": [
      "INFO:tensorflow:Assets written to: models/bagging/rnn_with_feature5/model_5/assets\n"
     ]
    },
    {
     "name": "stderr",
     "output_type": "stream",
     "text": [
      "INFO:tensorflow:Assets written to: models/bagging/rnn_with_feature5/model_5/assets\n"
     ]
    },
    {
     "name": "stdout",
     "output_type": "stream",
     "text": [
      "Epoch 6/10\n",
      "860/860 [==============================] - 84s 97ms/step - loss: 0.8767 - acc: 0.8759 - val_loss: 0.9119 - val_acc: 0.8557\n"
     ]
    },
    {
     "name": "stderr",
     "output_type": "stream",
     "text": [
      "WARNING:absl:Found untraced functions such as gru_cell_25_layer_call_and_return_conditional_losses, gru_cell_25_layer_call_fn, gru_cell_26_layer_call_and_return_conditional_losses, gru_cell_26_layer_call_fn, gru_cell_28_layer_call_and_return_conditional_losses while saving (showing 5 of 20). These functions will not be directly callable after loading.\n"
     ]
    },
    {
     "name": "stdout",
     "output_type": "stream",
     "text": [
      "INFO:tensorflow:Assets written to: models/bagging/rnn_with_feature5/model_6/assets\n"
     ]
    },
    {
     "name": "stderr",
     "output_type": "stream",
     "text": [
      "INFO:tensorflow:Assets written to: models/bagging/rnn_with_feature5/model_6/assets\n"
     ]
    },
    {
     "name": "stdout",
     "output_type": "stream",
     "text": [
      "Epoch 7/10\n",
      "860/860 [==============================] - 84s 98ms/step - loss: 0.8534 - acc: 0.8848 - val_loss: 0.9271 - val_acc: 0.8511\n"
     ]
    },
    {
     "name": "stderr",
     "output_type": "stream",
     "text": [
      "WARNING:absl:Found untraced functions such as gru_cell_25_layer_call_and_return_conditional_losses, gru_cell_25_layer_call_fn, gru_cell_26_layer_call_and_return_conditional_losses, gru_cell_26_layer_call_fn, gru_cell_28_layer_call_and_return_conditional_losses while saving (showing 5 of 20). These functions will not be directly callable after loading.\n"
     ]
    },
    {
     "name": "stdout",
     "output_type": "stream",
     "text": [
      "INFO:tensorflow:Assets written to: models/bagging/rnn_with_feature5/model_7/assets\n"
     ]
    },
    {
     "name": "stderr",
     "output_type": "stream",
     "text": [
      "INFO:tensorflow:Assets written to: models/bagging/rnn_with_feature5/model_7/assets\n"
     ]
    },
    {
     "name": "stdout",
     "output_type": "stream",
     "text": [
      "Epoch 8/10\n",
      "860/860 [==============================] - 71s 82ms/step - loss: 0.8333 - acc: 0.8931 - val_loss: 0.9362 - val_acc: 0.8437\n"
     ]
    },
    {
     "name": "stderr",
     "output_type": "stream",
     "text": [
      "WARNING:absl:Found untraced functions such as gru_cell_25_layer_call_and_return_conditional_losses, gru_cell_25_layer_call_fn, gru_cell_26_layer_call_and_return_conditional_losses, gru_cell_26_layer_call_fn, gru_cell_28_layer_call_and_return_conditional_losses while saving (showing 5 of 20). These functions will not be directly callable after loading.\n"
     ]
    },
    {
     "name": "stdout",
     "output_type": "stream",
     "text": [
      "INFO:tensorflow:Assets written to: models/bagging/rnn_with_feature5/model_8/assets\n"
     ]
    },
    {
     "name": "stderr",
     "output_type": "stream",
     "text": [
      "INFO:tensorflow:Assets written to: models/bagging/rnn_with_feature5/model_8/assets\n"
     ]
    },
    {
     "name": "stdout",
     "output_type": "stream",
     "text": [
      "Epoch 9/10\n",
      "860/860 [==============================] - 51s 59ms/step - loss: 0.8183 - acc: 0.8977 - val_loss: 0.9376 - val_acc: 0.8443\n"
     ]
    },
    {
     "name": "stderr",
     "output_type": "stream",
     "text": [
      "WARNING:absl:Found untraced functions such as gru_cell_25_layer_call_and_return_conditional_losses, gru_cell_25_layer_call_fn, gru_cell_26_layer_call_and_return_conditional_losses, gru_cell_26_layer_call_fn, gru_cell_28_layer_call_and_return_conditional_losses while saving (showing 5 of 20). These functions will not be directly callable after loading.\n"
     ]
    },
    {
     "name": "stdout",
     "output_type": "stream",
     "text": [
      "INFO:tensorflow:Assets written to: models/bagging/rnn_with_feature5/model_9/assets\n"
     ]
    },
    {
     "name": "stderr",
     "output_type": "stream",
     "text": [
      "INFO:tensorflow:Assets written to: models/bagging/rnn_with_feature5/model_9/assets\n"
     ]
    },
    {
     "name": "stdout",
     "output_type": "stream",
     "text": [
      "Epoch 10/10\n",
      "860/860 [==============================] - 52s 60ms/step - loss: 0.8082 - acc: 0.9013 - val_loss: 0.9387 - val_acc: 0.8388\n"
     ]
    },
    {
     "name": "stderr",
     "output_type": "stream",
     "text": [
      "WARNING:absl:Found untraced functions such as gru_cell_25_layer_call_and_return_conditional_losses, gru_cell_25_layer_call_fn, gru_cell_26_layer_call_and_return_conditional_losses, gru_cell_26_layer_call_fn, gru_cell_28_layer_call_and_return_conditional_losses while saving (showing 5 of 20). These functions will not be directly callable after loading.\n"
     ]
    },
    {
     "name": "stdout",
     "output_type": "stream",
     "text": [
      "INFO:tensorflow:Assets written to: models/bagging/rnn_with_feature5/model_10/assets\n"
     ]
    },
    {
     "name": "stderr",
     "output_type": "stream",
     "text": [
      "INFO:tensorflow:Assets written to: models/bagging/rnn_with_feature5/model_10/assets\n",
      "2022-10-19 21:10:45.149197: I tensorflow/core/profiler/lib/profiler_session.cc:131] Profiler session initializing.\n",
      "2022-10-19 21:10:45.149365: I tensorflow/core/profiler/lib/profiler_session.cc:146] Profiler session started.\n",
      "2022-10-19 21:10:45.886002: I tensorflow/core/profiler/lib/profiler_session.cc:164] Profiler session tear down.\n",
      "2022-10-19 21:10:45.886196: I tensorflow/core/profiler/internal/gpu/cupti_tracer.cc:1748] CUPTI activity buffer flushed\n"
     ]
    },
    {
     "name": "stdout",
     "output_type": "stream",
     "text": [
      "Epoch 1/10\n",
      "  1/860 [..............................] - ETA: 3:14:09 - loss: 16.0845 - acc: 0.0312"
     ]
    },
    {
     "name": "stderr",
     "output_type": "stream",
     "text": [
      "2022-10-19 21:11:00.215801: I tensorflow/core/profiler/lib/profiler_session.cc:131] Profiler session initializing.\n",
      "2022-10-19 21:11:00.215843: I tensorflow/core/profiler/lib/profiler_session.cc:146] Profiler session started.\n"
     ]
    },
    {
     "name": "stdout",
     "output_type": "stream",
     "text": [
      "  2/860 [..............................] - ETA: 17:14 - loss: 13.1843 - acc: 0.0625  "
     ]
    },
    {
     "name": "stderr",
     "output_type": "stream",
     "text": [
      "2022-10-19 21:11:01.120400: I tensorflow/core/profiler/lib/profiler_session.cc:66] Profiler session collecting data.\n",
      "2022-10-19 21:11:01.122323: I tensorflow/core/profiler/internal/gpu/cupti_tracer.cc:1748] CUPTI activity buffer flushed\n",
      "2022-10-19 21:11:01.220976: I tensorflow/core/profiler/internal/gpu/cupti_collector.cc:673]  GpuTracer has collected 5445 callback api events and 5442 activity events. \n",
      "2022-10-19 21:11:01.378919: I tensorflow/core/profiler/lib/profiler_session.cc:164] Profiler session tear down.\n",
      "2022-10-19 21:11:01.563809: I tensorflow/core/profiler/rpc/client/save_profile.cc:136] Creating directory: models/bagging/rnn_with_feature6/logs/train/plugins/profile/2022_10_19_21_11_01\n",
      "\n",
      "2022-10-19 21:11:01.670636: I tensorflow/core/profiler/rpc/client/save_profile.cc:142] Dumped gzipped tool data for trace.json.gz to models/bagging/rnn_with_feature6/logs/train/plugins/profile/2022_10_19_21_11_01/dell-Precision-7920-Tower.trace.json.gz\n",
      "2022-10-19 21:11:01.806181: I tensorflow/core/profiler/rpc/client/save_profile.cc:136] Creating directory: models/bagging/rnn_with_feature6/logs/train/plugins/profile/2022_10_19_21_11_01\n",
      "\n",
      "2022-10-19 21:11:01.812464: I tensorflow/core/profiler/rpc/client/save_profile.cc:142] Dumped gzipped tool data for memory_profile.json.gz to models/bagging/rnn_with_feature6/logs/train/plugins/profile/2022_10_19_21_11_01/dell-Precision-7920-Tower.memory_profile.json.gz\n",
      "2022-10-19 21:11:01.814703: I tensorflow/core/profiler/rpc/client/capture_profile.cc:251] Creating directory: models/bagging/rnn_with_feature6/logs/train/plugins/profile/2022_10_19_21_11_01\n",
      "Dumped tool data for xplane.pb to models/bagging/rnn_with_feature6/logs/train/plugins/profile/2022_10_19_21_11_01/dell-Precision-7920-Tower.xplane.pb\n",
      "Dumped tool data for overview_page.pb to models/bagging/rnn_with_feature6/logs/train/plugins/profile/2022_10_19_21_11_01/dell-Precision-7920-Tower.overview_page.pb\n",
      "Dumped tool data for input_pipeline.pb to models/bagging/rnn_with_feature6/logs/train/plugins/profile/2022_10_19_21_11_01/dell-Precision-7920-Tower.input_pipeline.pb\n",
      "Dumped tool data for tensorflow_stats.pb to models/bagging/rnn_with_feature6/logs/train/plugins/profile/2022_10_19_21_11_01/dell-Precision-7920-Tower.tensorflow_stats.pb\n",
      "Dumped tool data for kernel_stats.pb to models/bagging/rnn_with_feature6/logs/train/plugins/profile/2022_10_19_21_11_01/dell-Precision-7920-Tower.kernel_stats.pb\n",
      "\n"
     ]
    },
    {
     "name": "stdout",
     "output_type": "stream",
     "text": [
      "860/860 [==============================] - 83s 81ms/step - loss: 1.8802 - acc: 0.4491 - val_loss: 1.3207 - val_acc: 0.6829\n"
     ]
    },
    {
     "name": "stderr",
     "output_type": "stream",
     "text": [
      "WARNING:absl:Found untraced functions such as gru_cell_31_layer_call_and_return_conditional_losses, gru_cell_31_layer_call_fn, gru_cell_32_layer_call_and_return_conditional_losses, gru_cell_32_layer_call_fn, gru_cell_34_layer_call_and_return_conditional_losses while saving (showing 5 of 20). These functions will not be directly callable after loading.\n"
     ]
    },
    {
     "name": "stdout",
     "output_type": "stream",
     "text": [
      "INFO:tensorflow:Assets written to: models/bagging/rnn_with_feature6/model_1/assets\n"
     ]
    },
    {
     "name": "stderr",
     "output_type": "stream",
     "text": [
      "INFO:tensorflow:Assets written to: models/bagging/rnn_with_feature6/model_1/assets\n"
     ]
    },
    {
     "name": "stdout",
     "output_type": "stream",
     "text": [
      "Epoch 2/10\n",
      "860/860 [==============================] - 67s 78ms/step - loss: 1.1988 - acc: 0.7391 - val_loss: 1.1447 - val_acc: 0.7735\n"
     ]
    },
    {
     "name": "stderr",
     "output_type": "stream",
     "text": [
      "WARNING:absl:Found untraced functions such as gru_cell_31_layer_call_and_return_conditional_losses, gru_cell_31_layer_call_fn, gru_cell_32_layer_call_and_return_conditional_losses, gru_cell_32_layer_call_fn, gru_cell_34_layer_call_and_return_conditional_losses while saving (showing 5 of 20). These functions will not be directly callable after loading.\n"
     ]
    },
    {
     "name": "stdout",
     "output_type": "stream",
     "text": [
      "INFO:tensorflow:Assets written to: models/bagging/rnn_with_feature6/model_2/assets\n"
     ]
    },
    {
     "name": "stderr",
     "output_type": "stream",
     "text": [
      "INFO:tensorflow:Assets written to: models/bagging/rnn_with_feature6/model_2/assets\n"
     ]
    },
    {
     "name": "stdout",
     "output_type": "stream",
     "text": [
      "Epoch 3/10\n",
      "860/860 [==============================] - 53s 62ms/step - loss: 1.0621 - acc: 0.8089 - val_loss: 1.0430 - val_acc: 0.8304\n"
     ]
    },
    {
     "name": "stderr",
     "output_type": "stream",
     "text": [
      "WARNING:absl:Found untraced functions such as gru_cell_31_layer_call_and_return_conditional_losses, gru_cell_31_layer_call_fn, gru_cell_32_layer_call_and_return_conditional_losses, gru_cell_32_layer_call_fn, gru_cell_34_layer_call_and_return_conditional_losses while saving (showing 5 of 20). These functions will not be directly callable after loading.\n"
     ]
    },
    {
     "name": "stdout",
     "output_type": "stream",
     "text": [
      "INFO:tensorflow:Assets written to: models/bagging/rnn_with_feature6/model_3/assets\n"
     ]
    },
    {
     "name": "stderr",
     "output_type": "stream",
     "text": [
      "INFO:tensorflow:Assets written to: models/bagging/rnn_with_feature6/model_3/assets\n"
     ]
    },
    {
     "name": "stdout",
     "output_type": "stream",
     "text": [
      "Epoch 4/10\n",
      "860/860 [==============================] - 47s 54ms/step - loss: 0.9867 - acc: 0.8393 - val_loss: 0.9973 - val_acc: 0.8256\n"
     ]
    },
    {
     "name": "stderr",
     "output_type": "stream",
     "text": [
      "WARNING:absl:Found untraced functions such as gru_cell_31_layer_call_and_return_conditional_losses, gru_cell_31_layer_call_fn, gru_cell_32_layer_call_and_return_conditional_losses, gru_cell_32_layer_call_fn, gru_cell_34_layer_call_and_return_conditional_losses while saving (showing 5 of 20). These functions will not be directly callable after loading.\n"
     ]
    },
    {
     "name": "stdout",
     "output_type": "stream",
     "text": [
      "INFO:tensorflow:Assets written to: models/bagging/rnn_with_feature6/model_4/assets\n"
     ]
    },
    {
     "name": "stderr",
     "output_type": "stream",
     "text": [
      "INFO:tensorflow:Assets written to: models/bagging/rnn_with_feature6/model_4/assets\n"
     ]
    },
    {
     "name": "stdout",
     "output_type": "stream",
     "text": [
      "Epoch 5/10\n",
      "860/860 [==============================] - 47s 55ms/step - loss: 0.9367 - acc: 0.8584 - val_loss: 0.9792 - val_acc: 0.8396\n"
     ]
    },
    {
     "name": "stderr",
     "output_type": "stream",
     "text": [
      "WARNING:absl:Found untraced functions such as gru_cell_31_layer_call_and_return_conditional_losses, gru_cell_31_layer_call_fn, gru_cell_32_layer_call_and_return_conditional_losses, gru_cell_32_layer_call_fn, gru_cell_34_layer_call_and_return_conditional_losses while saving (showing 5 of 20). These functions will not be directly callable after loading.\n"
     ]
    },
    {
     "name": "stdout",
     "output_type": "stream",
     "text": [
      "INFO:tensorflow:Assets written to: models/bagging/rnn_with_feature6/model_5/assets\n"
     ]
    },
    {
     "name": "stderr",
     "output_type": "stream",
     "text": [
      "INFO:tensorflow:Assets written to: models/bagging/rnn_with_feature6/model_5/assets\n"
     ]
    },
    {
     "name": "stdout",
     "output_type": "stream",
     "text": [
      "Epoch 6/10\n",
      "860/860 [==============================] - 47s 54ms/step - loss: 0.8968 - acc: 0.8713 - val_loss: 1.0097 - val_acc: 0.7990\n"
     ]
    },
    {
     "name": "stderr",
     "output_type": "stream",
     "text": [
      "WARNING:absl:Found untraced functions such as gru_cell_31_layer_call_and_return_conditional_losses, gru_cell_31_layer_call_fn, gru_cell_32_layer_call_and_return_conditional_losses, gru_cell_32_layer_call_fn, gru_cell_34_layer_call_and_return_conditional_losses while saving (showing 5 of 20). These functions will not be directly callable after loading.\n"
     ]
    },
    {
     "name": "stdout",
     "output_type": "stream",
     "text": [
      "INFO:tensorflow:Assets written to: models/bagging/rnn_with_feature6/model_6/assets\n"
     ]
    },
    {
     "name": "stderr",
     "output_type": "stream",
     "text": [
      "INFO:tensorflow:Assets written to: models/bagging/rnn_with_feature6/model_6/assets\n"
     ]
    },
    {
     "name": "stdout",
     "output_type": "stream",
     "text": [
      "Epoch 7/10\n",
      "860/860 [==============================] - 47s 55ms/step - loss: 0.8703 - acc: 0.8820 - val_loss: 1.0300 - val_acc: 0.7858\n"
     ]
    },
    {
     "name": "stderr",
     "output_type": "stream",
     "text": [
      "WARNING:absl:Found untraced functions such as gru_cell_31_layer_call_and_return_conditional_losses, gru_cell_31_layer_call_fn, gru_cell_32_layer_call_and_return_conditional_losses, gru_cell_32_layer_call_fn, gru_cell_34_layer_call_and_return_conditional_losses while saving (showing 5 of 20). These functions will not be directly callable after loading.\n"
     ]
    },
    {
     "name": "stdout",
     "output_type": "stream",
     "text": [
      "INFO:tensorflow:Assets written to: models/bagging/rnn_with_feature6/model_7/assets\n"
     ]
    },
    {
     "name": "stderr",
     "output_type": "stream",
     "text": [
      "INFO:tensorflow:Assets written to: models/bagging/rnn_with_feature6/model_7/assets\n"
     ]
    },
    {
     "name": "stdout",
     "output_type": "stream",
     "text": [
      "Epoch 8/10\n",
      "860/860 [==============================] - 47s 55ms/step - loss: 0.8464 - acc: 0.8913 - val_loss: 1.0174 - val_acc: 0.7954\n"
     ]
    },
    {
     "name": "stderr",
     "output_type": "stream",
     "text": [
      "WARNING:absl:Found untraced functions such as gru_cell_31_layer_call_and_return_conditional_losses, gru_cell_31_layer_call_fn, gru_cell_32_layer_call_and_return_conditional_losses, gru_cell_32_layer_call_fn, gru_cell_34_layer_call_and_return_conditional_losses while saving (showing 5 of 20). These functions will not be directly callable after loading.\n"
     ]
    },
    {
     "name": "stdout",
     "output_type": "stream",
     "text": [
      "INFO:tensorflow:Assets written to: models/bagging/rnn_with_feature6/model_8/assets\n"
     ]
    },
    {
     "name": "stderr",
     "output_type": "stream",
     "text": [
      "INFO:tensorflow:Assets written to: models/bagging/rnn_with_feature6/model_8/assets\n"
     ]
    },
    {
     "name": "stdout",
     "output_type": "stream",
     "text": [
      "Epoch 9/10\n",
      "860/860 [==============================] - 48s 55ms/step - loss: 0.8255 - acc: 0.9004 - val_loss: 1.0599 - val_acc: 0.7887\n"
     ]
    },
    {
     "name": "stderr",
     "output_type": "stream",
     "text": [
      "WARNING:absl:Found untraced functions such as gru_cell_31_layer_call_and_return_conditional_losses, gru_cell_31_layer_call_fn, gru_cell_32_layer_call_and_return_conditional_losses, gru_cell_32_layer_call_fn, gru_cell_34_layer_call_and_return_conditional_losses while saving (showing 5 of 20). These functions will not be directly callable after loading.\n"
     ]
    },
    {
     "name": "stdout",
     "output_type": "stream",
     "text": [
      "INFO:tensorflow:Assets written to: models/bagging/rnn_with_feature6/model_9/assets\n"
     ]
    },
    {
     "name": "stderr",
     "output_type": "stream",
     "text": [
      "INFO:tensorflow:Assets written to: models/bagging/rnn_with_feature6/model_9/assets\n"
     ]
    },
    {
     "name": "stdout",
     "output_type": "stream",
     "text": [
      "Epoch 10/10\n",
      "860/860 [==============================] - 48s 56ms/step - loss: 0.8100 - acc: 0.9051 - val_loss: 1.0369 - val_acc: 0.7977\n"
     ]
    },
    {
     "name": "stderr",
     "output_type": "stream",
     "text": [
      "WARNING:absl:Found untraced functions such as gru_cell_31_layer_call_and_return_conditional_losses, gru_cell_31_layer_call_fn, gru_cell_32_layer_call_and_return_conditional_losses, gru_cell_32_layer_call_fn, gru_cell_34_layer_call_and_return_conditional_losses while saving (showing 5 of 20). These functions will not be directly callable after loading.\n"
     ]
    },
    {
     "name": "stdout",
     "output_type": "stream",
     "text": [
      "INFO:tensorflow:Assets written to: models/bagging/rnn_with_feature6/model_10/assets\n"
     ]
    },
    {
     "name": "stderr",
     "output_type": "stream",
     "text": [
      "INFO:tensorflow:Assets written to: models/bagging/rnn_with_feature6/model_10/assets\n",
      "2022-10-19 21:24:21.372273: I tensorflow/core/profiler/lib/profiler_session.cc:131] Profiler session initializing.\n",
      "2022-10-19 21:24:21.372308: I tensorflow/core/profiler/lib/profiler_session.cc:146] Profiler session started.\n",
      "2022-10-19 21:24:21.932006: I tensorflow/core/profiler/lib/profiler_session.cc:164] Profiler session tear down.\n",
      "2022-10-19 21:24:21.932186: I tensorflow/core/profiler/internal/gpu/cupti_tracer.cc:1748] CUPTI activity buffer flushed\n"
     ]
    },
    {
     "name": "stdout",
     "output_type": "stream",
     "text": [
      "Epoch 1/10\n",
      "  1/860 [..............................] - ETA: 3:43:28 - loss: 4.2157 - acc: 0.0312"
     ]
    },
    {
     "name": "stderr",
     "output_type": "stream",
     "text": [
      "2022-10-19 21:24:38.526239: I tensorflow/core/profiler/lib/profiler_session.cc:131] Profiler session initializing.\n",
      "2022-10-19 21:24:38.526320: I tensorflow/core/profiler/lib/profiler_session.cc:146] Profiler session started.\n"
     ]
    },
    {
     "name": "stdout",
     "output_type": "stream",
     "text": [
      "  2/860 [..............................] - ETA: 25:15 - loss: 5.1977 - acc: 0.0156  "
     ]
    },
    {
     "name": "stderr",
     "output_type": "stream",
     "text": [
      "2022-10-19 21:24:39.792983: I tensorflow/core/profiler/lib/profiler_session.cc:66] Profiler session collecting data.\n",
      "2022-10-19 21:24:39.795146: I tensorflow/core/profiler/internal/gpu/cupti_tracer.cc:1748] CUPTI activity buffer flushed\n",
      "2022-10-19 21:24:39.915225: I tensorflow/core/profiler/internal/gpu/cupti_collector.cc:673]  GpuTracer has collected 5767 callback api events and 5764 activity events. \n",
      "2022-10-19 21:24:40.097147: I tensorflow/core/profiler/lib/profiler_session.cc:164] Profiler session tear down.\n",
      "2022-10-19 21:24:40.315317: I tensorflow/core/profiler/rpc/client/save_profile.cc:136] Creating directory: models/bagging/rnn_with_feature7/logs/train/plugins/profile/2022_10_19_21_24_40\n",
      "\n",
      "2022-10-19 21:24:40.430704: I tensorflow/core/profiler/rpc/client/save_profile.cc:142] Dumped gzipped tool data for trace.json.gz to models/bagging/rnn_with_feature7/logs/train/plugins/profile/2022_10_19_21_24_40/dell-Precision-7920-Tower.trace.json.gz\n"
     ]
    },
    {
     "name": "stdout",
     "output_type": "stream",
     "text": [
      "  5/860 [..............................] - ETA: 10:46 - loss: 4.1420 - acc: 0.0500"
     ]
    },
    {
     "name": "stderr",
     "output_type": "stream",
     "text": [
      "2022-10-19 21:24:40.587864: I tensorflow/core/profiler/rpc/client/save_profile.cc:136] Creating directory: models/bagging/rnn_with_feature7/logs/train/plugins/profile/2022_10_19_21_24_40\n",
      "\n",
      "2022-10-19 21:24:40.594920: I tensorflow/core/profiler/rpc/client/save_profile.cc:142] Dumped gzipped tool data for memory_profile.json.gz to models/bagging/rnn_with_feature7/logs/train/plugins/profile/2022_10_19_21_24_40/dell-Precision-7920-Tower.memory_profile.json.gz\n",
      "2022-10-19 21:24:40.597733: I tensorflow/core/profiler/rpc/client/capture_profile.cc:251] Creating directory: models/bagging/rnn_with_feature7/logs/train/plugins/profile/2022_10_19_21_24_40\n",
      "Dumped tool data for xplane.pb to models/bagging/rnn_with_feature7/logs/train/plugins/profile/2022_10_19_21_24_40/dell-Precision-7920-Tower.xplane.pb\n",
      "Dumped tool data for overview_page.pb to models/bagging/rnn_with_feature7/logs/train/plugins/profile/2022_10_19_21_24_40/dell-Precision-7920-Tower.overview_page.pb\n",
      "Dumped tool data for input_pipeline.pb to models/bagging/rnn_with_feature7/logs/train/plugins/profile/2022_10_19_21_24_40/dell-Precision-7920-Tower.input_pipeline.pb\n",
      "Dumped tool data for tensorflow_stats.pb to models/bagging/rnn_with_feature7/logs/train/plugins/profile/2022_10_19_21_24_40/dell-Precision-7920-Tower.tensorflow_stats.pb\n",
      "Dumped tool data for kernel_stats.pb to models/bagging/rnn_with_feature7/logs/train/plugins/profile/2022_10_19_21_24_40/dell-Precision-7920-Tower.kernel_stats.pb\n",
      "\n"
     ]
    },
    {
     "name": "stdout",
     "output_type": "stream",
     "text": [
      "860/860 [==============================] - 74s 68ms/step - loss: 1.7663 - acc: 0.4647 - val_loss: 1.3555 - val_acc: 0.6925\n"
     ]
    },
    {
     "name": "stderr",
     "output_type": "stream",
     "text": [
      "WARNING:absl:Found untraced functions such as gru_cell_37_layer_call_and_return_conditional_losses, gru_cell_37_layer_call_fn, gru_cell_38_layer_call_and_return_conditional_losses, gru_cell_38_layer_call_fn, gru_cell_40_layer_call_and_return_conditional_losses while saving (showing 5 of 20). These functions will not be directly callable after loading.\n"
     ]
    },
    {
     "name": "stdout",
     "output_type": "stream",
     "text": [
      "INFO:tensorflow:Assets written to: models/bagging/rnn_with_feature7/model_1/assets\n"
     ]
    },
    {
     "name": "stderr",
     "output_type": "stream",
     "text": [
      "INFO:tensorflow:Assets written to: models/bagging/rnn_with_feature7/model_1/assets\n"
     ]
    },
    {
     "name": "stdout",
     "output_type": "stream",
     "text": [
      "Epoch 2/10\n",
      "860/860 [==============================] - 53s 61ms/step - loss: 1.1774 - acc: 0.7559 - val_loss: 1.0695 - val_acc: 0.8091\n"
     ]
    },
    {
     "name": "stderr",
     "output_type": "stream",
     "text": [
      "WARNING:absl:Found untraced functions such as gru_cell_37_layer_call_and_return_conditional_losses, gru_cell_37_layer_call_fn, gru_cell_38_layer_call_and_return_conditional_losses, gru_cell_38_layer_call_fn, gru_cell_40_layer_call_and_return_conditional_losses while saving (showing 5 of 20). These functions will not be directly callable after loading.\n"
     ]
    },
    {
     "name": "stdout",
     "output_type": "stream",
     "text": [
      "INFO:tensorflow:Assets written to: models/bagging/rnn_with_feature7/model_2/assets\n"
     ]
    },
    {
     "name": "stderr",
     "output_type": "stream",
     "text": [
      "INFO:tensorflow:Assets written to: models/bagging/rnn_with_feature7/model_2/assets\n"
     ]
    },
    {
     "name": "stdout",
     "output_type": "stream",
     "text": [
      "Epoch 3/10\n",
      "860/860 [==============================] - 85s 98ms/step - loss: 1.0258 - acc: 0.8261 - val_loss: 1.0004 - val_acc: 0.8449\n"
     ]
    },
    {
     "name": "stderr",
     "output_type": "stream",
     "text": [
      "WARNING:absl:Found untraced functions such as gru_cell_37_layer_call_and_return_conditional_losses, gru_cell_37_layer_call_fn, gru_cell_38_layer_call_and_return_conditional_losses, gru_cell_38_layer_call_fn, gru_cell_40_layer_call_and_return_conditional_losses while saving (showing 5 of 20). These functions will not be directly callable after loading.\n"
     ]
    },
    {
     "name": "stdout",
     "output_type": "stream",
     "text": [
      "INFO:tensorflow:Assets written to: models/bagging/rnn_with_feature7/model_3/assets\n"
     ]
    },
    {
     "name": "stderr",
     "output_type": "stream",
     "text": [
      "INFO:tensorflow:Assets written to: models/bagging/rnn_with_feature7/model_3/assets\n"
     ]
    },
    {
     "name": "stdout",
     "output_type": "stream",
     "text": [
      "Epoch 4/10\n",
      "860/860 [==============================] - 84s 98ms/step - loss: 0.9476 - acc: 0.8572 - val_loss: 0.9844 - val_acc: 0.8488\n"
     ]
    },
    {
     "name": "stderr",
     "output_type": "stream",
     "text": [
      "WARNING:absl:Found untraced functions such as gru_cell_37_layer_call_and_return_conditional_losses, gru_cell_37_layer_call_fn, gru_cell_38_layer_call_and_return_conditional_losses, gru_cell_38_layer_call_fn, gru_cell_40_layer_call_and_return_conditional_losses while saving (showing 5 of 20). These functions will not be directly callable after loading.\n"
     ]
    },
    {
     "name": "stdout",
     "output_type": "stream",
     "text": [
      "INFO:tensorflow:Assets written to: models/bagging/rnn_with_feature7/model_4/assets\n"
     ]
    },
    {
     "name": "stderr",
     "output_type": "stream",
     "text": [
      "INFO:tensorflow:Assets written to: models/bagging/rnn_with_feature7/model_4/assets\n"
     ]
    },
    {
     "name": "stdout",
     "output_type": "stream",
     "text": [
      "Epoch 5/10\n",
      "860/860 [==============================] - 83s 97ms/step - loss: 0.9009 - acc: 0.8753 - val_loss: 0.9800 - val_acc: 0.8422\n"
     ]
    },
    {
     "name": "stderr",
     "output_type": "stream",
     "text": [
      "WARNING:absl:Found untraced functions such as gru_cell_37_layer_call_and_return_conditional_losses, gru_cell_37_layer_call_fn, gru_cell_38_layer_call_and_return_conditional_losses, gru_cell_38_layer_call_fn, gru_cell_40_layer_call_and_return_conditional_losses while saving (showing 5 of 20). These functions will not be directly callable after loading.\n"
     ]
    },
    {
     "name": "stdout",
     "output_type": "stream",
     "text": [
      "INFO:tensorflow:Assets written to: models/bagging/rnn_with_feature7/model_5/assets\n"
     ]
    },
    {
     "name": "stderr",
     "output_type": "stream",
     "text": [
      "INFO:tensorflow:Assets written to: models/bagging/rnn_with_feature7/model_5/assets\n"
     ]
    },
    {
     "name": "stdout",
     "output_type": "stream",
     "text": [
      "Epoch 6/10\n",
      "860/860 [==============================] - 84s 98ms/step - loss: 0.8729 - acc: 0.8862 - val_loss: 0.9665 - val_acc: 0.8378\n"
     ]
    },
    {
     "name": "stderr",
     "output_type": "stream",
     "text": [
      "WARNING:absl:Found untraced functions such as gru_cell_37_layer_call_and_return_conditional_losses, gru_cell_37_layer_call_fn, gru_cell_38_layer_call_and_return_conditional_losses, gru_cell_38_layer_call_fn, gru_cell_40_layer_call_and_return_conditional_losses while saving (showing 5 of 20). These functions will not be directly callable after loading.\n"
     ]
    },
    {
     "name": "stdout",
     "output_type": "stream",
     "text": [
      "INFO:tensorflow:Assets written to: models/bagging/rnn_with_feature7/model_6/assets\n"
     ]
    },
    {
     "name": "stderr",
     "output_type": "stream",
     "text": [
      "INFO:tensorflow:Assets written to: models/bagging/rnn_with_feature7/model_6/assets\n"
     ]
    },
    {
     "name": "stdout",
     "output_type": "stream",
     "text": [
      "Epoch 7/10\n",
      "860/860 [==============================] - 84s 98ms/step - loss: 0.8440 - acc: 0.8953 - val_loss: 0.9753 - val_acc: 0.8367\n"
     ]
    },
    {
     "name": "stderr",
     "output_type": "stream",
     "text": [
      "WARNING:absl:Found untraced functions such as gru_cell_37_layer_call_and_return_conditional_losses, gru_cell_37_layer_call_fn, gru_cell_38_layer_call_and_return_conditional_losses, gru_cell_38_layer_call_fn, gru_cell_40_layer_call_and_return_conditional_losses while saving (showing 5 of 20). These functions will not be directly callable after loading.\n"
     ]
    },
    {
     "name": "stdout",
     "output_type": "stream",
     "text": [
      "INFO:tensorflow:Assets written to: models/bagging/rnn_with_feature7/model_7/assets\n"
     ]
    },
    {
     "name": "stderr",
     "output_type": "stream",
     "text": [
      "INFO:tensorflow:Assets written to: models/bagging/rnn_with_feature7/model_7/assets\n"
     ]
    },
    {
     "name": "stdout",
     "output_type": "stream",
     "text": [
      "Epoch 8/10\n",
      "860/860 [==============================] - 75s 87ms/step - loss: 0.8202 - acc: 0.9025 - val_loss: 0.9592 - val_acc: 0.8358\n"
     ]
    },
    {
     "name": "stderr",
     "output_type": "stream",
     "text": [
      "WARNING:absl:Found untraced functions such as gru_cell_37_layer_call_and_return_conditional_losses, gru_cell_37_layer_call_fn, gru_cell_38_layer_call_and_return_conditional_losses, gru_cell_38_layer_call_fn, gru_cell_40_layer_call_and_return_conditional_losses while saving (showing 5 of 20). These functions will not be directly callable after loading.\n"
     ]
    },
    {
     "name": "stdout",
     "output_type": "stream",
     "text": [
      "INFO:tensorflow:Assets written to: models/bagging/rnn_with_feature7/model_8/assets\n"
     ]
    },
    {
     "name": "stderr",
     "output_type": "stream",
     "text": [
      "INFO:tensorflow:Assets written to: models/bagging/rnn_with_feature7/model_8/assets\n"
     ]
    },
    {
     "name": "stdout",
     "output_type": "stream",
     "text": [
      "Epoch 9/10\n",
      "860/860 [==============================] - 50s 58ms/step - loss: 0.8055 - acc: 0.9088 - val_loss: 0.9618 - val_acc: 0.8421\n"
     ]
    },
    {
     "name": "stderr",
     "output_type": "stream",
     "text": [
      "WARNING:absl:Found untraced functions such as gru_cell_37_layer_call_and_return_conditional_losses, gru_cell_37_layer_call_fn, gru_cell_38_layer_call_and_return_conditional_losses, gru_cell_38_layer_call_fn, gru_cell_40_layer_call_and_return_conditional_losses while saving (showing 5 of 20). These functions will not be directly callable after loading.\n"
     ]
    },
    {
     "name": "stdout",
     "output_type": "stream",
     "text": [
      "INFO:tensorflow:Assets written to: models/bagging/rnn_with_feature7/model_9/assets\n"
     ]
    },
    {
     "name": "stderr",
     "output_type": "stream",
     "text": [
      "INFO:tensorflow:Assets written to: models/bagging/rnn_with_feature7/model_9/assets\n"
     ]
    },
    {
     "name": "stdout",
     "output_type": "stream",
     "text": [
      "Epoch 10/10\n",
      "860/860 [==============================] - 52s 60ms/step - loss: 0.7910 - acc: 0.9127 - val_loss: 0.9870 - val_acc: 0.8253\n"
     ]
    },
    {
     "name": "stderr",
     "output_type": "stream",
     "text": [
      "WARNING:absl:Found untraced functions such as gru_cell_37_layer_call_and_return_conditional_losses, gru_cell_37_layer_call_fn, gru_cell_38_layer_call_and_return_conditional_losses, gru_cell_38_layer_call_fn, gru_cell_40_layer_call_and_return_conditional_losses while saving (showing 5 of 20). These functions will not be directly callable after loading.\n"
     ]
    },
    {
     "name": "stdout",
     "output_type": "stream",
     "text": [
      "INFO:tensorflow:Assets written to: models/bagging/rnn_with_feature7/model_10/assets\n"
     ]
    },
    {
     "name": "stderr",
     "output_type": "stream",
     "text": [
      "INFO:tensorflow:Assets written to: models/bagging/rnn_with_feature7/model_10/assets\n",
      "2022-10-19 21:39:41.848633: I tensorflow/core/profiler/lib/profiler_session.cc:131] Profiler session initializing.\n",
      "2022-10-19 21:39:41.848725: I tensorflow/core/profiler/lib/profiler_session.cc:146] Profiler session started.\n",
      "2022-10-19 21:39:42.861691: I tensorflow/core/profiler/lib/profiler_session.cc:164] Profiler session tear down.\n",
      "2022-10-19 21:39:42.866651: I tensorflow/core/profiler/internal/gpu/cupti_tracer.cc:1748] CUPTI activity buffer flushed\n"
     ]
    },
    {
     "name": "stdout",
     "output_type": "stream",
     "text": [
      "Epoch 1/10\n",
      "  1/860 [..............................] - ETA: 3:34:02 - loss: 2.6080 - acc: 0.1250"
     ]
    },
    {
     "name": "stderr",
     "output_type": "stream",
     "text": [
      "2022-10-19 21:39:58.478957: I tensorflow/core/profiler/lib/profiler_session.cc:131] Profiler session initializing.\n",
      "2022-10-19 21:39:58.479167: I tensorflow/core/profiler/lib/profiler_session.cc:146] Profiler session started.\n"
     ]
    },
    {
     "name": "stdout",
     "output_type": "stream",
     "text": [
      "  2/860 [..............................] - ETA: 19:41 - loss: 3.4002 - acc: 0.0938  "
     ]
    },
    {
     "name": "stderr",
     "output_type": "stream",
     "text": [
      "2022-10-19 21:39:59.811484: I tensorflow/core/profiler/lib/profiler_session.cc:66] Profiler session collecting data.\n",
      "2022-10-19 21:39:59.813537: I tensorflow/core/profiler/internal/gpu/cupti_tracer.cc:1748] CUPTI activity buffer flushed\n",
      "2022-10-19 21:39:59.931352: I tensorflow/core/profiler/internal/gpu/cupti_collector.cc:673]  GpuTracer has collected 6239 callback api events and 6236 activity events. \n",
      "2022-10-19 21:40:00.192229: I tensorflow/core/profiler/lib/profiler_session.cc:164] Profiler session tear down.\n",
      "2022-10-19 21:40:00.491638: I tensorflow/core/profiler/rpc/client/save_profile.cc:136] Creating directory: models/bagging/rnn_with_feature8/logs/train/plugins/profile/2022_10_19_21_40_00\n",
      "\n",
      "2022-10-19 21:40:00.609811: I tensorflow/core/profiler/rpc/client/save_profile.cc:142] Dumped gzipped tool data for trace.json.gz to models/bagging/rnn_with_feature8/logs/train/plugins/profile/2022_10_19_21_40_00/dell-Precision-7920-Tower.trace.json.gz\n"
     ]
    },
    {
     "name": "stdout",
     "output_type": "stream",
     "text": [
      "  4/860 [..............................] - ETA: 13:09 - loss: 3.0988 - acc: 0.0625"
     ]
    },
    {
     "name": "stderr",
     "output_type": "stream",
     "text": [
      "2022-10-19 21:40:00.750393: I tensorflow/core/profiler/rpc/client/save_profile.cc:136] Creating directory: models/bagging/rnn_with_feature8/logs/train/plugins/profile/2022_10_19_21_40_00\n",
      "\n",
      "2022-10-19 21:40:00.757035: I tensorflow/core/profiler/rpc/client/save_profile.cc:142] Dumped gzipped tool data for memory_profile.json.gz to models/bagging/rnn_with_feature8/logs/train/plugins/profile/2022_10_19_21_40_00/dell-Precision-7920-Tower.memory_profile.json.gz\n",
      "2022-10-19 21:40:00.759557: I tensorflow/core/profiler/rpc/client/capture_profile.cc:251] Creating directory: models/bagging/rnn_with_feature8/logs/train/plugins/profile/2022_10_19_21_40_00\n",
      "Dumped tool data for xplane.pb to models/bagging/rnn_with_feature8/logs/train/plugins/profile/2022_10_19_21_40_00/dell-Precision-7920-Tower.xplane.pb\n",
      "Dumped tool data for overview_page.pb to models/bagging/rnn_with_feature8/logs/train/plugins/profile/2022_10_19_21_40_00/dell-Precision-7920-Tower.overview_page.pb\n",
      "Dumped tool data for input_pipeline.pb to models/bagging/rnn_with_feature8/logs/train/plugins/profile/2022_10_19_21_40_00/dell-Precision-7920-Tower.input_pipeline.pb\n",
      "Dumped tool data for tensorflow_stats.pb to models/bagging/rnn_with_feature8/logs/train/plugins/profile/2022_10_19_21_40_00/dell-Precision-7920-Tower.tensorflow_stats.pb\n",
      "Dumped tool data for kernel_stats.pb to models/bagging/rnn_with_feature8/logs/train/plugins/profile/2022_10_19_21_40_00/dell-Precision-7920-Tower.kernel_stats.pb\n",
      "\n"
     ]
    },
    {
     "name": "stdout",
     "output_type": "stream",
     "text": [
      "860/860 [==============================] - 71s 66ms/step - loss: 1.8101 - acc: 0.4400 - val_loss: 1.3851 - val_acc: 0.6551\n"
     ]
    },
    {
     "name": "stderr",
     "output_type": "stream",
     "text": [
      "WARNING:absl:Found untraced functions such as gru_cell_43_layer_call_and_return_conditional_losses, gru_cell_43_layer_call_fn, gru_cell_44_layer_call_and_return_conditional_losses, gru_cell_44_layer_call_fn, gru_cell_46_layer_call_and_return_conditional_losses while saving (showing 5 of 20). These functions will not be directly callable after loading.\n"
     ]
    },
    {
     "name": "stdout",
     "output_type": "stream",
     "text": [
      "INFO:tensorflow:Assets written to: models/bagging/rnn_with_feature8/model_1/assets\n"
     ]
    },
    {
     "name": "stderr",
     "output_type": "stream",
     "text": [
      "INFO:tensorflow:Assets written to: models/bagging/rnn_with_feature8/model_1/assets\n"
     ]
    },
    {
     "name": "stdout",
     "output_type": "stream",
     "text": [
      "Epoch 2/10\n",
      "860/860 [==============================] - 48s 56ms/step - loss: 1.2131 - acc: 0.7377 - val_loss: 1.0602 - val_acc: 0.8267\n"
     ]
    },
    {
     "name": "stderr",
     "output_type": "stream",
     "text": [
      "WARNING:absl:Found untraced functions such as gru_cell_43_layer_call_and_return_conditional_losses, gru_cell_43_layer_call_fn, gru_cell_44_layer_call_and_return_conditional_losses, gru_cell_44_layer_call_fn, gru_cell_46_layer_call_and_return_conditional_losses while saving (showing 5 of 20). These functions will not be directly callable after loading.\n"
     ]
    },
    {
     "name": "stdout",
     "output_type": "stream",
     "text": [
      "INFO:tensorflow:Assets written to: models/bagging/rnn_with_feature8/model_2/assets\n"
     ]
    },
    {
     "name": "stderr",
     "output_type": "stream",
     "text": [
      "INFO:tensorflow:Assets written to: models/bagging/rnn_with_feature8/model_2/assets\n"
     ]
    },
    {
     "name": "stdout",
     "output_type": "stream",
     "text": [
      "Epoch 3/10\n",
      "860/860 [==============================] - 46s 54ms/step - loss: 1.0420 - acc: 0.8179 - val_loss: 1.0285 - val_acc: 0.8361\n"
     ]
    },
    {
     "name": "stderr",
     "output_type": "stream",
     "text": [
      "WARNING:absl:Found untraced functions such as gru_cell_43_layer_call_and_return_conditional_losses, gru_cell_43_layer_call_fn, gru_cell_44_layer_call_and_return_conditional_losses, gru_cell_44_layer_call_fn, gru_cell_46_layer_call_and_return_conditional_losses while saving (showing 5 of 20). These functions will not be directly callable after loading.\n"
     ]
    },
    {
     "name": "stdout",
     "output_type": "stream",
     "text": [
      "INFO:tensorflow:Assets written to: models/bagging/rnn_with_feature8/model_3/assets\n"
     ]
    },
    {
     "name": "stderr",
     "output_type": "stream",
     "text": [
      "INFO:tensorflow:Assets written to: models/bagging/rnn_with_feature8/model_3/assets\n"
     ]
    },
    {
     "name": "stdout",
     "output_type": "stream",
     "text": [
      "Epoch 4/10\n",
      "860/860 [==============================] - 47s 54ms/step - loss: 0.9698 - acc: 0.8476 - val_loss: 0.9822 - val_acc: 0.8422\n"
     ]
    },
    {
     "name": "stderr",
     "output_type": "stream",
     "text": [
      "WARNING:absl:Found untraced functions such as gru_cell_43_layer_call_and_return_conditional_losses, gru_cell_43_layer_call_fn, gru_cell_44_layer_call_and_return_conditional_losses, gru_cell_44_layer_call_fn, gru_cell_46_layer_call_and_return_conditional_losses while saving (showing 5 of 20). These functions will not be directly callable after loading.\n"
     ]
    },
    {
     "name": "stdout",
     "output_type": "stream",
     "text": [
      "INFO:tensorflow:Assets written to: models/bagging/rnn_with_feature8/model_4/assets\n"
     ]
    },
    {
     "name": "stderr",
     "output_type": "stream",
     "text": [
      "INFO:tensorflow:Assets written to: models/bagging/rnn_with_feature8/model_4/assets\n"
     ]
    },
    {
     "name": "stdout",
     "output_type": "stream",
     "text": [
      "Epoch 5/10\n",
      "860/860 [==============================] - 49s 57ms/step - loss: 0.9254 - acc: 0.8681 - val_loss: 0.9820 - val_acc: 0.8403\n"
     ]
    },
    {
     "name": "stderr",
     "output_type": "stream",
     "text": [
      "WARNING:absl:Found untraced functions such as gru_cell_43_layer_call_and_return_conditional_losses, gru_cell_43_layer_call_fn, gru_cell_44_layer_call_and_return_conditional_losses, gru_cell_44_layer_call_fn, gru_cell_46_layer_call_and_return_conditional_losses while saving (showing 5 of 20). These functions will not be directly callable after loading.\n"
     ]
    },
    {
     "name": "stdout",
     "output_type": "stream",
     "text": [
      "INFO:tensorflow:Assets written to: models/bagging/rnn_with_feature8/model_5/assets\n"
     ]
    },
    {
     "name": "stderr",
     "output_type": "stream",
     "text": [
      "INFO:tensorflow:Assets written to: models/bagging/rnn_with_feature8/model_5/assets\n"
     ]
    },
    {
     "name": "stdout",
     "output_type": "stream",
     "text": [
      "Epoch 6/10\n",
      "860/860 [==============================] - 47s 54ms/step - loss: 0.8903 - acc: 0.8791 - val_loss: 0.9802 - val_acc: 0.8409\n"
     ]
    },
    {
     "name": "stderr",
     "output_type": "stream",
     "text": [
      "WARNING:absl:Found untraced functions such as gru_cell_43_layer_call_and_return_conditional_losses, gru_cell_43_layer_call_fn, gru_cell_44_layer_call_and_return_conditional_losses, gru_cell_44_layer_call_fn, gru_cell_46_layer_call_and_return_conditional_losses while saving (showing 5 of 20). These functions will not be directly callable after loading.\n"
     ]
    },
    {
     "name": "stdout",
     "output_type": "stream",
     "text": [
      "INFO:tensorflow:Assets written to: models/bagging/rnn_with_feature8/model_6/assets\n"
     ]
    },
    {
     "name": "stderr",
     "output_type": "stream",
     "text": [
      "INFO:tensorflow:Assets written to: models/bagging/rnn_with_feature8/model_6/assets\n"
     ]
    },
    {
     "name": "stdout",
     "output_type": "stream",
     "text": [
      "Epoch 7/10\n",
      "860/860 [==============================] - 47s 54ms/step - loss: 0.8636 - acc: 0.8907 - val_loss: 0.9793 - val_acc: 0.8303\n"
     ]
    },
    {
     "name": "stderr",
     "output_type": "stream",
     "text": [
      "WARNING:absl:Found untraced functions such as gru_cell_43_layer_call_and_return_conditional_losses, gru_cell_43_layer_call_fn, gru_cell_44_layer_call_and_return_conditional_losses, gru_cell_44_layer_call_fn, gru_cell_46_layer_call_and_return_conditional_losses while saving (showing 5 of 20). These functions will not be directly callable after loading.\n"
     ]
    },
    {
     "name": "stdout",
     "output_type": "stream",
     "text": [
      "INFO:tensorflow:Assets written to: models/bagging/rnn_with_feature8/model_7/assets\n"
     ]
    },
    {
     "name": "stderr",
     "output_type": "stream",
     "text": [
      "INFO:tensorflow:Assets written to: models/bagging/rnn_with_feature8/model_7/assets\n"
     ]
    },
    {
     "name": "stdout",
     "output_type": "stream",
     "text": [
      "Epoch 8/10\n",
      "860/860 [==============================] - 47s 55ms/step - loss: 0.8459 - acc: 0.8973 - val_loss: 0.9989 - val_acc: 0.8255\n"
     ]
    },
    {
     "name": "stderr",
     "output_type": "stream",
     "text": [
      "WARNING:absl:Found untraced functions such as gru_cell_43_layer_call_and_return_conditional_losses, gru_cell_43_layer_call_fn, gru_cell_44_layer_call_and_return_conditional_losses, gru_cell_44_layer_call_fn, gru_cell_46_layer_call_and_return_conditional_losses while saving (showing 5 of 20). These functions will not be directly callable after loading.\n"
     ]
    },
    {
     "name": "stdout",
     "output_type": "stream",
     "text": [
      "INFO:tensorflow:Assets written to: models/bagging/rnn_with_feature8/model_8/assets\n"
     ]
    },
    {
     "name": "stderr",
     "output_type": "stream",
     "text": [
      "INFO:tensorflow:Assets written to: models/bagging/rnn_with_feature8/model_8/assets\n"
     ]
    },
    {
     "name": "stdout",
     "output_type": "stream",
     "text": [
      "Epoch 9/10\n",
      "860/860 [==============================] - 47s 55ms/step - loss: 0.8294 - acc: 0.9039 - val_loss: 0.9784 - val_acc: 0.8395\n"
     ]
    },
    {
     "name": "stderr",
     "output_type": "stream",
     "text": [
      "WARNING:absl:Found untraced functions such as gru_cell_43_layer_call_and_return_conditional_losses, gru_cell_43_layer_call_fn, gru_cell_44_layer_call_and_return_conditional_losses, gru_cell_44_layer_call_fn, gru_cell_46_layer_call_and_return_conditional_losses while saving (showing 5 of 20). These functions will not be directly callable after loading.\n"
     ]
    },
    {
     "name": "stdout",
     "output_type": "stream",
     "text": [
      "INFO:tensorflow:Assets written to: models/bagging/rnn_with_feature8/model_9/assets\n"
     ]
    },
    {
     "name": "stderr",
     "output_type": "stream",
     "text": [
      "INFO:tensorflow:Assets written to: models/bagging/rnn_with_feature8/model_9/assets\n"
     ]
    },
    {
     "name": "stdout",
     "output_type": "stream",
     "text": [
      "Epoch 10/10\n",
      "860/860 [==============================] - 47s 54ms/step - loss: 0.8149 - acc: 0.9069 - val_loss: 0.9781 - val_acc: 0.8409\n"
     ]
    },
    {
     "name": "stderr",
     "output_type": "stream",
     "text": [
      "WARNING:absl:Found untraced functions such as gru_cell_43_layer_call_and_return_conditional_losses, gru_cell_43_layer_call_fn, gru_cell_44_layer_call_and_return_conditional_losses, gru_cell_44_layer_call_fn, gru_cell_46_layer_call_and_return_conditional_losses while saving (showing 5 of 20). These functions will not be directly callable after loading.\n"
     ]
    },
    {
     "name": "stdout",
     "output_type": "stream",
     "text": [
      "INFO:tensorflow:Assets written to: models/bagging/rnn_with_feature8/model_10/assets\n"
     ]
    },
    {
     "name": "stderr",
     "output_type": "stream",
     "text": [
      "INFO:tensorflow:Assets written to: models/bagging/rnn_with_feature8/model_10/assets\n",
      "2022-10-19 21:52:21.884931: I tensorflow/core/profiler/lib/profiler_session.cc:131] Profiler session initializing.\n",
      "2022-10-19 21:52:21.885091: I tensorflow/core/profiler/lib/profiler_session.cc:146] Profiler session started.\n",
      "2022-10-19 21:52:23.267224: I tensorflow/core/profiler/lib/profiler_session.cc:164] Profiler session tear down.\n",
      "2022-10-19 21:52:23.267402: I tensorflow/core/profiler/internal/gpu/cupti_tracer.cc:1748] CUPTI activity buffer flushed\n"
     ]
    },
    {
     "name": "stdout",
     "output_type": "stream",
     "text": [
      "Epoch 1/10\n",
      "  1/860 [..............................] - ETA: 3:01:15 - loss: 7.1791 - acc: 0.1250"
     ]
    },
    {
     "name": "stderr",
     "output_type": "stream",
     "text": [
      "2022-10-19 21:52:36.514613: I tensorflow/core/profiler/lib/profiler_session.cc:131] Profiler session initializing.\n",
      "2022-10-19 21:52:36.515023: I tensorflow/core/profiler/lib/profiler_session.cc:146] Profiler session started.\n"
     ]
    },
    {
     "name": "stdout",
     "output_type": "stream",
     "text": [
      "  2/860 [..............................] - ETA: 10:27 - loss: 6.2270 - acc: 0.1094  "
     ]
    },
    {
     "name": "stderr",
     "output_type": "stream",
     "text": [
      "2022-10-19 21:52:37.162035: I tensorflow/core/profiler/lib/profiler_session.cc:66] Profiler session collecting data.\n",
      "2022-10-19 21:52:37.165338: I tensorflow/core/profiler/internal/gpu/cupti_tracer.cc:1748] CUPTI activity buffer flushed\n",
      "2022-10-19 21:52:37.257196: I tensorflow/core/profiler/internal/gpu/cupti_collector.cc:673]  GpuTracer has collected 5869 callback api events and 5866 activity events. \n",
      "2022-10-19 21:52:37.429285: I tensorflow/core/profiler/lib/profiler_session.cc:164] Profiler session tear down.\n",
      "2022-10-19 21:52:37.647670: I tensorflow/core/profiler/rpc/client/save_profile.cc:136] Creating directory: models/bagging/rnn_with_feature9/logs/train/plugins/profile/2022_10_19_21_52_37\n",
      "\n",
      "2022-10-19 21:52:37.759998: I tensorflow/core/profiler/rpc/client/save_profile.cc:142] Dumped gzipped tool data for trace.json.gz to models/bagging/rnn_with_feature9/logs/train/plugins/profile/2022_10_19_21_52_37/dell-Precision-7920-Tower.trace.json.gz\n"
     ]
    },
    {
     "name": "stdout",
     "output_type": "stream",
     "text": [
      "  5/860 [..............................] - ETA: 6:39 - loss: 8.7561 - acc: 0.0875 "
     ]
    },
    {
     "name": "stderr",
     "output_type": "stream",
     "text": [
      "2022-10-19 21:52:37.905232: I tensorflow/core/profiler/rpc/client/save_profile.cc:136] Creating directory: models/bagging/rnn_with_feature9/logs/train/plugins/profile/2022_10_19_21_52_37\n",
      "\n",
      "2022-10-19 21:52:37.911804: I tensorflow/core/profiler/rpc/client/save_profile.cc:142] Dumped gzipped tool data for memory_profile.json.gz to models/bagging/rnn_with_feature9/logs/train/plugins/profile/2022_10_19_21_52_37/dell-Precision-7920-Tower.memory_profile.json.gz\n",
      "2022-10-19 21:52:37.914235: I tensorflow/core/profiler/rpc/client/capture_profile.cc:251] Creating directory: models/bagging/rnn_with_feature9/logs/train/plugins/profile/2022_10_19_21_52_37\n",
      "Dumped tool data for xplane.pb to models/bagging/rnn_with_feature9/logs/train/plugins/profile/2022_10_19_21_52_37/dell-Precision-7920-Tower.xplane.pb\n",
      "Dumped tool data for overview_page.pb to models/bagging/rnn_with_feature9/logs/train/plugins/profile/2022_10_19_21_52_37/dell-Precision-7920-Tower.overview_page.pb\n",
      "Dumped tool data for input_pipeline.pb to models/bagging/rnn_with_feature9/logs/train/plugins/profile/2022_10_19_21_52_37/dell-Precision-7920-Tower.input_pipeline.pb\n",
      "Dumped tool data for tensorflow_stats.pb to models/bagging/rnn_with_feature9/logs/train/plugins/profile/2022_10_19_21_52_37/dell-Precision-7920-Tower.tensorflow_stats.pb\n",
      "Dumped tool data for kernel_stats.pb to models/bagging/rnn_with_feature9/logs/train/plugins/profile/2022_10_19_21_52_37/dell-Precision-7920-Tower.kernel_stats.pb\n",
      "\n"
     ]
    },
    {
     "name": "stdout",
     "output_type": "stream",
     "text": [
      "860/860 [==============================] - 67s 63ms/step - loss: 1.8285 - acc: 0.4495 - val_loss: 1.3207 - val_acc: 0.7042\n"
     ]
    },
    {
     "name": "stderr",
     "output_type": "stream",
     "text": [
      "WARNING:absl:Found untraced functions such as gru_cell_49_layer_call_and_return_conditional_losses, gru_cell_49_layer_call_fn, gru_cell_50_layer_call_and_return_conditional_losses, gru_cell_50_layer_call_fn, gru_cell_52_layer_call_and_return_conditional_losses while saving (showing 5 of 20). These functions will not be directly callable after loading.\n"
     ]
    },
    {
     "name": "stdout",
     "output_type": "stream",
     "text": [
      "INFO:tensorflow:Assets written to: models/bagging/rnn_with_feature9/model_1/assets\n"
     ]
    },
    {
     "name": "stderr",
     "output_type": "stream",
     "text": [
      "INFO:tensorflow:Assets written to: models/bagging/rnn_with_feature9/model_1/assets\n"
     ]
    },
    {
     "name": "stdout",
     "output_type": "stream",
     "text": [
      "Epoch 2/10\n",
      "860/860 [==============================] - 50s 58ms/step - loss: 1.1916 - acc: 0.7385 - val_loss: 1.0674 - val_acc: 0.8258\n"
     ]
    },
    {
     "name": "stderr",
     "output_type": "stream",
     "text": [
      "WARNING:absl:Found untraced functions such as gru_cell_49_layer_call_and_return_conditional_losses, gru_cell_49_layer_call_fn, gru_cell_50_layer_call_and_return_conditional_losses, gru_cell_50_layer_call_fn, gru_cell_52_layer_call_and_return_conditional_losses while saving (showing 5 of 20). These functions will not be directly callable after loading.\n"
     ]
    },
    {
     "name": "stdout",
     "output_type": "stream",
     "text": [
      "INFO:tensorflow:Assets written to: models/bagging/rnn_with_feature9/model_2/assets\n"
     ]
    },
    {
     "name": "stderr",
     "output_type": "stream",
     "text": [
      "INFO:tensorflow:Assets written to: models/bagging/rnn_with_feature9/model_2/assets\n"
     ]
    },
    {
     "name": "stdout",
     "output_type": "stream",
     "text": [
      "Epoch 3/10\n",
      "860/860 [==============================] - 47s 55ms/step - loss: 1.0294 - acc: 0.8226 - val_loss: 1.0007 - val_acc: 0.8464\n"
     ]
    },
    {
     "name": "stderr",
     "output_type": "stream",
     "text": [
      "WARNING:absl:Found untraced functions such as gru_cell_49_layer_call_and_return_conditional_losses, gru_cell_49_layer_call_fn, gru_cell_50_layer_call_and_return_conditional_losses, gru_cell_50_layer_call_fn, gru_cell_52_layer_call_and_return_conditional_losses while saving (showing 5 of 20). These functions will not be directly callable after loading.\n"
     ]
    },
    {
     "name": "stdout",
     "output_type": "stream",
     "text": [
      "INFO:tensorflow:Assets written to: models/bagging/rnn_with_feature9/model_3/assets\n"
     ]
    },
    {
     "name": "stderr",
     "output_type": "stream",
     "text": [
      "INFO:tensorflow:Assets written to: models/bagging/rnn_with_feature9/model_3/assets\n"
     ]
    },
    {
     "name": "stdout",
     "output_type": "stream",
     "text": [
      "Epoch 4/10\n",
      "860/860 [==============================] - 47s 55ms/step - loss: 0.9548 - acc: 0.8540 - val_loss: 0.9787 - val_acc: 0.8521\n"
     ]
    },
    {
     "name": "stderr",
     "output_type": "stream",
     "text": [
      "WARNING:absl:Found untraced functions such as gru_cell_49_layer_call_and_return_conditional_losses, gru_cell_49_layer_call_fn, gru_cell_50_layer_call_and_return_conditional_losses, gru_cell_50_layer_call_fn, gru_cell_52_layer_call_and_return_conditional_losses while saving (showing 5 of 20). These functions will not be directly callable after loading.\n"
     ]
    },
    {
     "name": "stdout",
     "output_type": "stream",
     "text": [
      "INFO:tensorflow:Assets written to: models/bagging/rnn_with_feature9/model_4/assets\n"
     ]
    },
    {
     "name": "stderr",
     "output_type": "stream",
     "text": [
      "INFO:tensorflow:Assets written to: models/bagging/rnn_with_feature9/model_4/assets\n"
     ]
    },
    {
     "name": "stdout",
     "output_type": "stream",
     "text": [
      "Epoch 5/10\n",
      "860/860 [==============================] - 47s 55ms/step - loss: 0.9116 - acc: 0.8701 - val_loss: 0.9971 - val_acc: 0.8194\n"
     ]
    },
    {
     "name": "stderr",
     "output_type": "stream",
     "text": [
      "WARNING:absl:Found untraced functions such as gru_cell_49_layer_call_and_return_conditional_losses, gru_cell_49_layer_call_fn, gru_cell_50_layer_call_and_return_conditional_losses, gru_cell_50_layer_call_fn, gru_cell_52_layer_call_and_return_conditional_losses while saving (showing 5 of 20). These functions will not be directly callable after loading.\n"
     ]
    },
    {
     "name": "stdout",
     "output_type": "stream",
     "text": [
      "INFO:tensorflow:Assets written to: models/bagging/rnn_with_feature9/model_5/assets\n"
     ]
    },
    {
     "name": "stderr",
     "output_type": "stream",
     "text": [
      "INFO:tensorflow:Assets written to: models/bagging/rnn_with_feature9/model_5/assets\n"
     ]
    },
    {
     "name": "stdout",
     "output_type": "stream",
     "text": [
      "Epoch 6/10\n",
      "860/860 [==============================] - 47s 54ms/step - loss: 0.8764 - acc: 0.8834 - val_loss: 0.9655 - val_acc: 0.8363\n"
     ]
    },
    {
     "name": "stderr",
     "output_type": "stream",
     "text": [
      "WARNING:absl:Found untraced functions such as gru_cell_49_layer_call_and_return_conditional_losses, gru_cell_49_layer_call_fn, gru_cell_50_layer_call_and_return_conditional_losses, gru_cell_50_layer_call_fn, gru_cell_52_layer_call_and_return_conditional_losses while saving (showing 5 of 20). These functions will not be directly callable after loading.\n"
     ]
    },
    {
     "name": "stdout",
     "output_type": "stream",
     "text": [
      "INFO:tensorflow:Assets written to: models/bagging/rnn_with_feature9/model_6/assets\n"
     ]
    },
    {
     "name": "stderr",
     "output_type": "stream",
     "text": [
      "INFO:tensorflow:Assets written to: models/bagging/rnn_with_feature9/model_6/assets\n"
     ]
    },
    {
     "name": "stdout",
     "output_type": "stream",
     "text": [
      "Epoch 7/10\n",
      "860/860 [==============================] - 47s 54ms/step - loss: 0.8484 - acc: 0.8937 - val_loss: 1.0047 - val_acc: 0.7977\n"
     ]
    },
    {
     "name": "stderr",
     "output_type": "stream",
     "text": [
      "WARNING:absl:Found untraced functions such as gru_cell_49_layer_call_and_return_conditional_losses, gru_cell_49_layer_call_fn, gru_cell_50_layer_call_and_return_conditional_losses, gru_cell_50_layer_call_fn, gru_cell_52_layer_call_and_return_conditional_losses while saving (showing 5 of 20). These functions will not be directly callable after loading.\n"
     ]
    },
    {
     "name": "stdout",
     "output_type": "stream",
     "text": [
      "INFO:tensorflow:Assets written to: models/bagging/rnn_with_feature9/model_7/assets\n"
     ]
    },
    {
     "name": "stderr",
     "output_type": "stream",
     "text": [
      "INFO:tensorflow:Assets written to: models/bagging/rnn_with_feature9/model_7/assets\n"
     ]
    },
    {
     "name": "stdout",
     "output_type": "stream",
     "text": [
      "Epoch 8/10\n",
      "860/860 [==============================] - 47s 55ms/step - loss: 0.8265 - acc: 0.8995 - val_loss: 0.9896 - val_acc: 0.8268\n"
     ]
    },
    {
     "name": "stderr",
     "output_type": "stream",
     "text": [
      "WARNING:absl:Found untraced functions such as gru_cell_49_layer_call_and_return_conditional_losses, gru_cell_49_layer_call_fn, gru_cell_50_layer_call_and_return_conditional_losses, gru_cell_50_layer_call_fn, gru_cell_52_layer_call_and_return_conditional_losses while saving (showing 5 of 20). These functions will not be directly callable after loading.\n"
     ]
    },
    {
     "name": "stdout",
     "output_type": "stream",
     "text": [
      "INFO:tensorflow:Assets written to: models/bagging/rnn_with_feature9/model_8/assets\n"
     ]
    },
    {
     "name": "stderr",
     "output_type": "stream",
     "text": [
      "INFO:tensorflow:Assets written to: models/bagging/rnn_with_feature9/model_8/assets\n"
     ]
    },
    {
     "name": "stdout",
     "output_type": "stream",
     "text": [
      "Epoch 9/10\n",
      "860/860 [==============================] - 51s 59ms/step - loss: 0.8106 - acc: 0.9035 - val_loss: 0.9957 - val_acc: 0.8189\n"
     ]
    },
    {
     "name": "stderr",
     "output_type": "stream",
     "text": [
      "WARNING:absl:Found untraced functions such as gru_cell_49_layer_call_and_return_conditional_losses, gru_cell_49_layer_call_fn, gru_cell_50_layer_call_and_return_conditional_losses, gru_cell_50_layer_call_fn, gru_cell_52_layer_call_and_return_conditional_losses while saving (showing 5 of 20). These functions will not be directly callable after loading.\n"
     ]
    },
    {
     "name": "stdout",
     "output_type": "stream",
     "text": [
      "INFO:tensorflow:Assets written to: models/bagging/rnn_with_feature9/model_9/assets\n"
     ]
    },
    {
     "name": "stderr",
     "output_type": "stream",
     "text": [
      "INFO:tensorflow:Assets written to: models/bagging/rnn_with_feature9/model_9/assets\n"
     ]
    },
    {
     "name": "stdout",
     "output_type": "stream",
     "text": [
      "Epoch 10/10\n",
      "860/860 [==============================] - 48s 55ms/step - loss: 0.7967 - acc: 0.9110 - val_loss: 0.9921 - val_acc: 0.8199\n"
     ]
    },
    {
     "name": "stderr",
     "output_type": "stream",
     "text": [
      "WARNING:absl:Found untraced functions such as gru_cell_49_layer_call_and_return_conditional_losses, gru_cell_49_layer_call_fn, gru_cell_50_layer_call_and_return_conditional_losses, gru_cell_50_layer_call_fn, gru_cell_52_layer_call_and_return_conditional_losses while saving (showing 5 of 20). These functions will not be directly callable after loading.\n"
     ]
    },
    {
     "name": "stdout",
     "output_type": "stream",
     "text": [
      "INFO:tensorflow:Assets written to: models/bagging/rnn_with_feature9/model_10/assets\n"
     ]
    },
    {
     "name": "stderr",
     "output_type": "stream",
     "text": [
      "INFO:tensorflow:Assets written to: models/bagging/rnn_with_feature9/model_10/assets\n"
     ]
    },
    {
     "ename": "",
     "evalue": "",
     "output_type": "error",
     "traceback": [
      "\u001b[1;31mThe Kernel crashed while executing code in the the current cell or a previous cell. Please review the code in the cell(s) to identify a possible cause of the failure. Click <a href='https://aka.ms/vscodeJupyterKernelCrash'>here</a> for more info. View Jupyter <a href='command:jupyter.viewOutput'>log</a> for further details."
     ]
    }
   ],
   "source": [
    "from mix_models import rnn_with_feature\n",
    "\n",
    "X_val = {'sequence':X_sequence_val_trimed, 'feature':X_feature_val}\n",
    "lr_schedule = keras.optimizers.schedules.ExponentialDecay(\n",
    "    initial_learning_rate=1e-3,\n",
    "    decay_steps=860,\n",
    "    decay_rate=0.85)\n",
    "\n",
    "for i in range(1,10):\n",
    "    model = rnn_with_feature(sequence_shape=(None, 3),feature_shape=(2,), num_classes=11)\n",
    "    model.compile(\n",
    "    optimizer=keras.optimizers.Adam(lr_schedule),\n",
    "    # loss=\"sparse_categorical_crossentropy\",\n",
    "    loss=keras.losses.CategoricalCrossentropy(label_smoothing=0.1),\n",
    "    # metrics=[keras.metrics.SparseCategoricalAccuracy(name=\"acc\")],\n",
    "    metrics=[keras.metrics.CategoricalAccuracy(name=\"acc\")],\n",
    "    run_eagerly=False,\n",
    "    )\n",
    "    callbacks = [\n",
    "    keras.callbacks.ModelCheckpoint(\n",
    "        filepath='models/bagging/rnn_with_feature%d/model_{epoch}'%i,\n",
    "        save_freq='epoch'),\n",
    "    keras.callbacks.TensorBoard(log_dir='models/bagging/rnn_with_feature%d/logs'%i)\n",
    "    ]\n",
    "    X_train = {'sequence':total_X_sequence_train[i], 'feature':total_X_feature_train[i]}\n",
    "    model.fit(X_train, total_Y_train[i], batch_size=32, epochs=10, \n",
    "        validation_data=(X_val, Y_val), callbacks=callbacks)\n"
   ]
  }
 ],
 "metadata": {
  "kernelspec": {
   "display_name": "Python 3.9.7 ('DL')",
   "language": "python",
   "name": "python3"
  },
  "language_info": {
   "codemirror_mode": {
    "name": "ipython",
    "version": 3
   },
   "file_extension": ".py",
   "mimetype": "text/x-python",
   "name": "python",
   "nbconvert_exporter": "python",
   "pygments_lexer": "ipython3",
   "version": "3.9.7"
  },
  "orig_nbformat": 4,
  "vscode": {
   "interpreter": {
    "hash": "686e52782356fa5192d8da796457d9836a4bb6aebab3dc056991bb89ef60f4a8"
   }
  }
 },
 "nbformat": 4,
 "nbformat_minor": 2
}
