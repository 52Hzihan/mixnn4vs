{
 "cells": [
  {
   "cell_type": "code",
   "execution_count": 1,
   "metadata": {},
   "outputs": [],
   "source": [
    "import tensorflow as tf\n",
    "from tensorflow import keras\n",
    "from tensorflow.keras import layers\n",
    "from tensorflow.keras import regularizers\n",
    "\n",
    "import pickle\n",
    "import numpy as np\n",
    "\n",
    "f2 = open('data/split_0.80_0.10_0.10_aug_to_2500_down_sample_True_instance0-9/val_data', 'rb')\n",
    "X_sequence_val, X_feature_val, X_image_val, Y_val = pickle.load(f2)\n",
    "f2.close()\n",
    "\n",
    "from keras.preprocessing.sequence import pad_sequences\n",
    "from util import preprocess\n",
    "\n",
    "total_X_sequence_train = []\n",
    "total_X_feature_train = []\n",
    "# total_X_image_train = []\n",
    "total_Y_train = []\n",
    "for i in range(0,10):\n",
    "    f = open('data/split_0.80_0.10_0.10_aug_to_2500_down_sample_True_instance0-9/train_data%d'%i, 'rb')\n",
    "    X_sequence_train, X_feature_train, X_image_train, Y_train = pickle.load(f)\n",
    "    X_sequence_train_paded = pad_sequences(X_sequence_train, dtype='float', padding='post', value = np.nan)\n",
    "    X_sequence_train_trimed = preprocess(X_sequence_train_paded)\n",
    "    X_feature_train = np.array(X_feature_train)\n",
    "    Y_train = np.array(Y_train)-1\n",
    "    total_X_sequence_train.append(X_sequence_train_trimed)\n",
    "    total_X_feature_train.append(X_feature_train)\n",
    "    total_Y_train.append(Y_train)\n",
    "    f.close()\n",
    "\n",
    "X_sequence_val_paded = pad_sequences(X_sequence_val, dtype='float', padding='post', value = np.nan)\n",
    "X_sequence_val_trimed = preprocess(X_sequence_val_paded)\n",
    "X_feature_val = np.array(X_feature_val)\n",
    "Y_val = np.array(Y_val)-1\n"
   ]
  },
  {
   "cell_type": "code",
   "execution_count": 2,
   "metadata": {},
   "outputs": [],
   "source": [
    "def rnn_with_feature(sequence_shape, feature_shape, num_classes):\n",
    "    sequence_inputs = keras.Input(shape=sequence_shape, name='sequence')\n",
    "    masking_layer = layers.Masking(mask_value=0)\n",
    "    x1 = masking_layer(sequence_inputs)\n",
    "    x1 = layers.Bidirectional(layers.GRU(128, return_sequences=True))(x1)\n",
    "    x1 = layers.Bidirectional(layers.GRU(64))(x1)\n",
    "    x1 = layers.Dropout(0.5)(x1)\n",
    "    x1 = layers.Dense(128, activation=\"relu\")(x1)\n",
    "    x1 = layers.Dropout(0.5)(x1)\n",
    "    x1 = layers.Dense(32, activation=\"relu\")(x1)\n",
    "\n",
    "    feature_inputs = keras.Input(shape=feature_shape, name='feature')\n",
    "    x3 = layers.Dense(32, activation=\"relu\")(feature_inputs)\n",
    "    x3 = layers.Dense(16, activation=\"relu\")(x3)\n",
    "\n",
    "    x = layers.concatenate([x1, x3])\n",
    "    outputs = layers.Dense(num_classes, activation=\"softmax\")(x)\n",
    "    model = keras.Model(inputs=[sequence_inputs, feature_inputs], outputs=outputs)\n",
    "    return model"
   ]
  },
  {
   "cell_type": "code",
   "execution_count": 5,
   "metadata": {},
   "outputs": [
    {
     "name": "stderr",
     "output_type": "stream",
     "text": [
      "2022-10-13 13:16:51.067324: I tensorflow/core/profiler/lib/profiler_session.cc:131] Profiler session initializing.\n",
      "2022-10-13 13:16:51.067364: I tensorflow/core/profiler/lib/profiler_session.cc:146] Profiler session started.\n",
      "2022-10-13 13:16:51.696479: I tensorflow/core/profiler/lib/profiler_session.cc:164] Profiler session tear down.\n",
      "2022-10-13 13:16:51.696710: I tensorflow/core/profiler/internal/gpu/cupti_tracer.cc:1748] CUPTI activity buffer flushed\n"
     ]
    },
    {
     "name": "stdout",
     "output_type": "stream",
     "text": [
      "Epoch 1/10\n",
      "  1/860 [..............................] - ETA: 2:04:18 - loss: 3.6146 - acc: 0.0938"
     ]
    },
    {
     "name": "stderr",
     "output_type": "stream",
     "text": [
      "2022-10-13 13:17:00.702729: I tensorflow/core/profiler/lib/profiler_session.cc:131] Profiler session initializing.\n",
      "2022-10-13 13:17:00.702772: I tensorflow/core/profiler/lib/profiler_session.cc:146] Profiler session started.\n"
     ]
    },
    {
     "name": "stdout",
     "output_type": "stream",
     "text": [
      "  2/860 [..............................] - ETA: 10:57 - loss: 4.8813 - acc: 0.0781  "
     ]
    },
    {
     "name": "stderr",
     "output_type": "stream",
     "text": [
      "2022-10-13 13:17:01.381491: I tensorflow/core/profiler/lib/profiler_session.cc:66] Profiler session collecting data.\n",
      "2022-10-13 13:17:01.381848: I tensorflow/core/profiler/internal/gpu/cupti_tracer.cc:1748] CUPTI activity buffer flushed\n",
      "2022-10-13 13:17:01.434081: I tensorflow/core/profiler/internal/gpu/cupti_collector.cc:673]  GpuTracer has collected 5653 callback api events and 5650 activity events. \n",
      "2022-10-13 13:17:01.515037: I tensorflow/core/profiler/lib/profiler_session.cc:164] Profiler session tear down.\n",
      "2022-10-13 13:17:01.613059: I tensorflow/core/profiler/rpc/client/save_profile.cc:136] Creating directory: models/bagging/rnn_with_feature1/logs/train/plugins/profile/2022_10_13_13_17_01\n",
      "\n",
      "2022-10-13 13:17:01.684996: I tensorflow/core/profiler/rpc/client/save_profile.cc:142] Dumped gzipped tool data for trace.json.gz to models/bagging/rnn_with_feature1/logs/train/plugins/profile/2022_10_13_13_17_01/dell-Precision-7920-Tower.trace.json.gz\n",
      "2022-10-13 13:17:01.745784: I tensorflow/core/profiler/rpc/client/save_profile.cc:136] Creating directory: models/bagging/rnn_with_feature1/logs/train/plugins/profile/2022_10_13_13_17_01\n",
      "\n",
      "2022-10-13 13:17:01.749690: I tensorflow/core/profiler/rpc/client/save_profile.cc:142] Dumped gzipped tool data for memory_profile.json.gz to models/bagging/rnn_with_feature1/logs/train/plugins/profile/2022_10_13_13_17_01/dell-Precision-7920-Tower.memory_profile.json.gz\n",
      "2022-10-13 13:17:01.751263: I tensorflow/core/profiler/rpc/client/capture_profile.cc:251] Creating directory: models/bagging/rnn_with_feature1/logs/train/plugins/profile/2022_10_13_13_17_01\n",
      "Dumped tool data for xplane.pb to models/bagging/rnn_with_feature1/logs/train/plugins/profile/2022_10_13_13_17_01/dell-Precision-7920-Tower.xplane.pb\n",
      "Dumped tool data for overview_page.pb to models/bagging/rnn_with_feature1/logs/train/plugins/profile/2022_10_13_13_17_01/dell-Precision-7920-Tower.overview_page.pb\n",
      "Dumped tool data for input_pipeline.pb to models/bagging/rnn_with_feature1/logs/train/plugins/profile/2022_10_13_13_17_01/dell-Precision-7920-Tower.input_pipeline.pb\n",
      "Dumped tool data for tensorflow_stats.pb to models/bagging/rnn_with_feature1/logs/train/plugins/profile/2022_10_13_13_17_01/dell-Precision-7920-Tower.tensorflow_stats.pb\n",
      "Dumped tool data for kernel_stats.pb to models/bagging/rnn_with_feature1/logs/train/plugins/profile/2022_10_13_13_17_01/dell-Precision-7920-Tower.kernel_stats.pb\n",
      "\n"
     ]
    },
    {
     "name": "stdout",
     "output_type": "stream",
     "text": [
      "860/860 [==============================] - 95s 100ms/step - loss: 1.7690 - acc: 0.4010 - val_loss: 1.2612 - val_acc: 0.6248\n"
     ]
    },
    {
     "name": "stderr",
     "output_type": "stream",
     "text": [
      "WARNING:absl:Found untraced functions such as gru_cell_7_layer_call_and_return_conditional_losses, gru_cell_7_layer_call_fn, gru_cell_8_layer_call_and_return_conditional_losses, gru_cell_8_layer_call_fn, gru_cell_10_layer_call_and_return_conditional_losses while saving (showing 5 of 20). These functions will not be directly callable after loading.\n"
     ]
    },
    {
     "name": "stdout",
     "output_type": "stream",
     "text": [
      "INFO:tensorflow:Assets written to: models/bagging/rnn_with_feature1/model_1/assets\n"
     ]
    },
    {
     "name": "stderr",
     "output_type": "stream",
     "text": [
      "INFO:tensorflow:Assets written to: models/bagging/rnn_with_feature1/model_1/assets\n"
     ]
    },
    {
     "name": "stdout",
     "output_type": "stream",
     "text": [
      "Epoch 2/10\n",
      "860/860 [==============================] - 83s 96ms/step - loss: 0.9123 - acc: 0.7094 - val_loss: 0.6566 - val_acc: 0.8081\n"
     ]
    },
    {
     "name": "stderr",
     "output_type": "stream",
     "text": [
      "WARNING:absl:Found untraced functions such as gru_cell_7_layer_call_and_return_conditional_losses, gru_cell_7_layer_call_fn, gru_cell_8_layer_call_and_return_conditional_losses, gru_cell_8_layer_call_fn, gru_cell_10_layer_call_and_return_conditional_losses while saving (showing 5 of 20). These functions will not be directly callable after loading.\n"
     ]
    },
    {
     "name": "stdout",
     "output_type": "stream",
     "text": [
      "INFO:tensorflow:Assets written to: models/bagging/rnn_with_feature1/model_2/assets\n"
     ]
    },
    {
     "name": "stderr",
     "output_type": "stream",
     "text": [
      "INFO:tensorflow:Assets written to: models/bagging/rnn_with_feature1/model_2/assets\n"
     ]
    },
    {
     "name": "stdout",
     "output_type": "stream",
     "text": [
      "Epoch 3/10\n",
      "860/860 [==============================] - 82s 96ms/step - loss: 0.6046 - acc: 0.8058 - val_loss: 0.5640 - val_acc: 0.8311\n"
     ]
    },
    {
     "name": "stderr",
     "output_type": "stream",
     "text": [
      "WARNING:absl:Found untraced functions such as gru_cell_7_layer_call_and_return_conditional_losses, gru_cell_7_layer_call_fn, gru_cell_8_layer_call_and_return_conditional_losses, gru_cell_8_layer_call_fn, gru_cell_10_layer_call_and_return_conditional_losses while saving (showing 5 of 20). These functions will not be directly callable after loading.\n"
     ]
    },
    {
     "name": "stdout",
     "output_type": "stream",
     "text": [
      "INFO:tensorflow:Assets written to: models/bagging/rnn_with_feature1/model_3/assets\n"
     ]
    },
    {
     "name": "stderr",
     "output_type": "stream",
     "text": [
      "INFO:tensorflow:Assets written to: models/bagging/rnn_with_feature1/model_3/assets\n"
     ]
    },
    {
     "name": "stdout",
     "output_type": "stream",
     "text": [
      "Epoch 4/10\n",
      "860/860 [==============================] - 82s 96ms/step - loss: 0.4969 - acc: 0.8383 - val_loss: 0.5516 - val_acc: 0.8369\n"
     ]
    },
    {
     "name": "stderr",
     "output_type": "stream",
     "text": [
      "WARNING:absl:Found untraced functions such as gru_cell_7_layer_call_and_return_conditional_losses, gru_cell_7_layer_call_fn, gru_cell_8_layer_call_and_return_conditional_losses, gru_cell_8_layer_call_fn, gru_cell_10_layer_call_and_return_conditional_losses while saving (showing 5 of 20). These functions will not be directly callable after loading.\n"
     ]
    },
    {
     "name": "stdout",
     "output_type": "stream",
     "text": [
      "INFO:tensorflow:Assets written to: models/bagging/rnn_with_feature1/model_4/assets\n"
     ]
    },
    {
     "name": "stderr",
     "output_type": "stream",
     "text": [
      "INFO:tensorflow:Assets written to: models/bagging/rnn_with_feature1/model_4/assets\n"
     ]
    },
    {
     "name": "stdout",
     "output_type": "stream",
     "text": [
      "Epoch 5/10\n",
      "860/860 [==============================] - 83s 96ms/step - loss: 0.4222 - acc: 0.8594 - val_loss: 0.5455 - val_acc: 0.8261\n"
     ]
    },
    {
     "name": "stderr",
     "output_type": "stream",
     "text": [
      "WARNING:absl:Found untraced functions such as gru_cell_7_layer_call_and_return_conditional_losses, gru_cell_7_layer_call_fn, gru_cell_8_layer_call_and_return_conditional_losses, gru_cell_8_layer_call_fn, gru_cell_10_layer_call_and_return_conditional_losses while saving (showing 5 of 20). These functions will not be directly callable after loading.\n"
     ]
    },
    {
     "name": "stdout",
     "output_type": "stream",
     "text": [
      "INFO:tensorflow:Assets written to: models/bagging/rnn_with_feature1/model_5/assets\n"
     ]
    },
    {
     "name": "stderr",
     "output_type": "stream",
     "text": [
      "INFO:tensorflow:Assets written to: models/bagging/rnn_with_feature1/model_5/assets\n"
     ]
    },
    {
     "name": "stdout",
     "output_type": "stream",
     "text": [
      "Epoch 6/10\n",
      "860/860 [==============================] - 82s 96ms/step - loss: 0.3692 - acc: 0.8773 - val_loss: 0.5598 - val_acc: 0.8262\n"
     ]
    },
    {
     "name": "stderr",
     "output_type": "stream",
     "text": [
      "WARNING:absl:Found untraced functions such as gru_cell_7_layer_call_and_return_conditional_losses, gru_cell_7_layer_call_fn, gru_cell_8_layer_call_and_return_conditional_losses, gru_cell_8_layer_call_fn, gru_cell_10_layer_call_and_return_conditional_losses while saving (showing 5 of 20). These functions will not be directly callable after loading.\n"
     ]
    },
    {
     "name": "stdout",
     "output_type": "stream",
     "text": [
      "INFO:tensorflow:Assets written to: models/bagging/rnn_with_feature1/model_6/assets\n"
     ]
    },
    {
     "name": "stderr",
     "output_type": "stream",
     "text": [
      "INFO:tensorflow:Assets written to: models/bagging/rnn_with_feature1/model_6/assets\n"
     ]
    },
    {
     "name": "stdout",
     "output_type": "stream",
     "text": [
      "Epoch 7/10\n",
      "860/860 [==============================] - 81s 95ms/step - loss: 0.3411 - acc: 0.8842 - val_loss: 0.6628 - val_acc: 0.8071\n"
     ]
    },
    {
     "name": "stderr",
     "output_type": "stream",
     "text": [
      "WARNING:absl:Found untraced functions such as gru_cell_7_layer_call_and_return_conditional_losses, gru_cell_7_layer_call_fn, gru_cell_8_layer_call_and_return_conditional_losses, gru_cell_8_layer_call_fn, gru_cell_10_layer_call_and_return_conditional_losses while saving (showing 5 of 20). These functions will not be directly callable after loading.\n"
     ]
    },
    {
     "name": "stdout",
     "output_type": "stream",
     "text": [
      "INFO:tensorflow:Assets written to: models/bagging/rnn_with_feature1/model_7/assets\n"
     ]
    },
    {
     "name": "stderr",
     "output_type": "stream",
     "text": [
      "INFO:tensorflow:Assets written to: models/bagging/rnn_with_feature1/model_7/assets\n"
     ]
    },
    {
     "name": "stdout",
     "output_type": "stream",
     "text": [
      "Epoch 8/10\n",
      "860/860 [==============================] - 83s 96ms/step - loss: 0.3028 - acc: 0.8973 - val_loss: 0.6348 - val_acc: 0.8100\n"
     ]
    },
    {
     "name": "stderr",
     "output_type": "stream",
     "text": [
      "WARNING:absl:Found untraced functions such as gru_cell_7_layer_call_and_return_conditional_losses, gru_cell_7_layer_call_fn, gru_cell_8_layer_call_and_return_conditional_losses, gru_cell_8_layer_call_fn, gru_cell_10_layer_call_and_return_conditional_losses while saving (showing 5 of 20). These functions will not be directly callable after loading.\n"
     ]
    },
    {
     "name": "stdout",
     "output_type": "stream",
     "text": [
      "INFO:tensorflow:Assets written to: models/bagging/rnn_with_feature1/model_8/assets\n"
     ]
    },
    {
     "name": "stderr",
     "output_type": "stream",
     "text": [
      "INFO:tensorflow:Assets written to: models/bagging/rnn_with_feature1/model_8/assets\n"
     ]
    },
    {
     "name": "stdout",
     "output_type": "stream",
     "text": [
      "Epoch 9/10\n",
      "860/860 [==============================] - 83s 96ms/step - loss: 0.2799 - acc: 0.9046 - val_loss: 0.7635 - val_acc: 0.7991\n"
     ]
    },
    {
     "name": "stderr",
     "output_type": "stream",
     "text": [
      "WARNING:absl:Found untraced functions such as gru_cell_7_layer_call_and_return_conditional_losses, gru_cell_7_layer_call_fn, gru_cell_8_layer_call_and_return_conditional_losses, gru_cell_8_layer_call_fn, gru_cell_10_layer_call_and_return_conditional_losses while saving (showing 5 of 20). These functions will not be directly callable after loading.\n"
     ]
    },
    {
     "name": "stdout",
     "output_type": "stream",
     "text": [
      "INFO:tensorflow:Assets written to: models/bagging/rnn_with_feature1/model_9/assets\n"
     ]
    },
    {
     "name": "stderr",
     "output_type": "stream",
     "text": [
      "INFO:tensorflow:Assets written to: models/bagging/rnn_with_feature1/model_9/assets\n"
     ]
    },
    {
     "name": "stdout",
     "output_type": "stream",
     "text": [
      "Epoch 10/10\n",
      "860/860 [==============================] - 81s 94ms/step - loss: 0.2717 - acc: 0.9080 - val_loss: 0.9683 - val_acc: 0.7869\n"
     ]
    },
    {
     "name": "stderr",
     "output_type": "stream",
     "text": [
      "WARNING:absl:Found untraced functions such as gru_cell_7_layer_call_and_return_conditional_losses, gru_cell_7_layer_call_fn, gru_cell_8_layer_call_and_return_conditional_losses, gru_cell_8_layer_call_fn, gru_cell_10_layer_call_and_return_conditional_losses while saving (showing 5 of 20). These functions will not be directly callable after loading.\n"
     ]
    },
    {
     "name": "stdout",
     "output_type": "stream",
     "text": [
      "INFO:tensorflow:Assets written to: models/bagging/rnn_with_feature1/model_10/assets\n"
     ]
    },
    {
     "name": "stderr",
     "output_type": "stream",
     "text": [
      "INFO:tensorflow:Assets written to: models/bagging/rnn_with_feature1/model_10/assets\n",
      "2022-10-13 13:33:27.616059: I tensorflow/core/profiler/lib/profiler_session.cc:131] Profiler session initializing.\n",
      "2022-10-13 13:33:27.616099: I tensorflow/core/profiler/lib/profiler_session.cc:146] Profiler session started.\n",
      "2022-10-13 13:33:28.121482: I tensorflow/core/profiler/lib/profiler_session.cc:164] Profiler session tear down.\n",
      "2022-10-13 13:33:28.121673: I tensorflow/core/profiler/internal/gpu/cupti_tracer.cc:1748] CUPTI activity buffer flushed\n"
     ]
    },
    {
     "name": "stdout",
     "output_type": "stream",
     "text": [
      "Epoch 1/10\n",
      "  1/860 [..............................] - ETA: 1:42:35 - loss: 12.9383 - acc: 0.0938"
     ]
    },
    {
     "name": "stderr",
     "output_type": "stream",
     "text": [
      "2022-10-13 13:33:35.689433: I tensorflow/core/profiler/lib/profiler_session.cc:131] Profiler session initializing.\n",
      "2022-10-13 13:33:35.689479: I tensorflow/core/profiler/lib/profiler_session.cc:146] Profiler session started.\n"
     ]
    },
    {
     "name": "stdout",
     "output_type": "stream",
     "text": [
      "  2/860 [..............................] - ETA: 8:02 - loss: 10.6292 - acc: 0.0781   "
     ]
    },
    {
     "name": "stderr",
     "output_type": "stream",
     "text": [
      "2022-10-13 13:33:36.215474: I tensorflow/core/profiler/lib/profiler_session.cc:66] Profiler session collecting data.\n",
      "2022-10-13 13:33:36.215770: I tensorflow/core/profiler/internal/gpu/cupti_tracer.cc:1748] CUPTI activity buffer flushed\n",
      "2022-10-13 13:33:36.264968: I tensorflow/core/profiler/internal/gpu/cupti_collector.cc:673]  GpuTracer has collected 6095 callback api events and 6092 activity events. \n",
      "2022-10-13 13:33:36.352217: I tensorflow/core/profiler/lib/profiler_session.cc:164] Profiler session tear down.\n",
      "2022-10-13 13:33:36.456829: I tensorflow/core/profiler/rpc/client/save_profile.cc:136] Creating directory: models/bagging/rnn_with_feature2/logs/train/plugins/profile/2022_10_13_13_33_36\n",
      "\n",
      "2022-10-13 13:33:36.531980: I tensorflow/core/profiler/rpc/client/save_profile.cc:142] Dumped gzipped tool data for trace.json.gz to models/bagging/rnn_with_feature2/logs/train/plugins/profile/2022_10_13_13_33_36/dell-Precision-7920-Tower.trace.json.gz\n",
      "2022-10-13 13:33:36.595587: I tensorflow/core/profiler/rpc/client/save_profile.cc:136] Creating directory: models/bagging/rnn_with_feature2/logs/train/plugins/profile/2022_10_13_13_33_36\n",
      "\n",
      "2022-10-13 13:33:36.599534: I tensorflow/core/profiler/rpc/client/save_profile.cc:142] Dumped gzipped tool data for memory_profile.json.gz to models/bagging/rnn_with_feature2/logs/train/plugins/profile/2022_10_13_13_33_36/dell-Precision-7920-Tower.memory_profile.json.gz\n",
      "2022-10-13 13:33:36.600998: I tensorflow/core/profiler/rpc/client/capture_profile.cc:251] Creating directory: models/bagging/rnn_with_feature2/logs/train/plugins/profile/2022_10_13_13_33_36\n",
      "Dumped tool data for xplane.pb to models/bagging/rnn_with_feature2/logs/train/plugins/profile/2022_10_13_13_33_36/dell-Precision-7920-Tower.xplane.pb\n",
      "Dumped tool data for overview_page.pb to models/bagging/rnn_with_feature2/logs/train/plugins/profile/2022_10_13_13_33_36/dell-Precision-7920-Tower.overview_page.pb\n",
      "Dumped tool data for input_pipeline.pb to models/bagging/rnn_with_feature2/logs/train/plugins/profile/2022_10_13_13_33_36/dell-Precision-7920-Tower.input_pipeline.pb\n",
      "Dumped tool data for tensorflow_stats.pb to models/bagging/rnn_with_feature2/logs/train/plugins/profile/2022_10_13_13_33_36/dell-Precision-7920-Tower.tensorflow_stats.pb\n",
      "Dumped tool data for kernel_stats.pb to models/bagging/rnn_with_feature2/logs/train/plugins/profile/2022_10_13_13_33_36/dell-Precision-7920-Tower.kernel_stats.pb\n",
      "\n"
     ]
    },
    {
     "name": "stdout",
     "output_type": "stream",
     "text": [
      "860/860 [==============================] - 95s 102ms/step - loss: 1.8384 - acc: 0.3854 - val_loss: 1.2916 - val_acc: 0.5606\n"
     ]
    },
    {
     "name": "stderr",
     "output_type": "stream",
     "text": [
      "WARNING:absl:Found untraced functions such as gru_cell_13_layer_call_and_return_conditional_losses, gru_cell_13_layer_call_fn, gru_cell_14_layer_call_and_return_conditional_losses, gru_cell_14_layer_call_fn, gru_cell_16_layer_call_and_return_conditional_losses while saving (showing 5 of 20). These functions will not be directly callable after loading.\n"
     ]
    },
    {
     "name": "stdout",
     "output_type": "stream",
     "text": [
      "INFO:tensorflow:Assets written to: models/bagging/rnn_with_feature2/model_1/assets\n"
     ]
    },
    {
     "name": "stderr",
     "output_type": "stream",
     "text": [
      "INFO:tensorflow:Assets written to: models/bagging/rnn_with_feature2/model_1/assets\n"
     ]
    },
    {
     "name": "stdout",
     "output_type": "stream",
     "text": [
      "Epoch 2/10\n",
      "860/860 [==============================] - 81s 94ms/step - loss: 0.9386 - acc: 0.6789 - val_loss: 0.6840 - val_acc: 0.8011\n"
     ]
    },
    {
     "name": "stderr",
     "output_type": "stream",
     "text": [
      "WARNING:absl:Found untraced functions such as gru_cell_13_layer_call_and_return_conditional_losses, gru_cell_13_layer_call_fn, gru_cell_14_layer_call_and_return_conditional_losses, gru_cell_14_layer_call_fn, gru_cell_16_layer_call_and_return_conditional_losses while saving (showing 5 of 20). These functions will not be directly callable after loading.\n"
     ]
    },
    {
     "name": "stdout",
     "output_type": "stream",
     "text": [
      "INFO:tensorflow:Assets written to: models/bagging/rnn_with_feature2/model_2/assets\n"
     ]
    },
    {
     "name": "stderr",
     "output_type": "stream",
     "text": [
      "INFO:tensorflow:Assets written to: models/bagging/rnn_with_feature2/model_2/assets\n"
     ]
    },
    {
     "name": "stdout",
     "output_type": "stream",
     "text": [
      "Epoch 3/10\n",
      "860/860 [==============================] - 81s 95ms/step - loss: 0.5887 - acc: 0.8038 - val_loss: 0.5790 - val_acc: 0.8246\n"
     ]
    },
    {
     "name": "stderr",
     "output_type": "stream",
     "text": [
      "WARNING:absl:Found untraced functions such as gru_cell_13_layer_call_and_return_conditional_losses, gru_cell_13_layer_call_fn, gru_cell_14_layer_call_and_return_conditional_losses, gru_cell_14_layer_call_fn, gru_cell_16_layer_call_and_return_conditional_losses while saving (showing 5 of 20). These functions will not be directly callable after loading.\n"
     ]
    },
    {
     "name": "stdout",
     "output_type": "stream",
     "text": [
      "INFO:tensorflow:Assets written to: models/bagging/rnn_with_feature2/model_3/assets\n"
     ]
    },
    {
     "name": "stderr",
     "output_type": "stream",
     "text": [
      "INFO:tensorflow:Assets written to: models/bagging/rnn_with_feature2/model_3/assets\n"
     ]
    },
    {
     "name": "stdout",
     "output_type": "stream",
     "text": [
      "Epoch 4/10\n",
      "860/860 [==============================] - 82s 96ms/step - loss: 0.4916 - acc: 0.8373 - val_loss: 0.5340 - val_acc: 0.8497\n"
     ]
    },
    {
     "name": "stderr",
     "output_type": "stream",
     "text": [
      "WARNING:absl:Found untraced functions such as gru_cell_13_layer_call_and_return_conditional_losses, gru_cell_13_layer_call_fn, gru_cell_14_layer_call_and_return_conditional_losses, gru_cell_14_layer_call_fn, gru_cell_16_layer_call_and_return_conditional_losses while saving (showing 5 of 20). These functions will not be directly callable after loading.\n"
     ]
    },
    {
     "name": "stdout",
     "output_type": "stream",
     "text": [
      "INFO:tensorflow:Assets written to: models/bagging/rnn_with_feature2/model_4/assets\n"
     ]
    },
    {
     "name": "stderr",
     "output_type": "stream",
     "text": [
      "INFO:tensorflow:Assets written to: models/bagging/rnn_with_feature2/model_4/assets\n"
     ]
    },
    {
     "name": "stdout",
     "output_type": "stream",
     "text": [
      "Epoch 5/10\n",
      "860/860 [==============================] - 81s 95ms/step - loss: 0.4289 - acc: 0.8560 - val_loss: 0.6254 - val_acc: 0.8330\n"
     ]
    },
    {
     "name": "stderr",
     "output_type": "stream",
     "text": [
      "WARNING:absl:Found untraced functions such as gru_cell_13_layer_call_and_return_conditional_losses, gru_cell_13_layer_call_fn, gru_cell_14_layer_call_and_return_conditional_losses, gru_cell_14_layer_call_fn, gru_cell_16_layer_call_and_return_conditional_losses while saving (showing 5 of 20). These functions will not be directly callable after loading.\n"
     ]
    },
    {
     "name": "stdout",
     "output_type": "stream",
     "text": [
      "INFO:tensorflow:Assets written to: models/bagging/rnn_with_feature2/model_5/assets\n"
     ]
    },
    {
     "name": "stderr",
     "output_type": "stream",
     "text": [
      "INFO:tensorflow:Assets written to: models/bagging/rnn_with_feature2/model_5/assets\n"
     ]
    },
    {
     "name": "stdout",
     "output_type": "stream",
     "text": [
      "Epoch 6/10\n",
      "860/860 [==============================] - 83s 96ms/step - loss: 0.3809 - acc: 0.8701 - val_loss: 0.7693 - val_acc: 0.8066\n"
     ]
    },
    {
     "name": "stderr",
     "output_type": "stream",
     "text": [
      "WARNING:absl:Found untraced functions such as gru_cell_13_layer_call_and_return_conditional_losses, gru_cell_13_layer_call_fn, gru_cell_14_layer_call_and_return_conditional_losses, gru_cell_14_layer_call_fn, gru_cell_16_layer_call_and_return_conditional_losses while saving (showing 5 of 20). These functions will not be directly callable after loading.\n"
     ]
    },
    {
     "name": "stdout",
     "output_type": "stream",
     "text": [
      "INFO:tensorflow:Assets written to: models/bagging/rnn_with_feature2/model_6/assets\n"
     ]
    },
    {
     "name": "stderr",
     "output_type": "stream",
     "text": [
      "INFO:tensorflow:Assets written to: models/bagging/rnn_with_feature2/model_6/assets\n"
     ]
    },
    {
     "name": "stdout",
     "output_type": "stream",
     "text": [
      "Epoch 7/10\n",
      "860/860 [==============================] - 83s 96ms/step - loss: 0.3468 - acc: 0.8833 - val_loss: 0.6059 - val_acc: 0.8338\n"
     ]
    },
    {
     "name": "stderr",
     "output_type": "stream",
     "text": [
      "WARNING:absl:Found untraced functions such as gru_cell_13_layer_call_and_return_conditional_losses, gru_cell_13_layer_call_fn, gru_cell_14_layer_call_and_return_conditional_losses, gru_cell_14_layer_call_fn, gru_cell_16_layer_call_and_return_conditional_losses while saving (showing 5 of 20). These functions will not be directly callable after loading.\n"
     ]
    },
    {
     "name": "stdout",
     "output_type": "stream",
     "text": [
      "INFO:tensorflow:Assets written to: models/bagging/rnn_with_feature2/model_7/assets\n"
     ]
    },
    {
     "name": "stderr",
     "output_type": "stream",
     "text": [
      "INFO:tensorflow:Assets written to: models/bagging/rnn_with_feature2/model_7/assets\n"
     ]
    },
    {
     "name": "stdout",
     "output_type": "stream",
     "text": [
      "Epoch 8/10\n",
      "860/860 [==============================] - 82s 96ms/step - loss: 0.3173 - acc: 0.8909 - val_loss: 0.7228 - val_acc: 0.8348\n"
     ]
    },
    {
     "name": "stderr",
     "output_type": "stream",
     "text": [
      "WARNING:absl:Found untraced functions such as gru_cell_13_layer_call_and_return_conditional_losses, gru_cell_13_layer_call_fn, gru_cell_14_layer_call_and_return_conditional_losses, gru_cell_14_layer_call_fn, gru_cell_16_layer_call_and_return_conditional_losses while saving (showing 5 of 20). These functions will not be directly callable after loading.\n"
     ]
    },
    {
     "name": "stdout",
     "output_type": "stream",
     "text": [
      "INFO:tensorflow:Assets written to: models/bagging/rnn_with_feature2/model_8/assets\n"
     ]
    },
    {
     "name": "stderr",
     "output_type": "stream",
     "text": [
      "INFO:tensorflow:Assets written to: models/bagging/rnn_with_feature2/model_8/assets\n"
     ]
    },
    {
     "name": "stdout",
     "output_type": "stream",
     "text": [
      "Epoch 9/10\n",
      "860/860 [==============================] - 83s 96ms/step - loss: 0.3021 - acc: 0.8981 - val_loss: 0.6937 - val_acc: 0.8279\n"
     ]
    },
    {
     "name": "stderr",
     "output_type": "stream",
     "text": [
      "WARNING:absl:Found untraced functions such as gru_cell_13_layer_call_and_return_conditional_losses, gru_cell_13_layer_call_fn, gru_cell_14_layer_call_and_return_conditional_losses, gru_cell_14_layer_call_fn, gru_cell_16_layer_call_and_return_conditional_losses while saving (showing 5 of 20). These functions will not be directly callable after loading.\n"
     ]
    },
    {
     "name": "stdout",
     "output_type": "stream",
     "text": [
      "INFO:tensorflow:Assets written to: models/bagging/rnn_with_feature2/model_9/assets\n"
     ]
    },
    {
     "name": "stderr",
     "output_type": "stream",
     "text": [
      "INFO:tensorflow:Assets written to: models/bagging/rnn_with_feature2/model_9/assets\n"
     ]
    },
    {
     "name": "stdout",
     "output_type": "stream",
     "text": [
      "Epoch 10/10\n",
      "860/860 [==============================] - 83s 96ms/step - loss: 0.2671 - acc: 0.9072 - val_loss: 0.8527 - val_acc: 0.8179\n"
     ]
    },
    {
     "name": "stderr",
     "output_type": "stream",
     "text": [
      "WARNING:absl:Found untraced functions such as gru_cell_13_layer_call_and_return_conditional_losses, gru_cell_13_layer_call_fn, gru_cell_14_layer_call_and_return_conditional_losses, gru_cell_14_layer_call_fn, gru_cell_16_layer_call_and_return_conditional_losses while saving (showing 5 of 20). These functions will not be directly callable after loading.\n"
     ]
    },
    {
     "name": "stdout",
     "output_type": "stream",
     "text": [
      "INFO:tensorflow:Assets written to: models/bagging/rnn_with_feature2/model_10/assets\n"
     ]
    },
    {
     "name": "stderr",
     "output_type": "stream",
     "text": [
      "INFO:tensorflow:Assets written to: models/bagging/rnn_with_feature2/model_10/assets\n",
      "2022-10-13 13:50:02.410575: I tensorflow/core/profiler/lib/profiler_session.cc:131] Profiler session initializing.\n",
      "2022-10-13 13:50:02.410614: I tensorflow/core/profiler/lib/profiler_session.cc:146] Profiler session started.\n",
      "2022-10-13 13:50:02.962566: I tensorflow/core/profiler/lib/profiler_session.cc:164] Profiler session tear down.\n",
      "2022-10-13 13:50:02.962733: I tensorflow/core/profiler/internal/gpu/cupti_tracer.cc:1748] CUPTI activity buffer flushed\n"
     ]
    },
    {
     "name": "stdout",
     "output_type": "stream",
     "text": [
      "Epoch 1/10\n",
      "  1/860 [..............................] - ETA: 1:43:07 - loss: 5.3258 - acc: 0.0312"
     ]
    },
    {
     "name": "stderr",
     "output_type": "stream",
     "text": [
      "2022-10-13 13:50:12.641113: I tensorflow/core/profiler/lib/profiler_session.cc:131] Profiler session initializing.\n",
      "2022-10-13 13:50:12.641153: I tensorflow/core/profiler/lib/profiler_session.cc:146] Profiler session started.\n"
     ]
    },
    {
     "name": "stdout",
     "output_type": "stream",
     "text": [
      "  2/860 [..............................] - ETA: 39:25 - loss: 5.2149 - acc: 0.1094  "
     ]
    },
    {
     "name": "stderr",
     "output_type": "stream",
     "text": [
      "2022-10-13 13:50:13.285181: I tensorflow/core/profiler/lib/profiler_session.cc:66] Profiler session collecting data.\n",
      "2022-10-13 13:50:13.288666: I tensorflow/core/profiler/internal/gpu/cupti_tracer.cc:1748] CUPTI activity buffer flushed\n",
      "2022-10-13 13:50:13.375352: I tensorflow/core/profiler/internal/gpu/cupti_collector.cc:673]  GpuTracer has collected 5703 callback api events and 5700 activity events. \n",
      "2022-10-13 13:50:13.487147: I tensorflow/core/profiler/lib/profiler_session.cc:164] Profiler session tear down.\n",
      "2022-10-13 13:50:13.637032: I tensorflow/core/profiler/rpc/client/save_profile.cc:136] Creating directory: models/bagging/rnn_with_feature3/logs/train/plugins/profile/2022_10_13_13_50_13\n",
      "\n",
      "2022-10-13 13:50:13.708551: I tensorflow/core/profiler/rpc/client/save_profile.cc:142] Dumped gzipped tool data for trace.json.gz to models/bagging/rnn_with_feature3/logs/train/plugins/profile/2022_10_13_13_50_13/dell-Precision-7920-Tower.trace.json.gz\n",
      "2022-10-13 13:50:13.819677: I tensorflow/core/profiler/rpc/client/save_profile.cc:136] Creating directory: models/bagging/rnn_with_feature3/logs/train/plugins/profile/2022_10_13_13_50_13\n",
      "\n",
      "2022-10-13 13:50:13.824993: I tensorflow/core/profiler/rpc/client/save_profile.cc:142] Dumped gzipped tool data for memory_profile.json.gz to models/bagging/rnn_with_feature3/logs/train/plugins/profile/2022_10_13_13_50_13/dell-Precision-7920-Tower.memory_profile.json.gz\n",
      "2022-10-13 13:50:13.826781: I tensorflow/core/profiler/rpc/client/capture_profile.cc:251] Creating directory: models/bagging/rnn_with_feature3/logs/train/plugins/profile/2022_10_13_13_50_13\n",
      "Dumped tool data for xplane.pb to models/bagging/rnn_with_feature3/logs/train/plugins/profile/2022_10_13_13_50_13/dell-Precision-7920-Tower.xplane.pb\n",
      "Dumped tool data for overview_page.pb to models/bagging/rnn_with_feature3/logs/train/plugins/profile/2022_10_13_13_50_13/dell-Precision-7920-Tower.overview_page.pb\n",
      "Dumped tool data for input_pipeline.pb to models/bagging/rnn_with_feature3/logs/train/plugins/profile/2022_10_13_13_50_13/dell-Precision-7920-Tower.input_pipeline.pb\n",
      "Dumped tool data for tensorflow_stats.pb to models/bagging/rnn_with_feature3/logs/train/plugins/profile/2022_10_13_13_50_13/dell-Precision-7920-Tower.tensorflow_stats.pb\n",
      "Dumped tool data for kernel_stats.pb to models/bagging/rnn_with_feature3/logs/train/plugins/profile/2022_10_13_13_50_13/dell-Precision-7920-Tower.kernel_stats.pb\n",
      "\n"
     ]
    },
    {
     "name": "stdout",
     "output_type": "stream",
     "text": [
      "860/860 [==============================] - 96s 103ms/step - loss: 1.7107 - acc: 0.4037 - val_loss: 1.0725 - val_acc: 0.7080\n"
     ]
    },
    {
     "name": "stderr",
     "output_type": "stream",
     "text": [
      "WARNING:absl:Found untraced functions such as gru_cell_19_layer_call_and_return_conditional_losses, gru_cell_19_layer_call_fn, gru_cell_20_layer_call_and_return_conditional_losses, gru_cell_20_layer_call_fn, gru_cell_22_layer_call_and_return_conditional_losses while saving (showing 5 of 20). These functions will not be directly callable after loading.\n"
     ]
    },
    {
     "name": "stdout",
     "output_type": "stream",
     "text": [
      "INFO:tensorflow:Assets written to: models/bagging/rnn_with_feature3/model_1/assets\n"
     ]
    },
    {
     "name": "stderr",
     "output_type": "stream",
     "text": [
      "INFO:tensorflow:Assets written to: models/bagging/rnn_with_feature3/model_1/assets\n"
     ]
    },
    {
     "name": "stdout",
     "output_type": "stream",
     "text": [
      "Epoch 2/10\n",
      "860/860 [==============================] - 83s 97ms/step - loss: 0.8171 - acc: 0.7385 - val_loss: 0.6391 - val_acc: 0.8168\n"
     ]
    },
    {
     "name": "stderr",
     "output_type": "stream",
     "text": [
      "WARNING:absl:Found untraced functions such as gru_cell_19_layer_call_and_return_conditional_losses, gru_cell_19_layer_call_fn, gru_cell_20_layer_call_and_return_conditional_losses, gru_cell_20_layer_call_fn, gru_cell_22_layer_call_and_return_conditional_losses while saving (showing 5 of 20). These functions will not be directly callable after loading.\n"
     ]
    },
    {
     "name": "stdout",
     "output_type": "stream",
     "text": [
      "INFO:tensorflow:Assets written to: models/bagging/rnn_with_feature3/model_2/assets\n"
     ]
    },
    {
     "name": "stderr",
     "output_type": "stream",
     "text": [
      "INFO:tensorflow:Assets written to: models/bagging/rnn_with_feature3/model_2/assets\n"
     ]
    },
    {
     "name": "stdout",
     "output_type": "stream",
     "text": [
      "Epoch 3/10\n",
      "860/860 [==============================] - 82s 96ms/step - loss: 0.5529 - acc: 0.8161 - val_loss: 0.5191 - val_acc: 0.8353\n"
     ]
    },
    {
     "name": "stderr",
     "output_type": "stream",
     "text": [
      "WARNING:absl:Found untraced functions such as gru_cell_19_layer_call_and_return_conditional_losses, gru_cell_19_layer_call_fn, gru_cell_20_layer_call_and_return_conditional_losses, gru_cell_20_layer_call_fn, gru_cell_22_layer_call_and_return_conditional_losses while saving (showing 5 of 20). These functions will not be directly callable after loading.\n"
     ]
    },
    {
     "name": "stdout",
     "output_type": "stream",
     "text": [
      "INFO:tensorflow:Assets written to: models/bagging/rnn_with_feature3/model_3/assets\n"
     ]
    },
    {
     "name": "stderr",
     "output_type": "stream",
     "text": [
      "INFO:tensorflow:Assets written to: models/bagging/rnn_with_feature3/model_3/assets\n"
     ]
    },
    {
     "name": "stdout",
     "output_type": "stream",
     "text": [
      "Epoch 4/10\n",
      "860/860 [==============================] - 83s 97ms/step - loss: 0.4649 - acc: 0.8440 - val_loss: 0.5958 - val_acc: 0.8406\n"
     ]
    },
    {
     "name": "stderr",
     "output_type": "stream",
     "text": [
      "WARNING:absl:Found untraced functions such as gru_cell_19_layer_call_and_return_conditional_losses, gru_cell_19_layer_call_fn, gru_cell_20_layer_call_and_return_conditional_losses, gru_cell_20_layer_call_fn, gru_cell_22_layer_call_and_return_conditional_losses while saving (showing 5 of 20). These functions will not be directly callable after loading.\n"
     ]
    },
    {
     "name": "stdout",
     "output_type": "stream",
     "text": [
      "INFO:tensorflow:Assets written to: models/bagging/rnn_with_feature3/model_4/assets\n"
     ]
    },
    {
     "name": "stderr",
     "output_type": "stream",
     "text": [
      "INFO:tensorflow:Assets written to: models/bagging/rnn_with_feature3/model_4/assets\n"
     ]
    },
    {
     "name": "stdout",
     "output_type": "stream",
     "text": [
      "Epoch 5/10\n",
      "860/860 [==============================] - 83s 96ms/step - loss: 0.4105 - acc: 0.8629 - val_loss: 0.4935 - val_acc: 0.8456\n"
     ]
    },
    {
     "name": "stderr",
     "output_type": "stream",
     "text": [
      "WARNING:absl:Found untraced functions such as gru_cell_19_layer_call_and_return_conditional_losses, gru_cell_19_layer_call_fn, gru_cell_20_layer_call_and_return_conditional_losses, gru_cell_20_layer_call_fn, gru_cell_22_layer_call_and_return_conditional_losses while saving (showing 5 of 20). These functions will not be directly callable after loading.\n"
     ]
    },
    {
     "name": "stdout",
     "output_type": "stream",
     "text": [
      "INFO:tensorflow:Assets written to: models/bagging/rnn_with_feature3/model_5/assets\n"
     ]
    },
    {
     "name": "stderr",
     "output_type": "stream",
     "text": [
      "INFO:tensorflow:Assets written to: models/bagging/rnn_with_feature3/model_5/assets\n"
     ]
    },
    {
     "name": "stdout",
     "output_type": "stream",
     "text": [
      "Epoch 6/10\n",
      "860/860 [==============================] - 82s 95ms/step - loss: 0.3724 - acc: 0.8753 - val_loss: 0.4997 - val_acc: 0.8499\n"
     ]
    },
    {
     "name": "stderr",
     "output_type": "stream",
     "text": [
      "WARNING:absl:Found untraced functions such as gru_cell_19_layer_call_and_return_conditional_losses, gru_cell_19_layer_call_fn, gru_cell_20_layer_call_and_return_conditional_losses, gru_cell_20_layer_call_fn, gru_cell_22_layer_call_and_return_conditional_losses while saving (showing 5 of 20). These functions will not be directly callable after loading.\n"
     ]
    },
    {
     "name": "stdout",
     "output_type": "stream",
     "text": [
      "INFO:tensorflow:Assets written to: models/bagging/rnn_with_feature3/model_6/assets\n"
     ]
    },
    {
     "name": "stderr",
     "output_type": "stream",
     "text": [
      "INFO:tensorflow:Assets written to: models/bagging/rnn_with_feature3/model_6/assets\n"
     ]
    },
    {
     "name": "stdout",
     "output_type": "stream",
     "text": [
      "Epoch 7/10\n",
      "860/860 [==============================] - 82s 96ms/step - loss: 0.3386 - acc: 0.8873 - val_loss: 0.5424 - val_acc: 0.8434\n"
     ]
    },
    {
     "name": "stderr",
     "output_type": "stream",
     "text": [
      "WARNING:absl:Found untraced functions such as gru_cell_19_layer_call_and_return_conditional_losses, gru_cell_19_layer_call_fn, gru_cell_20_layer_call_and_return_conditional_losses, gru_cell_20_layer_call_fn, gru_cell_22_layer_call_and_return_conditional_losses while saving (showing 5 of 20). These functions will not be directly callable after loading.\n"
     ]
    },
    {
     "name": "stdout",
     "output_type": "stream",
     "text": [
      "INFO:tensorflow:Assets written to: models/bagging/rnn_with_feature3/model_7/assets\n"
     ]
    },
    {
     "name": "stderr",
     "output_type": "stream",
     "text": [
      "INFO:tensorflow:Assets written to: models/bagging/rnn_with_feature3/model_7/assets\n"
     ]
    },
    {
     "name": "stdout",
     "output_type": "stream",
     "text": [
      "Epoch 8/10\n",
      "860/860 [==============================] - 82s 96ms/step - loss: 0.3109 - acc: 0.8944 - val_loss: 0.6485 - val_acc: 0.8323\n"
     ]
    },
    {
     "name": "stderr",
     "output_type": "stream",
     "text": [
      "WARNING:absl:Found untraced functions such as gru_cell_19_layer_call_and_return_conditional_losses, gru_cell_19_layer_call_fn, gru_cell_20_layer_call_and_return_conditional_losses, gru_cell_20_layer_call_fn, gru_cell_22_layer_call_and_return_conditional_losses while saving (showing 5 of 20). These functions will not be directly callable after loading.\n"
     ]
    },
    {
     "name": "stdout",
     "output_type": "stream",
     "text": [
      "INFO:tensorflow:Assets written to: models/bagging/rnn_with_feature3/model_8/assets\n"
     ]
    },
    {
     "name": "stderr",
     "output_type": "stream",
     "text": [
      "INFO:tensorflow:Assets written to: models/bagging/rnn_with_feature3/model_8/assets\n"
     ]
    },
    {
     "name": "stdout",
     "output_type": "stream",
     "text": [
      "Epoch 9/10\n",
      "860/860 [==============================] - 82s 95ms/step - loss: 0.2926 - acc: 0.9017 - val_loss: 0.5692 - val_acc: 0.8419\n"
     ]
    },
    {
     "name": "stderr",
     "output_type": "stream",
     "text": [
      "WARNING:absl:Found untraced functions such as gru_cell_19_layer_call_and_return_conditional_losses, gru_cell_19_layer_call_fn, gru_cell_20_layer_call_and_return_conditional_losses, gru_cell_20_layer_call_fn, gru_cell_22_layer_call_and_return_conditional_losses while saving (showing 5 of 20). These functions will not be directly callable after loading.\n"
     ]
    },
    {
     "name": "stdout",
     "output_type": "stream",
     "text": [
      "INFO:tensorflow:Assets written to: models/bagging/rnn_with_feature3/model_9/assets\n"
     ]
    },
    {
     "name": "stderr",
     "output_type": "stream",
     "text": [
      "INFO:tensorflow:Assets written to: models/bagging/rnn_with_feature3/model_9/assets\n"
     ]
    },
    {
     "name": "stdout",
     "output_type": "stream",
     "text": [
      "Epoch 10/10\n",
      "860/860 [==============================] - 82s 96ms/step - loss: 0.2698 - acc: 0.9093 - val_loss: 0.5884 - val_acc: 0.8488\n"
     ]
    },
    {
     "name": "stderr",
     "output_type": "stream",
     "text": [
      "WARNING:absl:Found untraced functions such as gru_cell_19_layer_call_and_return_conditional_losses, gru_cell_19_layer_call_fn, gru_cell_20_layer_call_and_return_conditional_losses, gru_cell_20_layer_call_fn, gru_cell_22_layer_call_and_return_conditional_losses while saving (showing 5 of 20). These functions will not be directly callable after loading.\n"
     ]
    },
    {
     "name": "stdout",
     "output_type": "stream",
     "text": [
      "INFO:tensorflow:Assets written to: models/bagging/rnn_with_feature3/model_10/assets\n"
     ]
    },
    {
     "name": "stderr",
     "output_type": "stream",
     "text": [
      "INFO:tensorflow:Assets written to: models/bagging/rnn_with_feature3/model_10/assets\n",
      "2022-10-13 14:06:41.569669: I tensorflow/core/profiler/lib/profiler_session.cc:131] Profiler session initializing.\n",
      "2022-10-13 14:06:41.569708: I tensorflow/core/profiler/lib/profiler_session.cc:146] Profiler session started.\n",
      "2022-10-13 14:06:42.144962: I tensorflow/core/profiler/lib/profiler_session.cc:164] Profiler session tear down.\n",
      "2022-10-13 14:06:42.145114: I tensorflow/core/profiler/internal/gpu/cupti_tracer.cc:1748] CUPTI activity buffer flushed\n"
     ]
    },
    {
     "name": "stdout",
     "output_type": "stream",
     "text": [
      "Epoch 1/10\n",
      "  1/860 [..............................] - ETA: 1:42:43 - loss: 2.1156 - acc: 0.1562"
     ]
    },
    {
     "name": "stderr",
     "output_type": "stream",
     "text": [
      "2022-10-13 14:06:51.915740: I tensorflow/core/profiler/lib/profiler_session.cc:131] Profiler session initializing.\n",
      "2022-10-13 14:06:51.915784: I tensorflow/core/profiler/lib/profiler_session.cc:146] Profiler session started.\n"
     ]
    },
    {
     "name": "stdout",
     "output_type": "stream",
     "text": [
      "  2/860 [..............................] - ETA: 39:54 - loss: 2.2228 - acc: 0.1562  "
     ]
    },
    {
     "name": "stderr",
     "output_type": "stream",
     "text": [
      "2022-10-13 14:06:52.566718: I tensorflow/core/profiler/lib/profiler_session.cc:66] Profiler session collecting data.\n",
      "2022-10-13 14:06:52.570203: I tensorflow/core/profiler/internal/gpu/cupti_tracer.cc:1748] CUPTI activity buffer flushed\n",
      "2022-10-13 14:06:52.664009: I tensorflow/core/profiler/internal/gpu/cupti_collector.cc:673]  GpuTracer has collected 6003 callback api events and 6000 activity events. \n",
      "2022-10-13 14:06:52.788537: I tensorflow/core/profiler/lib/profiler_session.cc:164] Profiler session tear down.\n",
      "2022-10-13 14:06:52.950836: I tensorflow/core/profiler/rpc/client/save_profile.cc:136] Creating directory: models/bagging/rnn_with_feature4/logs/train/plugins/profile/2022_10_13_14_06_52\n",
      "\n",
      "2022-10-13 14:06:53.026452: I tensorflow/core/profiler/rpc/client/save_profile.cc:142] Dumped gzipped tool data for trace.json.gz to models/bagging/rnn_with_feature4/logs/train/plugins/profile/2022_10_13_14_06_52/dell-Precision-7920-Tower.trace.json.gz\n",
      "2022-10-13 14:06:53.151962: I tensorflow/core/profiler/rpc/client/save_profile.cc:136] Creating directory: models/bagging/rnn_with_feature4/logs/train/plugins/profile/2022_10_13_14_06_52\n",
      "\n",
      "2022-10-13 14:06:53.157500: I tensorflow/core/profiler/rpc/client/save_profile.cc:142] Dumped gzipped tool data for memory_profile.json.gz to models/bagging/rnn_with_feature4/logs/train/plugins/profile/2022_10_13_14_06_52/dell-Precision-7920-Tower.memory_profile.json.gz\n",
      "2022-10-13 14:06:53.159342: I tensorflow/core/profiler/rpc/client/capture_profile.cc:251] Creating directory: models/bagging/rnn_with_feature4/logs/train/plugins/profile/2022_10_13_14_06_52\n",
      "Dumped tool data for xplane.pb to models/bagging/rnn_with_feature4/logs/train/plugins/profile/2022_10_13_14_06_52/dell-Precision-7920-Tower.xplane.pb\n",
      "Dumped tool data for overview_page.pb to models/bagging/rnn_with_feature4/logs/train/plugins/profile/2022_10_13_14_06_52/dell-Precision-7920-Tower.overview_page.pb\n",
      "Dumped tool data for input_pipeline.pb to models/bagging/rnn_with_feature4/logs/train/plugins/profile/2022_10_13_14_06_52/dell-Precision-7920-Tower.input_pipeline.pb\n",
      "Dumped tool data for tensorflow_stats.pb to models/bagging/rnn_with_feature4/logs/train/plugins/profile/2022_10_13_14_06_52/dell-Precision-7920-Tower.tensorflow_stats.pb\n",
      "Dumped tool data for kernel_stats.pb to models/bagging/rnn_with_feature4/logs/train/plugins/profile/2022_10_13_14_06_52/dell-Precision-7920-Tower.kernel_stats.pb\n",
      "\n"
     ]
    },
    {
     "name": "stdout",
     "output_type": "stream",
     "text": [
      "860/860 [==============================] - 96s 104ms/step - loss: 1.6403 - acc: 0.4157 - val_loss: 1.3213 - val_acc: 0.5603\n"
     ]
    },
    {
     "name": "stderr",
     "output_type": "stream",
     "text": [
      "WARNING:absl:Found untraced functions such as gru_cell_25_layer_call_and_return_conditional_losses, gru_cell_25_layer_call_fn, gru_cell_26_layer_call_and_return_conditional_losses, gru_cell_26_layer_call_fn, gru_cell_28_layer_call_and_return_conditional_losses while saving (showing 5 of 20). These functions will not be directly callable after loading.\n"
     ]
    },
    {
     "name": "stdout",
     "output_type": "stream",
     "text": [
      "INFO:tensorflow:Assets written to: models/bagging/rnn_with_feature4/model_1/assets\n"
     ]
    },
    {
     "name": "stderr",
     "output_type": "stream",
     "text": [
      "INFO:tensorflow:Assets written to: models/bagging/rnn_with_feature4/model_1/assets\n"
     ]
    },
    {
     "name": "stdout",
     "output_type": "stream",
     "text": [
      "Epoch 2/10\n",
      "860/860 [==============================] - 82s 95ms/step - loss: 0.9327 - acc: 0.6795 - val_loss: 0.6831 - val_acc: 0.7845\n"
     ]
    },
    {
     "name": "stderr",
     "output_type": "stream",
     "text": [
      "WARNING:absl:Found untraced functions such as gru_cell_25_layer_call_and_return_conditional_losses, gru_cell_25_layer_call_fn, gru_cell_26_layer_call_and_return_conditional_losses, gru_cell_26_layer_call_fn, gru_cell_28_layer_call_and_return_conditional_losses while saving (showing 5 of 20). These functions will not be directly callable after loading.\n"
     ]
    },
    {
     "name": "stdout",
     "output_type": "stream",
     "text": [
      "INFO:tensorflow:Assets written to: models/bagging/rnn_with_feature4/model_2/assets\n"
     ]
    },
    {
     "name": "stderr",
     "output_type": "stream",
     "text": [
      "INFO:tensorflow:Assets written to: models/bagging/rnn_with_feature4/model_2/assets\n"
     ]
    },
    {
     "name": "stdout",
     "output_type": "stream",
     "text": [
      "Epoch 3/10\n",
      "860/860 [==============================] - 83s 96ms/step - loss: 0.5897 - acc: 0.8011 - val_loss: 0.5856 - val_acc: 0.8322\n"
     ]
    },
    {
     "name": "stderr",
     "output_type": "stream",
     "text": [
      "WARNING:absl:Found untraced functions such as gru_cell_25_layer_call_and_return_conditional_losses, gru_cell_25_layer_call_fn, gru_cell_26_layer_call_and_return_conditional_losses, gru_cell_26_layer_call_fn, gru_cell_28_layer_call_and_return_conditional_losses while saving (showing 5 of 20). These functions will not be directly callable after loading.\n"
     ]
    },
    {
     "name": "stdout",
     "output_type": "stream",
     "text": [
      "INFO:tensorflow:Assets written to: models/bagging/rnn_with_feature4/model_3/assets\n"
     ]
    },
    {
     "name": "stderr",
     "output_type": "stream",
     "text": [
      "INFO:tensorflow:Assets written to: models/bagging/rnn_with_feature4/model_3/assets\n"
     ]
    },
    {
     "name": "stdout",
     "output_type": "stream",
     "text": [
      "Epoch 4/10\n",
      "860/860 [==============================] - 83s 97ms/step - loss: 0.4880 - acc: 0.8351 - val_loss: 0.5244 - val_acc: 0.8483\n"
     ]
    },
    {
     "name": "stderr",
     "output_type": "stream",
     "text": [
      "WARNING:absl:Found untraced functions such as gru_cell_25_layer_call_and_return_conditional_losses, gru_cell_25_layer_call_fn, gru_cell_26_layer_call_and_return_conditional_losses, gru_cell_26_layer_call_fn, gru_cell_28_layer_call_and_return_conditional_losses while saving (showing 5 of 20). These functions will not be directly callable after loading.\n"
     ]
    },
    {
     "name": "stdout",
     "output_type": "stream",
     "text": [
      "INFO:tensorflow:Assets written to: models/bagging/rnn_with_feature4/model_4/assets\n"
     ]
    },
    {
     "name": "stderr",
     "output_type": "stream",
     "text": [
      "INFO:tensorflow:Assets written to: models/bagging/rnn_with_feature4/model_4/assets\n"
     ]
    },
    {
     "name": "stdout",
     "output_type": "stream",
     "text": [
      "Epoch 5/10\n",
      "860/860 [==============================] - 83s 97ms/step - loss: 0.4340 - acc: 0.8541 - val_loss: 0.5119 - val_acc: 0.8429\n"
     ]
    },
    {
     "name": "stderr",
     "output_type": "stream",
     "text": [
      "WARNING:absl:Found untraced functions such as gru_cell_25_layer_call_and_return_conditional_losses, gru_cell_25_layer_call_fn, gru_cell_26_layer_call_and_return_conditional_losses, gru_cell_26_layer_call_fn, gru_cell_28_layer_call_and_return_conditional_losses while saving (showing 5 of 20). These functions will not be directly callable after loading.\n"
     ]
    },
    {
     "name": "stdout",
     "output_type": "stream",
     "text": [
      "INFO:tensorflow:Assets written to: models/bagging/rnn_with_feature4/model_5/assets\n"
     ]
    },
    {
     "name": "stderr",
     "output_type": "stream",
     "text": [
      "INFO:tensorflow:Assets written to: models/bagging/rnn_with_feature4/model_5/assets\n"
     ]
    },
    {
     "name": "stdout",
     "output_type": "stream",
     "text": [
      "Epoch 6/10\n",
      "860/860 [==============================] - 83s 97ms/step - loss: 0.3918 - acc: 0.8691 - val_loss: 0.5219 - val_acc: 0.8245\n"
     ]
    },
    {
     "name": "stderr",
     "output_type": "stream",
     "text": [
      "WARNING:absl:Found untraced functions such as gru_cell_25_layer_call_and_return_conditional_losses, gru_cell_25_layer_call_fn, gru_cell_26_layer_call_and_return_conditional_losses, gru_cell_26_layer_call_fn, gru_cell_28_layer_call_and_return_conditional_losses while saving (showing 5 of 20). These functions will not be directly callable after loading.\n"
     ]
    },
    {
     "name": "stdout",
     "output_type": "stream",
     "text": [
      "INFO:tensorflow:Assets written to: models/bagging/rnn_with_feature4/model_6/assets\n"
     ]
    },
    {
     "name": "stderr",
     "output_type": "stream",
     "text": [
      "INFO:tensorflow:Assets written to: models/bagging/rnn_with_feature4/model_6/assets\n"
     ]
    },
    {
     "name": "stdout",
     "output_type": "stream",
     "text": [
      "Epoch 7/10\n",
      "860/860 [==============================] - 83s 96ms/step - loss: 0.3529 - acc: 0.8804 - val_loss: 0.5255 - val_acc: 0.8329\n"
     ]
    },
    {
     "name": "stderr",
     "output_type": "stream",
     "text": [
      "WARNING:absl:Found untraced functions such as gru_cell_25_layer_call_and_return_conditional_losses, gru_cell_25_layer_call_fn, gru_cell_26_layer_call_and_return_conditional_losses, gru_cell_26_layer_call_fn, gru_cell_28_layer_call_and_return_conditional_losses while saving (showing 5 of 20). These functions will not be directly callable after loading.\n"
     ]
    },
    {
     "name": "stdout",
     "output_type": "stream",
     "text": [
      "INFO:tensorflow:Assets written to: models/bagging/rnn_with_feature4/model_7/assets\n"
     ]
    },
    {
     "name": "stderr",
     "output_type": "stream",
     "text": [
      "INFO:tensorflow:Assets written to: models/bagging/rnn_with_feature4/model_7/assets\n"
     ]
    },
    {
     "name": "stdout",
     "output_type": "stream",
     "text": [
      "Epoch 8/10\n",
      "860/860 [==============================] - 82s 96ms/step - loss: 0.3267 - acc: 0.8893 - val_loss: 0.5569 - val_acc: 0.8291\n"
     ]
    },
    {
     "name": "stderr",
     "output_type": "stream",
     "text": [
      "WARNING:absl:Found untraced functions such as gru_cell_25_layer_call_and_return_conditional_losses, gru_cell_25_layer_call_fn, gru_cell_26_layer_call_and_return_conditional_losses, gru_cell_26_layer_call_fn, gru_cell_28_layer_call_and_return_conditional_losses while saving (showing 5 of 20). These functions will not be directly callable after loading.\n"
     ]
    },
    {
     "name": "stdout",
     "output_type": "stream",
     "text": [
      "INFO:tensorflow:Assets written to: models/bagging/rnn_with_feature4/model_8/assets\n"
     ]
    },
    {
     "name": "stderr",
     "output_type": "stream",
     "text": [
      "INFO:tensorflow:Assets written to: models/bagging/rnn_with_feature4/model_8/assets\n"
     ]
    },
    {
     "name": "stdout",
     "output_type": "stream",
     "text": [
      "Epoch 9/10\n",
      "860/860 [==============================] - 83s 97ms/step - loss: 0.3017 - acc: 0.8998 - val_loss: 0.5378 - val_acc: 0.8422\n"
     ]
    },
    {
     "name": "stderr",
     "output_type": "stream",
     "text": [
      "WARNING:absl:Found untraced functions such as gru_cell_25_layer_call_and_return_conditional_losses, gru_cell_25_layer_call_fn, gru_cell_26_layer_call_and_return_conditional_losses, gru_cell_26_layer_call_fn, gru_cell_28_layer_call_and_return_conditional_losses while saving (showing 5 of 20). These functions will not be directly callable after loading.\n"
     ]
    },
    {
     "name": "stdout",
     "output_type": "stream",
     "text": [
      "INFO:tensorflow:Assets written to: models/bagging/rnn_with_feature4/model_9/assets\n"
     ]
    },
    {
     "name": "stderr",
     "output_type": "stream",
     "text": [
      "INFO:tensorflow:Assets written to: models/bagging/rnn_with_feature4/model_9/assets\n"
     ]
    },
    {
     "name": "stdout",
     "output_type": "stream",
     "text": [
      "Epoch 10/10\n",
      "860/860 [==============================] - 83s 96ms/step - loss: 0.2785 - acc: 0.9076 - val_loss: 0.5544 - val_acc: 0.8580\n"
     ]
    },
    {
     "name": "stderr",
     "output_type": "stream",
     "text": [
      "WARNING:absl:Found untraced functions such as gru_cell_25_layer_call_and_return_conditional_losses, gru_cell_25_layer_call_fn, gru_cell_26_layer_call_and_return_conditional_losses, gru_cell_26_layer_call_fn, gru_cell_28_layer_call_and_return_conditional_losses while saving (showing 5 of 20). These functions will not be directly callable after loading.\n"
     ]
    },
    {
     "name": "stdout",
     "output_type": "stream",
     "text": [
      "INFO:tensorflow:Assets written to: models/bagging/rnn_with_feature4/model_10/assets\n"
     ]
    },
    {
     "name": "stderr",
     "output_type": "stream",
     "text": [
      "INFO:tensorflow:Assets written to: models/bagging/rnn_with_feature4/model_10/assets\n",
      "2022-10-13 14:23:24.120325: I tensorflow/core/profiler/lib/profiler_session.cc:131] Profiler session initializing.\n",
      "2022-10-13 14:23:24.120363: I tensorflow/core/profiler/lib/profiler_session.cc:146] Profiler session started.\n",
      "2022-10-13 14:23:24.592549: I tensorflow/core/profiler/lib/profiler_session.cc:164] Profiler session tear down.\n",
      "2022-10-13 14:23:24.592737: I tensorflow/core/profiler/internal/gpu/cupti_tracer.cc:1748] CUPTI activity buffer flushed\n"
     ]
    },
    {
     "name": "stdout",
     "output_type": "stream",
     "text": [
      "Epoch 1/10\n",
      "  1/860 [..............................] - ETA: 1:42:18 - loss: 4.0273 - acc: 0.0625"
     ]
    },
    {
     "name": "stderr",
     "output_type": "stream",
     "text": [
      "2022-10-13 14:23:32.169838: I tensorflow/core/profiler/lib/profiler_session.cc:131] Profiler session initializing.\n",
      "2022-10-13 14:23:32.169883: I tensorflow/core/profiler/lib/profiler_session.cc:146] Profiler session started.\n"
     ]
    },
    {
     "name": "stdout",
     "output_type": "stream",
     "text": [
      "  2/860 [..............................] - ETA: 9:16 - loss: 5.7248 - acc: 0.0781   "
     ]
    },
    {
     "name": "stderr",
     "output_type": "stream",
     "text": [
      "2022-10-13 14:23:32.814931: I tensorflow/core/profiler/lib/profiler_session.cc:66] Profiler session collecting data.\n",
      "2022-10-13 14:23:32.815627: I tensorflow/core/profiler/internal/gpu/cupti_tracer.cc:1748] CUPTI activity buffer flushed\n",
      "2022-10-13 14:23:32.861307: I tensorflow/core/profiler/internal/gpu/cupti_collector.cc:673]  GpuTracer has collected 5899 callback api events and 5896 activity events. \n",
      "2022-10-13 14:23:32.950001: I tensorflow/core/profiler/lib/profiler_session.cc:164] Profiler session tear down.\n",
      "2022-10-13 14:23:33.053939: I tensorflow/core/profiler/rpc/client/save_profile.cc:136] Creating directory: models/bagging/rnn_with_feature5/logs/train/plugins/profile/2022_10_13_14_23_32\n",
      "\n",
      "2022-10-13 14:23:33.127252: I tensorflow/core/profiler/rpc/client/save_profile.cc:142] Dumped gzipped tool data for trace.json.gz to models/bagging/rnn_with_feature5/logs/train/plugins/profile/2022_10_13_14_23_32/dell-Precision-7920-Tower.trace.json.gz\n",
      "2022-10-13 14:23:33.192496: I tensorflow/core/profiler/rpc/client/save_profile.cc:136] Creating directory: models/bagging/rnn_with_feature5/logs/train/plugins/profile/2022_10_13_14_23_32\n",
      "\n",
      "2022-10-13 14:23:33.196558: I tensorflow/core/profiler/rpc/client/save_profile.cc:142] Dumped gzipped tool data for memory_profile.json.gz to models/bagging/rnn_with_feature5/logs/train/plugins/profile/2022_10_13_14_23_32/dell-Precision-7920-Tower.memory_profile.json.gz\n",
      "2022-10-13 14:23:33.198172: I tensorflow/core/profiler/rpc/client/capture_profile.cc:251] Creating directory: models/bagging/rnn_with_feature5/logs/train/plugins/profile/2022_10_13_14_23_32\n",
      "Dumped tool data for xplane.pb to models/bagging/rnn_with_feature5/logs/train/plugins/profile/2022_10_13_14_23_32/dell-Precision-7920-Tower.xplane.pb\n",
      "Dumped tool data for overview_page.pb to models/bagging/rnn_with_feature5/logs/train/plugins/profile/2022_10_13_14_23_32/dell-Precision-7920-Tower.overview_page.pb\n",
      "Dumped tool data for input_pipeline.pb to models/bagging/rnn_with_feature5/logs/train/plugins/profile/2022_10_13_14_23_32/dell-Precision-7920-Tower.input_pipeline.pb\n",
      "Dumped tool data for tensorflow_stats.pb to models/bagging/rnn_with_feature5/logs/train/plugins/profile/2022_10_13_14_23_32/dell-Precision-7920-Tower.tensorflow_stats.pb\n",
      "Dumped tool data for kernel_stats.pb to models/bagging/rnn_with_feature5/logs/train/plugins/profile/2022_10_13_14_23_32/dell-Precision-7920-Tower.kernel_stats.pb\n",
      "\n"
     ]
    },
    {
     "name": "stdout",
     "output_type": "stream",
     "text": [
      "860/860 [==============================] - 96s 104ms/step - loss: 1.7996 - acc: 0.4111 - val_loss: 1.2155 - val_acc: 0.5922\n"
     ]
    },
    {
     "name": "stderr",
     "output_type": "stream",
     "text": [
      "WARNING:absl:Found untraced functions such as gru_cell_31_layer_call_and_return_conditional_losses, gru_cell_31_layer_call_fn, gru_cell_32_layer_call_and_return_conditional_losses, gru_cell_32_layer_call_fn, gru_cell_34_layer_call_and_return_conditional_losses while saving (showing 5 of 20). These functions will not be directly callable after loading.\n"
     ]
    },
    {
     "name": "stdout",
     "output_type": "stream",
     "text": [
      "INFO:tensorflow:Assets written to: models/bagging/rnn_with_feature5/model_1/assets\n"
     ]
    },
    {
     "name": "stderr",
     "output_type": "stream",
     "text": [
      "INFO:tensorflow:Assets written to: models/bagging/rnn_with_feature5/model_1/assets\n"
     ]
    },
    {
     "name": "stdout",
     "output_type": "stream",
     "text": [
      "Epoch 2/10\n",
      "860/860 [==============================] - 84s 97ms/step - loss: 0.8809 - acc: 0.7024 - val_loss: 0.7055 - val_acc: 0.7957\n"
     ]
    },
    {
     "name": "stderr",
     "output_type": "stream",
     "text": [
      "WARNING:absl:Found untraced functions such as gru_cell_31_layer_call_and_return_conditional_losses, gru_cell_31_layer_call_fn, gru_cell_32_layer_call_and_return_conditional_losses, gru_cell_32_layer_call_fn, gru_cell_34_layer_call_and_return_conditional_losses while saving (showing 5 of 20). These functions will not be directly callable after loading.\n"
     ]
    },
    {
     "name": "stdout",
     "output_type": "stream",
     "text": [
      "INFO:tensorflow:Assets written to: models/bagging/rnn_with_feature5/model_2/assets\n"
     ]
    },
    {
     "name": "stderr",
     "output_type": "stream",
     "text": [
      "INFO:tensorflow:Assets written to: models/bagging/rnn_with_feature5/model_2/assets\n"
     ]
    },
    {
     "name": "stdout",
     "output_type": "stream",
     "text": [
      "Epoch 3/10\n",
      "860/860 [==============================] - 84s 97ms/step - loss: 0.5561 - acc: 0.8166 - val_loss: 0.6063 - val_acc: 0.8079\n"
     ]
    },
    {
     "name": "stderr",
     "output_type": "stream",
     "text": [
      "WARNING:absl:Found untraced functions such as gru_cell_31_layer_call_and_return_conditional_losses, gru_cell_31_layer_call_fn, gru_cell_32_layer_call_and_return_conditional_losses, gru_cell_32_layer_call_fn, gru_cell_34_layer_call_and_return_conditional_losses while saving (showing 5 of 20). These functions will not be directly callable after loading.\n"
     ]
    },
    {
     "name": "stdout",
     "output_type": "stream",
     "text": [
      "INFO:tensorflow:Assets written to: models/bagging/rnn_with_feature5/model_3/assets\n"
     ]
    },
    {
     "name": "stderr",
     "output_type": "stream",
     "text": [
      "INFO:tensorflow:Assets written to: models/bagging/rnn_with_feature5/model_3/assets\n"
     ]
    },
    {
     "name": "stdout",
     "output_type": "stream",
     "text": [
      "Epoch 4/10\n",
      "860/860 [==============================] - 84s 97ms/step - loss: 0.4678 - acc: 0.8487 - val_loss: 0.5744 - val_acc: 0.8381\n"
     ]
    },
    {
     "name": "stderr",
     "output_type": "stream",
     "text": [
      "WARNING:absl:Found untraced functions such as gru_cell_31_layer_call_and_return_conditional_losses, gru_cell_31_layer_call_fn, gru_cell_32_layer_call_and_return_conditional_losses, gru_cell_32_layer_call_fn, gru_cell_34_layer_call_and_return_conditional_losses while saving (showing 5 of 20). These functions will not be directly callable after loading.\n"
     ]
    },
    {
     "name": "stdout",
     "output_type": "stream",
     "text": [
      "INFO:tensorflow:Assets written to: models/bagging/rnn_with_feature5/model_4/assets\n"
     ]
    },
    {
     "name": "stderr",
     "output_type": "stream",
     "text": [
      "INFO:tensorflow:Assets written to: models/bagging/rnn_with_feature5/model_4/assets\n"
     ]
    },
    {
     "name": "stdout",
     "output_type": "stream",
     "text": [
      "Epoch 5/10\n",
      "860/860 [==============================] - 83s 96ms/step - loss: 0.3994 - acc: 0.8694 - val_loss: 0.5660 - val_acc: 0.8378\n"
     ]
    },
    {
     "name": "stderr",
     "output_type": "stream",
     "text": [
      "WARNING:absl:Found untraced functions such as gru_cell_31_layer_call_and_return_conditional_losses, gru_cell_31_layer_call_fn, gru_cell_32_layer_call_and_return_conditional_losses, gru_cell_32_layer_call_fn, gru_cell_34_layer_call_and_return_conditional_losses while saving (showing 5 of 20). These functions will not be directly callable after loading.\n"
     ]
    },
    {
     "name": "stdout",
     "output_type": "stream",
     "text": [
      "INFO:tensorflow:Assets written to: models/bagging/rnn_with_feature5/model_5/assets\n"
     ]
    },
    {
     "name": "stderr",
     "output_type": "stream",
     "text": [
      "INFO:tensorflow:Assets written to: models/bagging/rnn_with_feature5/model_5/assets\n"
     ]
    },
    {
     "name": "stdout",
     "output_type": "stream",
     "text": [
      "Epoch 6/10\n",
      "860/860 [==============================] - 84s 97ms/step - loss: 0.3602 - acc: 0.8803 - val_loss: 0.5426 - val_acc: 0.8397\n"
     ]
    },
    {
     "name": "stderr",
     "output_type": "stream",
     "text": [
      "WARNING:absl:Found untraced functions such as gru_cell_31_layer_call_and_return_conditional_losses, gru_cell_31_layer_call_fn, gru_cell_32_layer_call_and_return_conditional_losses, gru_cell_32_layer_call_fn, gru_cell_34_layer_call_and_return_conditional_losses while saving (showing 5 of 20). These functions will not be directly callable after loading.\n"
     ]
    },
    {
     "name": "stdout",
     "output_type": "stream",
     "text": [
      "INFO:tensorflow:Assets written to: models/bagging/rnn_with_feature5/model_6/assets\n"
     ]
    },
    {
     "name": "stderr",
     "output_type": "stream",
     "text": [
      "INFO:tensorflow:Assets written to: models/bagging/rnn_with_feature5/model_6/assets\n"
     ]
    },
    {
     "name": "stdout",
     "output_type": "stream",
     "text": [
      "Epoch 7/10\n",
      "860/860 [==============================] - 83s 97ms/step - loss: 0.3207 - acc: 0.8934 - val_loss: 0.5816 - val_acc: 0.8541\n"
     ]
    },
    {
     "name": "stderr",
     "output_type": "stream",
     "text": [
      "WARNING:absl:Found untraced functions such as gru_cell_31_layer_call_and_return_conditional_losses, gru_cell_31_layer_call_fn, gru_cell_32_layer_call_and_return_conditional_losses, gru_cell_32_layer_call_fn, gru_cell_34_layer_call_and_return_conditional_losses while saving (showing 5 of 20). These functions will not be directly callable after loading.\n"
     ]
    },
    {
     "name": "stdout",
     "output_type": "stream",
     "text": [
      "INFO:tensorflow:Assets written to: models/bagging/rnn_with_feature5/model_7/assets\n"
     ]
    },
    {
     "name": "stderr",
     "output_type": "stream",
     "text": [
      "INFO:tensorflow:Assets written to: models/bagging/rnn_with_feature5/model_7/assets\n"
     ]
    },
    {
     "name": "stdout",
     "output_type": "stream",
     "text": [
      "Epoch 8/10\n",
      "860/860 [==============================] - 83s 96ms/step - loss: 0.2988 - acc: 0.9025 - val_loss: 0.6114 - val_acc: 0.8355\n"
     ]
    },
    {
     "name": "stderr",
     "output_type": "stream",
     "text": [
      "WARNING:absl:Found untraced functions such as gru_cell_31_layer_call_and_return_conditional_losses, gru_cell_31_layer_call_fn, gru_cell_32_layer_call_and_return_conditional_losses, gru_cell_32_layer_call_fn, gru_cell_34_layer_call_and_return_conditional_losses while saving (showing 5 of 20). These functions will not be directly callable after loading.\n"
     ]
    },
    {
     "name": "stdout",
     "output_type": "stream",
     "text": [
      "INFO:tensorflow:Assets written to: models/bagging/rnn_with_feature5/model_8/assets\n"
     ]
    },
    {
     "name": "stderr",
     "output_type": "stream",
     "text": [
      "INFO:tensorflow:Assets written to: models/bagging/rnn_with_feature5/model_8/assets\n"
     ]
    },
    {
     "name": "stdout",
     "output_type": "stream",
     "text": [
      "Epoch 9/10\n",
      "860/860 [==============================] - 83s 97ms/step - loss: 0.2736 - acc: 0.9084 - val_loss: 0.8631 - val_acc: 0.8014\n"
     ]
    },
    {
     "name": "stderr",
     "output_type": "stream",
     "text": [
      "WARNING:absl:Found untraced functions such as gru_cell_31_layer_call_and_return_conditional_losses, gru_cell_31_layer_call_fn, gru_cell_32_layer_call_and_return_conditional_losses, gru_cell_32_layer_call_fn, gru_cell_34_layer_call_and_return_conditional_losses while saving (showing 5 of 20). These functions will not be directly callable after loading.\n"
     ]
    },
    {
     "name": "stdout",
     "output_type": "stream",
     "text": [
      "INFO:tensorflow:Assets written to: models/bagging/rnn_with_feature5/model_9/assets\n"
     ]
    },
    {
     "name": "stderr",
     "output_type": "stream",
     "text": [
      "INFO:tensorflow:Assets written to: models/bagging/rnn_with_feature5/model_9/assets\n"
     ]
    },
    {
     "name": "stdout",
     "output_type": "stream",
     "text": [
      "Epoch 10/10\n",
      "860/860 [==============================] - 84s 97ms/step - loss: 0.2639 - acc: 0.9110 - val_loss: 0.7054 - val_acc: 0.8471\n"
     ]
    },
    {
     "name": "stderr",
     "output_type": "stream",
     "text": [
      "WARNING:absl:Found untraced functions such as gru_cell_31_layer_call_and_return_conditional_losses, gru_cell_31_layer_call_fn, gru_cell_32_layer_call_and_return_conditional_losses, gru_cell_32_layer_call_fn, gru_cell_34_layer_call_and_return_conditional_losses while saving (showing 5 of 20). These functions will not be directly callable after loading.\n"
     ]
    },
    {
     "name": "stdout",
     "output_type": "stream",
     "text": [
      "INFO:tensorflow:Assets written to: models/bagging/rnn_with_feature5/model_10/assets\n"
     ]
    },
    {
     "name": "stderr",
     "output_type": "stream",
     "text": [
      "INFO:tensorflow:Assets written to: models/bagging/rnn_with_feature5/model_10/assets\n",
      "2022-10-13 14:40:13.486558: I tensorflow/core/profiler/lib/profiler_session.cc:131] Profiler session initializing.\n",
      "2022-10-13 14:40:13.486596: I tensorflow/core/profiler/lib/profiler_session.cc:146] Profiler session started.\n",
      "2022-10-13 14:40:13.939614: I tensorflow/core/profiler/lib/profiler_session.cc:164] Profiler session tear down.\n",
      "2022-10-13 14:40:13.939801: I tensorflow/core/profiler/internal/gpu/cupti_tracer.cc:1748] CUPTI activity buffer flushed\n"
     ]
    },
    {
     "name": "stdout",
     "output_type": "stream",
     "text": [
      "Epoch 1/10\n",
      "  1/860 [..............................] - ETA: 1:46:05 - loss: 9.4004 - acc: 0.0938"
     ]
    },
    {
     "name": "stderr",
     "output_type": "stream",
     "text": [
      "2022-10-13 14:40:21.810356: I tensorflow/core/profiler/lib/profiler_session.cc:131] Profiler session initializing.\n",
      "2022-10-13 14:40:21.810402: I tensorflow/core/profiler/lib/profiler_session.cc:146] Profiler session started.\n"
     ]
    },
    {
     "name": "stdout",
     "output_type": "stream",
     "text": [
      "  2/860 [..............................] - ETA: 8:24 - loss: 9.2414 - acc: 0.1094   "
     ]
    },
    {
     "name": "stderr",
     "output_type": "stream",
     "text": [
      "2022-10-13 14:40:22.392815: I tensorflow/core/profiler/lib/profiler_session.cc:66] Profiler session collecting data.\n",
      "2022-10-13 14:40:22.394210: I tensorflow/core/profiler/internal/gpu/cupti_tracer.cc:1748] CUPTI activity buffer flushed\n",
      "2022-10-13 14:40:22.442538: I tensorflow/core/profiler/internal/gpu/cupti_collector.cc:673]  GpuTracer has collected 5815 callback api events and 5812 activity events. \n",
      "2022-10-13 14:40:22.537948: I tensorflow/core/profiler/lib/profiler_session.cc:164] Profiler session tear down.\n",
      "2022-10-13 14:40:22.644269: I tensorflow/core/profiler/rpc/client/save_profile.cc:136] Creating directory: models/bagging/rnn_with_feature6/logs/train/plugins/profile/2022_10_13_14_40_22\n",
      "\n",
      "2022-10-13 14:40:22.716569: I tensorflow/core/profiler/rpc/client/save_profile.cc:142] Dumped gzipped tool data for trace.json.gz to models/bagging/rnn_with_feature6/logs/train/plugins/profile/2022_10_13_14_40_22/dell-Precision-7920-Tower.trace.json.gz\n",
      "2022-10-13 14:40:22.785412: I tensorflow/core/profiler/rpc/client/save_profile.cc:136] Creating directory: models/bagging/rnn_with_feature6/logs/train/plugins/profile/2022_10_13_14_40_22\n",
      "\n",
      "2022-10-13 14:40:22.789619: I tensorflow/core/profiler/rpc/client/save_profile.cc:142] Dumped gzipped tool data for memory_profile.json.gz to models/bagging/rnn_with_feature6/logs/train/plugins/profile/2022_10_13_14_40_22/dell-Precision-7920-Tower.memory_profile.json.gz\n",
      "2022-10-13 14:40:22.791347: I tensorflow/core/profiler/rpc/client/capture_profile.cc:251] Creating directory: models/bagging/rnn_with_feature6/logs/train/plugins/profile/2022_10_13_14_40_22\n",
      "Dumped tool data for xplane.pb to models/bagging/rnn_with_feature6/logs/train/plugins/profile/2022_10_13_14_40_22/dell-Precision-7920-Tower.xplane.pb\n",
      "Dumped tool data for overview_page.pb to models/bagging/rnn_with_feature6/logs/train/plugins/profile/2022_10_13_14_40_22/dell-Precision-7920-Tower.overview_page.pb\n",
      "Dumped tool data for input_pipeline.pb to models/bagging/rnn_with_feature6/logs/train/plugins/profile/2022_10_13_14_40_22/dell-Precision-7920-Tower.input_pipeline.pb\n",
      "Dumped tool data for tensorflow_stats.pb to models/bagging/rnn_with_feature6/logs/train/plugins/profile/2022_10_13_14_40_22/dell-Precision-7920-Tower.tensorflow_stats.pb\n",
      "Dumped tool data for kernel_stats.pb to models/bagging/rnn_with_feature6/logs/train/plugins/profile/2022_10_13_14_40_22/dell-Precision-7920-Tower.kernel_stats.pb\n",
      "\n"
     ]
    },
    {
     "name": "stdout",
     "output_type": "stream",
     "text": [
      "860/860 [==============================] - 96s 103ms/step - loss: 1.7748 - acc: 0.4060 - val_loss: 1.2909 - val_acc: 0.6285\n"
     ]
    },
    {
     "name": "stderr",
     "output_type": "stream",
     "text": [
      "WARNING:absl:Found untraced functions such as gru_cell_37_layer_call_and_return_conditional_losses, gru_cell_37_layer_call_fn, gru_cell_38_layer_call_and_return_conditional_losses, gru_cell_38_layer_call_fn, gru_cell_40_layer_call_and_return_conditional_losses while saving (showing 5 of 20). These functions will not be directly callable after loading.\n"
     ]
    },
    {
     "name": "stdout",
     "output_type": "stream",
     "text": [
      "INFO:tensorflow:Assets written to: models/bagging/rnn_with_feature6/model_1/assets\n"
     ]
    },
    {
     "name": "stderr",
     "output_type": "stream",
     "text": [
      "INFO:tensorflow:Assets written to: models/bagging/rnn_with_feature6/model_1/assets\n"
     ]
    },
    {
     "name": "stdout",
     "output_type": "stream",
     "text": [
      "Epoch 2/10\n",
      "860/860 [==============================] - 83s 96ms/step - loss: 0.9619 - acc: 0.6774 - val_loss: 0.7556 - val_acc: 0.7787\n"
     ]
    },
    {
     "name": "stderr",
     "output_type": "stream",
     "text": [
      "WARNING:absl:Found untraced functions such as gru_cell_37_layer_call_and_return_conditional_losses, gru_cell_37_layer_call_fn, gru_cell_38_layer_call_and_return_conditional_losses, gru_cell_38_layer_call_fn, gru_cell_40_layer_call_and_return_conditional_losses while saving (showing 5 of 20). These functions will not be directly callable after loading.\n"
     ]
    },
    {
     "name": "stdout",
     "output_type": "stream",
     "text": [
      "INFO:tensorflow:Assets written to: models/bagging/rnn_with_feature6/model_2/assets\n"
     ]
    },
    {
     "name": "stderr",
     "output_type": "stream",
     "text": [
      "INFO:tensorflow:Assets written to: models/bagging/rnn_with_feature6/model_2/assets\n"
     ]
    },
    {
     "name": "stdout",
     "output_type": "stream",
     "text": [
      "Epoch 3/10\n",
      "860/860 [==============================] - 83s 96ms/step - loss: 0.6158 - acc: 0.7961 - val_loss: 0.5577 - val_acc: 0.8376\n"
     ]
    },
    {
     "name": "stderr",
     "output_type": "stream",
     "text": [
      "WARNING:absl:Found untraced functions such as gru_cell_37_layer_call_and_return_conditional_losses, gru_cell_37_layer_call_fn, gru_cell_38_layer_call_and_return_conditional_losses, gru_cell_38_layer_call_fn, gru_cell_40_layer_call_and_return_conditional_losses while saving (showing 5 of 20). These functions will not be directly callable after loading.\n"
     ]
    },
    {
     "name": "stdout",
     "output_type": "stream",
     "text": [
      "INFO:tensorflow:Assets written to: models/bagging/rnn_with_feature6/model_3/assets\n"
     ]
    },
    {
     "name": "stderr",
     "output_type": "stream",
     "text": [
      "INFO:tensorflow:Assets written to: models/bagging/rnn_with_feature6/model_3/assets\n"
     ]
    },
    {
     "name": "stdout",
     "output_type": "stream",
     "text": [
      "Epoch 4/10\n",
      "860/860 [==============================] - 83s 97ms/step - loss: 0.5016 - acc: 0.8345 - val_loss: 0.5309 - val_acc: 0.8335\n"
     ]
    },
    {
     "name": "stderr",
     "output_type": "stream",
     "text": [
      "WARNING:absl:Found untraced functions such as gru_cell_37_layer_call_and_return_conditional_losses, gru_cell_37_layer_call_fn, gru_cell_38_layer_call_and_return_conditional_losses, gru_cell_38_layer_call_fn, gru_cell_40_layer_call_and_return_conditional_losses while saving (showing 5 of 20). These functions will not be directly callable after loading.\n"
     ]
    },
    {
     "name": "stdout",
     "output_type": "stream",
     "text": [
      "INFO:tensorflow:Assets written to: models/bagging/rnn_with_feature6/model_4/assets\n"
     ]
    },
    {
     "name": "stderr",
     "output_type": "stream",
     "text": [
      "INFO:tensorflow:Assets written to: models/bagging/rnn_with_feature6/model_4/assets\n"
     ]
    },
    {
     "name": "stdout",
     "output_type": "stream",
     "text": [
      "Epoch 5/10\n",
      "860/860 [==============================] - 82s 96ms/step - loss: 0.4298 - acc: 0.8586 - val_loss: 0.5087 - val_acc: 0.8443\n"
     ]
    },
    {
     "name": "stderr",
     "output_type": "stream",
     "text": [
      "WARNING:absl:Found untraced functions such as gru_cell_37_layer_call_and_return_conditional_losses, gru_cell_37_layer_call_fn, gru_cell_38_layer_call_and_return_conditional_losses, gru_cell_38_layer_call_fn, gru_cell_40_layer_call_and_return_conditional_losses while saving (showing 5 of 20). These functions will not be directly callable after loading.\n"
     ]
    },
    {
     "name": "stdout",
     "output_type": "stream",
     "text": [
      "INFO:tensorflow:Assets written to: models/bagging/rnn_with_feature6/model_5/assets\n"
     ]
    },
    {
     "name": "stderr",
     "output_type": "stream",
     "text": [
      "INFO:tensorflow:Assets written to: models/bagging/rnn_with_feature6/model_5/assets\n"
     ]
    },
    {
     "name": "stdout",
     "output_type": "stream",
     "text": [
      "Epoch 6/10\n",
      "860/860 [==============================] - 83s 97ms/step - loss: 0.3810 - acc: 0.8744 - val_loss: 0.5644 - val_acc: 0.8469\n"
     ]
    },
    {
     "name": "stderr",
     "output_type": "stream",
     "text": [
      "WARNING:absl:Found untraced functions such as gru_cell_37_layer_call_and_return_conditional_losses, gru_cell_37_layer_call_fn, gru_cell_38_layer_call_and_return_conditional_losses, gru_cell_38_layer_call_fn, gru_cell_40_layer_call_and_return_conditional_losses while saving (showing 5 of 20). These functions will not be directly callable after loading.\n"
     ]
    },
    {
     "name": "stdout",
     "output_type": "stream",
     "text": [
      "INFO:tensorflow:Assets written to: models/bagging/rnn_with_feature6/model_6/assets\n"
     ]
    },
    {
     "name": "stderr",
     "output_type": "stream",
     "text": [
      "INFO:tensorflow:Assets written to: models/bagging/rnn_with_feature6/model_6/assets\n"
     ]
    },
    {
     "name": "stdout",
     "output_type": "stream",
     "text": [
      "Epoch 7/10\n",
      "860/860 [==============================] - 83s 96ms/step - loss: 0.3444 - acc: 0.8849 - val_loss: 0.6537 - val_acc: 0.8147\n"
     ]
    },
    {
     "name": "stderr",
     "output_type": "stream",
     "text": [
      "WARNING:absl:Found untraced functions such as gru_cell_37_layer_call_and_return_conditional_losses, gru_cell_37_layer_call_fn, gru_cell_38_layer_call_and_return_conditional_losses, gru_cell_38_layer_call_fn, gru_cell_40_layer_call_and_return_conditional_losses while saving (showing 5 of 20). These functions will not be directly callable after loading.\n"
     ]
    },
    {
     "name": "stdout",
     "output_type": "stream",
     "text": [
      "INFO:tensorflow:Assets written to: models/bagging/rnn_with_feature6/model_7/assets\n"
     ]
    },
    {
     "name": "stderr",
     "output_type": "stream",
     "text": [
      "INFO:tensorflow:Assets written to: models/bagging/rnn_with_feature6/model_7/assets\n"
     ]
    },
    {
     "name": "stdout",
     "output_type": "stream",
     "text": [
      "Epoch 8/10\n",
      "860/860 [==============================] - 83s 97ms/step - loss: 0.3250 - acc: 0.8932 - val_loss: 0.6544 - val_acc: 0.8053\n"
     ]
    },
    {
     "name": "stderr",
     "output_type": "stream",
     "text": [
      "WARNING:absl:Found untraced functions such as gru_cell_37_layer_call_and_return_conditional_losses, gru_cell_37_layer_call_fn, gru_cell_38_layer_call_and_return_conditional_losses, gru_cell_38_layer_call_fn, gru_cell_40_layer_call_and_return_conditional_losses while saving (showing 5 of 20). These functions will not be directly callable after loading.\n"
     ]
    },
    {
     "name": "stdout",
     "output_type": "stream",
     "text": [
      "INFO:tensorflow:Assets written to: models/bagging/rnn_with_feature6/model_8/assets\n"
     ]
    },
    {
     "name": "stderr",
     "output_type": "stream",
     "text": [
      "INFO:tensorflow:Assets written to: models/bagging/rnn_with_feature6/model_8/assets\n"
     ]
    },
    {
     "name": "stdout",
     "output_type": "stream",
     "text": [
      "Epoch 9/10\n",
      "860/860 [==============================] - 83s 97ms/step - loss: 0.2912 - acc: 0.9009 - val_loss: 0.6830 - val_acc: 0.8162\n"
     ]
    },
    {
     "name": "stderr",
     "output_type": "stream",
     "text": [
      "WARNING:absl:Found untraced functions such as gru_cell_37_layer_call_and_return_conditional_losses, gru_cell_37_layer_call_fn, gru_cell_38_layer_call_and_return_conditional_losses, gru_cell_38_layer_call_fn, gru_cell_40_layer_call_and_return_conditional_losses while saving (showing 5 of 20). These functions will not be directly callable after loading.\n"
     ]
    },
    {
     "name": "stdout",
     "output_type": "stream",
     "text": [
      "INFO:tensorflow:Assets written to: models/bagging/rnn_with_feature6/model_9/assets\n"
     ]
    },
    {
     "name": "stderr",
     "output_type": "stream",
     "text": [
      "INFO:tensorflow:Assets written to: models/bagging/rnn_with_feature6/model_9/assets\n"
     ]
    },
    {
     "name": "stdout",
     "output_type": "stream",
     "text": [
      "Epoch 10/10\n",
      "860/860 [==============================] - 83s 97ms/step - loss: 0.2740 - acc: 0.9083 - val_loss: 0.7653 - val_acc: 0.8309\n"
     ]
    },
    {
     "name": "stderr",
     "output_type": "stream",
     "text": [
      "WARNING:absl:Found untraced functions such as gru_cell_37_layer_call_and_return_conditional_losses, gru_cell_37_layer_call_fn, gru_cell_38_layer_call_and_return_conditional_losses, gru_cell_38_layer_call_fn, gru_cell_40_layer_call_and_return_conditional_losses while saving (showing 5 of 20). These functions will not be directly callable after loading.\n"
     ]
    },
    {
     "name": "stdout",
     "output_type": "stream",
     "text": [
      "INFO:tensorflow:Assets written to: models/bagging/rnn_with_feature6/model_10/assets\n"
     ]
    },
    {
     "name": "stderr",
     "output_type": "stream",
     "text": [
      "INFO:tensorflow:Assets written to: models/bagging/rnn_with_feature6/model_10/assets\n",
      "2022-10-13 14:56:57.072175: I tensorflow/core/profiler/lib/profiler_session.cc:131] Profiler session initializing.\n",
      "2022-10-13 14:56:57.072215: I tensorflow/core/profiler/lib/profiler_session.cc:146] Profiler session started.\n",
      "2022-10-13 14:56:57.520427: I tensorflow/core/profiler/lib/profiler_session.cc:164] Profiler session tear down.\n",
      "2022-10-13 14:56:57.520602: I tensorflow/core/profiler/internal/gpu/cupti_tracer.cc:1748] CUPTI activity buffer flushed\n"
     ]
    },
    {
     "name": "stdout",
     "output_type": "stream",
     "text": [
      "Epoch 1/10\n",
      "  1/860 [..............................] - ETA: 1:41:30 - loss: 2.3860 - acc: 0.1250"
     ]
    },
    {
     "name": "stderr",
     "output_type": "stream",
     "text": [
      "2022-10-13 14:57:05.060948: I tensorflow/core/profiler/lib/profiler_session.cc:131] Profiler session initializing.\n",
      "2022-10-13 14:57:05.060991: I tensorflow/core/profiler/lib/profiler_session.cc:146] Profiler session started.\n"
     ]
    },
    {
     "name": "stdout",
     "output_type": "stream",
     "text": [
      "  2/860 [..............................] - ETA: 8:28 - loss: 3.2149 - acc: 0.0938   "
     ]
    },
    {
     "name": "stderr",
     "output_type": "stream",
     "text": [
      "2022-10-13 14:57:05.653389: I tensorflow/core/profiler/lib/profiler_session.cc:66] Profiler session collecting data.\n",
      "2022-10-13 14:57:05.655293: I tensorflow/core/profiler/internal/gpu/cupti_tracer.cc:1748] CUPTI activity buffer flushed\n",
      "2022-10-13 14:57:05.702110: I tensorflow/core/profiler/internal/gpu/cupti_collector.cc:673]  GpuTracer has collected 6019 callback api events and 6016 activity events. \n",
      "2022-10-13 14:57:05.800961: I tensorflow/core/profiler/lib/profiler_session.cc:164] Profiler session tear down.\n",
      "2022-10-13 14:57:05.916747: I tensorflow/core/profiler/rpc/client/save_profile.cc:136] Creating directory: models/bagging/rnn_with_feature7/logs/train/plugins/profile/2022_10_13_14_57_05\n",
      "\n",
      "2022-10-13 14:57:05.991439: I tensorflow/core/profiler/rpc/client/save_profile.cc:142] Dumped gzipped tool data for trace.json.gz to models/bagging/rnn_with_feature7/logs/train/plugins/profile/2022_10_13_14_57_05/dell-Precision-7920-Tower.trace.json.gz\n",
      "2022-10-13 14:57:06.062107: I tensorflow/core/profiler/rpc/client/save_profile.cc:136] Creating directory: models/bagging/rnn_with_feature7/logs/train/plugins/profile/2022_10_13_14_57_05\n",
      "\n",
      "2022-10-13 14:57:06.066255: I tensorflow/core/profiler/rpc/client/save_profile.cc:142] Dumped gzipped tool data for memory_profile.json.gz to models/bagging/rnn_with_feature7/logs/train/plugins/profile/2022_10_13_14_57_05/dell-Precision-7920-Tower.memory_profile.json.gz\n",
      "2022-10-13 14:57:06.067871: I tensorflow/core/profiler/rpc/client/capture_profile.cc:251] Creating directory: models/bagging/rnn_with_feature7/logs/train/plugins/profile/2022_10_13_14_57_05\n",
      "Dumped tool data for xplane.pb to models/bagging/rnn_with_feature7/logs/train/plugins/profile/2022_10_13_14_57_05/dell-Precision-7920-Tower.xplane.pb\n",
      "Dumped tool data for overview_page.pb to models/bagging/rnn_with_feature7/logs/train/plugins/profile/2022_10_13_14_57_05/dell-Precision-7920-Tower.overview_page.pb\n",
      "Dumped tool data for input_pipeline.pb to models/bagging/rnn_with_feature7/logs/train/plugins/profile/2022_10_13_14_57_05/dell-Precision-7920-Tower.input_pipeline.pb\n",
      "Dumped tool data for tensorflow_stats.pb to models/bagging/rnn_with_feature7/logs/train/plugins/profile/2022_10_13_14_57_05/dell-Precision-7920-Tower.tensorflow_stats.pb\n",
      "Dumped tool data for kernel_stats.pb to models/bagging/rnn_with_feature7/logs/train/plugins/profile/2022_10_13_14_57_05/dell-Precision-7920-Tower.kernel_stats.pb\n",
      "\n"
     ]
    },
    {
     "name": "stdout",
     "output_type": "stream",
     "text": [
      "860/860 [==============================] - 94s 101ms/step - loss: 1.7236 - acc: 0.4107 - val_loss: 1.2502 - val_acc: 0.6321\n"
     ]
    },
    {
     "name": "stderr",
     "output_type": "stream",
     "text": [
      "WARNING:absl:Found untraced functions such as gru_cell_43_layer_call_and_return_conditional_losses, gru_cell_43_layer_call_fn, gru_cell_44_layer_call_and_return_conditional_losses, gru_cell_44_layer_call_fn, gru_cell_46_layer_call_and_return_conditional_losses while saving (showing 5 of 20). These functions will not be directly callable after loading.\n"
     ]
    },
    {
     "name": "stdout",
     "output_type": "stream",
     "text": [
      "INFO:tensorflow:Assets written to: models/bagging/rnn_with_feature7/model_1/assets\n"
     ]
    },
    {
     "name": "stderr",
     "output_type": "stream",
     "text": [
      "INFO:tensorflow:Assets written to: models/bagging/rnn_with_feature7/model_1/assets\n"
     ]
    },
    {
     "name": "stdout",
     "output_type": "stream",
     "text": [
      "Epoch 2/10\n",
      "860/860 [==============================] - 83s 96ms/step - loss: 0.8597 - acc: 0.7201 - val_loss: 0.6560 - val_acc: 0.8311\n"
     ]
    },
    {
     "name": "stderr",
     "output_type": "stream",
     "text": [
      "WARNING:absl:Found untraced functions such as gru_cell_43_layer_call_and_return_conditional_losses, gru_cell_43_layer_call_fn, gru_cell_44_layer_call_and_return_conditional_losses, gru_cell_44_layer_call_fn, gru_cell_46_layer_call_and_return_conditional_losses while saving (showing 5 of 20). These functions will not be directly callable after loading.\n"
     ]
    },
    {
     "name": "stdout",
     "output_type": "stream",
     "text": [
      "INFO:tensorflow:Assets written to: models/bagging/rnn_with_feature7/model_2/assets\n"
     ]
    },
    {
     "name": "stderr",
     "output_type": "stream",
     "text": [
      "INFO:tensorflow:Assets written to: models/bagging/rnn_with_feature7/model_2/assets\n"
     ]
    },
    {
     "name": "stdout",
     "output_type": "stream",
     "text": [
      "Epoch 3/10\n",
      "860/860 [==============================] - 82s 96ms/step - loss: 0.5857 - acc: 0.8099 - val_loss: 0.5512 - val_acc: 0.8421\n"
     ]
    },
    {
     "name": "stderr",
     "output_type": "stream",
     "text": [
      "WARNING:absl:Found untraced functions such as gru_cell_43_layer_call_and_return_conditional_losses, gru_cell_43_layer_call_fn, gru_cell_44_layer_call_and_return_conditional_losses, gru_cell_44_layer_call_fn, gru_cell_46_layer_call_and_return_conditional_losses while saving (showing 5 of 20). These functions will not be directly callable after loading.\n"
     ]
    },
    {
     "name": "stdout",
     "output_type": "stream",
     "text": [
      "INFO:tensorflow:Assets written to: models/bagging/rnn_with_feature7/model_3/assets\n"
     ]
    },
    {
     "name": "stderr",
     "output_type": "stream",
     "text": [
      "INFO:tensorflow:Assets written to: models/bagging/rnn_with_feature7/model_3/assets\n"
     ]
    },
    {
     "name": "stdout",
     "output_type": "stream",
     "text": [
      "Epoch 4/10\n",
      "860/860 [==============================] - 82s 96ms/step - loss: 0.4922 - acc: 0.8404 - val_loss: 0.5338 - val_acc: 0.8429\n"
     ]
    },
    {
     "name": "stderr",
     "output_type": "stream",
     "text": [
      "WARNING:absl:Found untraced functions such as gru_cell_43_layer_call_and_return_conditional_losses, gru_cell_43_layer_call_fn, gru_cell_44_layer_call_and_return_conditional_losses, gru_cell_44_layer_call_fn, gru_cell_46_layer_call_and_return_conditional_losses while saving (showing 5 of 20). These functions will not be directly callable after loading.\n"
     ]
    },
    {
     "name": "stdout",
     "output_type": "stream",
     "text": [
      "INFO:tensorflow:Assets written to: models/bagging/rnn_with_feature7/model_4/assets\n"
     ]
    },
    {
     "name": "stderr",
     "output_type": "stream",
     "text": [
      "INFO:tensorflow:Assets written to: models/bagging/rnn_with_feature7/model_4/assets\n"
     ]
    },
    {
     "name": "stdout",
     "output_type": "stream",
     "text": [
      "Epoch 5/10\n",
      "860/860 [==============================] - 83s 96ms/step - loss: 0.4356 - acc: 0.8564 - val_loss: 0.4912 - val_acc: 0.8550\n"
     ]
    },
    {
     "name": "stderr",
     "output_type": "stream",
     "text": [
      "WARNING:absl:Found untraced functions such as gru_cell_43_layer_call_and_return_conditional_losses, gru_cell_43_layer_call_fn, gru_cell_44_layer_call_and_return_conditional_losses, gru_cell_44_layer_call_fn, gru_cell_46_layer_call_and_return_conditional_losses while saving (showing 5 of 20). These functions will not be directly callable after loading.\n"
     ]
    },
    {
     "name": "stdout",
     "output_type": "stream",
     "text": [
      "INFO:tensorflow:Assets written to: models/bagging/rnn_with_feature7/model_5/assets\n"
     ]
    },
    {
     "name": "stderr",
     "output_type": "stream",
     "text": [
      "INFO:tensorflow:Assets written to: models/bagging/rnn_with_feature7/model_5/assets\n"
     ]
    },
    {
     "name": "stdout",
     "output_type": "stream",
     "text": [
      "Epoch 6/10\n",
      "860/860 [==============================] - 82s 95ms/step - loss: 0.3825 - acc: 0.8714 - val_loss: 0.5338 - val_acc: 0.8469\n"
     ]
    },
    {
     "name": "stderr",
     "output_type": "stream",
     "text": [
      "WARNING:absl:Found untraced functions such as gru_cell_43_layer_call_and_return_conditional_losses, gru_cell_43_layer_call_fn, gru_cell_44_layer_call_and_return_conditional_losses, gru_cell_44_layer_call_fn, gru_cell_46_layer_call_and_return_conditional_losses while saving (showing 5 of 20). These functions will not be directly callable after loading.\n"
     ]
    },
    {
     "name": "stdout",
     "output_type": "stream",
     "text": [
      "INFO:tensorflow:Assets written to: models/bagging/rnn_with_feature7/model_6/assets\n"
     ]
    },
    {
     "name": "stderr",
     "output_type": "stream",
     "text": [
      "INFO:tensorflow:Assets written to: models/bagging/rnn_with_feature7/model_6/assets\n"
     ]
    },
    {
     "name": "stdout",
     "output_type": "stream",
     "text": [
      "Epoch 7/10\n",
      "860/860 [==============================] - 82s 95ms/step - loss: 0.3565 - acc: 0.8832 - val_loss: 0.6764 - val_acc: 0.8206\n"
     ]
    },
    {
     "name": "stderr",
     "output_type": "stream",
     "text": [
      "WARNING:absl:Found untraced functions such as gru_cell_43_layer_call_and_return_conditional_losses, gru_cell_43_layer_call_fn, gru_cell_44_layer_call_and_return_conditional_losses, gru_cell_44_layer_call_fn, gru_cell_46_layer_call_and_return_conditional_losses while saving (showing 5 of 20). These functions will not be directly callable after loading.\n"
     ]
    },
    {
     "name": "stdout",
     "output_type": "stream",
     "text": [
      "INFO:tensorflow:Assets written to: models/bagging/rnn_with_feature7/model_7/assets\n"
     ]
    },
    {
     "name": "stderr",
     "output_type": "stream",
     "text": [
      "INFO:tensorflow:Assets written to: models/bagging/rnn_with_feature7/model_7/assets\n"
     ]
    },
    {
     "name": "stdout",
     "output_type": "stream",
     "text": [
      "Epoch 8/10\n",
      "860/860 [==============================] - 83s 96ms/step - loss: 0.3176 - acc: 0.8948 - val_loss: 0.5993 - val_acc: 0.8227\n"
     ]
    },
    {
     "name": "stderr",
     "output_type": "stream",
     "text": [
      "WARNING:absl:Found untraced functions such as gru_cell_43_layer_call_and_return_conditional_losses, gru_cell_43_layer_call_fn, gru_cell_44_layer_call_and_return_conditional_losses, gru_cell_44_layer_call_fn, gru_cell_46_layer_call_and_return_conditional_losses while saving (showing 5 of 20). These functions will not be directly callable after loading.\n"
     ]
    },
    {
     "name": "stdout",
     "output_type": "stream",
     "text": [
      "INFO:tensorflow:Assets written to: models/bagging/rnn_with_feature7/model_8/assets\n"
     ]
    },
    {
     "name": "stderr",
     "output_type": "stream",
     "text": [
      "INFO:tensorflow:Assets written to: models/bagging/rnn_with_feature7/model_8/assets\n"
     ]
    },
    {
     "name": "stdout",
     "output_type": "stream",
     "text": [
      "Epoch 9/10\n",
      "860/860 [==============================] - 83s 96ms/step - loss: 0.2987 - acc: 0.9003 - val_loss: 0.6123 - val_acc: 0.8094\n"
     ]
    },
    {
     "name": "stderr",
     "output_type": "stream",
     "text": [
      "WARNING:absl:Found untraced functions such as gru_cell_43_layer_call_and_return_conditional_losses, gru_cell_43_layer_call_fn, gru_cell_44_layer_call_and_return_conditional_losses, gru_cell_44_layer_call_fn, gru_cell_46_layer_call_and_return_conditional_losses while saving (showing 5 of 20). These functions will not be directly callable after loading.\n"
     ]
    },
    {
     "name": "stdout",
     "output_type": "stream",
     "text": [
      "INFO:tensorflow:Assets written to: models/bagging/rnn_with_feature7/model_9/assets\n"
     ]
    },
    {
     "name": "stderr",
     "output_type": "stream",
     "text": [
      "INFO:tensorflow:Assets written to: models/bagging/rnn_with_feature7/model_9/assets\n"
     ]
    },
    {
     "name": "stdout",
     "output_type": "stream",
     "text": [
      "Epoch 10/10\n",
      "860/860 [==============================] - 82s 95ms/step - loss: 0.2714 - acc: 0.9103 - val_loss: 0.5723 - val_acc: 0.8249\n"
     ]
    },
    {
     "name": "stderr",
     "output_type": "stream",
     "text": [
      "WARNING:absl:Found untraced functions such as gru_cell_43_layer_call_and_return_conditional_losses, gru_cell_43_layer_call_fn, gru_cell_44_layer_call_and_return_conditional_losses, gru_cell_44_layer_call_fn, gru_cell_46_layer_call_and_return_conditional_losses while saving (showing 5 of 20). These functions will not be directly callable after loading.\n"
     ]
    },
    {
     "name": "stdout",
     "output_type": "stream",
     "text": [
      "INFO:tensorflow:Assets written to: models/bagging/rnn_with_feature7/model_10/assets\n"
     ]
    },
    {
     "name": "stderr",
     "output_type": "stream",
     "text": [
      "INFO:tensorflow:Assets written to: models/bagging/rnn_with_feature7/model_10/assets\n",
      "2022-10-13 15:13:41.918144: I tensorflow/core/profiler/lib/profiler_session.cc:131] Profiler session initializing.\n",
      "2022-10-13 15:13:41.918184: I tensorflow/core/profiler/lib/profiler_session.cc:146] Profiler session started.\n",
      "2022-10-13 15:13:42.381384: I tensorflow/core/profiler/lib/profiler_session.cc:164] Profiler session tear down.\n",
      "2022-10-13 15:13:42.381567: I tensorflow/core/profiler/internal/gpu/cupti_tracer.cc:1748] CUPTI activity buffer flushed\n"
     ]
    },
    {
     "name": "stdout",
     "output_type": "stream",
     "text": [
      "Epoch 1/10\n",
      "  1/860 [..............................] - ETA: 2:27:04 - loss: 3.6603 - acc: 0.0312"
     ]
    },
    {
     "name": "stderr",
     "output_type": "stream",
     "text": [
      "2022-10-13 15:13:53.064105: I tensorflow/core/profiler/lib/profiler_session.cc:131] Profiler session initializing.\n",
      "2022-10-13 15:13:53.064149: I tensorflow/core/profiler/lib/profiler_session.cc:146] Profiler session started.\n"
     ]
    },
    {
     "name": "stdout",
     "output_type": "stream",
     "text": [
      "  2/860 [..............................] - ETA: 10:13 - loss: 3.3749 - acc: 0.0781  "
     ]
    },
    {
     "name": "stderr",
     "output_type": "stream",
     "text": [
      "2022-10-13 15:13:53.736683: I tensorflow/core/profiler/lib/profiler_session.cc:66] Profiler session collecting data.\n",
      "2022-10-13 15:13:53.741150: I tensorflow/core/profiler/internal/gpu/cupti_tracer.cc:1748] CUPTI activity buffer flushed\n",
      "2022-10-13 15:13:53.811798: I tensorflow/core/profiler/internal/gpu/cupti_collector.cc:673]  GpuTracer has collected 5637 callback api events and 5634 activity events. \n",
      "2022-10-13 15:13:53.918973: I tensorflow/core/profiler/lib/profiler_session.cc:164] Profiler session tear down.\n",
      "2022-10-13 15:13:54.065178: I tensorflow/core/profiler/rpc/client/save_profile.cc:136] Creating directory: models/bagging/rnn_with_feature8/logs/train/plugins/profile/2022_10_13_15_13_53\n",
      "\n",
      "2022-10-13 15:13:54.135493: I tensorflow/core/profiler/rpc/client/save_profile.cc:142] Dumped gzipped tool data for trace.json.gz to models/bagging/rnn_with_feature8/logs/train/plugins/profile/2022_10_13_15_13_53/dell-Precision-7920-Tower.trace.json.gz\n",
      "2022-10-13 15:13:54.237362: I tensorflow/core/profiler/rpc/client/save_profile.cc:136] Creating directory: models/bagging/rnn_with_feature8/logs/train/plugins/profile/2022_10_13_15_13_53\n",
      "\n",
      "2022-10-13 15:13:54.241893: I tensorflow/core/profiler/rpc/client/save_profile.cc:142] Dumped gzipped tool data for memory_profile.json.gz to models/bagging/rnn_with_feature8/logs/train/plugins/profile/2022_10_13_15_13_53/dell-Precision-7920-Tower.memory_profile.json.gz\n",
      "2022-10-13 15:13:54.243670: I tensorflow/core/profiler/rpc/client/capture_profile.cc:251] Creating directory: models/bagging/rnn_with_feature8/logs/train/plugins/profile/2022_10_13_15_13_53\n",
      "Dumped tool data for xplane.pb to models/bagging/rnn_with_feature8/logs/train/plugins/profile/2022_10_13_15_13_53/dell-Precision-7920-Tower.xplane.pb\n",
      "Dumped tool data for overview_page.pb to models/bagging/rnn_with_feature8/logs/train/plugins/profile/2022_10_13_15_13_53/dell-Precision-7920-Tower.overview_page.pb\n",
      "Dumped tool data for input_pipeline.pb to models/bagging/rnn_with_feature8/logs/train/plugins/profile/2022_10_13_15_13_53/dell-Precision-7920-Tower.input_pipeline.pb\n",
      "Dumped tool data for tensorflow_stats.pb to models/bagging/rnn_with_feature8/logs/train/plugins/profile/2022_10_13_15_13_53/dell-Precision-7920-Tower.tensorflow_stats.pb\n",
      "Dumped tool data for kernel_stats.pb to models/bagging/rnn_with_feature8/logs/train/plugins/profile/2022_10_13_15_13_53/dell-Precision-7920-Tower.kernel_stats.pb\n",
      "\n"
     ]
    },
    {
     "name": "stdout",
     "output_type": "stream",
     "text": [
      "860/860 [==============================] - 97s 101ms/step - loss: 1.6653 - acc: 0.4144 - val_loss: 1.2647 - val_acc: 0.5928\n"
     ]
    },
    {
     "name": "stderr",
     "output_type": "stream",
     "text": [
      "WARNING:absl:Found untraced functions such as gru_cell_49_layer_call_and_return_conditional_losses, gru_cell_49_layer_call_fn, gru_cell_50_layer_call_and_return_conditional_losses, gru_cell_50_layer_call_fn, gru_cell_52_layer_call_and_return_conditional_losses while saving (showing 5 of 20). These functions will not be directly callable after loading.\n"
     ]
    },
    {
     "name": "stdout",
     "output_type": "stream",
     "text": [
      "INFO:tensorflow:Assets written to: models/bagging/rnn_with_feature8/model_1/assets\n"
     ]
    },
    {
     "name": "stderr",
     "output_type": "stream",
     "text": [
      "INFO:tensorflow:Assets written to: models/bagging/rnn_with_feature8/model_1/assets\n"
     ]
    },
    {
     "name": "stdout",
     "output_type": "stream",
     "text": [
      "Epoch 2/10\n",
      "860/860 [==============================] - 83s 96ms/step - loss: 0.9178 - acc: 0.6917 - val_loss: 0.6734 - val_acc: 0.8061\n"
     ]
    },
    {
     "name": "stderr",
     "output_type": "stream",
     "text": [
      "WARNING:absl:Found untraced functions such as gru_cell_49_layer_call_and_return_conditional_losses, gru_cell_49_layer_call_fn, gru_cell_50_layer_call_and_return_conditional_losses, gru_cell_50_layer_call_fn, gru_cell_52_layer_call_and_return_conditional_losses while saving (showing 5 of 20). These functions will not be directly callable after loading.\n"
     ]
    },
    {
     "name": "stdout",
     "output_type": "stream",
     "text": [
      "INFO:tensorflow:Assets written to: models/bagging/rnn_with_feature8/model_2/assets\n"
     ]
    },
    {
     "name": "stderr",
     "output_type": "stream",
     "text": [
      "INFO:tensorflow:Assets written to: models/bagging/rnn_with_feature8/model_2/assets\n"
     ]
    },
    {
     "name": "stdout",
     "output_type": "stream",
     "text": [
      "Epoch 3/10\n",
      "860/860 [==============================] - 81s 95ms/step - loss: 0.5990 - acc: 0.7991 - val_loss: 0.5893 - val_acc: 0.8318\n"
     ]
    },
    {
     "name": "stderr",
     "output_type": "stream",
     "text": [
      "WARNING:absl:Found untraced functions such as gru_cell_49_layer_call_and_return_conditional_losses, gru_cell_49_layer_call_fn, gru_cell_50_layer_call_and_return_conditional_losses, gru_cell_50_layer_call_fn, gru_cell_52_layer_call_and_return_conditional_losses while saving (showing 5 of 20). These functions will not be directly callable after loading.\n"
     ]
    },
    {
     "name": "stdout",
     "output_type": "stream",
     "text": [
      "INFO:tensorflow:Assets written to: models/bagging/rnn_with_feature8/model_3/assets\n"
     ]
    },
    {
     "name": "stderr",
     "output_type": "stream",
     "text": [
      "INFO:tensorflow:Assets written to: models/bagging/rnn_with_feature8/model_3/assets\n"
     ]
    },
    {
     "name": "stdout",
     "output_type": "stream",
     "text": [
      "Epoch 4/10\n",
      "860/860 [==============================] - 83s 96ms/step - loss: 0.4877 - acc: 0.8339 - val_loss: 0.5449 - val_acc: 0.8348\n"
     ]
    },
    {
     "name": "stderr",
     "output_type": "stream",
     "text": [
      "WARNING:absl:Found untraced functions such as gru_cell_49_layer_call_and_return_conditional_losses, gru_cell_49_layer_call_fn, gru_cell_50_layer_call_and_return_conditional_losses, gru_cell_50_layer_call_fn, gru_cell_52_layer_call_and_return_conditional_losses while saving (showing 5 of 20). These functions will not be directly callable after loading.\n"
     ]
    },
    {
     "name": "stdout",
     "output_type": "stream",
     "text": [
      "INFO:tensorflow:Assets written to: models/bagging/rnn_with_feature8/model_4/assets\n"
     ]
    },
    {
     "name": "stderr",
     "output_type": "stream",
     "text": [
      "INFO:tensorflow:Assets written to: models/bagging/rnn_with_feature8/model_4/assets\n"
     ]
    },
    {
     "name": "stdout",
     "output_type": "stream",
     "text": [
      "Epoch 5/10\n",
      "860/860 [==============================] - 83s 96ms/step - loss: 0.4220 - acc: 0.8559 - val_loss: 0.5714 - val_acc: 0.8362\n"
     ]
    },
    {
     "name": "stderr",
     "output_type": "stream",
     "text": [
      "WARNING:absl:Found untraced functions such as gru_cell_49_layer_call_and_return_conditional_losses, gru_cell_49_layer_call_fn, gru_cell_50_layer_call_and_return_conditional_losses, gru_cell_50_layer_call_fn, gru_cell_52_layer_call_and_return_conditional_losses while saving (showing 5 of 20). These functions will not be directly callable after loading.\n"
     ]
    },
    {
     "name": "stdout",
     "output_type": "stream",
     "text": [
      "INFO:tensorflow:Assets written to: models/bagging/rnn_with_feature8/model_5/assets\n"
     ]
    },
    {
     "name": "stderr",
     "output_type": "stream",
     "text": [
      "INFO:tensorflow:Assets written to: models/bagging/rnn_with_feature8/model_5/assets\n"
     ]
    },
    {
     "name": "stdout",
     "output_type": "stream",
     "text": [
      "Epoch 6/10\n",
      "860/860 [==============================] - 81s 95ms/step - loss: 0.3728 - acc: 0.8747 - val_loss: 0.6229 - val_acc: 0.8264\n"
     ]
    },
    {
     "name": "stderr",
     "output_type": "stream",
     "text": [
      "WARNING:absl:Found untraced functions such as gru_cell_49_layer_call_and_return_conditional_losses, gru_cell_49_layer_call_fn, gru_cell_50_layer_call_and_return_conditional_losses, gru_cell_50_layer_call_fn, gru_cell_52_layer_call_and_return_conditional_losses while saving (showing 5 of 20). These functions will not be directly callable after loading.\n"
     ]
    },
    {
     "name": "stdout",
     "output_type": "stream",
     "text": [
      "INFO:tensorflow:Assets written to: models/bagging/rnn_with_feature8/model_6/assets\n"
     ]
    },
    {
     "name": "stderr",
     "output_type": "stream",
     "text": [
      "INFO:tensorflow:Assets written to: models/bagging/rnn_with_feature8/model_6/assets\n"
     ]
    },
    {
     "name": "stdout",
     "output_type": "stream",
     "text": [
      "Epoch 7/10\n",
      "860/860 [==============================] - 83s 97ms/step - loss: 0.3445 - acc: 0.8836 - val_loss: 0.6247 - val_acc: 0.8179\n"
     ]
    },
    {
     "name": "stderr",
     "output_type": "stream",
     "text": [
      "WARNING:absl:Found untraced functions such as gru_cell_49_layer_call_and_return_conditional_losses, gru_cell_49_layer_call_fn, gru_cell_50_layer_call_and_return_conditional_losses, gru_cell_50_layer_call_fn, gru_cell_52_layer_call_and_return_conditional_losses while saving (showing 5 of 20). These functions will not be directly callable after loading.\n"
     ]
    },
    {
     "name": "stdout",
     "output_type": "stream",
     "text": [
      "INFO:tensorflow:Assets written to: models/bagging/rnn_with_feature8/model_7/assets\n"
     ]
    },
    {
     "name": "stderr",
     "output_type": "stream",
     "text": [
      "INFO:tensorflow:Assets written to: models/bagging/rnn_with_feature8/model_7/assets\n"
     ]
    },
    {
     "name": "stdout",
     "output_type": "stream",
     "text": [
      "Epoch 8/10\n",
      "860/860 [==============================] - 83s 96ms/step - loss: 0.3205 - acc: 0.8911 - val_loss: 0.6851 - val_acc: 0.8226\n"
     ]
    },
    {
     "name": "stderr",
     "output_type": "stream",
     "text": [
      "WARNING:absl:Found untraced functions such as gru_cell_49_layer_call_and_return_conditional_losses, gru_cell_49_layer_call_fn, gru_cell_50_layer_call_and_return_conditional_losses, gru_cell_50_layer_call_fn, gru_cell_52_layer_call_and_return_conditional_losses while saving (showing 5 of 20). These functions will not be directly callable after loading.\n"
     ]
    },
    {
     "name": "stdout",
     "output_type": "stream",
     "text": [
      "INFO:tensorflow:Assets written to: models/bagging/rnn_with_feature8/model_8/assets\n"
     ]
    },
    {
     "name": "stderr",
     "output_type": "stream",
     "text": [
      "INFO:tensorflow:Assets written to: models/bagging/rnn_with_feature8/model_8/assets\n"
     ]
    },
    {
     "name": "stdout",
     "output_type": "stream",
     "text": [
      "Epoch 9/10\n",
      "860/860 [==============================] - 83s 96ms/step - loss: 0.2995 - acc: 0.8993 - val_loss: 0.6698 - val_acc: 0.8344\n"
     ]
    },
    {
     "name": "stderr",
     "output_type": "stream",
     "text": [
      "WARNING:absl:Found untraced functions such as gru_cell_49_layer_call_and_return_conditional_losses, gru_cell_49_layer_call_fn, gru_cell_50_layer_call_and_return_conditional_losses, gru_cell_50_layer_call_fn, gru_cell_52_layer_call_and_return_conditional_losses while saving (showing 5 of 20). These functions will not be directly callable after loading.\n"
     ]
    },
    {
     "name": "stdout",
     "output_type": "stream",
     "text": [
      "INFO:tensorflow:Assets written to: models/bagging/rnn_with_feature8/model_9/assets\n"
     ]
    },
    {
     "name": "stderr",
     "output_type": "stream",
     "text": [
      "INFO:tensorflow:Assets written to: models/bagging/rnn_with_feature8/model_9/assets\n"
     ]
    },
    {
     "name": "stdout",
     "output_type": "stream",
     "text": [
      "Epoch 10/10\n",
      "860/860 [==============================] - 83s 96ms/step - loss: 0.2720 - acc: 0.9064 - val_loss: 0.7546 - val_acc: 0.8313\n"
     ]
    },
    {
     "name": "stderr",
     "output_type": "stream",
     "text": [
      "WARNING:absl:Found untraced functions such as gru_cell_49_layer_call_and_return_conditional_losses, gru_cell_49_layer_call_fn, gru_cell_50_layer_call_and_return_conditional_losses, gru_cell_50_layer_call_fn, gru_cell_52_layer_call_and_return_conditional_losses while saving (showing 5 of 20). These functions will not be directly callable after loading.\n"
     ]
    },
    {
     "name": "stdout",
     "output_type": "stream",
     "text": [
      "INFO:tensorflow:Assets written to: models/bagging/rnn_with_feature8/model_10/assets\n"
     ]
    },
    {
     "name": "stderr",
     "output_type": "stream",
     "text": [
      "INFO:tensorflow:Assets written to: models/bagging/rnn_with_feature8/model_10/assets\n",
      "2022-10-13 15:30:22.906737: I tensorflow/core/profiler/lib/profiler_session.cc:131] Profiler session initializing.\n",
      "2022-10-13 15:30:22.906774: I tensorflow/core/profiler/lib/profiler_session.cc:146] Profiler session started.\n",
      "2022-10-13 15:30:23.385146: I tensorflow/core/profiler/lib/profiler_session.cc:164] Profiler session tear down.\n",
      "2022-10-13 15:30:23.385341: I tensorflow/core/profiler/internal/gpu/cupti_tracer.cc:1748] CUPTI activity buffer flushed\n"
     ]
    },
    {
     "name": "stdout",
     "output_type": "stream",
     "text": [
      "Epoch 1/10\n",
      "  1/860 [..............................] - ETA: 2:23:51 - loss: 2.6587 - acc: 0.2812"
     ]
    },
    {
     "name": "stderr",
     "output_type": "stream",
     "text": [
      "2022-10-13 15:30:33.940314: I tensorflow/core/profiler/lib/profiler_session.cc:131] Profiler session initializing.\n",
      "2022-10-13 15:30:33.940357: I tensorflow/core/profiler/lib/profiler_session.cc:146] Profiler session started.\n"
     ]
    },
    {
     "name": "stdout",
     "output_type": "stream",
     "text": [
      "  2/860 [..............................] - ETA: 8:46 - loss: 2.5210 - acc: 0.2812   "
     ]
    },
    {
     "name": "stderr",
     "output_type": "stream",
     "text": [
      "2022-10-13 15:30:34.522953: I tensorflow/core/profiler/lib/profiler_session.cc:66] Profiler session collecting data.\n",
      "2022-10-13 15:30:34.527201: I tensorflow/core/profiler/internal/gpu/cupti_tracer.cc:1748] CUPTI activity buffer flushed\n",
      "2022-10-13 15:30:34.603543: I tensorflow/core/profiler/internal/gpu/cupti_collector.cc:673]  GpuTracer has collected 5565 callback api events and 5562 activity events. \n",
      "2022-10-13 15:30:34.709386: I tensorflow/core/profiler/lib/profiler_session.cc:164] Profiler session tear down.\n",
      "2022-10-13 15:30:34.858786: I tensorflow/core/profiler/rpc/client/save_profile.cc:136] Creating directory: models/bagging/rnn_with_feature9/logs/train/plugins/profile/2022_10_13_15_30_34\n",
      "\n",
      "2022-10-13 15:30:34.928250: I tensorflow/core/profiler/rpc/client/save_profile.cc:142] Dumped gzipped tool data for trace.json.gz to models/bagging/rnn_with_feature9/logs/train/plugins/profile/2022_10_13_15_30_34/dell-Precision-7920-Tower.trace.json.gz\n",
      "2022-10-13 15:30:35.030403: I tensorflow/core/profiler/rpc/client/save_profile.cc:136] Creating directory: models/bagging/rnn_with_feature9/logs/train/plugins/profile/2022_10_13_15_30_34\n",
      "\n",
      "2022-10-13 15:30:35.034857: I tensorflow/core/profiler/rpc/client/save_profile.cc:142] Dumped gzipped tool data for memory_profile.json.gz to models/bagging/rnn_with_feature9/logs/train/plugins/profile/2022_10_13_15_30_34/dell-Precision-7920-Tower.memory_profile.json.gz\n",
      "2022-10-13 15:30:35.036733: I tensorflow/core/profiler/rpc/client/capture_profile.cc:251] Creating directory: models/bagging/rnn_with_feature9/logs/train/plugins/profile/2022_10_13_15_30_34\n",
      "Dumped tool data for xplane.pb to models/bagging/rnn_with_feature9/logs/train/plugins/profile/2022_10_13_15_30_34/dell-Precision-7920-Tower.xplane.pb\n",
      "Dumped tool data for overview_page.pb to models/bagging/rnn_with_feature9/logs/train/plugins/profile/2022_10_13_15_30_34/dell-Precision-7920-Tower.overview_page.pb\n",
      "Dumped tool data for input_pipeline.pb to models/bagging/rnn_with_feature9/logs/train/plugins/profile/2022_10_13_15_30_34/dell-Precision-7920-Tower.input_pipeline.pb\n",
      "Dumped tool data for tensorflow_stats.pb to models/bagging/rnn_with_feature9/logs/train/plugins/profile/2022_10_13_15_30_34/dell-Precision-7920-Tower.tensorflow_stats.pb\n",
      "Dumped tool data for kernel_stats.pb to models/bagging/rnn_with_feature9/logs/train/plugins/profile/2022_10_13_15_30_34/dell-Precision-7920-Tower.kernel_stats.pb\n",
      "\n"
     ]
    },
    {
     "name": "stdout",
     "output_type": "stream",
     "text": [
      "860/860 [==============================] - 95s 99ms/step - loss: 1.5662 - acc: 0.4554 - val_loss: 0.9698 - val_acc: 0.7077\n"
     ]
    },
    {
     "name": "stderr",
     "output_type": "stream",
     "text": [
      "WARNING:absl:Found untraced functions such as gru_cell_55_layer_call_and_return_conditional_losses, gru_cell_55_layer_call_fn, gru_cell_56_layer_call_and_return_conditional_losses, gru_cell_56_layer_call_fn, gru_cell_58_layer_call_and_return_conditional_losses while saving (showing 5 of 20). These functions will not be directly callable after loading.\n"
     ]
    },
    {
     "name": "stdout",
     "output_type": "stream",
     "text": [
      "INFO:tensorflow:Assets written to: models/bagging/rnn_with_feature9/model_1/assets\n"
     ]
    },
    {
     "name": "stderr",
     "output_type": "stream",
     "text": [
      "INFO:tensorflow:Assets written to: models/bagging/rnn_with_feature9/model_1/assets\n"
     ]
    },
    {
     "name": "stdout",
     "output_type": "stream",
     "text": [
      "Epoch 2/10\n",
      "860/860 [==============================] - 82s 95ms/step - loss: 0.7715 - acc: 0.7407 - val_loss: 0.6652 - val_acc: 0.8167\n"
     ]
    },
    {
     "name": "stderr",
     "output_type": "stream",
     "text": [
      "WARNING:absl:Found untraced functions such as gru_cell_55_layer_call_and_return_conditional_losses, gru_cell_55_layer_call_fn, gru_cell_56_layer_call_and_return_conditional_losses, gru_cell_56_layer_call_fn, gru_cell_58_layer_call_and_return_conditional_losses while saving (showing 5 of 20). These functions will not be directly callable after loading.\n"
     ]
    },
    {
     "name": "stdout",
     "output_type": "stream",
     "text": [
      "INFO:tensorflow:Assets written to: models/bagging/rnn_with_feature9/model_2/assets\n"
     ]
    },
    {
     "name": "stderr",
     "output_type": "stream",
     "text": [
      "INFO:tensorflow:Assets written to: models/bagging/rnn_with_feature9/model_2/assets\n"
     ]
    },
    {
     "name": "stdout",
     "output_type": "stream",
     "text": [
      "Epoch 3/10\n",
      "860/860 [==============================] - 82s 96ms/step - loss: 0.5719 - acc: 0.8110 - val_loss: 0.5744 - val_acc: 0.8424\n"
     ]
    },
    {
     "name": "stderr",
     "output_type": "stream",
     "text": [
      "WARNING:absl:Found untraced functions such as gru_cell_55_layer_call_and_return_conditional_losses, gru_cell_55_layer_call_fn, gru_cell_56_layer_call_and_return_conditional_losses, gru_cell_56_layer_call_fn, gru_cell_58_layer_call_and_return_conditional_losses while saving (showing 5 of 20). These functions will not be directly callable after loading.\n"
     ]
    },
    {
     "name": "stdout",
     "output_type": "stream",
     "text": [
      "INFO:tensorflow:Assets written to: models/bagging/rnn_with_feature9/model_3/assets\n"
     ]
    },
    {
     "name": "stderr",
     "output_type": "stream",
     "text": [
      "INFO:tensorflow:Assets written to: models/bagging/rnn_with_feature9/model_3/assets\n"
     ]
    },
    {
     "name": "stdout",
     "output_type": "stream",
     "text": [
      "Epoch 4/10\n",
      "860/860 [==============================] - 81s 94ms/step - loss: 0.4940 - acc: 0.8363 - val_loss: 0.5033 - val_acc: 0.8446\n"
     ]
    },
    {
     "name": "stderr",
     "output_type": "stream",
     "text": [
      "WARNING:absl:Found untraced functions such as gru_cell_55_layer_call_and_return_conditional_losses, gru_cell_55_layer_call_fn, gru_cell_56_layer_call_and_return_conditional_losses, gru_cell_56_layer_call_fn, gru_cell_58_layer_call_and_return_conditional_losses while saving (showing 5 of 20). These functions will not be directly callable after loading.\n"
     ]
    },
    {
     "name": "stdout",
     "output_type": "stream",
     "text": [
      "INFO:tensorflow:Assets written to: models/bagging/rnn_with_feature9/model_4/assets\n"
     ]
    },
    {
     "name": "stderr",
     "output_type": "stream",
     "text": [
      "INFO:tensorflow:Assets written to: models/bagging/rnn_with_feature9/model_4/assets\n"
     ]
    },
    {
     "name": "stdout",
     "output_type": "stream",
     "text": [
      "Epoch 5/10\n",
      "860/860 [==============================] - 81s 95ms/step - loss: 0.4320 - acc: 0.8573 - val_loss: 0.4994 - val_acc: 0.8418\n"
     ]
    },
    {
     "name": "stderr",
     "output_type": "stream",
     "text": [
      "WARNING:absl:Found untraced functions such as gru_cell_55_layer_call_and_return_conditional_losses, gru_cell_55_layer_call_fn, gru_cell_56_layer_call_and_return_conditional_losses, gru_cell_56_layer_call_fn, gru_cell_58_layer_call_and_return_conditional_losses while saving (showing 5 of 20). These functions will not be directly callable after loading.\n"
     ]
    },
    {
     "name": "stdout",
     "output_type": "stream",
     "text": [
      "INFO:tensorflow:Assets written to: models/bagging/rnn_with_feature9/model_5/assets\n"
     ]
    },
    {
     "name": "stderr",
     "output_type": "stream",
     "text": [
      "INFO:tensorflow:Assets written to: models/bagging/rnn_with_feature9/model_5/assets\n"
     ]
    },
    {
     "name": "stdout",
     "output_type": "stream",
     "text": [
      "Epoch 6/10\n",
      "860/860 [==============================] - 82s 96ms/step - loss: 0.3820 - acc: 0.8713 - val_loss: 0.4968 - val_acc: 0.8395\n"
     ]
    },
    {
     "name": "stderr",
     "output_type": "stream",
     "text": [
      "WARNING:absl:Found untraced functions such as gru_cell_55_layer_call_and_return_conditional_losses, gru_cell_55_layer_call_fn, gru_cell_56_layer_call_and_return_conditional_losses, gru_cell_56_layer_call_fn, gru_cell_58_layer_call_and_return_conditional_losses while saving (showing 5 of 20). These functions will not be directly callable after loading.\n"
     ]
    },
    {
     "name": "stdout",
     "output_type": "stream",
     "text": [
      "INFO:tensorflow:Assets written to: models/bagging/rnn_with_feature9/model_6/assets\n"
     ]
    },
    {
     "name": "stderr",
     "output_type": "stream",
     "text": [
      "INFO:tensorflow:Assets written to: models/bagging/rnn_with_feature9/model_6/assets\n"
     ]
    },
    {
     "name": "stdout",
     "output_type": "stream",
     "text": [
      "Epoch 7/10\n",
      "860/860 [==============================] - 81s 94ms/step - loss: 0.3553 - acc: 0.8821 - val_loss: 0.5278 - val_acc: 0.8334\n"
     ]
    },
    {
     "name": "stderr",
     "output_type": "stream",
     "text": [
      "WARNING:absl:Found untraced functions such as gru_cell_55_layer_call_and_return_conditional_losses, gru_cell_55_layer_call_fn, gru_cell_56_layer_call_and_return_conditional_losses, gru_cell_56_layer_call_fn, gru_cell_58_layer_call_and_return_conditional_losses while saving (showing 5 of 20). These functions will not be directly callable after loading.\n"
     ]
    },
    {
     "name": "stdout",
     "output_type": "stream",
     "text": [
      "INFO:tensorflow:Assets written to: models/bagging/rnn_with_feature9/model_7/assets\n"
     ]
    },
    {
     "name": "stderr",
     "output_type": "stream",
     "text": [
      "INFO:tensorflow:Assets written to: models/bagging/rnn_with_feature9/model_7/assets\n"
     ]
    },
    {
     "name": "stdout",
     "output_type": "stream",
     "text": [
      "Epoch 8/10\n",
      "860/860 [==============================] - 81s 95ms/step - loss: 0.3252 - acc: 0.8918 - val_loss: 0.6015 - val_acc: 0.8182\n"
     ]
    },
    {
     "name": "stderr",
     "output_type": "stream",
     "text": [
      "WARNING:absl:Found untraced functions such as gru_cell_55_layer_call_and_return_conditional_losses, gru_cell_55_layer_call_fn, gru_cell_56_layer_call_and_return_conditional_losses, gru_cell_56_layer_call_fn, gru_cell_58_layer_call_and_return_conditional_losses while saving (showing 5 of 20). These functions will not be directly callable after loading.\n"
     ]
    },
    {
     "name": "stdout",
     "output_type": "stream",
     "text": [
      "INFO:tensorflow:Assets written to: models/bagging/rnn_with_feature9/model_8/assets\n"
     ]
    },
    {
     "name": "stderr",
     "output_type": "stream",
     "text": [
      "INFO:tensorflow:Assets written to: models/bagging/rnn_with_feature9/model_8/assets\n"
     ]
    },
    {
     "name": "stdout",
     "output_type": "stream",
     "text": [
      "Epoch 9/10\n",
      "860/860 [==============================] - 83s 96ms/step - loss: 0.3089 - acc: 0.8963 - val_loss: 0.5707 - val_acc: 0.8420\n"
     ]
    },
    {
     "name": "stderr",
     "output_type": "stream",
     "text": [
      "WARNING:absl:Found untraced functions such as gru_cell_55_layer_call_and_return_conditional_losses, gru_cell_55_layer_call_fn, gru_cell_56_layer_call_and_return_conditional_losses, gru_cell_56_layer_call_fn, gru_cell_58_layer_call_and_return_conditional_losses while saving (showing 5 of 20). These functions will not be directly callable after loading.\n"
     ]
    },
    {
     "name": "stdout",
     "output_type": "stream",
     "text": [
      "INFO:tensorflow:Assets written to: models/bagging/rnn_with_feature9/model_9/assets\n"
     ]
    },
    {
     "name": "stderr",
     "output_type": "stream",
     "text": [
      "INFO:tensorflow:Assets written to: models/bagging/rnn_with_feature9/model_9/assets\n"
     ]
    },
    {
     "name": "stdout",
     "output_type": "stream",
     "text": [
      "Epoch 10/10\n",
      "860/860 [==============================] - 82s 96ms/step - loss: 0.2853 - acc: 0.9047 - val_loss: 0.7674 - val_acc: 0.8170\n"
     ]
    },
    {
     "name": "stderr",
     "output_type": "stream",
     "text": [
      "WARNING:absl:Found untraced functions such as gru_cell_55_layer_call_and_return_conditional_losses, gru_cell_55_layer_call_fn, gru_cell_56_layer_call_and_return_conditional_losses, gru_cell_56_layer_call_fn, gru_cell_58_layer_call_and_return_conditional_losses while saving (showing 5 of 20). These functions will not be directly callable after loading.\n"
     ]
    },
    {
     "name": "stdout",
     "output_type": "stream",
     "text": [
      "INFO:tensorflow:Assets written to: models/bagging/rnn_with_feature9/model_10/assets\n"
     ]
    },
    {
     "name": "stderr",
     "output_type": "stream",
     "text": [
      "INFO:tensorflow:Assets written to: models/bagging/rnn_with_feature9/model_10/assets\n"
     ]
    }
   ],
   "source": [
    "X_val = {'sequence':X_sequence_val_trimed, 'feature':X_feature_val}\n",
    "for i in range(1,10):\n",
    "\n",
    "    model = rnn_with_feature(sequence_shape=(None, 3),feature_shape=(2,), num_classes=11)\n",
    "    model.compile(\n",
    "    optimizer=keras.optimizers.Adam(1e-3),\n",
    "    loss=\"sparse_categorical_crossentropy\",\n",
    "    metrics=[keras.metrics.SparseCategoricalAccuracy(name=\"acc\")],\n",
    "    run_eagerly=False,\n",
    "    )\n",
    "    callbacks = [\n",
    "    keras.callbacks.ModelCheckpoint(\n",
    "        filepath='models/bagging/rnn_with_feature%d/model_{epoch}'%i,\n",
    "        save_freq='epoch'),\n",
    "    keras.callbacks.TensorBoard(log_dir='models/bagging/rnn_with_feature%d/logs'%i)\n",
    "    ]\n",
    "    X_train = {'sequence':total_X_sequence_train[i], 'feature':total_X_feature_train[i]}\n",
    "    model.fit(X_train, total_Y_train[i], batch_size=32, epochs=10, \n",
    "        validation_data=(X_val, Y_val), callbacks=callbacks)\n"
   ]
  }
 ],
 "metadata": {
  "kernelspec": {
   "display_name": "Python 3.9.7 ('DL')",
   "language": "python",
   "name": "python3"
  },
  "language_info": {
   "codemirror_mode": {
    "name": "ipython",
    "version": 3
   },
   "file_extension": ".py",
   "mimetype": "text/x-python",
   "name": "python",
   "nbconvert_exporter": "python",
   "pygments_lexer": "ipython3",
   "version": "3.9.7"
  },
  "orig_nbformat": 4,
  "vscode": {
   "interpreter": {
    "hash": "686e52782356fa5192d8da796457d9836a4bb6aebab3dc056991bb89ef60f4a8"
   }
  }
 },
 "nbformat": 4,
 "nbformat_minor": 2
}
