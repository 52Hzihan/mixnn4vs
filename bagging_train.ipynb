{
 "cells": [
  {
   "cell_type": "code",
   "execution_count": null,
   "metadata": {},
   "outputs": [],
   "source": [
    "import tensorflow as tf\n",
    "from tensorflow import keras\n",
    "from tensorflow.keras import layers\n",
    "from tensorflow.keras import regularizers\n",
    "\n",
    "import pickle\n",
    "import numpy as np\n",
    "\n",
    "f2 = open('data/split_image_0.60_0.30_0.10_aug_to_1875_down_sample_True_instance0-9/val_data', 'rb')\n",
    "X_sequence_val, X_feature_val, X_image_val, Y_val = pickle.load(f2)\n",
    "# X_sequence_val, X_feature_val, Y_val = pickle.load(f2)\n",
    "f2.close()\n",
    "\n",
    "\n",
    "\n",
    "from keras_preprocessing.sequence import pad_sequences\n",
    "from util import preprocess\n",
    "\n",
    "total_X_sequence_train = []\n",
    "total_X_feature_train = []\n",
    "total_X_image_train = []\n",
    "total_Y_train = []\n",
    "def build_channel(data):\n",
    "    X = []\n",
    "    for image in data:\n",
    "        X.append(image.reshape(128, 128, 1))\n",
    "    return X\n",
    "for i in range(0,10):\n",
    "    f = open('data/split_image_0.60_0.30_0.10_aug_to_1875_down_sample_True_instance0-9/train_data%d'%i, 'rb')\n",
    "    X_sequence_train, X_feature_train, X_image_train, Y_train = pickle.load(f)\n",
    "    # X_sequence_train, X_feature_train, Y_train = pickle.load(f)\n",
    "    X_sequence_train_paded = pad_sequences(X_sequence_train, dtype='float', padding='post', value = np.nan)\n",
    "    X_sequence_train_trimed = preprocess(X_sequence_train_paded)\n",
    "    X_feature_train = np.array(X_feature_train)\n",
    "    X_image_train = np.array(build_channel(X_image_train))\n",
    "    Y_train = np.array(Y_train)-1\n",
    "    Y_train = keras.utils.to_categorical(Y_train, num_classes=11)\n",
    "\n",
    "    total_X_sequence_train.append(X_sequence_train_trimed)\n",
    "    total_X_feature_train.append(X_feature_train)\n",
    "    total_X_image_train.append(X_image_train)\n",
    "    total_Y_train.append(Y_train)\n",
    "    f.close()\n",
    "\n",
    "X_sequence_val_paded = pad_sequences(X_sequence_val, dtype='float', padding='post', value = np.nan)\n",
    "X_sequence_val_trimed = preprocess(X_sequence_val_paded)\n",
    "X_feature_val = np.array(X_feature_val)\n",
    "X_image_val = np.array(build_channel(X_image_val))\n",
    "Y_val = np.array(Y_val)-1\n",
    "\n",
    "\n",
    "Y_val = keras.utils.to_categorical(Y_val, num_classes=11)"
   ]
  },
  {
   "cell_type": "code",
   "execution_count": null,
   "metadata": {},
   "outputs": [],
   "source": [
    "from mix_models import rnn_with_feature\n",
    "\n",
    "X_val = {'sequence':X_sequence_val_trimed, 'feature':X_feature_val}\n",
    "lr_schedule = keras.optimizers.schedules.ExponentialDecay(\n",
    "    initial_learning_rate=1e-3,\n",
    "    decay_steps=860,\n",
    "    decay_rate=0.85)\n",
    "\n",
    "for i in range(0,10):\n",
    "    model = rnn_with_feature(sequence_shape=(None, 3),feature_shape=(2,), num_classes=11)\n",
    "    model.compile(\n",
    "    optimizer=keras.optimizers.Adam(1e-3),\n",
    "    # loss=\"sparse_categorical_crossentropy\",\n",
    "    loss=keras.losses.CategoricalCrossentropy(label_smoothing=0.1),\n",
    "    # metrics=[keras.metrics.SparseCategoricalAccuracy(name=\"acc\")],\n",
    "    metrics=[keras.metrics.CategoricalAccuracy(name=\"acc\")],\n",
    "    run_eagerly=False,\n",
    "    )\n",
    "    callbacks = [\n",
    "    keras.callbacks.ModelCheckpoint(\n",
    "        filepath='models/bagging_before_image_0.60_0.30_0.10/rnn_with_feature%d/model_{epoch}'%i,\n",
    "        save_freq='epoch'),\n",
    "    keras.callbacks.TensorBoard(log_dir='models/bagging_before_image_0.60_0.30_0.10/rnn_with_feature%d/logs'%i)\n",
    "    ]\n",
    "    X_train = {'sequence':total_X_sequence_train[i], 'feature':total_X_feature_train[i]}\n",
    "    model.fit(X_train, total_Y_train[i], batch_size=32, epochs=10, \n",
    "        validation_data=(X_val, Y_val), callbacks=callbacks)\n"
   ]
  },
  {
   "cell_type": "code",
   "execution_count": null,
   "metadata": {},
   "outputs": [],
   "source": [
    "best_acc_list = [6,5,4,3,5,8,5,4,7,8]\n",
    "min_loss_list = [6,6,4,8,7,8,5,6,5,8]\n",
    "for i in range(0,10):\n",
    "    loaded_model = keras.models.load_model('models/bagging_before_image_0.60_0.30_0.10/\\\n",
    "rnn_with_feature%d/model_%d'%(i,min_loss_list[i]), compile=False)\n",
    "    loaded_model.save_weights('models/bagging_before_image_weights/rnn_weights_min_loss%d.h5'%i)"
   ]
  },
  {
   "cell_type": "code",
   "execution_count": 7,
   "metadata": {},
   "outputs": [
    {
     "ename": "NameError",
     "evalue": "name 'total_X_image_train' is not defined",
     "output_type": "error",
     "traceback": [
      "\u001b[0;31m---------------------------------------------------------------------------\u001b[0m",
      "\u001b[0;31mNameError\u001b[0m                                 Traceback (most recent call last)",
      "Cell \u001b[0;32mIn [7], line 19\u001b[0m\n\u001b[1;32m      5\u001b[0m model\u001b[39m.\u001b[39mcompile(\n\u001b[1;32m      6\u001b[0m optimizer\u001b[39m=\u001b[39mkeras\u001b[39m.\u001b[39moptimizers\u001b[39m.\u001b[39mAdam(\u001b[39m1e-3\u001b[39m),\n\u001b[1;32m      7\u001b[0m \n\u001b[0;32m   (...)\u001b[0m\n\u001b[1;32m     10\u001b[0m run_eagerly\u001b[39m=\u001b[39m\u001b[39mFalse\u001b[39;00m,\n\u001b[1;32m     11\u001b[0m )\n\u001b[1;32m     12\u001b[0m callbacks \u001b[39m=\u001b[39m [\n\u001b[1;32m     13\u001b[0m keras\u001b[39m.\u001b[39mcallbacks\u001b[39m.\u001b[39mModelCheckpoint(\n\u001b[1;32m     14\u001b[0m   filepath\u001b[39m=\u001b[39m\u001b[39m'\u001b[39m\u001b[39mmodels/bagging_after_image_0.60_0.30_0.10/mix_model\u001b[39m\u001b[39m%d\u001b[39;00m\u001b[39m/model_\u001b[39m\u001b[39m{epoch}\u001b[39;00m\u001b[39m'\u001b[39m\u001b[39m%\u001b[39mi,\n\u001b[1;32m     15\u001b[0m   save_freq\u001b[39m=\u001b[39m\u001b[39m'\u001b[39m\u001b[39mepoch\u001b[39m\u001b[39m'\u001b[39m),\n\u001b[1;32m     16\u001b[0m keras\u001b[39m.\u001b[39mcallbacks\u001b[39m.\u001b[39mTensorBoard(log_dir\u001b[39m=\u001b[39m\u001b[39m'\u001b[39m\u001b[39mmodels/bagging_after_image_0.60_0.30_0.10/mix_model\u001b[39m\u001b[39m%d\u001b[39;00m\u001b[39m/logs\u001b[39m\u001b[39m'\u001b[39m\u001b[39m%\u001b[39mi)\n\u001b[1;32m     17\u001b[0m ]\n\u001b[1;32m     18\u001b[0m X_train \u001b[39m=\u001b[39m {\u001b[39m'\u001b[39m\u001b[39msequence\u001b[39m\u001b[39m'\u001b[39m:total_X_sequence_train[i], \u001b[39m'\u001b[39m\u001b[39mfeature\u001b[39m\u001b[39m'\u001b[39m:total_X_feature_train[i],\n\u001b[0;32m---> 19\u001b[0m           \u001b[39m'\u001b[39m\u001b[39mimage\u001b[39m\u001b[39m'\u001b[39m:total_X_image_train[i]}\n\u001b[1;32m     20\u001b[0m model\u001b[39m.\u001b[39mload_weights(\u001b[39m'\u001b[39m\u001b[39mmodels/bagging_before_image_weights/rnn_weights_min_loss\u001b[39m\u001b[39m%d\u001b[39;00m\u001b[39m.h5\u001b[39m\u001b[39m'\u001b[39m\u001b[39m%\u001b[39mi, by_name\u001b[39m=\u001b[39m\u001b[39mTrue\u001b[39;00m)\n\u001b[1;32m     21\u001b[0m model\u001b[39m.\u001b[39mfit(X_train, total_Y_train[i], batch_size\u001b[39m=\u001b[39m\u001b[39m32\u001b[39m, epochs\u001b[39m=\u001b[39m\u001b[39m40\u001b[39m, \n\u001b[1;32m     22\u001b[0m     validation_data\u001b[39m=\u001b[39m(X_val, Y_val), callbacks\u001b[39m=\u001b[39mcallbacks)\n",
      "\u001b[0;31mNameError\u001b[0m: name 'total_X_image_train' is not defined"
     ]
    }
   ],
   "source": [
    "from mix_models import multi_input_model\n",
    "for i in range(0,10):\n",
    "    model = multi_input_model(sequence_shape=(None, 3), image_shape=(128, 128, 1), \n",
    "                        feature_shape=(2,), num_classes=11, cnn_lr_lamd=10)\n",
    "    model.compile(\n",
    "    optimizer=keras.optimizers.Adam(1e-3),\n",
    "\n",
    "    loss=keras.losses.CategoricalCrossentropy(label_smoothing=0.1),\n",
    "    metrics=[keras.metrics.CategoricalAccuracy(name=\"acc\")],\n",
    "    run_eagerly=False,\n",
    "    )\n",
    "    callbacks = [\n",
    "    keras.callbacks.ModelCheckpoint(\n",
    "      filepath='models/bagging_after_image_0.60_0.30_0.10/mix_model%d/model_{epoch}'%i,\n",
    "      save_freq='epoch'),\n",
    "    keras.callbacks.TensorBoard(log_dir='models/bagging_after_image_0.60_0.30_0.10/mix_model%d/logs'%i)\n",
    "    ]\n",
    "    X_train = {'sequence':total_X_sequence_train[i], 'feature':total_X_feature_train[i],\n",
    "              'image':total_X_image_train[i]}\n",
    "    model.load_weights('models/bagging_before_image_weights/rnn_weights_min_loss%d.h5'%i, by_name=True)\n",
    "    model.fit(X_train, total_Y_train[i], batch_size=32, epochs=40, \n",
    "        validation_data=(X_val, Y_val), callbacks=callbacks)\n"
   ]
  }
 ],
 "metadata": {
  "kernelspec": {
   "display_name": "Python 3.9.7 ('DL')",
   "language": "python",
   "name": "python3"
  },
  "language_info": {
   "codemirror_mode": {
    "name": "ipython",
    "version": 3
   },
   "file_extension": ".py",
   "mimetype": "text/x-python",
   "name": "python",
   "nbconvert_exporter": "python",
   "pygments_lexer": "ipython3",
   "version": "3.9.12"
  },
  "orig_nbformat": 4,
  "vscode": {
   "interpreter": {
    "hash": "686e52782356fa5192d8da796457d9836a4bb6aebab3dc056991bb89ef60f4a8"
   }
  }
 },
 "nbformat": 4,
 "nbformat_minor": 2
}
