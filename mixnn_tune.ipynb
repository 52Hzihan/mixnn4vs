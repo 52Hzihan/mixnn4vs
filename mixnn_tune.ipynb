{
 "cells": [
  {
   "cell_type": "code",
   "execution_count": null,
   "metadata": {},
   "outputs": [],
   "source": [
    "import tensorflow as tf\n",
    "from tensorflow import keras\n",
    "from tensorflow.keras import layers\n",
    "from tensorflow.keras import regularizers\n",
    "\n",
    "import pickle\n",
    "import numpy as np\n",
    "f1 = open('data/split_0.80_0.10_0.10_aug_to_2500_down_sample_True_instance0-9/train_data0', 'rb')\n",
    "X_sequence_train, X_feature_train, X_image_train, Y_train = pickle.load(f1)\n",
    "f1.close()\n",
    "f2 = open('data/split_0.80_0.10_0.10_aug_to_2500_down_sample_True_instance0-9/val_data', 'rb')\n",
    "X_sequence_val, X_feature_val, X_image_val, Y_val = pickle.load(f2)\n",
    "f2.close()\n",
    "f3 = open('data/split_0.80_0.10_0.10_aug_to_2500_down_sample_True_instance0-9/test_data', 'rb')\n",
    "X_sequence_test, X_feature_test, X_image_test, Y_test = pickle.load(f3)\n",
    "f3.close()\n",
    "\n",
    "from keras.preprocessing.sequence import pad_sequences\n",
    "X_sequence_train_paded = pad_sequences(X_sequence_train, dtype='float', padding='post', value = np.nan)\n",
    "X_sequence_val_paded = pad_sequences(X_sequence_val, dtype='float', padding='post', value = np.nan)\n",
    "X_sequence_test_paded = pad_sequences(X_sequence_test, dtype='float', padding='post', value = np.nan)\n",
    "# 先pad再预处理，因为pad可以把array的list转为ndarray\n",
    "\n",
    "from util import preprocess\n",
    "X_sequence_train_trimed = preprocess(X_sequence_train_paded)\n",
    "X_sequence_val_trimed = preprocess(X_sequence_val_paded)\n",
    "X_sequence_test_trimed = preprocess(X_sequence_test_paded)\n",
    "\n",
    "def build_channel(data):\n",
    "    X = []\n",
    "    for image in data:\n",
    "        X.append(image.reshape(128, 128, 1))\n",
    "    return X\n",
    "X_image_train = np.array(build_channel(X_image_train))\n",
    "X_image_val = np.array(build_channel(X_image_val))\n",
    "X_image_test = np.array(build_channel(X_image_test))\n",
    "X_feature_train = np.array(X_feature_train)\n",
    "X_feature_val = np.array(X_feature_val)\n",
    "X_feature_test = np.array(X_feature_test)\n",
    "Y_train = np.array(Y_train)-1 # 文件夹名从1开始但是标签从0开始\n",
    "Y_val = np.array(Y_val)-1\n",
    "Y_test = np.array(Y_test)-1"
   ]
  },
  {
   "cell_type": "code",
   "execution_count": null,
   "metadata": {},
   "outputs": [],
   "source": [
    "Y_train_one_hot = keras.utils.to_categorical(Y_train, num_classes=11)\n",
    "Y_val_one_hot = keras.utils.to_categorical(Y_val, num_classes=11)\n",
    "Y_test_one_hot = keras.utils.to_categorical(Y_test, num_classes=11)"
   ]
  },
  {
   "cell_type": "code",
   "execution_count": null,
   "metadata": {},
   "outputs": [],
   "source": [
    "print(X_feature_test[0])"
   ]
  },
  {
   "cell_type": "code",
   "execution_count": null,
   "metadata": {},
   "outputs": [],
   "source": [
    "f = open('data/split_10fold_No0_aug_to_15000_down_sample_False_instance0-9/class_weights1', 'rb')\n",
    "train_weight, test_weight = pickle.load(f)\n",
    "f.close()\n",
    "print(train_weight)"
   ]
  },
  {
   "cell_type": "code",
   "execution_count": null,
   "metadata": {},
   "outputs": [],
   "source": [
    "from mix_models import rnn_with_feature\n",
    "from mix_models import cnn_with_feature1\n",
    "from mix_models import cnn_with_feature2\n",
    "from mix_models import multi_input_model\n",
    "\n",
    "\n",
    "# lr_schedule = keras.optimizers.schedules.ExponentialDecay(\n",
    "#     initial_learning_rate=1e-3,\n",
    "#     decay_steps=860,\n",
    "#     decay_rate=0.85)\n",
    "\n",
    "# boundaries = [2000]\n",
    "    # values = [1e-3, 1e-4]\n",
    "    # lr_schedule= tf.keras.optimizers.schedules.PiecewiseConstantDecay(\n",
    "    # boundaries, values, name=None\n",
    "    # )\n",
    "\n",
    "# strategy = tf.distribute.MirroredStrategy(['GPU:1'])\n",
    "# print('Number of devices: {}'.format(strategy.num_replicas_in_sync))\n",
    "# with strategy.scope():\n",
    "\n",
    "\n",
    "# model = multi_input_model(sequence_shape=(None, 3), image_shape=(128, 128, 1), \n",
    "#                         feature_shape=(2,), num_classes=11)\n",
    "# model = rnn_with_feature(sequence_shape=(None, 3),feature_shape=(2,), num_classes=11)\n",
    "model = cnn_with_feature1(image_shape=(128, 128, 1), feature_shape=(2,), num_classes=11)\n",
    "# model = cnn(image_shape=(128, 128, 1), num_classes=11)\n",
    "model.summary()\n",
    "model.compile(\n",
    "    optimizer=keras.optimizers.Adam(1e-3),\n",
    "    # loss=\"sparse_categorical_crossentropy\",\n",
    "    # loss=categorical_focal_loss(alpha=np.ones(11)),\n",
    "    loss=keras.losses.CategoricalCrossentropy(label_smoothing=0.1),\n",
    "    # metrics=[keras.metrics.SparseCategoricalAccuracy(name=\"acc\")],\n",
    "    metrics=[keras.metrics.CategoricalAccuracy(name=\"acc\")],\n",
    "    run_eagerly=False,\n",
    ")\n",
    "callbacks = [\n",
    "  keras.callbacks.ModelCheckpoint(\n",
    "    filepath='models/cnn_with_feature_test/model_{epoch}',\n",
    "    save_freq='epoch'),\n",
    "  keras.callbacks.TensorBoard(log_dir='models/cnn_with_feature_test/logs')\n",
    "]"
   ]
  },
  {
   "cell_type": "code",
   "execution_count": null,
   "metadata": {},
   "outputs": [],
   "source": [
    "# X_train = {'sequence':X_sequence_train_trimed, 'image':X_image_train, 'feature':X_feature_train}\n",
    "# X_val = {'sequence':X_sequence_val_trimed, 'image':X_image_val, 'feature':X_feature_val}\n",
    "# X_train = {'sequence':X_sequence_train_trimed, 'feature':X_feature_train}\n",
    "# X_val = {'sequence':X_sequence_val_trimed, 'feature':X_feature_val}\n",
    "X_train = {'image':X_image_train, 'feature':X_feature_train}\n",
    "X_val = {'image':X_image_val, 'feature':X_feature_val}\n",
    "model.fit(X_train, Y_train_one_hot, batch_size=32, epochs=50, \n",
    "        validation_data=(X_val, Y_val_one_hot), \n",
    "        #  class_weight=dict(enumerate(train_weight)),\n",
    "        callbacks=callbacks)"
   ]
  },
  {
   "cell_type": "code",
   "execution_count": null,
   "metadata": {},
   "outputs": [],
   "source": [
    "lodaed_model = keras.models.load_model('models/rnn_with_feature_test/model_6')\n",
    "from sklearn.metrics import confusion_matrix, ConfusionMatrixDisplay\n",
    "import matplotlib.pyplot as plt\n",
    "from util import generate_batch\n",
    "\n",
    "test_gen = generate_batch(X_sequence_test_trimed, X_image_test, X_feature_test, Y_test, 128)      \n",
    "y_label = Y_test\n",
    "\n",
    "y_predict = np.array([])\n",
    "for x_sequence, x_image, x_feature, y in test_gen:\n",
    "    y_predict = np.concatenate([y_predict, \n",
    "            np.argmax(lodaed_model.predict({'sequence':x_sequence, \n",
    "                                            # 'image':x_image,\n",
    "                                            'feature':x_feature}), axis=-1)])\n",
    "y_label = y_label.astype(np.int32) \n",
    "y_predict = y_predict.astype(np.int32) \n",
    "cm = confusion_matrix(y_true=y_label, y_pred=y_predict, normalize='true')\n",
    "\n",
    "classes = ['RRab', 'RRc','RRd', 'Blazhko','Ecl', 'EA' , 'Rot', 'LPV','δ-Scuti','ACEP', 'Cep-II']\n",
    "from util import cm_plot\n",
    "plotting = cm_plot(cm, classes_types=classes, classifier_model='mix Classifier', nClasses=11,\n",
    "                    cmap=plt.cm.Blues)"
   ]
  }
 ],
 "metadata": {
  "kernelspec": {
   "display_name": "Python 3.9.7 ('DL')",
   "language": "python",
   "name": "python3"
  },
  "language_info": {
   "codemirror_mode": {
    "name": "ipython",
    "version": 3
   },
   "file_extension": ".py",
   "mimetype": "text/x-python",
   "name": "python",
   "nbconvert_exporter": "python",
   "pygments_lexer": "ipython3",
   "version": "3.9.7"
  },
  "orig_nbformat": 4,
  "vscode": {
   "interpreter": {
    "hash": "686e52782356fa5192d8da796457d9836a4bb6aebab3dc056991bb89ef60f4a8"
   }
  }
 },
 "nbformat": 4,
 "nbformat_minor": 2
}
