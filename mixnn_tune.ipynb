{
 "cells": [
  {
   "cell_type": "code",
   "execution_count": 1,
   "metadata": {},
   "outputs": [
    {
     "name": "stderr",
     "output_type": "stream",
     "text": [
      "2022-11-11 18:42:05.821292: I tensorflow/core/platform/cpu_feature_guard.cc:193] This TensorFlow binary is optimized with oneAPI Deep Neural Network Library (oneDNN) to use the following CPU instructions in performance-critical operations:  SSE4.1 SSE4.2 AVX AVX2 AVX512F AVX512_VNNI FMA\n",
      "To enable them in other operations, rebuild TensorFlow with the appropriate compiler flags.\n",
      "2022-11-11 18:42:05.904778: I tensorflow/core/util/util.cc:169] oneDNN custom operations are on. You may see slightly different numerical results due to floating-point round-off errors from different computation orders. To turn them off, set the environment variable `TF_ENABLE_ONEDNN_OPTS=0`.\n"
     ]
    }
   ],
   "source": [
    "import os\n",
    "os.environ['CUDA_VISIBLE_DEVICES']='0'\n",
    "import tensorflow as tf\n",
    "from tensorflow import keras\n",
    "from tensorflow.keras import layers\n",
    "from tensorflow.keras import regularizers\n",
    "\n",
    "import pickle\n",
    "import numpy as np\n",
    "f1 = open('data/split_image_0.60_0.30_0.10_aug_to_3000_down_sample_True_instance0-9/train_data0', 'rb')\n",
    "X_sequence_train, X_feature_train, X_image_train, Y_train = pickle.load(f1)\n",
    "# X_sequence_train, X_feature_train, Y_train = pickle.load(f1)\n",
    "f1.close()\n",
    "f2 = open('data/split_image_0.60_0.30_0.10_aug_to_3000_down_sample_True_instance0-9/val_data', 'rb')\n",
    "X_sequence_val, X_feature_val, X_image_val, Y_val = pickle.load(f2)\n",
    "# X_sequence_val, X_feature_val, Y_val = pickle.load(f2)\n",
    "f2.close()\n",
    "f3 = open('data/split_image_0.60_0.30_0.10_aug_to_3000_down_sample_True_instance0-9/test_data', 'rb')\n",
    "X_sequence_test, X_feature_test, X_image_test, Y_test = pickle.load(f3)\n",
    "# X_sequence_test, X_feature_test,  Y_test = pickle.load(f3)\n",
    "f3.close()\n",
    "\n",
    "from keras_preprocessing.sequence import pad_sequences\n",
    "X_sequence_train_paded = pad_sequences(X_sequence_train, dtype='float', padding='post', value = np.nan)\n",
    "X_sequence_val_paded = pad_sequences(X_sequence_val, dtype='float', padding='post', value = np.nan)\n",
    "X_sequence_test_paded = pad_sequences(X_sequence_test, dtype='float', padding='post', value = np.nan)\n",
    "# 先pad再预处理，因为pad可以把array的list转为ndarray\n",
    "\n",
    "from util import preprocess\n",
    "X_sequence_train_trimed = preprocess(X_sequence_train_paded)\n",
    "X_sequence_val_trimed = preprocess(X_sequence_val_paded)\n",
    "X_sequence_test_trimed = preprocess(X_sequence_test_paded)\n",
    "\n",
    "def build_channel(data):\n",
    "    X = []\n",
    "    for image in data:\n",
    "        X.append(image.reshape(128, 128, 1))\n",
    "    return X\n",
    "X_image_train = np.array(build_channel(X_image_train))\n",
    "X_image_val = np.array(build_channel(X_image_val))\n",
    "X_image_test = np.array(build_channel(X_image_test))\n",
    "X_feature_train = np.array(X_feature_train)\n",
    "X_feature_val = np.array(X_feature_val)\n",
    "X_feature_test = np.array(X_feature_test)\n",
    "Y_train = np.array(Y_train)-1 # 文件夹名从1开始但是标签从0开始\n",
    "Y_val = np.array(Y_val)-1\n",
    "Y_test = np.array(Y_test)-1"
   ]
  },
  {
   "cell_type": "code",
   "execution_count": 2,
   "metadata": {},
   "outputs": [],
   "source": [
    "Y_train_one_hot = keras.utils.to_categorical(Y_train, num_classes=11)\n",
    "Y_val_one_hot = keras.utils.to_categorical(Y_val, num_classes=11)\n",
    "Y_test_one_hot = keras.utils.to_categorical(Y_test, num_classes=11)"
   ]
  },
  {
   "cell_type": "code",
   "execution_count": null,
   "metadata": {},
   "outputs": [],
   "source": [
    "print(X_feature_test[0])"
   ]
  },
  {
   "cell_type": "code",
   "execution_count": null,
   "metadata": {},
   "outputs": [],
   "source": [
    "f = open('data/split_10fold_No0_aug_to_15000_down_sample_False_instance0-9/class_weights1', 'rb')\n",
    "train_weight, test_weight = pickle.load(f)\n",
    "f.close()\n",
    "print(train_weight)"
   ]
  },
  {
   "cell_type": "code",
   "execution_count": 3,
   "metadata": {},
   "outputs": [
    {
     "name": "stderr",
     "output_type": "stream",
     "text": [
      "2022-11-11 18:42:30.055699: I tensorflow/core/platform/cpu_feature_guard.cc:193] This TensorFlow binary is optimized with oneAPI Deep Neural Network Library (oneDNN) to use the following CPU instructions in performance-critical operations:  SSE4.1 SSE4.2 AVX AVX2 AVX512F AVX512_VNNI FMA\n",
      "To enable them in other operations, rebuild TensorFlow with the appropriate compiler flags.\n",
      "2022-11-11 18:42:30.464915: I tensorflow/core/common_runtime/gpu/gpu_device.cc:1616] Created device /job:localhost/replica:0/task:0/device:GPU:0 with 22229 MB memory:  -> device: 0, name: GeForce RTX 3090, pci bus id: 0000:73:00.0, compute capability: 8.6\n"
     ]
    }
   ],
   "source": [
    "from mix_models import rnn_with_feature\n",
    "from mix_models import rnn_with_feature_2\n",
    "from mix_models import cnn_with_feature_1\n",
    "from mix_models import cnn_with_feature_2\n",
    "from mix_models import multi_input_model\n",
    "\n",
    "\n",
    "\n",
    "# lr_schedule = keras.optimizers.schedules.ExponentialDecay(\n",
    "#     initial_learning_rate=1e-3,\n",
    "#     decay_steps=860,\n",
    "#     decay_rate=0.85)\n",
    "\n",
    "# boundaries = [2000]\n",
    "    # values = [1e-3, 1e-4]\n",
    "    # lr_schedule= tf.keras.optimizers.schedules.PiecewiseConstantDecay(\n",
    "    # boundaries, values, name=None\n",
    "    # )\n",
    "\n",
    "# strategy = tf.distribute.MirroredStrategy(['GPU:1'])\n",
    "# print('Number of devices: {}'.format(strategy.num_replicas_in_sync))\n",
    "# with strategy.scope():\n",
    "\n",
    "\n",
    "model = multi_input_model(sequence_shape=(None, 3), image_shape=(128, 128, 1), \n",
    "                        feature_shape=(2,), num_classes=11, cnn_lr_lamd=10)\n",
    "# model = rnn_with_feature(sequence_shape=(None, 3),feature_shape=(2,), num_classes=11)\n",
    "# model = rnn_with_feature2(sequence_shape=(None, 3),feature_shape=(1,), num_classes=11)\n",
    "# model = cnn_with_feature_2(image_shape=(128, 128, 1), feature_shape=(2,), num_classes=11)\n",
    "# model = cnn(image_shape=(128, 128, 1), num_classes=11)\n",
    "# model.summary()\n",
    "model.compile(\n",
    "    optimizer=keras.optimizers.Adam(1e-3),\n",
    "    # loss=\"sparse_categorical_crossentropy\",\n",
    "    # loss=categorical_focal_loss(alpha=np.ones(11)),\n",
    "    loss=keras.losses.CategoricalCrossentropy(label_smoothing=0.1),\n",
    "    # metrics=[keras.metrics.SparseCategoricalAccuracy(name=\"acc\")],\n",
    "    metrics=[keras.metrics.CategoricalAccuracy(name=\"acc\")],\n",
    "    run_eagerly=False,\n",
    ")\n",
    "callbacks = [\n",
    "  keras.callbacks.ModelCheckpoint(\n",
    "    filepath='models/xnn_with_feature_test3/model_{epoch}',\n",
    "    save_freq='epoch'),\n",
    "  keras.callbacks.TensorBoard(log_dir='models/xnn_with_feature_test3/logs')\n",
    "]"
   ]
  },
  {
   "cell_type": "code",
   "execution_count": 4,
   "metadata": {},
   "outputs": [
    {
     "name": "stdout",
     "output_type": "stream",
     "text": [
      "Epoch 1/50\n"
     ]
    },
    {
     "name": "stderr",
     "output_type": "stream",
     "text": [
      "2022-11-11 18:42:56.677315: W tensorflow/core/common_runtime/forward_type_inference.cc:332] Type inference failed. This indicates an invalid graph that escaped type checking. Error message: INVALID_ARGUMENT: expected compatible input types, but input 1:\n",
      "type_id: TFT_OPTIONAL\n",
      "args {\n",
      "  type_id: TFT_PRODUCT\n",
      "  args {\n",
      "    type_id: TFT_TENSOR\n",
      "    args {\n",
      "      type_id: TFT_FLOAT\n",
      "    }\n",
      "  }\n",
      "}\n",
      " is neither a subtype nor a supertype of the combined inputs preceding it:\n",
      "type_id: TFT_OPTIONAL\n",
      "args {\n",
      "  type_id: TFT_PRODUCT\n",
      "  args {\n",
      "    type_id: TFT_TENSOR\n",
      "    args {\n",
      "      type_id: TFT_INT8\n",
      "    }\n",
      "  }\n",
      "}\n",
      "\n",
      "\twhile inferring type of node 'cond_43/output/_22'\n",
      "2022-11-11 18:42:57.509769: I tensorflow/stream_executor/cuda/cuda_dnn.cc:384] Loaded cuDNN version 8401\n",
      "2022-11-11 18:42:57.509900: I tensorflow/stream_executor/cuda/cuda_blas.cc:1614] TensorFloat-32 will be used for the matrix multiplication. This will only be logged once.\n",
      "Could not load symbol cublasGetSmCountTarget from libcublas.so.11. Error: /home/zhkang/softwares/anaconda3/envs/DL/lib/python3.9/site-packages/tensorflow/python/../../../../libcublas.so.11: undefined symbol: cublasGetSmCountTarget\n",
      "2022-11-11 18:42:58.985462: W tensorflow/stream_executor/gpu/asm_compiler.cc:111] *** WARNING *** You are using ptxas 9.1.108, which is older than 11.1. ptxas before 11.1 is known to miscompile XLA code, leading to incorrect results or invalid-address errors.\n",
      "\n",
      "You may not need to update to CUDA 11.1; cherry-picking the ptxas binary is often sufficient.\n",
      "2022-11-11 18:42:58.988306: W tensorflow/stream_executor/gpu/asm_compiler.cc:230] Falling back to the CUDA driver for PTX compilation; ptxas does not support CC 8.6\n",
      "2022-11-11 18:42:58.988325: W tensorflow/stream_executor/gpu/asm_compiler.cc:233] Used ptxas at ptxas\n",
      "2022-11-11 18:42:58.988373: W tensorflow/stream_executor/gpu/redzone_allocator.cc:314] UNIMPLEMENTED: ptxas ptxas too old. Falling back to the driver to compile.\n",
      "Relying on driver to perform ptx compilation. \n",
      "Modify $PATH to customize ptxas location.\n",
      "This message will be only logged once.\n"
     ]
    },
    {
     "name": "stdout",
     "output_type": "stream",
     "text": [
      "1032/1032 [==============================] - ETA: 0s - loss: 1.8175 - acc: 0.8077"
     ]
    },
    {
     "name": "stderr",
     "output_type": "stream",
     "text": [
      "WARNING:absl:Found untraced functions such as _jit_compiled_convolution_op, _jit_compiled_convolution_op, _jit_compiled_convolution_op, _jit_compiled_convolution_op, _jit_compiled_convolution_op while saving (showing 5 of 18). These functions will not be directly callable after loading.\n"
     ]
    },
    {
     "name": "stdout",
     "output_type": "stream",
     "text": [
      "INFO:tensorflow:Assets written to: models/xnn_with_feature_test3/model_1/assets\n"
     ]
    },
    {
     "name": "stderr",
     "output_type": "stream",
     "text": [
      "INFO:tensorflow:Assets written to: models/xnn_with_feature_test3/model_1/assets\n"
     ]
    },
    {
     "name": "stdout",
     "output_type": "stream",
     "text": [
      "1032/1032 [==============================] - 93s 79ms/step - loss: 1.8175 - acc: 0.8077 - val_loss: 0.9748 - val_acc: 0.8189\n",
      "Epoch 2/50\n",
      "1031/1032 [============================>.] - ETA: 0s - loss: 0.8616 - acc: 0.8919"
     ]
    },
    {
     "name": "stderr",
     "output_type": "stream",
     "text": [
      "WARNING:absl:Found untraced functions such as _jit_compiled_convolution_op, _jit_compiled_convolution_op, _jit_compiled_convolution_op, _jit_compiled_convolution_op, _jit_compiled_convolution_op while saving (showing 5 of 18). These functions will not be directly callable after loading.\n"
     ]
    },
    {
     "name": "stdout",
     "output_type": "stream",
     "text": [
      "INFO:tensorflow:Assets written to: models/xnn_with_feature_test3/model_2/assets\n"
     ]
    },
    {
     "name": "stderr",
     "output_type": "stream",
     "text": [
      "INFO:tensorflow:Assets written to: models/xnn_with_feature_test3/model_2/assets\n"
     ]
    },
    {
     "name": "stdout",
     "output_type": "stream",
     "text": [
      "1032/1032 [==============================] - 78s 75ms/step - loss: 0.8616 - acc: 0.8919 - val_loss: 0.9460 - val_acc: 0.8166\n",
      "Epoch 3/50\n",
      "1031/1032 [============================>.] - ETA: 0s - loss: 0.8345 - acc: 0.8966"
     ]
    },
    {
     "name": "stderr",
     "output_type": "stream",
     "text": [
      "WARNING:absl:Found untraced functions such as _jit_compiled_convolution_op, _jit_compiled_convolution_op, _jit_compiled_convolution_op, _jit_compiled_convolution_op, _jit_compiled_convolution_op while saving (showing 5 of 18). These functions will not be directly callable after loading.\n"
     ]
    },
    {
     "name": "stdout",
     "output_type": "stream",
     "text": [
      "INFO:tensorflow:Assets written to: models/xnn_with_feature_test3/model_3/assets\n"
     ]
    },
    {
     "name": "stderr",
     "output_type": "stream",
     "text": [
      "INFO:tensorflow:Assets written to: models/xnn_with_feature_test3/model_3/assets\n"
     ]
    },
    {
     "name": "stdout",
     "output_type": "stream",
     "text": [
      "1032/1032 [==============================] - 77s 74ms/step - loss: 0.8345 - acc: 0.8966 - val_loss: 0.9154 - val_acc: 0.8314\n",
      "Epoch 4/50\n",
      "1031/1032 [============================>.] - ETA: 0s - loss: 0.8184 - acc: 0.8979"
     ]
    },
    {
     "name": "stderr",
     "output_type": "stream",
     "text": [
      "WARNING:absl:Found untraced functions such as _jit_compiled_convolution_op, _jit_compiled_convolution_op, _jit_compiled_convolution_op, _jit_compiled_convolution_op, _jit_compiled_convolution_op while saving (showing 5 of 18). These functions will not be directly callable after loading.\n"
     ]
    },
    {
     "name": "stdout",
     "output_type": "stream",
     "text": [
      "INFO:tensorflow:Assets written to: models/xnn_with_feature_test3/model_4/assets\n"
     ]
    },
    {
     "name": "stderr",
     "output_type": "stream",
     "text": [
      "INFO:tensorflow:Assets written to: models/xnn_with_feature_test3/model_4/assets\n"
     ]
    },
    {
     "name": "stdout",
     "output_type": "stream",
     "text": [
      "1032/1032 [==============================] - 77s 75ms/step - loss: 0.8184 - acc: 0.8980 - val_loss: 0.9176 - val_acc: 0.8316\n",
      "Epoch 5/50\n",
      "1032/1032 [==============================] - ETA: 0s - loss: 0.8098 - acc: 0.9004"
     ]
    },
    {
     "name": "stderr",
     "output_type": "stream",
     "text": [
      "WARNING:absl:Found untraced functions such as _jit_compiled_convolution_op, _jit_compiled_convolution_op, _jit_compiled_convolution_op, _jit_compiled_convolution_op, _jit_compiled_convolution_op while saving (showing 5 of 18). These functions will not be directly callable after loading.\n"
     ]
    },
    {
     "name": "stdout",
     "output_type": "stream",
     "text": [
      "INFO:tensorflow:Assets written to: models/xnn_with_feature_test3/model_5/assets\n"
     ]
    },
    {
     "name": "stderr",
     "output_type": "stream",
     "text": [
      "INFO:tensorflow:Assets written to: models/xnn_with_feature_test3/model_5/assets\n"
     ]
    },
    {
     "name": "stdout",
     "output_type": "stream",
     "text": [
      "1032/1032 [==============================] - 77s 75ms/step - loss: 0.8098 - acc: 0.9004 - val_loss: 0.9186 - val_acc: 0.8250\n",
      "Epoch 6/50\n",
      "1031/1032 [============================>.] - ETA: 0s - loss: 0.8037 - acc: 0.9010"
     ]
    },
    {
     "name": "stderr",
     "output_type": "stream",
     "text": [
      "WARNING:absl:Found untraced functions such as _jit_compiled_convolution_op, _jit_compiled_convolution_op, _jit_compiled_convolution_op, _jit_compiled_convolution_op, _jit_compiled_convolution_op while saving (showing 5 of 18). These functions will not be directly callable after loading.\n"
     ]
    },
    {
     "name": "stdout",
     "output_type": "stream",
     "text": [
      "INFO:tensorflow:Assets written to: models/xnn_with_feature_test3/model_6/assets\n"
     ]
    },
    {
     "name": "stderr",
     "output_type": "stream",
     "text": [
      "INFO:tensorflow:Assets written to: models/xnn_with_feature_test3/model_6/assets\n"
     ]
    },
    {
     "name": "stdout",
     "output_type": "stream",
     "text": [
      "1032/1032 [==============================] - 78s 75ms/step - loss: 0.8037 - acc: 0.9010 - val_loss: 0.9063 - val_acc: 0.8307\n",
      "Epoch 7/50\n",
      "1031/1032 [============================>.] - ETA: 0s - loss: 0.8003 - acc: 0.9005"
     ]
    },
    {
     "name": "stderr",
     "output_type": "stream",
     "text": [
      "WARNING:absl:Found untraced functions such as _jit_compiled_convolution_op, _jit_compiled_convolution_op, _jit_compiled_convolution_op, _jit_compiled_convolution_op, _jit_compiled_convolution_op while saving (showing 5 of 18). These functions will not be directly callable after loading.\n"
     ]
    },
    {
     "name": "stdout",
     "output_type": "stream",
     "text": [
      "INFO:tensorflow:Assets written to: models/xnn_with_feature_test3/model_7/assets\n"
     ]
    },
    {
     "name": "stderr",
     "output_type": "stream",
     "text": [
      "INFO:tensorflow:Assets written to: models/xnn_with_feature_test3/model_7/assets\n"
     ]
    },
    {
     "name": "stdout",
     "output_type": "stream",
     "text": [
      "1032/1032 [==============================] - 77s 75ms/step - loss: 0.8003 - acc: 0.9005 - val_loss: 0.9007 - val_acc: 0.8319\n",
      "Epoch 8/50\n",
      "1031/1032 [============================>.] - ETA: 0s - loss: 0.7991 - acc: 0.9029"
     ]
    },
    {
     "name": "stderr",
     "output_type": "stream",
     "text": [
      "WARNING:absl:Found untraced functions such as _jit_compiled_convolution_op, _jit_compiled_convolution_op, _jit_compiled_convolution_op, _jit_compiled_convolution_op, _jit_compiled_convolution_op while saving (showing 5 of 18). These functions will not be directly callable after loading.\n"
     ]
    },
    {
     "name": "stdout",
     "output_type": "stream",
     "text": [
      "INFO:tensorflow:Assets written to: models/xnn_with_feature_test3/model_8/assets\n"
     ]
    },
    {
     "name": "stderr",
     "output_type": "stream",
     "text": [
      "INFO:tensorflow:Assets written to: models/xnn_with_feature_test3/model_8/assets\n"
     ]
    },
    {
     "name": "stdout",
     "output_type": "stream",
     "text": [
      "1032/1032 [==============================] - 77s 75ms/step - loss: 0.7991 - acc: 0.9030 - val_loss: 0.9090 - val_acc: 0.8235\n",
      "Epoch 9/50\n",
      "1031/1032 [============================>.] - ETA: 0s - loss: 0.7944 - acc: 0.9014"
     ]
    },
    {
     "name": "stderr",
     "output_type": "stream",
     "text": [
      "WARNING:absl:Found untraced functions such as _jit_compiled_convolution_op, _jit_compiled_convolution_op, _jit_compiled_convolution_op, _jit_compiled_convolution_op, _jit_compiled_convolution_op while saving (showing 5 of 18). These functions will not be directly callable after loading.\n"
     ]
    },
    {
     "name": "stdout",
     "output_type": "stream",
     "text": [
      "INFO:tensorflow:Assets written to: models/xnn_with_feature_test3/model_9/assets\n"
     ]
    },
    {
     "name": "stderr",
     "output_type": "stream",
     "text": [
      "INFO:tensorflow:Assets written to: models/xnn_with_feature_test3/model_9/assets\n"
     ]
    },
    {
     "name": "stdout",
     "output_type": "stream",
     "text": [
      "1032/1032 [==============================] - 78s 75ms/step - loss: 0.7944 - acc: 0.9014 - val_loss: 0.9087 - val_acc: 0.8374\n",
      "Epoch 10/50\n",
      "1031/1032 [============================>.] - ETA: 0s - loss: 0.7945 - acc: 0.9029"
     ]
    },
    {
     "name": "stderr",
     "output_type": "stream",
     "text": [
      "WARNING:absl:Found untraced functions such as _jit_compiled_convolution_op, _jit_compiled_convolution_op, _jit_compiled_convolution_op, _jit_compiled_convolution_op, _jit_compiled_convolution_op while saving (showing 5 of 18). These functions will not be directly callable after loading.\n"
     ]
    },
    {
     "name": "stdout",
     "output_type": "stream",
     "text": [
      "INFO:tensorflow:Assets written to: models/xnn_with_feature_test3/model_10/assets\n"
     ]
    },
    {
     "name": "stderr",
     "output_type": "stream",
     "text": [
      "INFO:tensorflow:Assets written to: models/xnn_with_feature_test3/model_10/assets\n"
     ]
    },
    {
     "name": "stdout",
     "output_type": "stream",
     "text": [
      "1032/1032 [==============================] - 77s 75ms/step - loss: 0.7945 - acc: 0.9029 - val_loss: 0.9103 - val_acc: 0.8339\n",
      "Epoch 11/50\n",
      "1031/1032 [============================>.] - ETA: 0s - loss: 0.7914 - acc: 0.9025"
     ]
    },
    {
     "name": "stderr",
     "output_type": "stream",
     "text": [
      "WARNING:absl:Found untraced functions such as _jit_compiled_convolution_op, _jit_compiled_convolution_op, _jit_compiled_convolution_op, _jit_compiled_convolution_op, _jit_compiled_convolution_op while saving (showing 5 of 18). These functions will not be directly callable after loading.\n"
     ]
    },
    {
     "name": "stdout",
     "output_type": "stream",
     "text": [
      "INFO:tensorflow:Assets written to: models/xnn_with_feature_test3/model_11/assets\n"
     ]
    },
    {
     "name": "stderr",
     "output_type": "stream",
     "text": [
      "INFO:tensorflow:Assets written to: models/xnn_with_feature_test3/model_11/assets\n"
     ]
    },
    {
     "name": "stdout",
     "output_type": "stream",
     "text": [
      "1032/1032 [==============================] - 77s 74ms/step - loss: 0.7914 - acc: 0.9025 - val_loss: 0.9042 - val_acc: 0.8265\n",
      "Epoch 12/50\n",
      "1032/1032 [==============================] - ETA: 0s - loss: 0.7912 - acc: 0.9019"
     ]
    },
    {
     "name": "stderr",
     "output_type": "stream",
     "text": [
      "WARNING:absl:Found untraced functions such as _jit_compiled_convolution_op, _jit_compiled_convolution_op, _jit_compiled_convolution_op, _jit_compiled_convolution_op, _jit_compiled_convolution_op while saving (showing 5 of 18). These functions will not be directly callable after loading.\n"
     ]
    },
    {
     "name": "stdout",
     "output_type": "stream",
     "text": [
      "INFO:tensorflow:Assets written to: models/xnn_with_feature_test3/model_12/assets\n"
     ]
    },
    {
     "name": "stderr",
     "output_type": "stream",
     "text": [
      "INFO:tensorflow:Assets written to: models/xnn_with_feature_test3/model_12/assets\n"
     ]
    },
    {
     "name": "stdout",
     "output_type": "stream",
     "text": [
      "1032/1032 [==============================] - 77s 75ms/step - loss: 0.7912 - acc: 0.9019 - val_loss: 0.9127 - val_acc: 0.8339\n",
      "Epoch 13/50\n",
      "1031/1032 [============================>.] - ETA: 0s - loss: 0.7901 - acc: 0.9028"
     ]
    },
    {
     "name": "stderr",
     "output_type": "stream",
     "text": [
      "WARNING:absl:Found untraced functions such as _jit_compiled_convolution_op, _jit_compiled_convolution_op, _jit_compiled_convolution_op, _jit_compiled_convolution_op, _jit_compiled_convolution_op while saving (showing 5 of 18). These functions will not be directly callable after loading.\n"
     ]
    },
    {
     "name": "stdout",
     "output_type": "stream",
     "text": [
      "INFO:tensorflow:Assets written to: models/xnn_with_feature_test3/model_13/assets\n"
     ]
    },
    {
     "name": "stderr",
     "output_type": "stream",
     "text": [
      "INFO:tensorflow:Assets written to: models/xnn_with_feature_test3/model_13/assets\n"
     ]
    },
    {
     "name": "stdout",
     "output_type": "stream",
     "text": [
      "1032/1032 [==============================] - 77s 75ms/step - loss: 0.7901 - acc: 0.9028 - val_loss: 0.9051 - val_acc: 0.8307\n",
      "Epoch 14/50\n",
      "1031/1032 [============================>.] - ETA: 0s - loss: 0.7900 - acc: 0.9027"
     ]
    },
    {
     "name": "stderr",
     "output_type": "stream",
     "text": [
      "WARNING:absl:Found untraced functions such as _jit_compiled_convolution_op, _jit_compiled_convolution_op, _jit_compiled_convolution_op, _jit_compiled_convolution_op, _jit_compiled_convolution_op while saving (showing 5 of 18). These functions will not be directly callable after loading.\n"
     ]
    },
    {
     "name": "stdout",
     "output_type": "stream",
     "text": [
      "INFO:tensorflow:Assets written to: models/xnn_with_feature_test3/model_14/assets\n"
     ]
    },
    {
     "name": "stderr",
     "output_type": "stream",
     "text": [
      "INFO:tensorflow:Assets written to: models/xnn_with_feature_test3/model_14/assets\n"
     ]
    },
    {
     "name": "stdout",
     "output_type": "stream",
     "text": [
      "1032/1032 [==============================] - 77s 75ms/step - loss: 0.7900 - acc: 0.9027 - val_loss: 0.9052 - val_acc: 0.8341\n",
      "Epoch 15/50\n",
      "1032/1032 [==============================] - ETA: 0s - loss: 0.7893 - acc: 0.9022"
     ]
    },
    {
     "name": "stderr",
     "output_type": "stream",
     "text": [
      "WARNING:absl:Found untraced functions such as _jit_compiled_convolution_op, _jit_compiled_convolution_op, _jit_compiled_convolution_op, _jit_compiled_convolution_op, _jit_compiled_convolution_op while saving (showing 5 of 18). These functions will not be directly callable after loading.\n"
     ]
    },
    {
     "name": "stdout",
     "output_type": "stream",
     "text": [
      "INFO:tensorflow:Assets written to: models/xnn_with_feature_test3/model_15/assets\n"
     ]
    },
    {
     "name": "stderr",
     "output_type": "stream",
     "text": [
      "INFO:tensorflow:Assets written to: models/xnn_with_feature_test3/model_15/assets\n"
     ]
    },
    {
     "name": "stdout",
     "output_type": "stream",
     "text": [
      "1032/1032 [==============================] - 78s 75ms/step - loss: 0.7893 - acc: 0.9022 - val_loss: 0.9088 - val_acc: 0.8269\n",
      "Epoch 16/50\n",
      "1031/1032 [============================>.] - ETA: 0s - loss: 0.7880 - acc: 0.9032"
     ]
    },
    {
     "name": "stderr",
     "output_type": "stream",
     "text": [
      "WARNING:absl:Found untraced functions such as _jit_compiled_convolution_op, _jit_compiled_convolution_op, _jit_compiled_convolution_op, _jit_compiled_convolution_op, _jit_compiled_convolution_op while saving (showing 5 of 18). These functions will not be directly callable after loading.\n"
     ]
    },
    {
     "name": "stdout",
     "output_type": "stream",
     "text": [
      "INFO:tensorflow:Assets written to: models/xnn_with_feature_test3/model_16/assets\n"
     ]
    },
    {
     "name": "stderr",
     "output_type": "stream",
     "text": [
      "INFO:tensorflow:Assets written to: models/xnn_with_feature_test3/model_16/assets\n"
     ]
    },
    {
     "name": "stdout",
     "output_type": "stream",
     "text": [
      "1032/1032 [==============================] - 77s 75ms/step - loss: 0.7880 - acc: 0.9032 - val_loss: 0.9069 - val_acc: 0.8340\n",
      "Epoch 17/50\n",
      "1031/1032 [============================>.] - ETA: 0s - loss: 0.7878 - acc: 0.9043"
     ]
    },
    {
     "name": "stderr",
     "output_type": "stream",
     "text": [
      "WARNING:absl:Found untraced functions such as _jit_compiled_convolution_op, _jit_compiled_convolution_op, _jit_compiled_convolution_op, _jit_compiled_convolution_op, _jit_compiled_convolution_op while saving (showing 5 of 18). These functions will not be directly callable after loading.\n"
     ]
    },
    {
     "name": "stdout",
     "output_type": "stream",
     "text": [
      "INFO:tensorflow:Assets written to: models/xnn_with_feature_test3/model_17/assets\n"
     ]
    },
    {
     "name": "stderr",
     "output_type": "stream",
     "text": [
      "INFO:tensorflow:Assets written to: models/xnn_with_feature_test3/model_17/assets\n"
     ]
    },
    {
     "name": "stdout",
     "output_type": "stream",
     "text": [
      "1032/1032 [==============================] - 77s 75ms/step - loss: 0.7879 - acc: 0.9042 - val_loss: 0.9004 - val_acc: 0.8371\n",
      "Epoch 18/50\n",
      "1031/1032 [============================>.] - ETA: 0s - loss: 0.7875 - acc: 0.9035"
     ]
    },
    {
     "name": "stderr",
     "output_type": "stream",
     "text": [
      "WARNING:absl:Found untraced functions such as _jit_compiled_convolution_op, _jit_compiled_convolution_op, _jit_compiled_convolution_op, _jit_compiled_convolution_op, _jit_compiled_convolution_op while saving (showing 5 of 18). These functions will not be directly callable after loading.\n"
     ]
    },
    {
     "name": "stdout",
     "output_type": "stream",
     "text": [
      "INFO:tensorflow:Assets written to: models/xnn_with_feature_test3/model_18/assets\n"
     ]
    },
    {
     "name": "stderr",
     "output_type": "stream",
     "text": [
      "INFO:tensorflow:Assets written to: models/xnn_with_feature_test3/model_18/assets\n"
     ]
    },
    {
     "name": "stdout",
     "output_type": "stream",
     "text": [
      "1032/1032 [==============================] - 77s 75ms/step - loss: 0.7874 - acc: 0.9035 - val_loss: 0.9001 - val_acc: 0.8354\n",
      "Epoch 19/50\n",
      "1031/1032 [============================>.] - ETA: 0s - loss: 0.7864 - acc: 0.9033"
     ]
    },
    {
     "name": "stderr",
     "output_type": "stream",
     "text": [
      "WARNING:absl:Found untraced functions such as _jit_compiled_convolution_op, _jit_compiled_convolution_op, _jit_compiled_convolution_op, _jit_compiled_convolution_op, _jit_compiled_convolution_op while saving (showing 5 of 18). These functions will not be directly callable after loading.\n"
     ]
    },
    {
     "name": "stdout",
     "output_type": "stream",
     "text": [
      "INFO:tensorflow:Assets written to: models/xnn_with_feature_test3/model_19/assets\n"
     ]
    },
    {
     "name": "stderr",
     "output_type": "stream",
     "text": [
      "INFO:tensorflow:Assets written to: models/xnn_with_feature_test3/model_19/assets\n"
     ]
    },
    {
     "name": "stdout",
     "output_type": "stream",
     "text": [
      "1032/1032 [==============================] - 78s 75ms/step - loss: 0.7864 - acc: 0.9033 - val_loss: 0.9049 - val_acc: 0.8288\n",
      "Epoch 20/50\n",
      "1032/1032 [==============================] - ETA: 0s - loss: 0.7850 - acc: 0.9034"
     ]
    },
    {
     "name": "stderr",
     "output_type": "stream",
     "text": [
      "WARNING:absl:Found untraced functions such as _jit_compiled_convolution_op, _jit_compiled_convolution_op, _jit_compiled_convolution_op, _jit_compiled_convolution_op, _jit_compiled_convolution_op while saving (showing 5 of 18). These functions will not be directly callable after loading.\n"
     ]
    },
    {
     "name": "stdout",
     "output_type": "stream",
     "text": [
      "INFO:tensorflow:Assets written to: models/xnn_with_feature_test3/model_20/assets\n"
     ]
    },
    {
     "name": "stderr",
     "output_type": "stream",
     "text": [
      "INFO:tensorflow:Assets written to: models/xnn_with_feature_test3/model_20/assets\n"
     ]
    },
    {
     "name": "stdout",
     "output_type": "stream",
     "text": [
      "1032/1032 [==============================] - 77s 75ms/step - loss: 0.7850 - acc: 0.9034 - val_loss: 0.8991 - val_acc: 0.8377\n",
      "Epoch 21/50\n",
      "1031/1032 [============================>.] - ETA: 0s - loss: 0.7842 - acc: 0.9044"
     ]
    },
    {
     "name": "stderr",
     "output_type": "stream",
     "text": [
      "WARNING:absl:Found untraced functions such as _jit_compiled_convolution_op, _jit_compiled_convolution_op, _jit_compiled_convolution_op, _jit_compiled_convolution_op, _jit_compiled_convolution_op while saving (showing 5 of 18). These functions will not be directly callable after loading.\n"
     ]
    },
    {
     "name": "stdout",
     "output_type": "stream",
     "text": [
      "INFO:tensorflow:Assets written to: models/xnn_with_feature_test3/model_21/assets\n"
     ]
    },
    {
     "name": "stderr",
     "output_type": "stream",
     "text": [
      "INFO:tensorflow:Assets written to: models/xnn_with_feature_test3/model_21/assets\n"
     ]
    },
    {
     "name": "stdout",
     "output_type": "stream",
     "text": [
      "1032/1032 [==============================] - 77s 75ms/step - loss: 0.7842 - acc: 0.9044 - val_loss: 0.9036 - val_acc: 0.8355\n",
      "Epoch 22/50\n",
      "1031/1032 [============================>.] - ETA: 0s - loss: 0.7848 - acc: 0.9048"
     ]
    },
    {
     "name": "stderr",
     "output_type": "stream",
     "text": [
      "WARNING:absl:Found untraced functions such as _jit_compiled_convolution_op, _jit_compiled_convolution_op, _jit_compiled_convolution_op, _jit_compiled_convolution_op, _jit_compiled_convolution_op while saving (showing 5 of 18). These functions will not be directly callable after loading.\n"
     ]
    },
    {
     "name": "stdout",
     "output_type": "stream",
     "text": [
      "INFO:tensorflow:Assets written to: models/xnn_with_feature_test3/model_22/assets\n"
     ]
    },
    {
     "name": "stderr",
     "output_type": "stream",
     "text": [
      "INFO:tensorflow:Assets written to: models/xnn_with_feature_test3/model_22/assets\n"
     ]
    },
    {
     "name": "stdout",
     "output_type": "stream",
     "text": [
      "1032/1032 [==============================] - 78s 75ms/step - loss: 0.7848 - acc: 0.9048 - val_loss: 0.9136 - val_acc: 0.8379\n",
      "Epoch 23/50\n",
      "1031/1032 [============================>.] - ETA: 0s - loss: 0.7831 - acc: 0.9060"
     ]
    },
    {
     "name": "stderr",
     "output_type": "stream",
     "text": [
      "WARNING:absl:Found untraced functions such as _jit_compiled_convolution_op, _jit_compiled_convolution_op, _jit_compiled_convolution_op, _jit_compiled_convolution_op, _jit_compiled_convolution_op while saving (showing 5 of 18). These functions will not be directly callable after loading.\n"
     ]
    },
    {
     "name": "stdout",
     "output_type": "stream",
     "text": [
      "INFO:tensorflow:Assets written to: models/xnn_with_feature_test3/model_23/assets\n"
     ]
    },
    {
     "name": "stderr",
     "output_type": "stream",
     "text": [
      "INFO:tensorflow:Assets written to: models/xnn_with_feature_test3/model_23/assets\n"
     ]
    },
    {
     "name": "stdout",
     "output_type": "stream",
     "text": [
      "1032/1032 [==============================] - 79s 76ms/step - loss: 0.7831 - acc: 0.9060 - val_loss: 0.9008 - val_acc: 0.8304\n",
      "Epoch 24/50\n",
      "1031/1032 [============================>.] - ETA: 0s - loss: 0.7831 - acc: 0.9050"
     ]
    },
    {
     "name": "stderr",
     "output_type": "stream",
     "text": [
      "WARNING:absl:Found untraced functions such as _jit_compiled_convolution_op, _jit_compiled_convolution_op, _jit_compiled_convolution_op, _jit_compiled_convolution_op, _jit_compiled_convolution_op while saving (showing 5 of 18). These functions will not be directly callable after loading.\n"
     ]
    },
    {
     "name": "stdout",
     "output_type": "stream",
     "text": [
      "INFO:tensorflow:Assets written to: models/xnn_with_feature_test3/model_24/assets\n"
     ]
    },
    {
     "name": "stderr",
     "output_type": "stream",
     "text": [
      "INFO:tensorflow:Assets written to: models/xnn_with_feature_test3/model_24/assets\n"
     ]
    },
    {
     "name": "stdout",
     "output_type": "stream",
     "text": [
      "1032/1032 [==============================] - 78s 75ms/step - loss: 0.7831 - acc: 0.9050 - val_loss: 0.8987 - val_acc: 0.8354\n",
      "Epoch 25/50\n",
      "1031/1032 [============================>.] - ETA: 0s - loss: 0.7855 - acc: 0.9040"
     ]
    },
    {
     "name": "stderr",
     "output_type": "stream",
     "text": [
      "WARNING:absl:Found untraced functions such as _jit_compiled_convolution_op, _jit_compiled_convolution_op, _jit_compiled_convolution_op, _jit_compiled_convolution_op, _jit_compiled_convolution_op while saving (showing 5 of 18). These functions will not be directly callable after loading.\n"
     ]
    },
    {
     "name": "stdout",
     "output_type": "stream",
     "text": [
      "INFO:tensorflow:Assets written to: models/xnn_with_feature_test3/model_25/assets\n"
     ]
    },
    {
     "name": "stderr",
     "output_type": "stream",
     "text": [
      "INFO:tensorflow:Assets written to: models/xnn_with_feature_test3/model_25/assets\n"
     ]
    },
    {
     "name": "stdout",
     "output_type": "stream",
     "text": [
      "1032/1032 [==============================] - 77s 75ms/step - loss: 0.7855 - acc: 0.9040 - val_loss: 0.9023 - val_acc: 0.8405\n",
      "Epoch 26/50\n",
      "1031/1032 [============================>.] - ETA: 0s - loss: 0.7840 - acc: 0.9050"
     ]
    },
    {
     "name": "stderr",
     "output_type": "stream",
     "text": [
      "WARNING:absl:Found untraced functions such as _jit_compiled_convolution_op, _jit_compiled_convolution_op, _jit_compiled_convolution_op, _jit_compiled_convolution_op, _jit_compiled_convolution_op while saving (showing 5 of 18). These functions will not be directly callable after loading.\n"
     ]
    },
    {
     "name": "stdout",
     "output_type": "stream",
     "text": [
      "INFO:tensorflow:Assets written to: models/xnn_with_feature_test3/model_26/assets\n"
     ]
    },
    {
     "name": "stderr",
     "output_type": "stream",
     "text": [
      "INFO:tensorflow:Assets written to: models/xnn_with_feature_test3/model_26/assets\n"
     ]
    },
    {
     "name": "stdout",
     "output_type": "stream",
     "text": [
      "1032/1032 [==============================] - 78s 75ms/step - loss: 0.7839 - acc: 0.9051 - val_loss: 0.9141 - val_acc: 0.8245\n",
      "Epoch 27/50\n",
      "1031/1032 [============================>.] - ETA: 0s - loss: 0.7841 - acc: 0.9059"
     ]
    },
    {
     "name": "stderr",
     "output_type": "stream",
     "text": [
      "WARNING:absl:Found untraced functions such as _jit_compiled_convolution_op, _jit_compiled_convolution_op, _jit_compiled_convolution_op, _jit_compiled_convolution_op, _jit_compiled_convolution_op while saving (showing 5 of 18). These functions will not be directly callable after loading.\n"
     ]
    },
    {
     "name": "stdout",
     "output_type": "stream",
     "text": [
      "INFO:tensorflow:Assets written to: models/xnn_with_feature_test3/model_27/assets\n"
     ]
    },
    {
     "name": "stderr",
     "output_type": "stream",
     "text": [
      "INFO:tensorflow:Assets written to: models/xnn_with_feature_test3/model_27/assets\n"
     ]
    },
    {
     "name": "stdout",
     "output_type": "stream",
     "text": [
      "1032/1032 [==============================] - 79s 76ms/step - loss: 0.7841 - acc: 0.9058 - val_loss: 0.9036 - val_acc: 0.8328\n",
      "Epoch 28/50\n",
      "1031/1032 [============================>.] - ETA: 0s - loss: 0.7832 - acc: 0.9051"
     ]
    },
    {
     "name": "stderr",
     "output_type": "stream",
     "text": [
      "WARNING:absl:Found untraced functions such as _jit_compiled_convolution_op, _jit_compiled_convolution_op, _jit_compiled_convolution_op, _jit_compiled_convolution_op, _jit_compiled_convolution_op while saving (showing 5 of 18). These functions will not be directly callable after loading.\n"
     ]
    },
    {
     "name": "stdout",
     "output_type": "stream",
     "text": [
      "INFO:tensorflow:Assets written to: models/xnn_with_feature_test3/model_28/assets\n"
     ]
    },
    {
     "name": "stderr",
     "output_type": "stream",
     "text": [
      "INFO:tensorflow:Assets written to: models/xnn_with_feature_test3/model_28/assets\n"
     ]
    },
    {
     "name": "stdout",
     "output_type": "stream",
     "text": [
      "1032/1032 [==============================] - 78s 76ms/step - loss: 0.7832 - acc: 0.9051 - val_loss: 0.9332 - val_acc: 0.8193\n",
      "Epoch 29/50\n",
      "1031/1032 [============================>.] - ETA: 0s - loss: 0.7825 - acc: 0.9039"
     ]
    },
    {
     "name": "stderr",
     "output_type": "stream",
     "text": [
      "WARNING:absl:Found untraced functions such as _jit_compiled_convolution_op, _jit_compiled_convolution_op, _jit_compiled_convolution_op, _jit_compiled_convolution_op, _jit_compiled_convolution_op while saving (showing 5 of 18). These functions will not be directly callable after loading.\n"
     ]
    },
    {
     "name": "stdout",
     "output_type": "stream",
     "text": [
      "INFO:tensorflow:Assets written to: models/xnn_with_feature_test3/model_29/assets\n"
     ]
    },
    {
     "name": "stderr",
     "output_type": "stream",
     "text": [
      "INFO:tensorflow:Assets written to: models/xnn_with_feature_test3/model_29/assets\n"
     ]
    },
    {
     "name": "stdout",
     "output_type": "stream",
     "text": [
      "1032/1032 [==============================] - 78s 76ms/step - loss: 0.7825 - acc: 0.9039 - val_loss: 0.9065 - val_acc: 0.8209\n",
      "Epoch 30/50\n",
      "1032/1032 [==============================] - ETA: 0s - loss: 0.7843 - acc: 0.9067"
     ]
    },
    {
     "name": "stderr",
     "output_type": "stream",
     "text": [
      "WARNING:absl:Found untraced functions such as _jit_compiled_convolution_op, _jit_compiled_convolution_op, _jit_compiled_convolution_op, _jit_compiled_convolution_op, _jit_compiled_convolution_op while saving (showing 5 of 18). These functions will not be directly callable after loading.\n"
     ]
    },
    {
     "name": "stdout",
     "output_type": "stream",
     "text": [
      "INFO:tensorflow:Assets written to: models/xnn_with_feature_test3/model_30/assets\n"
     ]
    },
    {
     "name": "stderr",
     "output_type": "stream",
     "text": [
      "INFO:tensorflow:Assets written to: models/xnn_with_feature_test3/model_30/assets\n"
     ]
    },
    {
     "name": "stdout",
     "output_type": "stream",
     "text": [
      "1032/1032 [==============================] - 78s 76ms/step - loss: 0.7843 - acc: 0.9067 - val_loss: 0.9096 - val_acc: 0.8355\n",
      "Epoch 31/50\n",
      "1031/1032 [============================>.] - ETA: 0s - loss: 0.7818 - acc: 0.9052"
     ]
    },
    {
     "name": "stderr",
     "output_type": "stream",
     "text": [
      "WARNING:absl:Found untraced functions such as _jit_compiled_convolution_op, _jit_compiled_convolution_op, _jit_compiled_convolution_op, _jit_compiled_convolution_op, _jit_compiled_convolution_op while saving (showing 5 of 18). These functions will not be directly callable after loading.\n"
     ]
    },
    {
     "name": "stdout",
     "output_type": "stream",
     "text": [
      "INFO:tensorflow:Assets written to: models/xnn_with_feature_test3/model_31/assets\n"
     ]
    },
    {
     "name": "stderr",
     "output_type": "stream",
     "text": [
      "INFO:tensorflow:Assets written to: models/xnn_with_feature_test3/model_31/assets\n"
     ]
    },
    {
     "name": "stdout",
     "output_type": "stream",
     "text": [
      "1032/1032 [==============================] - 79s 76ms/step - loss: 0.7818 - acc: 0.9052 - val_loss: 0.9056 - val_acc: 0.8286\n",
      "Epoch 32/50\n",
      " 157/1032 [===>..........................] - ETA: 33s - loss: 0.7713 - acc: 0.9090"
     ]
    },
    {
     "ename": "KeyboardInterrupt",
     "evalue": "",
     "output_type": "error",
     "traceback": [
      "\u001b[0;31m---------------------------------------------------------------------------\u001b[0m",
      "\u001b[0;31mKeyboardInterrupt\u001b[0m                         Traceback (most recent call last)",
      "Cell \u001b[0;32mIn [4], line 8\u001b[0m\n\u001b[1;32m      5\u001b[0m \u001b[39m# X_train = {'sequence':X_sequence_train_trimed, 'feature0':X_feature_train[:,0], 'feature1':X_feature_train[:,1]}\u001b[39;00m\n\u001b[1;32m      6\u001b[0m \u001b[39m# X_val = {'sequence':X_sequence_val_trimed, 'feature0':X_feature_val[:,0], 'feature1':X_feature_val[:,1]}\u001b[39;00m\n\u001b[1;32m      7\u001b[0m model\u001b[39m.\u001b[39mload_weights(\u001b[39m'\u001b[39m\u001b[39mmodels/tmp_weights/rnn_weights_min_loss.h5\u001b[39m\u001b[39m'\u001b[39m, by_name\u001b[39m=\u001b[39m\u001b[39mTrue\u001b[39;00m)\n\u001b[0;32m----> 8\u001b[0m model\u001b[39m.\u001b[39;49mfit(X_train, Y_train_one_hot, batch_size\u001b[39m=\u001b[39;49m\u001b[39m32\u001b[39;49m, epochs\u001b[39m=\u001b[39;49m\u001b[39m50\u001b[39;49m, \n\u001b[1;32m      9\u001b[0m         validation_data\u001b[39m=\u001b[39;49m(X_val, Y_val_one_hot), \n\u001b[1;32m     10\u001b[0m         \u001b[39m#  class_weight=dict(enumerate(train_weight)),\u001b[39;49;00m\n\u001b[1;32m     11\u001b[0m         callbacks\u001b[39m=\u001b[39;49mcallbacks)\n",
      "File \u001b[0;32m~/softwares/anaconda3/envs/DL/lib/python3.9/site-packages/keras/utils/traceback_utils.py:65\u001b[0m, in \u001b[0;36mfilter_traceback.<locals>.error_handler\u001b[0;34m(*args, **kwargs)\u001b[0m\n\u001b[1;32m     63\u001b[0m filtered_tb \u001b[39m=\u001b[39m \u001b[39mNone\u001b[39;00m\n\u001b[1;32m     64\u001b[0m \u001b[39mtry\u001b[39;00m:\n\u001b[0;32m---> 65\u001b[0m     \u001b[39mreturn\u001b[39;00m fn(\u001b[39m*\u001b[39;49margs, \u001b[39m*\u001b[39;49m\u001b[39m*\u001b[39;49mkwargs)\n\u001b[1;32m     66\u001b[0m \u001b[39mexcept\u001b[39;00m \u001b[39mException\u001b[39;00m \u001b[39mas\u001b[39;00m e:\n\u001b[1;32m     67\u001b[0m     filtered_tb \u001b[39m=\u001b[39m _process_traceback_frames(e\u001b[39m.\u001b[39m__traceback__)\n",
      "File \u001b[0;32m~/softwares/anaconda3/envs/DL/lib/python3.9/site-packages/keras/engine/training.py:1564\u001b[0m, in \u001b[0;36mModel.fit\u001b[0;34m(self, x, y, batch_size, epochs, verbose, callbacks, validation_split, validation_data, shuffle, class_weight, sample_weight, initial_epoch, steps_per_epoch, validation_steps, validation_batch_size, validation_freq, max_queue_size, workers, use_multiprocessing)\u001b[0m\n\u001b[1;32m   1556\u001b[0m \u001b[39mwith\u001b[39;00m tf\u001b[39m.\u001b[39mprofiler\u001b[39m.\u001b[39mexperimental\u001b[39m.\u001b[39mTrace(\n\u001b[1;32m   1557\u001b[0m     \u001b[39m\"\u001b[39m\u001b[39mtrain\u001b[39m\u001b[39m\"\u001b[39m,\n\u001b[1;32m   1558\u001b[0m     epoch_num\u001b[39m=\u001b[39mepoch,\n\u001b[0;32m   (...)\u001b[0m\n\u001b[1;32m   1561\u001b[0m     _r\u001b[39m=\u001b[39m\u001b[39m1\u001b[39m,\n\u001b[1;32m   1562\u001b[0m ):\n\u001b[1;32m   1563\u001b[0m     callbacks\u001b[39m.\u001b[39mon_train_batch_begin(step)\n\u001b[0;32m-> 1564\u001b[0m     tmp_logs \u001b[39m=\u001b[39m \u001b[39mself\u001b[39;49m\u001b[39m.\u001b[39;49mtrain_function(iterator)\n\u001b[1;32m   1565\u001b[0m     \u001b[39mif\u001b[39;00m data_handler\u001b[39m.\u001b[39mshould_sync:\n\u001b[1;32m   1566\u001b[0m         context\u001b[39m.\u001b[39masync_wait()\n",
      "File \u001b[0;32m~/softwares/anaconda3/envs/DL/lib/python3.9/site-packages/tensorflow/python/util/traceback_utils.py:150\u001b[0m, in \u001b[0;36mfilter_traceback.<locals>.error_handler\u001b[0;34m(*args, **kwargs)\u001b[0m\n\u001b[1;32m    148\u001b[0m filtered_tb \u001b[39m=\u001b[39m \u001b[39mNone\u001b[39;00m\n\u001b[1;32m    149\u001b[0m \u001b[39mtry\u001b[39;00m:\n\u001b[0;32m--> 150\u001b[0m   \u001b[39mreturn\u001b[39;00m fn(\u001b[39m*\u001b[39;49margs, \u001b[39m*\u001b[39;49m\u001b[39m*\u001b[39;49mkwargs)\n\u001b[1;32m    151\u001b[0m \u001b[39mexcept\u001b[39;00m \u001b[39mException\u001b[39;00m \u001b[39mas\u001b[39;00m e:\n\u001b[1;32m    152\u001b[0m   filtered_tb \u001b[39m=\u001b[39m _process_traceback_frames(e\u001b[39m.\u001b[39m__traceback__)\n",
      "File \u001b[0;32m~/softwares/anaconda3/envs/DL/lib/python3.9/site-packages/tensorflow/python/eager/def_function.py:915\u001b[0m, in \u001b[0;36mFunction.__call__\u001b[0;34m(self, *args, **kwds)\u001b[0m\n\u001b[1;32m    912\u001b[0m compiler \u001b[39m=\u001b[39m \u001b[39m\"\u001b[39m\u001b[39mxla\u001b[39m\u001b[39m\"\u001b[39m \u001b[39mif\u001b[39;00m \u001b[39mself\u001b[39m\u001b[39m.\u001b[39m_jit_compile \u001b[39melse\u001b[39;00m \u001b[39m\"\u001b[39m\u001b[39mnonXla\u001b[39m\u001b[39m\"\u001b[39m\n\u001b[1;32m    914\u001b[0m \u001b[39mwith\u001b[39;00m OptionalXlaContext(\u001b[39mself\u001b[39m\u001b[39m.\u001b[39m_jit_compile):\n\u001b[0;32m--> 915\u001b[0m   result \u001b[39m=\u001b[39m \u001b[39mself\u001b[39;49m\u001b[39m.\u001b[39;49m_call(\u001b[39m*\u001b[39;49margs, \u001b[39m*\u001b[39;49m\u001b[39m*\u001b[39;49mkwds)\n\u001b[1;32m    917\u001b[0m new_tracing_count \u001b[39m=\u001b[39m \u001b[39mself\u001b[39m\u001b[39m.\u001b[39mexperimental_get_tracing_count()\n\u001b[1;32m    918\u001b[0m without_tracing \u001b[39m=\u001b[39m (tracing_count \u001b[39m==\u001b[39m new_tracing_count)\n",
      "File \u001b[0;32m~/softwares/anaconda3/envs/DL/lib/python3.9/site-packages/tensorflow/python/eager/def_function.py:947\u001b[0m, in \u001b[0;36mFunction._call\u001b[0;34m(self, *args, **kwds)\u001b[0m\n\u001b[1;32m    944\u001b[0m   \u001b[39mself\u001b[39m\u001b[39m.\u001b[39m_lock\u001b[39m.\u001b[39mrelease()\n\u001b[1;32m    945\u001b[0m   \u001b[39m# In this case we have created variables on the first call, so we run the\u001b[39;00m\n\u001b[1;32m    946\u001b[0m   \u001b[39m# defunned version which is guaranteed to never create variables.\u001b[39;00m\n\u001b[0;32m--> 947\u001b[0m   \u001b[39mreturn\u001b[39;00m \u001b[39mself\u001b[39;49m\u001b[39m.\u001b[39;49m_stateless_fn(\u001b[39m*\u001b[39;49margs, \u001b[39m*\u001b[39;49m\u001b[39m*\u001b[39;49mkwds)  \u001b[39m# pylint: disable=not-callable\u001b[39;00m\n\u001b[1;32m    948\u001b[0m \u001b[39melif\u001b[39;00m \u001b[39mself\u001b[39m\u001b[39m.\u001b[39m_stateful_fn \u001b[39mis\u001b[39;00m \u001b[39mnot\u001b[39;00m \u001b[39mNone\u001b[39;00m:\n\u001b[1;32m    949\u001b[0m   \u001b[39m# Release the lock early so that multiple threads can perform the call\u001b[39;00m\n\u001b[1;32m    950\u001b[0m   \u001b[39m# in parallel.\u001b[39;00m\n\u001b[1;32m    951\u001b[0m   \u001b[39mself\u001b[39m\u001b[39m.\u001b[39m_lock\u001b[39m.\u001b[39mrelease()\n",
      "File \u001b[0;32m~/softwares/anaconda3/envs/DL/lib/python3.9/site-packages/tensorflow/python/eager/function.py:2496\u001b[0m, in \u001b[0;36mFunction.__call__\u001b[0;34m(self, *args, **kwargs)\u001b[0m\n\u001b[1;32m   2493\u001b[0m \u001b[39mwith\u001b[39;00m \u001b[39mself\u001b[39m\u001b[39m.\u001b[39m_lock:\n\u001b[1;32m   2494\u001b[0m   (graph_function,\n\u001b[1;32m   2495\u001b[0m    filtered_flat_args) \u001b[39m=\u001b[39m \u001b[39mself\u001b[39m\u001b[39m.\u001b[39m_maybe_define_function(args, kwargs)\n\u001b[0;32m-> 2496\u001b[0m \u001b[39mreturn\u001b[39;00m graph_function\u001b[39m.\u001b[39;49m_call_flat(\n\u001b[1;32m   2497\u001b[0m     filtered_flat_args, captured_inputs\u001b[39m=\u001b[39;49mgraph_function\u001b[39m.\u001b[39;49mcaptured_inputs)\n",
      "File \u001b[0;32m~/softwares/anaconda3/envs/DL/lib/python3.9/site-packages/tensorflow/python/eager/function.py:1862\u001b[0m, in \u001b[0;36mConcreteFunction._call_flat\u001b[0;34m(self, args, captured_inputs, cancellation_manager)\u001b[0m\n\u001b[1;32m   1858\u001b[0m possible_gradient_type \u001b[39m=\u001b[39m gradients_util\u001b[39m.\u001b[39mPossibleTapeGradientTypes(args)\n\u001b[1;32m   1859\u001b[0m \u001b[39mif\u001b[39;00m (possible_gradient_type \u001b[39m==\u001b[39m gradients_util\u001b[39m.\u001b[39mPOSSIBLE_GRADIENT_TYPES_NONE\n\u001b[1;32m   1860\u001b[0m     \u001b[39mand\u001b[39;00m executing_eagerly):\n\u001b[1;32m   1861\u001b[0m   \u001b[39m# No tape is watching; skip to running the function.\u001b[39;00m\n\u001b[0;32m-> 1862\u001b[0m   \u001b[39mreturn\u001b[39;00m \u001b[39mself\u001b[39m\u001b[39m.\u001b[39m_build_call_outputs(\u001b[39mself\u001b[39;49m\u001b[39m.\u001b[39;49m_inference_function\u001b[39m.\u001b[39;49mcall(\n\u001b[1;32m   1863\u001b[0m       ctx, args, cancellation_manager\u001b[39m=\u001b[39;49mcancellation_manager))\n\u001b[1;32m   1864\u001b[0m forward_backward \u001b[39m=\u001b[39m \u001b[39mself\u001b[39m\u001b[39m.\u001b[39m_select_forward_and_backward_functions(\n\u001b[1;32m   1865\u001b[0m     args,\n\u001b[1;32m   1866\u001b[0m     possible_gradient_type,\n\u001b[1;32m   1867\u001b[0m     executing_eagerly)\n\u001b[1;32m   1868\u001b[0m forward_function, args_with_tangents \u001b[39m=\u001b[39m forward_backward\u001b[39m.\u001b[39mforward()\n",
      "File \u001b[0;32m~/softwares/anaconda3/envs/DL/lib/python3.9/site-packages/tensorflow/python/eager/function.py:499\u001b[0m, in \u001b[0;36m_EagerDefinedFunction.call\u001b[0;34m(self, ctx, args, cancellation_manager)\u001b[0m\n\u001b[1;32m    497\u001b[0m \u001b[39mwith\u001b[39;00m _InterpolateFunctionError(\u001b[39mself\u001b[39m):\n\u001b[1;32m    498\u001b[0m   \u001b[39mif\u001b[39;00m cancellation_manager \u001b[39mis\u001b[39;00m \u001b[39mNone\u001b[39;00m:\n\u001b[0;32m--> 499\u001b[0m     outputs \u001b[39m=\u001b[39m execute\u001b[39m.\u001b[39;49mexecute(\n\u001b[1;32m    500\u001b[0m         \u001b[39mstr\u001b[39;49m(\u001b[39mself\u001b[39;49m\u001b[39m.\u001b[39;49msignature\u001b[39m.\u001b[39;49mname),\n\u001b[1;32m    501\u001b[0m         num_outputs\u001b[39m=\u001b[39;49m\u001b[39mself\u001b[39;49m\u001b[39m.\u001b[39;49m_num_outputs,\n\u001b[1;32m    502\u001b[0m         inputs\u001b[39m=\u001b[39;49margs,\n\u001b[1;32m    503\u001b[0m         attrs\u001b[39m=\u001b[39;49mattrs,\n\u001b[1;32m    504\u001b[0m         ctx\u001b[39m=\u001b[39;49mctx)\n\u001b[1;32m    505\u001b[0m   \u001b[39melse\u001b[39;00m:\n\u001b[1;32m    506\u001b[0m     outputs \u001b[39m=\u001b[39m execute\u001b[39m.\u001b[39mexecute_with_cancellation(\n\u001b[1;32m    507\u001b[0m         \u001b[39mstr\u001b[39m(\u001b[39mself\u001b[39m\u001b[39m.\u001b[39msignature\u001b[39m.\u001b[39mname),\n\u001b[1;32m    508\u001b[0m         num_outputs\u001b[39m=\u001b[39m\u001b[39mself\u001b[39m\u001b[39m.\u001b[39m_num_outputs,\n\u001b[0;32m   (...)\u001b[0m\n\u001b[1;32m    511\u001b[0m         ctx\u001b[39m=\u001b[39mctx,\n\u001b[1;32m    512\u001b[0m         cancellation_manager\u001b[39m=\u001b[39mcancellation_manager)\n",
      "File \u001b[0;32m~/softwares/anaconda3/envs/DL/lib/python3.9/site-packages/tensorflow/python/eager/execute.py:54\u001b[0m, in \u001b[0;36mquick_execute\u001b[0;34m(op_name, num_outputs, inputs, attrs, ctx, name)\u001b[0m\n\u001b[1;32m     52\u001b[0m \u001b[39mtry\u001b[39;00m:\n\u001b[1;32m     53\u001b[0m   ctx\u001b[39m.\u001b[39mensure_initialized()\n\u001b[0;32m---> 54\u001b[0m   tensors \u001b[39m=\u001b[39m pywrap_tfe\u001b[39m.\u001b[39;49mTFE_Py_Execute(ctx\u001b[39m.\u001b[39;49m_handle, device_name, op_name,\n\u001b[1;32m     55\u001b[0m                                       inputs, attrs, num_outputs)\n\u001b[1;32m     56\u001b[0m \u001b[39mexcept\u001b[39;00m core\u001b[39m.\u001b[39m_NotOkStatusException \u001b[39mas\u001b[39;00m e:\n\u001b[1;32m     57\u001b[0m   \u001b[39mif\u001b[39;00m name \u001b[39mis\u001b[39;00m \u001b[39mnot\u001b[39;00m \u001b[39mNone\u001b[39;00m:\n",
      "\u001b[0;31mKeyboardInterrupt\u001b[0m: "
     ]
    }
   ],
   "source": [
    "X_train = {'sequence':X_sequence_train_trimed, 'image':X_image_train, 'feature':X_feature_train}\n",
    "X_val = {'sequence':X_sequence_val_trimed, 'image':X_image_val, 'feature':X_feature_val}\n",
    "\n",
    "\n",
    "# X_train = {'sequence':X_sequence_train_trimed, 'feature0':X_feature_train[:,0], 'feature1':X_feature_train[:,1]}\n",
    "# X_val = {'sequence':X_sequence_val_trimed, 'feature0':X_feature_val[:,0], 'feature1':X_feature_val[:,1]}\n",
    "model.load_weights('models/tmp_weights/rnn_weights_min_loss.h5', by_name=True)\n",
    "model.fit(X_train, Y_train_one_hot, batch_size=32, epochs=50, \n",
    "        validation_data=(X_val, Y_val_one_hot), \n",
    "        #  class_weight=dict(enumerate(train_weight)),\n",
    "        callbacks=callbacks)"
   ]
  },
  {
   "cell_type": "code",
   "execution_count": 20,
   "metadata": {},
   "outputs": [
    {
     "name": "stderr",
     "output_type": "stream",
     "text": [
      "2022-11-11 18:39:10.116196: W tensorflow/core/common_runtime/graph_constructor.cc:805] Node 'cond/while' has 13 outputs but the _output_shapes attribute specifies shapes for 46 outputs. Output shapes may be inaccurate.\n",
      "2022-11-11 18:39:11.066706: W tensorflow/core/common_runtime/graph_constructor.cc:805] Node 'cond/while' has 13 outputs but the _output_shapes attribute specifies shapes for 46 outputs. Output shapes may be inaccurate.\n",
      "2022-11-11 18:39:11.129912: W tensorflow/core/common_runtime/graph_constructor.cc:805] Node 'cond/while' has 13 outputs but the _output_shapes attribute specifies shapes for 46 outputs. Output shapes may be inaccurate.\n",
      "2022-11-11 18:39:11.361268: W tensorflow/core/common_runtime/graph_constructor.cc:805] Node 'cond' has 4 outputs but the _output_shapes attribute specifies shapes for 46 outputs. Output shapes may be inaccurate.\n",
      "2022-11-11 18:39:11.791765: W tensorflow/core/common_runtime/graph_constructor.cc:805] Node 'cond/while' has 13 outputs but the _output_shapes attribute specifies shapes for 46 outputs. Output shapes may be inaccurate.\n",
      "2022-11-11 18:39:12.142641: W tensorflow/core/common_runtime/graph_constructor.cc:805] Node 'cond' has 4 outputs but the _output_shapes attribute specifies shapes for 46 outputs. Output shapes may be inaccurate.\n",
      "2022-11-11 18:39:12.247511: W tensorflow/core/common_runtime/graph_constructor.cc:805] Node 'cond/while' has 14 outputs but the _output_shapes attribute specifies shapes for 48 outputs. Output shapes may be inaccurate.\n",
      "2022-11-11 18:39:15.062413: W tensorflow/core/common_runtime/graph_constructor.cc:805] Node 'cond/while' has 14 outputs but the _output_shapes attribute specifies shapes for 48 outputs. Output shapes may be inaccurate.\n",
      "2022-11-11 18:39:15.573263: W tensorflow/core/common_runtime/graph_constructor.cc:805] Node 'cond/while' has 14 outputs but the _output_shapes attribute specifies shapes for 48 outputs. Output shapes may be inaccurate.\n",
      "2022-11-11 18:39:15.582141: W tensorflow/core/common_runtime/graph_constructor.cc:805] Node 'cond' has 4 outputs but the _output_shapes attribute specifies shapes for 48 outputs. Output shapes may be inaccurate.\n",
      "2022-11-11 18:39:15.874481: W tensorflow/core/common_runtime/graph_constructor.cc:805] Node 'cond' has 4 outputs but the _output_shapes attribute specifies shapes for 48 outputs. Output shapes may be inaccurate.\n",
      "2022-11-11 18:39:15.912273: W tensorflow/core/common_runtime/graph_constructor.cc:805] Node 'cond/while' has 13 outputs but the _output_shapes attribute specifies shapes for 46 outputs. Output shapes may be inaccurate.\n",
      "2022-11-11 18:39:15.921114: W tensorflow/core/common_runtime/graph_constructor.cc:805] Node 'cond' has 4 outputs but the _output_shapes attribute specifies shapes for 46 outputs. Output shapes may be inaccurate.\n",
      "2022-11-11 18:39:16.036774: W tensorflow/core/common_runtime/graph_constructor.cc:805] Node 'cond/while' has 13 outputs but the _output_shapes attribute specifies shapes for 46 outputs. Output shapes may be inaccurate.\n",
      "2022-11-11 18:39:16.072930: W tensorflow/core/common_runtime/graph_constructor.cc:805] Node 'cond/while' has 14 outputs but the _output_shapes attribute specifies shapes for 48 outputs. Output shapes may be inaccurate.\n",
      "2022-11-11 18:39:16.082938: W tensorflow/core/common_runtime/graph_constructor.cc:805] Node 'cond' has 4 outputs but the _output_shapes attribute specifies shapes for 48 outputs. Output shapes may be inaccurate.\n",
      "2022-11-11 18:39:16.238372: W tensorflow/core/common_runtime/graph_constructor.cc:805] Node 'cond/while' has 14 outputs but the _output_shapes attribute specifies shapes for 48 outputs. Output shapes may be inaccurate.\n",
      "2022-11-11 18:39:16.247390: W tensorflow/core/common_runtime/graph_constructor.cc:805] Node 'cond' has 4 outputs but the _output_shapes attribute specifies shapes for 48 outputs. Output shapes may be inaccurate.\n",
      "2022-11-11 18:39:16.384659: W tensorflow/core/common_runtime/graph_constructor.cc:805] Node 'cond/while' has 14 outputs but the _output_shapes attribute specifies shapes for 48 outputs. Output shapes may be inaccurate.\n",
      "2022-11-11 18:39:16.563017: W tensorflow/core/common_runtime/graph_constructor.cc:805] Node 'cond' has 4 outputs but the _output_shapes attribute specifies shapes for 48 outputs. Output shapes may be inaccurate.\n",
      "2022-11-11 18:39:16.744208: W tensorflow/core/common_runtime/graph_constructor.cc:805] Node 'cond' has 4 outputs but the _output_shapes attribute specifies shapes for 48 outputs. Output shapes may be inaccurate.\n",
      "2022-11-11 18:39:17.265687: W tensorflow/core/common_runtime/graph_constructor.cc:805] Node 'cond' has 4 outputs but the _output_shapes attribute specifies shapes for 46 outputs. Output shapes may be inaccurate.\n",
      "2022-11-11 18:39:17.490952: W tensorflow/core/common_runtime/graph_constructor.cc:805] Node 'cond' has 4 outputs but the _output_shapes attribute specifies shapes for 46 outputs. Output shapes may be inaccurate.\n",
      "2022-11-11 18:39:17.505472: W tensorflow/core/common_runtime/graph_constructor.cc:805] Node 'cond' has 4 outputs but the _output_shapes attribute specifies shapes for 46 outputs. Output shapes may be inaccurate.\n"
     ]
    }
   ],
   "source": [
    "loaded_model = keras.models.load_model('models/xnn_with_feature_test3/model_6', compile=False)\n",
    "loaded_model.save_weights('models/tmp_weights/rnn_weights_min_loss.h5')"
   ]
  },
  {
   "cell_type": "code",
   "execution_count": 5,
   "metadata": {},
   "outputs": [
    {
     "name": "stderr",
     "output_type": "stream",
     "text": [
      "2022-11-11 19:24:03.732952: W tensorflow/core/common_runtime/graph_constructor.cc:805] Node 'cond/while' has 13 outputs but the _output_shapes attribute specifies shapes for 46 outputs. Output shapes may be inaccurate.\n",
      "2022-11-11 19:24:04.121103: W tensorflow/core/common_runtime/graph_constructor.cc:805] Node 'cond/while' has 14 outputs but the _output_shapes attribute specifies shapes for 48 outputs. Output shapes may be inaccurate.\n",
      "2022-11-11 19:24:04.173706: W tensorflow/core/common_runtime/graph_constructor.cc:805] Node 'cond' has 4 outputs but the _output_shapes attribute specifies shapes for 48 outputs. Output shapes may be inaccurate.\n",
      "2022-11-11 19:24:04.241523: W tensorflow/core/common_runtime/graph_constructor.cc:805] Node 'cond/while' has 14 outputs but the _output_shapes attribute specifies shapes for 48 outputs. Output shapes may be inaccurate.\n",
      "2022-11-11 19:24:04.515869: W tensorflow/core/common_runtime/graph_constructor.cc:805] Node 'cond/while' has 14 outputs but the _output_shapes attribute specifies shapes for 48 outputs. Output shapes may be inaccurate.\n",
      "2022-11-11 19:24:04.696778: W tensorflow/core/common_runtime/graph_constructor.cc:805] Node 'cond/while' has 13 outputs but the _output_shapes attribute specifies shapes for 46 outputs. Output shapes may be inaccurate.\n",
      "2022-11-11 19:24:04.705708: W tensorflow/core/common_runtime/graph_constructor.cc:805] Node 'cond' has 4 outputs but the _output_shapes attribute specifies shapes for 46 outputs. Output shapes may be inaccurate.\n",
      "2022-11-11 19:24:05.182985: W tensorflow/core/common_runtime/graph_constructor.cc:805] Node 'cond/while' has 13 outputs but the _output_shapes attribute specifies shapes for 46 outputs. Output shapes may be inaccurate.\n",
      "2022-11-11 19:24:05.192021: W tensorflow/core/common_runtime/graph_constructor.cc:805] Node 'cond' has 4 outputs but the _output_shapes attribute specifies shapes for 46 outputs. Output shapes may be inaccurate.\n",
      "2022-11-11 19:24:05.470319: W tensorflow/core/common_runtime/graph_constructor.cc:805] Node 'cond' has 4 outputs but the _output_shapes attribute specifies shapes for 46 outputs. Output shapes may be inaccurate.\n",
      "2022-11-11 19:24:05.484126: W tensorflow/core/common_runtime/graph_constructor.cc:805] Node 'cond/while' has 13 outputs but the _output_shapes attribute specifies shapes for 46 outputs. Output shapes may be inaccurate.\n",
      "2022-11-11 19:24:05.548625: W tensorflow/core/common_runtime/graph_constructor.cc:805] Node 'cond' has 4 outputs but the _output_shapes attribute specifies shapes for 46 outputs. Output shapes may be inaccurate.\n",
      "2022-11-11 19:24:05.836936: W tensorflow/core/common_runtime/graph_constructor.cc:805] Node 'cond' has 4 outputs but the _output_shapes attribute specifies shapes for 48 outputs. Output shapes may be inaccurate.\n",
      "2022-11-11 19:24:06.755462: W tensorflow/core/common_runtime/graph_constructor.cc:805] Node 'cond/while' has 14 outputs but the _output_shapes attribute specifies shapes for 48 outputs. Output shapes may be inaccurate.\n",
      "2022-11-11 19:24:06.764028: W tensorflow/core/common_runtime/graph_constructor.cc:805] Node 'cond' has 4 outputs but the _output_shapes attribute specifies shapes for 48 outputs. Output shapes may be inaccurate.\n",
      "2022-11-11 19:24:07.156740: W tensorflow/core/common_runtime/graph_constructor.cc:805] Node 'cond' has 4 outputs but the _output_shapes attribute specifies shapes for 48 outputs. Output shapes may be inaccurate.\n",
      "2022-11-11 19:24:07.223197: W tensorflow/core/common_runtime/graph_constructor.cc:805] Node 'cond/while' has 14 outputs but the _output_shapes attribute specifies shapes for 48 outputs. Output shapes may be inaccurate.\n",
      "2022-11-11 19:24:07.232029: W tensorflow/core/common_runtime/graph_constructor.cc:805] Node 'cond' has 4 outputs but the _output_shapes attribute specifies shapes for 48 outputs. Output shapes may be inaccurate.\n",
      "2022-11-11 19:24:07.284337: W tensorflow/core/common_runtime/graph_constructor.cc:805] Node 'cond/while' has 13 outputs but the _output_shapes attribute specifies shapes for 46 outputs. Output shapes may be inaccurate.\n",
      "2022-11-11 19:24:07.870532: W tensorflow/core/common_runtime/graph_constructor.cc:805] Node 'cond/while' has 14 outputs but the _output_shapes attribute specifies shapes for 48 outputs. Output shapes may be inaccurate.\n",
      "2022-11-11 19:24:07.879943: W tensorflow/core/common_runtime/graph_constructor.cc:805] Node 'cond' has 4 outputs but the _output_shapes attribute specifies shapes for 48 outputs. Output shapes may be inaccurate.\n",
      "2022-11-11 19:24:08.205318: W tensorflow/core/common_runtime/graph_constructor.cc:805] Node 'cond/while' has 13 outputs but the _output_shapes attribute specifies shapes for 46 outputs. Output shapes may be inaccurate.\n",
      "2022-11-11 19:24:08.213909: W tensorflow/core/common_runtime/graph_constructor.cc:805] Node 'cond' has 4 outputs but the _output_shapes attribute specifies shapes for 46 outputs. Output shapes may be inaccurate.\n",
      "2022-11-11 19:24:08.492927: W tensorflow/core/common_runtime/graph_constructor.cc:805] Node 'cond' has 4 outputs but the _output_shapes attribute specifies shapes for 46 outputs. Output shapes may be inaccurate.\n"
     ]
    },
    {
     "name": "stdout",
     "output_type": "stream",
     "text": [
      "4/4 [==============================] - 2s 35ms/step\n",
      "4/4 [==============================] - 0s 31ms/step\n",
      "4/4 [==============================] - 0s 33ms/step\n",
      "4/4 [==============================] - 0s 30ms/step\n",
      "4/4 [==============================] - 0s 33ms/step\n",
      "4/4 [==============================] - 0s 32ms/step\n",
      "4/4 [==============================] - 0s 31ms/step\n",
      "4/4 [==============================] - 0s 33ms/step\n",
      "4/4 [==============================] - 0s 27ms/step\n",
      "4/4 [==============================] - 0s 33ms/step\n",
      "4/4 [==============================] - 0s 34ms/step\n",
      "4/4 [==============================] - 0s 34ms/step\n",
      "4/4 [==============================] - 0s 31ms/step\n",
      "4/4 [==============================] - 0s 33ms/step\n",
      "4/4 [==============================] - 0s 29ms/step\n",
      "4/4 [==============================] - 0s 31ms/step\n",
      "4/4 [==============================] - 0s 31ms/step\n",
      "4/4 [==============================] - 0s 32ms/step\n",
      "4/4 [==============================] - 0s 32ms/step\n",
      "4/4 [==============================] - 0s 30ms/step\n",
      "4/4 [==============================] - 0s 31ms/step\n",
      "4/4 [==============================] - 0s 32ms/step\n",
      "4/4 [==============================] - 0s 31ms/step\n",
      "4/4 [==============================] - 0s 32ms/step\n",
      "4/4 [==============================] - 0s 34ms/step\n",
      "4/4 [==============================] - 0s 33ms/step\n",
      "4/4 [==============================] - 0s 33ms/step\n",
      "4/4 [==============================] - 0s 34ms/step\n",
      "4/4 [==============================] - 0s 33ms/step\n",
      "4/4 [==============================] - 0s 32ms/step\n",
      "4/4 [==============================] - 0s 34ms/step\n",
      "4/4 [==============================] - 0s 31ms/step\n",
      "4/4 [==============================] - 0s 31ms/step\n",
      "4/4 [==============================] - 0s 31ms/step\n",
      "4/4 [==============================] - 0s 30ms/step\n",
      "4/4 [==============================] - 0s 34ms/step\n",
      "4/4 [==============================] - 0s 31ms/step\n",
      "4/4 [==============================] - 0s 29ms/step\n",
      "4/4 [==============================] - 0s 34ms/step\n",
      "4/4 [==============================] - 0s 32ms/step\n",
      "4/4 [==============================] - 0s 32ms/step\n",
      "4/4 [==============================] - 0s 34ms/step\n",
      "4/4 [==============================] - 0s 29ms/step\n",
      "4/4 [==============================] - 0s 33ms/step\n",
      "4/4 [==============================] - 0s 34ms/step\n",
      "4/4 [==============================] - 0s 31ms/step\n",
      "4/4 [==============================] - 0s 32ms/step\n",
      "4/4 [==============================] - 0s 28ms/step\n",
      "4/4 [==============================] - 0s 34ms/step\n",
      "4/4 [==============================] - 0s 32ms/step\n",
      "4/4 [==============================] - 0s 34ms/step\n",
      "4/4 [==============================] - 0s 33ms/step\n",
      "4/4 [==============================] - 0s 33ms/step\n",
      "4/4 [==============================] - 0s 32ms/step\n",
      "4/4 [==============================] - 0s 30ms/step\n",
      "4/4 [==============================] - 0s 32ms/step\n",
      "4/4 [==============================] - 0s 31ms/step\n",
      "4/4 [==============================] - 0s 35ms/step\n",
      "4/4 [==============================] - 0s 32ms/step\n",
      "4/4 [==============================] - 0s 35ms/step\n",
      "4/4 [==============================] - 0s 35ms/step\n",
      "4/4 [==============================] - 0s 35ms/step\n",
      "4/4 [==============================] - 0s 30ms/step\n",
      "4/4 [==============================] - 0s 32ms/step\n",
      "4/4 [==============================] - 0s 33ms/step\n",
      "4/4 [==============================] - 0s 30ms/step\n",
      "4/4 [==============================] - 0s 30ms/step\n",
      "4/4 [==============================] - 0s 33ms/step\n",
      "4/4 [==============================] - 0s 30ms/step\n",
      "4/4 [==============================] - 0s 31ms/step\n",
      "4/4 [==============================] - 0s 33ms/step\n",
      "4/4 [==============================] - 0s 29ms/step\n",
      "4/4 [==============================] - 0s 33ms/step\n",
      "4/4 [==============================] - 0s 30ms/step\n",
      "4/4 [==============================] - 0s 30ms/step\n",
      "4/4 [==============================] - 0s 31ms/step\n",
      "4/4 [==============================] - 0s 30ms/step\n",
      "4/4 [==============================] - 0s 33ms/step\n",
      "4/4 [==============================] - 0s 34ms/step\n",
      "4/4 [==============================] - 0s 33ms/step\n",
      "4/4 [==============================] - 0s 31ms/step\n",
      "4/4 [==============================] - 0s 31ms/step\n",
      "4/4 [==============================] - 0s 33ms/step\n",
      "4/4 [==============================] - 0s 32ms/step\n",
      "4/4 [==============================] - 0s 31ms/step\n",
      "4/4 [==============================] - 0s 30ms/step\n",
      "4/4 [==============================] - 0s 34ms/step\n",
      "3/3 [==============================] - 3s 86ms/step\n",
      "Normalized confusion matrix\n",
      "[[8.27293755e-01 3.85505012e-03 6.93909021e-03 1.08712413e-01\n",
      "  1.54202005e-03 0.00000000e+00 1.46491904e-02 0.00000000e+00\n",
      "  0.00000000e+00 3.62374711e-02 7.71010023e-04]\n",
      " [8.88888889e-04 8.60444444e-01 1.11111111e-01 1.77777778e-03\n",
      "  3.55555556e-03 2.66666667e-03 1.68888889e-02 0.00000000e+00\n",
      "  2.66666667e-03 0.00000000e+00 0.00000000e+00]\n",
      " [3.33333333e-02 1.66666667e-01 7.73333333e-01 2.00000000e-02\n",
      "  0.00000000e+00 0.00000000e+00 6.66666667e-03 0.00000000e+00\n",
      "  0.00000000e+00 0.00000000e+00 0.00000000e+00]\n",
      " [1.17647059e-01 0.00000000e+00 0.00000000e+00 8.62745098e-01\n",
      "  0.00000000e+00 0.00000000e+00 0.00000000e+00 0.00000000e+00\n",
      "  0.00000000e+00 1.96078431e-02 0.00000000e+00]\n",
      " [1.59574468e-03 8.86524823e-04 8.86524823e-04 3.54609929e-04\n",
      "  7.20921986e-01 5.33687943e-02 2.16666667e-01 3.54609929e-04\n",
      "  1.77304965e-03 2.12765957e-03 1.06382979e-03]\n",
      " [0.00000000e+00 0.00000000e+00 7.39644970e-04 0.00000000e+00\n",
      "  2.07100592e-02 9.69674556e-01 5.91715976e-03 0.00000000e+00\n",
      "  7.39644970e-04 0.00000000e+00 2.21893491e-03]\n",
      " [6.42201835e-03 3.76146789e-02 1.83486239e-02 3.66972477e-03\n",
      "  1.50458716e-01 7.33944954e-03 7.35779817e-01 1.92660550e-02\n",
      "  0.00000000e+00 6.42201835e-03 1.46788991e-02]\n",
      " [0.00000000e+00 0.00000000e+00 0.00000000e+00 0.00000000e+00\n",
      "  0.00000000e+00 0.00000000e+00 1.81818182e-02 9.76623377e-01\n",
      "  0.00000000e+00 0.00000000e+00 5.19480519e-03]\n",
      " [0.00000000e+00 2.27272727e-02 0.00000000e+00 0.00000000e+00\n",
      "  0.00000000e+00 0.00000000e+00 2.27272727e-02 0.00000000e+00\n",
      "  9.54545455e-01 0.00000000e+00 0.00000000e+00]\n",
      " [0.00000000e+00 0.00000000e+00 0.00000000e+00 0.00000000e+00\n",
      "  0.00000000e+00 0.00000000e+00 0.00000000e+00 0.00000000e+00\n",
      "  0.00000000e+00 8.66666667e-01 1.33333333e-01]\n",
      " [2.22222222e-02 2.22222222e-02 0.00000000e+00 2.22222222e-02\n",
      "  0.00000000e+00 2.22222222e-02 6.66666667e-02 0.00000000e+00\n",
      "  0.00000000e+00 1.11111111e-01 7.33333333e-01]]\n"
     ]
    },
    {
     "data": {
      "image/png": "[encoded data removed]",
      "text/plain": [
       "<Figure size 1200x1000 with 2 Axes>"
      ]
     },
     "metadata": {},
     "output_type": "display_data"
    }
   ],
   "source": [
    "loaded_model = keras.models.load_model('models/xnn_with_feature_test3/model_25', compile=False)\n",
    "from sklearn.metrics import confusion_matrix, ConfusionMatrixDisplay\n",
    "import matplotlib.pyplot as plt\n",
    "from util import generate_batch\n",
    "\n",
    "test_gen = generate_batch(X_sequence=X_sequence_test_trimed,X_image=X_image_test,X_feature=X_feature_test, Y=Y_test, batch_size=128)      \n",
    "y_label = Y_test\n",
    "\n",
    "y_predict = np.array([])\n",
    "for x_sequence, x_image, x_feature, y in test_gen:\n",
    "    y_predict = np.concatenate([y_predict, \n",
    "            np.argmax(loaded_model.predict({\n",
    "                                            'sequence':x_sequence, \n",
    "                                            'image':x_image,\n",
    "                                            'feature':x_feature}), axis=-1)])\n",
    "y_label = y_label.astype(np.int32) \n",
    "y_predict = y_predict.astype(np.int32) \n",
    "cm = confusion_matrix(y_true=y_label, y_pred=y_predict, \n",
    "                        # labels=[], \n",
    "                        # labels用于交换顺序\n",
    "                        normalize='true')\n",
    "\n",
    "classes = ['RRab', 'RRc','RRd', 'Blazhko','Ecl', 'EA' , 'Rot', 'LPV','δ-Scuti','ACEP', 'Cep-II']\n",
    "from util import cm_plot\n",
    "plotting = cm_plot(cm, classes_types=classes, classifier_model='mix Classifier', nClasses=11,\n",
    "                    cmap=plt.cm.Blues)\n",
    "\n"
   ]
  }
 ],
 "metadata": {
  "kernelspec": {
   "display_name": "Python 3.9.7 ('DL')",
   "language": "python",
   "name": "python3"
  },
  "language_info": {
   "codemirror_mode": {
    "name": "ipython",
    "version": 3
   },
   "file_extension": ".py",
   "mimetype": "text/x-python",
   "name": "python",
   "nbconvert_exporter": "python",
   "pygments_lexer": "ipython3",
   "version": "3.9.7"
  },
  "orig_nbformat": 4,
  "vscode": {
   "interpreter": {
    "hash": "686e52782356fa5192d8da796457d9836a4bb6aebab3dc056991bb89ef60f4a8"
   }
  }
 },
 "nbformat": 4,
 "nbformat_minor": 2
}
