{
 "cells": [
  {
   "cell_type": "code",
   "execution_count": 37,
   "metadata": {},
   "outputs": [
    {
     "name": "stdout",
     "output_type": "stream",
     "text": [
      "                      0         1         2         3         4         5  \\\n",
      "File_Name                                                                   \n",
      "3031044037537 -1.080854  0.221355 -0.331843 -0.544036 -0.384132 -0.315230   \n",
      "3039079004343 -0.532988  0.234365  0.165143 -0.910787 -0.098136  0.098578   \n",
      "3037016020115 -0.615531 -0.737859 -0.107363 -0.941597 -0.344277 -0.000066   \n",
      "3055083043142 -1.082136  0.237824 -0.099273 -0.788737 -0.238732 -0.122682   \n",
      "3051109023607 -0.767881 -0.304406 -0.182215 -0.907184 -0.409837 -0.127425   \n",
      "...                 ...       ...       ...       ...       ...       ...   \n",
      "3059071030029  1.286589 -1.218480  0.416358  0.169305  0.319621  0.593409   \n",
      "3059078035458  0.858462 -0.826319 -0.214633 -0.101639 -0.277027 -0.087900   \n",
      "3059085028808  0.034642 -1.539753 -0.718391  0.150354 -0.770640 -0.498751   \n",
      "3065022035837 -0.146211 -0.453059 -0.342164 -0.494753 -0.465345 -0.252533   \n",
      "3065028059333  0.794945 -1.169252 -0.594349 -0.188066 -0.651972 -0.411389   \n",
      "\n",
      "               True_class_labels  \n",
      "File_Name                         \n",
      "3031044037537                  3  \n",
      "3039079004343                  3  \n",
      "3037016020115                  3  \n",
      "3055083043142                  3  \n",
      "3051109023607                  3  \n",
      "...                          ...  \n",
      "3059071030029                 12  \n",
      "3059078035458                 12  \n",
      "3059085028808                 12  \n",
      "3065022035837                 12  \n",
      "3065028059333                 12  \n",
      "\n",
      "[37437 rows x 7 columns]\n",
      "[-0.5329880117264212, 0.23436536874192251, 0.165142962037839, -0.9107870870472565, -0.09813633720006584, 0.09857768850930648]\n"
     ]
    }
   ],
   "source": [
    "import pandas as pd\n",
    "import glob\n",
    "import numpy as np\n",
    "\n",
    "\n",
    "def get_extra_features():\n",
    "    namelist = glob.glob('data/features/*/*')\n",
    "    frames = []\n",
    "    for name in namelist:\n",
    "        df = pd.read_csv(name, index_col='File_Name')\n",
    "        frames.append(df)\n",
    "    result = pd.concat(frames)\n",
    "    for column in ['0', '1', '2', '3', '4', '5']:\n",
    "        mean = np.mean(result[column])\n",
    "        std = np.std(result[column])\n",
    "        result[column] = (result[column]-mean)/std\n",
    "    print(result)\n",
    "    return result \n",
    "    \n",
    "id = '3039079004343'\n",
    "result = get_extra_features()\n",
    "features = result.loc[int(id), ['0', '1', '2', '3', '4', '5']]\n",
    "print(list(features))"
   ]
  }
 ],
 "metadata": {
  "kernelspec": {
   "display_name": "Python 3.9.7 ('DL')",
   "language": "python",
   "name": "python3"
  },
  "language_info": {
   "codemirror_mode": {
    "name": "ipython",
    "version": 3
   },
   "file_extension": ".py",
   "mimetype": "text/x-python",
   "name": "python",
   "nbconvert_exporter": "python",
   "pygments_lexer": "ipython3",
   "version": "3.9.7"
  },
  "orig_nbformat": 4,
  "vscode": {
   "interpreter": {
    "hash": "686e52782356fa5192d8da796457d9836a4bb6aebab3dc056991bb89ef60f4a8"
   }
  }
 },
 "nbformat": 4,
 "nbformat_minor": 2
}
