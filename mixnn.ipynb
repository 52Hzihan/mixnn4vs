{
 "cells": [
  {
   "cell_type": "code",
   "execution_count": null,
   "metadata": {},
   "outputs": [],
   "source": [
    "from util import load_original_data\n",
    "load_original_data(0.1, 0.1)"
   ]
  },
  {
   "cell_type": "code",
   "execution_count": null,
   "metadata": {},
   "outputs": [],
   "source": [
    "from util import create_dataset\n",
    "create_dataset('data/original_dataset_0.80_0.10_0.10',5000, down_sample=True)"
   ]
  },
  {
   "cell_type": "code",
   "execution_count": 1,
   "metadata": {},
   "outputs": [],
   "source": [
    "import tensorflow as tf\n",
    "from tensorflow import keras\n",
    "from tensorflow.keras import layers\n",
    "from tensorflow.keras import regularizers\n",
    "\n",
    "import pickle\n",
    "import numpy as np\n",
    "f1 = open('data/split_0.80_0.10_0.10_aug_to_2500_down_sample_True_instance0-9/train_data0', 'rb')\n",
    "X_sequence_train, X_feature_train, X_image_train, Y_train = pickle.load(f1)\n",
    "f1.close()\n",
    "f2 = open('data/split_0.80_0.10_0.10_aug_to_2500_down_sample_True_instance0-9/val_data', 'rb')\n",
    "X_sequence_val, X_feature_val, X_image_val, Y_val = pickle.load(f2)\n",
    "f2.close()\n",
    "f3 = open('data/split_0.80_0.10_0.10_aug_to_2500_down_sample_True_instance0-9/test_data', 'rb')\n",
    "X_sequence_test, X_feature_test, X_image_test, Y_test = pickle.load(f3)\n",
    "f3.close()\n",
    "\n",
    "from keras.preprocessing.sequence import pad_sequences\n",
    "X_sequence_train_paded = pad_sequences(X_sequence_train, dtype='float', padding='post', value = np.nan)\n",
    "X_sequence_val_paded = pad_sequences(X_sequence_val, dtype='float', padding='post', value = np.nan)\n",
    "X_sequence_test_paded = pad_sequences(X_sequence_test, dtype='float', padding='post', value = np.nan)\n",
    "# 先pad再预处理，因为pad可以把array的list转为ndarray\n",
    "\n",
    "from util import preprocess\n",
    "X_sequence_train_trimed = preprocess(X_sequence_train_paded)\n",
    "X_sequence_val_trimed = preprocess(X_sequence_val_paded)\n",
    "X_sequence_test_trimed = preprocess(X_sequence_test_paded)\n",
    "\n",
    "def build_channel(data):\n",
    "    X = []\n",
    "    for image in data:\n",
    "        X.append(image.reshape(128, 128, 1))\n",
    "    return X\n",
    "X_image_train = np.array(build_channel(X_image_train))\n",
    "X_image_val = np.array(build_channel(X_image_val))\n",
    "X_image_test = np.array(build_channel(X_image_test))\n",
    "X_feature_train = np.array(X_feature_train)\n",
    "X_feature_val = np.array(X_feature_val)\n",
    "X_feature_test = np.array(X_feature_test)\n",
    "Y_train = np.array(Y_train)-1 # 文件夹名从1开始但是标签从0开始\n",
    "Y_val = np.array(Y_val)-1\n",
    "Y_test = np.array(Y_test)-1"
   ]
  },
  {
   "cell_type": "code",
   "execution_count": 2,
   "metadata": {},
   "outputs": [],
   "source": [
    "Y_train_one_hot = keras.utils.to_categorical(Y_train, num_classes=11)\n",
    "Y_val_one_hot = keras.utils.to_categorical(Y_val, num_classes=11)\n",
    "Y_test_one_hot = keras.utils.to_categorical(Y_test, num_classes=11)\n",
    "\n"
   ]
  },
  {
   "cell_type": "code",
   "execution_count": 34,
   "metadata": {},
   "outputs": [
    {
     "name": "stdout",
     "output_type": "stream",
     "text": [
      "[0.311632  0.4890012]\n"
     ]
    }
   ],
   "source": [
    "print(X_feature_test[0])"
   ]
  },
  {
   "cell_type": "code",
   "execution_count": 169,
   "metadata": {},
   "outputs": [],
   "source": [
    "\n",
    "\n",
    "def multi_input_model(sequence_shape, image_shape, feature_shape, num_classes):\n",
    "\n",
    "    sequence_inputs = keras.Input(shape=sequence_shape, name='sequence')\n",
    "    masking_layer = layers.Masking(mask_value=0)\n",
    "    x1 = masking_layer(sequence_inputs)\n",
    "    x1 = layers.Bidirectional(layers.GRU(128, return_sequences=True))(x1)\n",
    "    x1 = layers.Bidirectional(layers.GRU(64))(x1)\n",
    "    x1 = layers.Dropout(0.5)(x1)\n",
    "    x1 = layers.Dense(128, activation=\"relu\")(x1)\n",
    "    x1 = layers.Dropout(0.5)(x1)\n",
    "    x1 = layers.Dense(32, activation=\"relu\")(x1)\n",
    "\n",
    "    image_inputs = keras.Input(shape=image_shape, name='image')\n",
    "    x2 = layers.Rescaling(scale=1.0 / 255)(image_inputs)\n",
    "    x2 = layers.Conv2D(filters=32, kernel_size=(16,16), strides=2, activation=\"relu\", padding='same')(x2)\n",
    "    x2 = layers.Dropout(0.2)(x2)\n",
    "    x2 = layers.MaxPooling2D(pool_size=(3, 3) ,strides=2)(x2)\n",
    "    x2 = layers.Conv2D(filters=64, kernel_size=(8,8), padding='same', activation=\"relu\")(x2)\n",
    "    x2 = layers.Dropout(0.2)(x2)\n",
    "    x2 = layers.MaxPooling2D(pool_size=(3, 3), strides=2)(x2)\n",
    "    x2 = layers.Conv2D(filters=64, kernel_size=(4,4), padding='same', activation=\"relu\")(x2)\n",
    "    x2 = layers.Dropout(0.2)(x2)\n",
    "    x2 = layers.MaxPooling2D(pool_size=(3, 3), strides=2)(x2)\n",
    "    x2 = layers.Conv2D(filters=128, kernel_size=(3,3), padding='same', activation=\"relu\")(x2)\n",
    "    x2 = layers.Dropout(0.2)(x2)\n",
    "    x2 = layers.MaxPooling2D(pool_size=(3, 3), strides=2)(x2)\n",
    "    x2 = layers.GlobalAveragePooling2D()(x2)\n",
    "    x2 = layers.Dropout(0.2)(x2)\n",
    "    x2 = layers.Dense(256, activation=\"relu\", kernel_regularizer='l1')(x2)\n",
    "    x2 = layers.Dropout(0.2)(x2)\n",
    "    x2 = layers.Dense(32, activation=\"relu\", kernel_regularizer='l1')(x2)\n",
    "\n",
    "    feature_inputs = keras.Input(shape=feature_shape, name='feature')\n",
    "    x3 = layers.Dense(32, activation=\"relu\")(feature_inputs)\n",
    "    x3 = layers.Dense(32, activation=\"relu\")(x3)\n",
    "\n",
    "    x = layers.concatenate([x1, x2, x3])\n",
    "    outputs = layers.Dense(num_classes, activation=\"softmax\")(x)\n",
    "    model = keras.Model(inputs=[sequence_inputs, image_inputs, feature_inputs], outputs=outputs)\n",
    "    return model"
   ]
  },
  {
   "cell_type": "code",
   "execution_count": 15,
   "metadata": {},
   "outputs": [],
   "source": [
    "def rnn_with_feature(sequence_shape, feature_shape, num_classes):\n",
    "    sequence_inputs = keras.Input(shape=sequence_shape, name='sequence')\n",
    "    masking_layer = layers.Masking(mask_value=0)\n",
    "    x1 = masking_layer(sequence_inputs)\n",
    "    x1 = layers.Bidirectional(layers.GRU(128, return_sequences=True))(x1)\n",
    "    x1 = layers.Bidirectional(layers.GRU(64))(x1)\n",
    "    x1 = layers.Dropout(0.4)(x1)\n",
    "    x1 = layers.Dense(128, activation=\"relu\")(x1)\n",
    "    x1 = layers.Dropout(0.4)(x1)\n",
    "    x1 = layers.Dense(32, activation=\"relu\")(x1)\n",
    "\n",
    "    feature_inputs = keras.Input(shape=feature_shape, name='feature')\n",
    "    x3 = feature_inputs\n",
    "    x3 = layers.Dense(64, activation=\"relu\")(x3)\n",
    "    x3 = layers.Dense(32, activation=\"relu\")(x3)\n",
    "\n",
    "    x = layers.concatenate([x1, x3])\n",
    "\n",
    "    outputs = layers.Dense(num_classes, activation=\"softmax\")(x)\n",
    "    model = keras.Model(inputs=[sequence_inputs, feature_inputs], outputs=outputs)\n",
    "    return model"
   ]
  },
  {
   "cell_type": "code",
   "execution_count": 153,
   "metadata": {},
   "outputs": [],
   "source": [
    "def cnn(image_shape,  num_classes):\n",
    "    image_inputs = keras.Input(shape=image_shape, name='image')\n",
    "    x2 = layers.Rescaling(scale=1.0 / 255)(image_inputs)\n",
    "    x2 = layers.Conv2D(filters=32, kernel_size=(16,16), strides=2, activation=\"relu\", padding='same')(x2)\n",
    "    x2 = layers.Dropout(0.2)(x2)\n",
    "    x2 = layers.MaxPooling2D(pool_size=(3, 3) ,strides=2)(x2)\n",
    "    x2 = layers.Conv2D(filters=64, kernel_size=(8,8), padding='same', activation=\"relu\")(x2)\n",
    "    x2 = layers.Dropout(0.2)(x2)\n",
    "    x2 = layers.MaxPooling2D(pool_size=(3, 3), strides=2)(x2)\n",
    "    x2 = layers.Conv2D(filters=64, kernel_size=(4,4), padding='same', activation=\"relu\")(x2)\n",
    "    x2 = layers.Dropout(0.2)(x2)\n",
    "    x2 = layers.MaxPooling2D(pool_size=(3, 3), strides=2)(x2)\n",
    "    x2 = layers.Conv2D(filters=128, kernel_size=(3,3), padding='same', activation=\"relu\")(x2)\n",
    "    x2 = layers.Dropout(0.2)(x2)\n",
    "    x2 = layers.MaxPooling2D(pool_size=(3, 3), strides=2)(x2)\n",
    "    x2 = layers.GlobalAveragePooling2D()(x2)\n",
    "    x2 = layers.Dropout(0.2)(x2)\n",
    "    x2 = layers.Dense(256, activation=\"relu\", kernel_regularizer='l1')(x2)\n",
    "    x2 = layers.Dropout(0.2)(x2)\n",
    "    x2 = layers.Dense(128, activation=\"relu\", kernel_regularizer='l1')(x2)\n",
    "    x2 = layers.Dropout(0.2)(x2)\n",
    "    outputs = layers.Dense(num_classes, activation=\"softmax\", kernel_regularizer='l1')(x2)\n",
    "    model = keras.Model(inputs=image_inputs, outputs=outputs)\n",
    "    return model"
   ]
  },
  {
   "cell_type": "code",
   "execution_count": 29,
   "metadata": {},
   "outputs": [],
   "source": [
    "def cnn_with_feature(image_shape, feature_shape, num_classes):\n",
    "    \n",
    "    image_inputs = keras.Input(shape=image_shape, name='image')\n",
    "    x2 = layers.Rescaling(scale=1.0 / 255)(image_inputs)\n",
    "    x2 = layers.Conv2D(filters=32, kernel_size=(16,16), strides=2, activation=\"relu\", padding='same')(x2)\n",
    "    x2 = layers.Dropout(0.2)(x2)\n",
    "    x2 = layers.MaxPooling2D(pool_size=(3, 3) ,strides=2)(x2)\n",
    "    x2 = layers.Conv2D(filters=64, kernel_size=(8,8), padding='same', activation=\"relu\")(x2)\n",
    "    x2 = layers.Dropout(0.2)(x2)\n",
    "    x2 = layers.MaxPooling2D(pool_size=(3, 3), strides=2)(x2)\n",
    "    x2 = layers.Conv2D(filters=64, kernel_size=(4,4), padding='same', activation=\"relu\")(x2)\n",
    "    x2 = layers.Dropout(0.2)(x2)\n",
    "    x2 = layers.MaxPooling2D(pool_size=(3, 3), strides=2)(x2)\n",
    "    x2 = layers.Conv2D(filters=128, kernel_size=(3,3), padding='same', activation=\"relu\")(x2)\n",
    "    x2 = layers.Dropout(0.2)(x2)\n",
    "    x2 = layers.MaxPooling2D(pool_size=(3, 3), strides=2)(x2)\n",
    "    x2 = layers.GlobalAveragePooling2D()(x2)\n",
    "    x2 = layers.Dropout(0.2)(x2)\n",
    "    x2 = layers.Dense(256, activation=\"relu\", kernel_regularizer='l1')(x2)\n",
    "    x2 = layers.Dropout(0.2)(x2)\n",
    "    x2 = layers.Dense(32, activation=\"relu\", kernel_regularizer='l1')(x2)\n",
    "    \n",
    "    feature_inputs = keras.Input(shape=feature_shape, name='feature')\n",
    "    x3 = layers.Dense(32, activation=\"relu\", kernel_regularizer='l1')(feature_inputs)\n",
    "    x3 = layers.Dense(32, activation=\"relu\", kernel_regularizer='l1')(x3)\n",
    "\n",
    "    x = layers.concatenate([x2, x3])\n",
    "    outputs = layers.Dense(num_classes, activation=\"softmax\", kernel_regularizer='l1')(x)\n",
    "    model = keras.Model(inputs=[image_inputs, feature_inputs], outputs=outputs)\n",
    "    return model"
   ]
  },
  {
   "cell_type": "code",
   "execution_count": 16,
   "metadata": {},
   "outputs": [
    {
     "name": "stdout",
     "output_type": "stream",
     "text": [
      "Model: \"model_4\"\n",
      "__________________________________________________________________________________________________\n",
      "Layer (type)                    Output Shape         Param #     Connected to                     \n",
      "==================================================================================================\n",
      "sequence (InputLayer)           [(None, None, 3)]    0                                            \n",
      "__________________________________________________________________________________________________\n",
      "masking_4 (Masking)             (None, None, 3)      0           sequence[0][0]                   \n",
      "__________________________________________________________________________________________________\n",
      "bidirectional_8 (Bidirectional) (None, None, 256)    102144      masking_4[0][0]                  \n",
      "__________________________________________________________________________________________________\n",
      "bidirectional_9 (Bidirectional) (None, 128)          123648      bidirectional_8[0][0]            \n",
      "__________________________________________________________________________________________________\n",
      "dropout_8 (Dropout)             (None, 128)          0           bidirectional_9[0][0]            \n",
      "__________________________________________________________________________________________________\n",
      "dense_20 (Dense)                (None, 128)          16512       dropout_8[0][0]                  \n",
      "__________________________________________________________________________________________________\n",
      "feature (InputLayer)            [(None, 2)]          0                                            \n",
      "__________________________________________________________________________________________________\n",
      "dropout_9 (Dropout)             (None, 128)          0           dense_20[0][0]                   \n",
      "__________________________________________________________________________________________________\n",
      "dense_22 (Dense)                (None, 64)           192         feature[0][0]                    \n",
      "__________________________________________________________________________________________________\n",
      "dense_21 (Dense)                (None, 32)           4128        dropout_9[0][0]                  \n",
      "__________________________________________________________________________________________________\n",
      "dense_23 (Dense)                (None, 32)           2080        dense_22[0][0]                   \n",
      "__________________________________________________________________________________________________\n",
      "concatenate_4 (Concatenate)     (None, 64)           0           dense_21[0][0]                   \n",
      "                                                                 dense_23[0][0]                   \n",
      "__________________________________________________________________________________________________\n",
      "dense_24 (Dense)                (None, 11)           715         concatenate_4[0][0]              \n",
      "==================================================================================================\n",
      "Total params: 249,419\n",
      "Trainable params: 249,419\n",
      "Non-trainable params: 0\n",
      "__________________________________________________________________________________________________\n"
     ]
    },
    {
     "name": "stderr",
     "output_type": "stream",
     "text": [
      "2022-10-19 18:51:01.635132: I tensorflow/core/profiler/lib/profiler_session.cc:131] Profiler session initializing.\n",
      "2022-10-19 18:51:01.635168: I tensorflow/core/profiler/lib/profiler_session.cc:146] Profiler session started.\n",
      "2022-10-19 18:51:02.366142: I tensorflow/core/profiler/lib/profiler_session.cc:164] Profiler session tear down.\n",
      "2022-10-19 18:51:02.366347: I tensorflow/core/profiler/internal/gpu/cupti_tracer.cc:1748] CUPTI activity buffer flushed\n"
     ]
    }
   ],
   "source": [
    "# model = multi_input_model(sequence_shape=(None, 3), image_shape=(128, 128, 1), \n",
    "#                         feature_shape=(2,), num_classes=11)\n",
    "model = rnn_with_feature(sequence_shape=(None, 3),feature_shape=(2,), num_classes=11)\n",
    "# model = cnn_with_feature(image_shape=(128, 128, 1), feature_shape=(2,), num_classes=11)\n",
    "# model = cnn(image_shape=(128, 128, 1), num_classes=11)\n",
    "model.summary()\n",
    "model.compile(\n",
    "    optimizer=keras.optimizers.Adam(1e-3),\n",
    "    # loss=\"sparse_categorical_crossentropy\",\n",
    "    loss=keras.losses.CategoricalCrossentropy(label_smoothing=0.1),\n",
    "    # metrics=[keras.metrics.SparseCategoricalAccuracy(name=\"acc\")],\n",
    "    metrics=[keras.metrics.CategoricalAccuracy(name=\"acc\")],\n",
    "    run_eagerly=False,\n",
    ")\n",
    "callbacks = [\n",
    "  keras.callbacks.ModelCheckpoint(\n",
    "    filepath='models/rnn_with_feature_test/model_{epoch}',\n",
    "    save_freq='epoch'),\n",
    "  keras.callbacks.TensorBoard(log_dir='models/rnn_with_feature_test/logs')\n",
    "]"
   ]
  },
  {
   "cell_type": "code",
   "execution_count": 17,
   "metadata": {},
   "outputs": [
    {
     "name": "stdout",
     "output_type": "stream",
     "text": [
      "Epoch 1/50\n",
      "  1/860 [..............................] - ETA: 2:31:15 - loss: 2.4671 - acc: 0.0312"
     ]
    },
    {
     "name": "stderr",
     "output_type": "stream",
     "text": [
      "2022-10-19 18:51:28.554992: I tensorflow/core/profiler/lib/profiler_session.cc:131] Profiler session initializing.\n",
      "2022-10-19 18:51:28.555032: I tensorflow/core/profiler/lib/profiler_session.cc:146] Profiler session started.\n"
     ]
    },
    {
     "name": "stdout",
     "output_type": "stream",
     "text": [
      "  2/860 [..............................] - ETA: 10:09 - loss: 6.1786 - acc: 0.0469  "
     ]
    },
    {
     "name": "stderr",
     "output_type": "stream",
     "text": [
      "2022-10-19 18:51:29.371411: I tensorflow/core/profiler/lib/profiler_session.cc:66] Profiler session collecting data.\n",
      "2022-10-19 18:51:29.374988: I tensorflow/core/profiler/internal/gpu/cupti_tracer.cc:1748] CUPTI activity buffer flushed\n",
      "2022-10-19 18:51:29.427715: I tensorflow/core/profiler/internal/gpu/cupti_collector.cc:673]  GpuTracer has collected 5921 callback api events and 5918 activity events. \n",
      "2022-10-19 18:51:29.529232: I tensorflow/core/profiler/lib/profiler_session.cc:164] Profiler session tear down.\n",
      "2022-10-19 18:51:29.642772: I tensorflow/core/profiler/rpc/client/save_profile.cc:136] Creating directory: models/rnn_with_feature_test/logs/train/plugins/profile/2022_10_19_18_51_29\n",
      "\n",
      "2022-10-19 18:51:29.716676: I tensorflow/core/profiler/rpc/client/save_profile.cc:142] Dumped gzipped tool data for trace.json.gz to models/rnn_with_feature_test/logs/train/plugins/profile/2022_10_19_18_51_29/dell-Precision-7920-Tower.trace.json.gz\n",
      "2022-10-19 18:51:29.790610: I tensorflow/core/profiler/rpc/client/save_profile.cc:136] Creating directory: models/rnn_with_feature_test/logs/train/plugins/profile/2022_10_19_18_51_29\n",
      "\n",
      "2022-10-19 18:51:29.794998: I tensorflow/core/profiler/rpc/client/save_profile.cc:142] Dumped gzipped tool data for memory_profile.json.gz to models/rnn_with_feature_test/logs/train/plugins/profile/2022_10_19_18_51_29/dell-Precision-7920-Tower.memory_profile.json.gz\n",
      "2022-10-19 18:51:29.796943: I tensorflow/core/profiler/rpc/client/capture_profile.cc:251] Creating directory: models/rnn_with_feature_test/logs/train/plugins/profile/2022_10_19_18_51_29\n",
      "Dumped tool data for xplane.pb to models/rnn_with_feature_test/logs/train/plugins/profile/2022_10_19_18_51_29/dell-Precision-7920-Tower.xplane.pb\n",
      "Dumped tool data for overview_page.pb to models/rnn_with_feature_test/logs/train/plugins/profile/2022_10_19_18_51_29/dell-Precision-7920-Tower.overview_page.pb\n",
      "Dumped tool data for input_pipeline.pb to models/rnn_with_feature_test/logs/train/plugins/profile/2022_10_19_18_51_29/dell-Precision-7920-Tower.input_pipeline.pb\n",
      "Dumped tool data for tensorflow_stats.pb to models/rnn_with_feature_test/logs/train/plugins/profile/2022_10_19_18_51_29/dell-Precision-7920-Tower.tensorflow_stats.pb\n",
      "Dumped tool data for kernel_stats.pb to models/rnn_with_feature_test/logs/train/plugins/profile/2022_10_19_18_51_29/dell-Precision-7920-Tower.kernel_stats.pb\n",
      "\n"
     ]
    },
    {
     "name": "stdout",
     "output_type": "stream",
     "text": [
      "215/860 [======>.......................] - ETA: 55s - loss: 2.3529 - acc: 0.2698"
     ]
    },
    {
     "name": "stderr",
     "output_type": "stream",
     "text": [
      "WARNING:absl:Found untraced functions such as gru_cell_37_layer_call_fn, gru_cell_37_layer_call_and_return_conditional_losses, gru_cell_38_layer_call_fn, gru_cell_38_layer_call_and_return_conditional_losses, gru_cell_40_layer_call_fn while saving (showing 5 of 20). These functions will not be directly callable after loading.\n"
     ]
    },
    {
     "name": "stdout",
     "output_type": "stream",
     "text": [
      "INFO:tensorflow:Assets written to: models/rnn_with_feature_test/model_1_215/assets\n"
     ]
    },
    {
     "name": "stderr",
     "output_type": "stream",
     "text": [
      "INFO:tensorflow:Assets written to: models/rnn_with_feature_test/model_1_215/assets\n"
     ]
    },
    {
     "name": "stdout",
     "output_type": "stream",
     "text": [
      "430/860 [==============>...............] - ETA: 51s - loss: 2.0570 - acc: 0.3660"
     ]
    },
    {
     "name": "stderr",
     "output_type": "stream",
     "text": [
      "WARNING:absl:Found untraced functions such as gru_cell_37_layer_call_fn, gru_cell_37_layer_call_and_return_conditional_losses, gru_cell_38_layer_call_fn, gru_cell_38_layer_call_and_return_conditional_losses, gru_cell_40_layer_call_fn while saving (showing 5 of 20). These functions will not be directly callable after loading.\n"
     ]
    },
    {
     "name": "stdout",
     "output_type": "stream",
     "text": [
      "INFO:tensorflow:Assets written to: models/rnn_with_feature_test/model_1_430/assets\n"
     ]
    },
    {
     "name": "stderr",
     "output_type": "stream",
     "text": [
      "INFO:tensorflow:Assets written to: models/rnn_with_feature_test/model_1_430/assets\n"
     ]
    },
    {
     "name": "stdout",
     "output_type": "stream",
     "text": [
      "645/860 [=====================>........] - ETA: 28s - loss: 1.8494 - acc: 0.4446"
     ]
    },
    {
     "name": "stderr",
     "output_type": "stream",
     "text": [
      "WARNING:absl:Found untraced functions such as gru_cell_37_layer_call_fn, gru_cell_37_layer_call_and_return_conditional_losses, gru_cell_38_layer_call_fn, gru_cell_38_layer_call_and_return_conditional_losses, gru_cell_40_layer_call_fn while saving (showing 5 of 20). These functions will not be directly callable after loading.\n"
     ]
    },
    {
     "name": "stdout",
     "output_type": "stream",
     "text": [
      "INFO:tensorflow:Assets written to: models/rnn_with_feature_test/model_1_645/assets\n"
     ]
    },
    {
     "name": "stderr",
     "output_type": "stream",
     "text": [
      "INFO:tensorflow:Assets written to: models/rnn_with_feature_test/model_1_645/assets\n"
     ]
    },
    {
     "name": "stdout",
     "output_type": "stream",
     "text": [
      "860/860 [==============================] - ETA: 0s - loss: 1.7173 - acc: 0.5036"
     ]
    },
    {
     "name": "stderr",
     "output_type": "stream",
     "text": [
      "WARNING:absl:Found untraced functions such as gru_cell_37_layer_call_fn, gru_cell_37_layer_call_and_return_conditional_losses, gru_cell_38_layer_call_fn, gru_cell_38_layer_call_and_return_conditional_losses, gru_cell_40_layer_call_fn while saving (showing 5 of 20). These functions will not be directly callable after loading.\n"
     ]
    },
    {
     "name": "stdout",
     "output_type": "stream",
     "text": [
      "INFO:tensorflow:Assets written to: models/rnn_with_feature_test/model_1_860/assets\n"
     ]
    },
    {
     "name": "stderr",
     "output_type": "stream",
     "text": [
      "INFO:tensorflow:Assets written to: models/rnn_with_feature_test/model_1_860/assets\n"
     ]
    },
    {
     "name": "stdout",
     "output_type": "stream",
     "text": [
      "860/860 [==============================] - 169s 185ms/step - loss: 1.7173 - acc: 0.5036 - val_loss: 1.2924 - val_acc: 0.7016\n",
      "Epoch 2/50\n",
      "215/860 [======>.......................] - ETA: 51s - loss: 1.2179 - acc: 0.7375"
     ]
    },
    {
     "name": "stderr",
     "output_type": "stream",
     "text": [
      "WARNING:absl:Found untraced functions such as gru_cell_37_layer_call_fn, gru_cell_37_layer_call_and_return_conditional_losses, gru_cell_38_layer_call_fn, gru_cell_38_layer_call_and_return_conditional_losses, gru_cell_40_layer_call_fn while saving (showing 5 of 20). These functions will not be directly callable after loading.\n"
     ]
    },
    {
     "name": "stdout",
     "output_type": "stream",
     "text": [
      "INFO:tensorflow:Assets written to: models/rnn_with_feature_test/model_2_215/assets\n"
     ]
    },
    {
     "name": "stderr",
     "output_type": "stream",
     "text": [
      "INFO:tensorflow:Assets written to: models/rnn_with_feature_test/model_2_215/assets\n"
     ]
    },
    {
     "name": "stdout",
     "output_type": "stream",
     "text": [
      "430/860 [==============>...............] - ETA: 49s - loss: 1.1850 - acc: 0.7507"
     ]
    },
    {
     "name": "stderr",
     "output_type": "stream",
     "text": [
      "WARNING:absl:Found untraced functions such as gru_cell_37_layer_call_fn, gru_cell_37_layer_call_and_return_conditional_losses, gru_cell_38_layer_call_fn, gru_cell_38_layer_call_and_return_conditional_losses, gru_cell_40_layer_call_fn while saving (showing 5 of 20). These functions will not be directly callable after loading.\n"
     ]
    },
    {
     "name": "stdout",
     "output_type": "stream",
     "text": [
      "INFO:tensorflow:Assets written to: models/rnn_with_feature_test/model_2_430/assets\n"
     ]
    },
    {
     "name": "stderr",
     "output_type": "stream",
     "text": [
      "INFO:tensorflow:Assets written to: models/rnn_with_feature_test/model_2_430/assets\n"
     ]
    },
    {
     "name": "stdout",
     "output_type": "stream",
     "text": [
      "645/860 [=====================>........] - ETA: 27s - loss: 1.1567 - acc: 0.7661"
     ]
    },
    {
     "name": "stderr",
     "output_type": "stream",
     "text": [
      "WARNING:absl:Found untraced functions such as gru_cell_37_layer_call_fn, gru_cell_37_layer_call_and_return_conditional_losses, gru_cell_38_layer_call_fn, gru_cell_38_layer_call_and_return_conditional_losses, gru_cell_40_layer_call_fn while saving (showing 5 of 20). These functions will not be directly callable after loading.\n"
     ]
    },
    {
     "name": "stdout",
     "output_type": "stream",
     "text": [
      "INFO:tensorflow:Assets written to: models/rnn_with_feature_test/model_2_645/assets\n"
     ]
    },
    {
     "name": "stderr",
     "output_type": "stream",
     "text": [
      "INFO:tensorflow:Assets written to: models/rnn_with_feature_test/model_2_645/assets\n"
     ]
    },
    {
     "name": "stdout",
     "output_type": "stream",
     "text": [
      "860/860 [==============================] - ETA: 0s - loss: 1.1314 - acc: 0.7777"
     ]
    },
    {
     "name": "stderr",
     "output_type": "stream",
     "text": [
      "WARNING:absl:Found untraced functions such as gru_cell_37_layer_call_fn, gru_cell_37_layer_call_and_return_conditional_losses, gru_cell_38_layer_call_fn, gru_cell_38_layer_call_and_return_conditional_losses, gru_cell_40_layer_call_fn while saving (showing 5 of 20). These functions will not be directly callable after loading.\n"
     ]
    },
    {
     "name": "stdout",
     "output_type": "stream",
     "text": [
      "INFO:tensorflow:Assets written to: models/rnn_with_feature_test/model_2_860/assets\n"
     ]
    },
    {
     "name": "stderr",
     "output_type": "stream",
     "text": [
      "INFO:tensorflow:Assets written to: models/rnn_with_feature_test/model_2_860/assets\n"
     ]
    },
    {
     "name": "stdout",
     "output_type": "stream",
     "text": [
      "860/860 [==============================] - 152s 177ms/step - loss: 1.1314 - acc: 0.7777 - val_loss: 1.0494 - val_acc: 0.8268\n",
      "Epoch 3/50\n",
      "215/860 [======>.......................] - ETA: 50s - loss: 1.0315 - acc: 0.8218"
     ]
    },
    {
     "name": "stderr",
     "output_type": "stream",
     "text": [
      "WARNING:absl:Found untraced functions such as gru_cell_37_layer_call_fn, gru_cell_37_layer_call_and_return_conditional_losses, gru_cell_38_layer_call_fn, gru_cell_38_layer_call_and_return_conditional_losses, gru_cell_40_layer_call_fn while saving (showing 5 of 20). These functions will not be directly callable after loading.\n"
     ]
    },
    {
     "name": "stdout",
     "output_type": "stream",
     "text": [
      "INFO:tensorflow:Assets written to: models/rnn_with_feature_test/model_3_215/assets\n"
     ]
    },
    {
     "name": "stderr",
     "output_type": "stream",
     "text": [
      "INFO:tensorflow:Assets written to: models/rnn_with_feature_test/model_3_215/assets\n"
     ]
    },
    {
     "name": "stdout",
     "output_type": "stream",
     "text": [
      "430/860 [==============>...............] - ETA: 49s - loss: 1.0255 - acc: 0.8250"
     ]
    },
    {
     "name": "stderr",
     "output_type": "stream",
     "text": [
      "WARNING:absl:Found untraced functions such as gru_cell_37_layer_call_fn, gru_cell_37_layer_call_and_return_conditional_losses, gru_cell_38_layer_call_fn, gru_cell_38_layer_call_and_return_conditional_losses, gru_cell_40_layer_call_fn while saving (showing 5 of 20). These functions will not be directly callable after loading.\n"
     ]
    },
    {
     "name": "stdout",
     "output_type": "stream",
     "text": [
      "INFO:tensorflow:Assets written to: models/rnn_with_feature_test/model_3_430/assets\n"
     ]
    },
    {
     "name": "stderr",
     "output_type": "stream",
     "text": [
      "INFO:tensorflow:Assets written to: models/rnn_with_feature_test/model_3_430/assets\n"
     ]
    },
    {
     "name": "stdout",
     "output_type": "stream",
     "text": [
      "645/860 [=====================>........] - ETA: 27s - loss: 1.0061 - acc: 0.8332"
     ]
    },
    {
     "name": "stderr",
     "output_type": "stream",
     "text": [
      "WARNING:absl:Found untraced functions such as gru_cell_37_layer_call_fn, gru_cell_37_layer_call_and_return_conditional_losses, gru_cell_38_layer_call_fn, gru_cell_38_layer_call_and_return_conditional_losses, gru_cell_40_layer_call_fn while saving (showing 5 of 20). These functions will not be directly callable after loading.\n"
     ]
    },
    {
     "name": "stdout",
     "output_type": "stream",
     "text": [
      "INFO:tensorflow:Assets written to: models/rnn_with_feature_test/model_3_645/assets\n"
     ]
    },
    {
     "name": "stderr",
     "output_type": "stream",
     "text": [
      "INFO:tensorflow:Assets written to: models/rnn_with_feature_test/model_3_645/assets\n"
     ]
    },
    {
     "name": "stdout",
     "output_type": "stream",
     "text": [
      "860/860 [==============================] - ETA: 0s - loss: 0.9968 - acc: 0.8374"
     ]
    },
    {
     "name": "stderr",
     "output_type": "stream",
     "text": [
      "WARNING:absl:Found untraced functions such as gru_cell_37_layer_call_fn, gru_cell_37_layer_call_and_return_conditional_losses, gru_cell_38_layer_call_fn, gru_cell_38_layer_call_and_return_conditional_losses, gru_cell_40_layer_call_fn while saving (showing 5 of 20). These functions will not be directly callable after loading.\n"
     ]
    },
    {
     "name": "stdout",
     "output_type": "stream",
     "text": [
      "INFO:tensorflow:Assets written to: models/rnn_with_feature_test/model_3_860/assets\n"
     ]
    },
    {
     "name": "stderr",
     "output_type": "stream",
     "text": [
      "INFO:tensorflow:Assets written to: models/rnn_with_feature_test/model_3_860/assets\n"
     ]
    },
    {
     "name": "stdout",
     "output_type": "stream",
     "text": [
      "860/860 [==============================] - 155s 180ms/step - loss: 0.9968 - acc: 0.8374 - val_loss: 1.0772 - val_acc: 0.8360\n",
      "Epoch 4/50\n",
      "215/860 [======>.......................] - ETA: 51s - loss: 0.9280 - acc: 0.8600"
     ]
    },
    {
     "name": "stderr",
     "output_type": "stream",
     "text": [
      "WARNING:absl:Found untraced functions such as gru_cell_37_layer_call_fn, gru_cell_37_layer_call_and_return_conditional_losses, gru_cell_38_layer_call_fn, gru_cell_38_layer_call_and_return_conditional_losses, gru_cell_40_layer_call_fn while saving (showing 5 of 20). These functions will not be directly callable after loading.\n"
     ]
    },
    {
     "name": "stdout",
     "output_type": "stream",
     "text": [
      "INFO:tensorflow:Assets written to: models/rnn_with_feature_test/model_4_215/assets\n"
     ]
    },
    {
     "name": "stderr",
     "output_type": "stream",
     "text": [
      "INFO:tensorflow:Assets written to: models/rnn_with_feature_test/model_4_215/assets\n"
     ]
    },
    {
     "name": "stdout",
     "output_type": "stream",
     "text": [
      "430/860 [==============>...............] - ETA: 50s - loss: 0.9255 - acc: 0.8597"
     ]
    },
    {
     "name": "stderr",
     "output_type": "stream",
     "text": [
      "WARNING:absl:Found untraced functions such as gru_cell_37_layer_call_fn, gru_cell_37_layer_call_and_return_conditional_losses, gru_cell_38_layer_call_fn, gru_cell_38_layer_call_and_return_conditional_losses, gru_cell_40_layer_call_fn while saving (showing 5 of 20). These functions will not be directly callable after loading.\n"
     ]
    },
    {
     "name": "stdout",
     "output_type": "stream",
     "text": [
      "INFO:tensorflow:Assets written to: models/rnn_with_feature_test/model_4_430/assets\n"
     ]
    },
    {
     "name": "stderr",
     "output_type": "stream",
     "text": [
      "INFO:tensorflow:Assets written to: models/rnn_with_feature_test/model_4_430/assets\n"
     ]
    },
    {
     "name": "stdout",
     "output_type": "stream",
     "text": [
      "645/860 [=====================>........] - ETA: 27s - loss: 0.9244 - acc: 0.8605"
     ]
    },
    {
     "name": "stderr",
     "output_type": "stream",
     "text": [
      "WARNING:absl:Found untraced functions such as gru_cell_37_layer_call_fn, gru_cell_37_layer_call_and_return_conditional_losses, gru_cell_38_layer_call_fn, gru_cell_38_layer_call_and_return_conditional_losses, gru_cell_40_layer_call_fn while saving (showing 5 of 20). These functions will not be directly callable after loading.\n"
     ]
    },
    {
     "name": "stdout",
     "output_type": "stream",
     "text": [
      "INFO:tensorflow:Assets written to: models/rnn_with_feature_test/model_4_645/assets\n"
     ]
    },
    {
     "name": "stderr",
     "output_type": "stream",
     "text": [
      "INFO:tensorflow:Assets written to: models/rnn_with_feature_test/model_4_645/assets\n"
     ]
    },
    {
     "name": "stdout",
     "output_type": "stream",
     "text": [
      "860/860 [==============================] - ETA: 0s - loss: 0.9190 - acc: 0.8623"
     ]
    },
    {
     "name": "stderr",
     "output_type": "stream",
     "text": [
      "WARNING:absl:Found untraced functions such as gru_cell_37_layer_call_fn, gru_cell_37_layer_call_and_return_conditional_losses, gru_cell_38_layer_call_fn, gru_cell_38_layer_call_and_return_conditional_losses, gru_cell_40_layer_call_fn while saving (showing 5 of 20). These functions will not be directly callable after loading.\n"
     ]
    },
    {
     "name": "stdout",
     "output_type": "stream",
     "text": [
      "INFO:tensorflow:Assets written to: models/rnn_with_feature_test/model_4_860/assets\n"
     ]
    },
    {
     "name": "stderr",
     "output_type": "stream",
     "text": [
      "INFO:tensorflow:Assets written to: models/rnn_with_feature_test/model_4_860/assets\n"
     ]
    },
    {
     "name": "stdout",
     "output_type": "stream",
     "text": [
      "860/860 [==============================] - 153s 178ms/step - loss: 0.9190 - acc: 0.8623 - val_loss: 0.9753 - val_acc: 0.8285\n",
      "Epoch 5/50\n",
      "215/860 [======>.......................] - ETA: 50s - loss: 0.8861 - acc: 0.8775"
     ]
    },
    {
     "name": "stderr",
     "output_type": "stream",
     "text": [
      "WARNING:absl:Found untraced functions such as gru_cell_37_layer_call_fn, gru_cell_37_layer_call_and_return_conditional_losses, gru_cell_38_layer_call_fn, gru_cell_38_layer_call_and_return_conditional_losses, gru_cell_40_layer_call_fn while saving (showing 5 of 20). These functions will not be directly callable after loading.\n"
     ]
    },
    {
     "name": "stdout",
     "output_type": "stream",
     "text": [
      "INFO:tensorflow:Assets written to: models/rnn_with_feature_test/model_5_215/assets\n"
     ]
    },
    {
     "name": "stderr",
     "output_type": "stream",
     "text": [
      "INFO:tensorflow:Assets written to: models/rnn_with_feature_test/model_5_215/assets\n"
     ]
    },
    {
     "name": "stdout",
     "output_type": "stream",
     "text": [
      "430/860 [==============>...............] - ETA: 50s - loss: 0.8714 - acc: 0.8821"
     ]
    },
    {
     "name": "stderr",
     "output_type": "stream",
     "text": [
      "WARNING:absl:Found untraced functions such as gru_cell_37_layer_call_fn, gru_cell_37_layer_call_and_return_conditional_losses, gru_cell_38_layer_call_fn, gru_cell_38_layer_call_and_return_conditional_losses, gru_cell_40_layer_call_fn while saving (showing 5 of 20). These functions will not be directly callable after loading.\n"
     ]
    },
    {
     "name": "stdout",
     "output_type": "stream",
     "text": [
      "INFO:tensorflow:Assets written to: models/rnn_with_feature_test/model_5_430/assets\n"
     ]
    },
    {
     "name": "stderr",
     "output_type": "stream",
     "text": [
      "INFO:tensorflow:Assets written to: models/rnn_with_feature_test/model_5_430/assets\n"
     ]
    },
    {
     "name": "stdout",
     "output_type": "stream",
     "text": [
      "645/860 [=====================>........] - ETA: 28s - loss: 0.8698 - acc: 0.8821"
     ]
    },
    {
     "name": "stderr",
     "output_type": "stream",
     "text": [
      "WARNING:absl:Found untraced functions such as gru_cell_37_layer_call_fn, gru_cell_37_layer_call_and_return_conditional_losses, gru_cell_38_layer_call_fn, gru_cell_38_layer_call_and_return_conditional_losses, gru_cell_40_layer_call_fn while saving (showing 5 of 20). These functions will not be directly callable after loading.\n"
     ]
    },
    {
     "name": "stdout",
     "output_type": "stream",
     "text": [
      "INFO:tensorflow:Assets written to: models/rnn_with_feature_test/model_5_645/assets\n"
     ]
    },
    {
     "name": "stderr",
     "output_type": "stream",
     "text": [
      "INFO:tensorflow:Assets written to: models/rnn_with_feature_test/model_5_645/assets\n"
     ]
    },
    {
     "name": "stdout",
     "output_type": "stream",
     "text": [
      "860/860 [==============================] - ETA: 0s - loss: 0.8624 - acc: 0.8834"
     ]
    },
    {
     "name": "stderr",
     "output_type": "stream",
     "text": [
      "WARNING:absl:Found untraced functions such as gru_cell_37_layer_call_fn, gru_cell_37_layer_call_and_return_conditional_losses, gru_cell_38_layer_call_fn, gru_cell_38_layer_call_and_return_conditional_losses, gru_cell_40_layer_call_fn while saving (showing 5 of 20). These functions will not be directly callable after loading.\n"
     ]
    },
    {
     "name": "stdout",
     "output_type": "stream",
     "text": [
      "INFO:tensorflow:Assets written to: models/rnn_with_feature_test/model_5_860/assets\n"
     ]
    },
    {
     "name": "stderr",
     "output_type": "stream",
     "text": [
      "INFO:tensorflow:Assets written to: models/rnn_with_feature_test/model_5_860/assets\n"
     ]
    },
    {
     "name": "stdout",
     "output_type": "stream",
     "text": [
      "860/860 [==============================] - 155s 180ms/step - loss: 0.8624 - acc: 0.8834 - val_loss: 0.9590 - val_acc: 0.8324\n",
      "Epoch 6/50\n",
      "215/860 [======>.......................] - ETA: 51s - loss: 0.8272 - acc: 0.8938"
     ]
    },
    {
     "name": "stderr",
     "output_type": "stream",
     "text": [
      "WARNING:absl:Found untraced functions such as gru_cell_37_layer_call_fn, gru_cell_37_layer_call_and_return_conditional_losses, gru_cell_38_layer_call_fn, gru_cell_38_layer_call_and_return_conditional_losses, gru_cell_40_layer_call_fn while saving (showing 5 of 20). These functions will not be directly callable after loading.\n"
     ]
    },
    {
     "name": "stdout",
     "output_type": "stream",
     "text": [
      "INFO:tensorflow:Assets written to: models/rnn_with_feature_test/model_6_215/assets\n"
     ]
    },
    {
     "name": "stderr",
     "output_type": "stream",
     "text": [
      "INFO:tensorflow:Assets written to: models/rnn_with_feature_test/model_6_215/assets\n"
     ]
    },
    {
     "name": "stdout",
     "output_type": "stream",
     "text": [
      "430/860 [==============>...............] - ETA: 50s - loss: 0.8185 - acc: 0.8972"
     ]
    },
    {
     "name": "stderr",
     "output_type": "stream",
     "text": [
      "WARNING:absl:Found untraced functions such as gru_cell_37_layer_call_fn, gru_cell_37_layer_call_and_return_conditional_losses, gru_cell_38_layer_call_fn, gru_cell_38_layer_call_and_return_conditional_losses, gru_cell_40_layer_call_fn while saving (showing 5 of 20). These functions will not be directly callable after loading.\n"
     ]
    },
    {
     "name": "stdout",
     "output_type": "stream",
     "text": [
      "INFO:tensorflow:Assets written to: models/rnn_with_feature_test/model_6_430/assets\n"
     ]
    },
    {
     "name": "stderr",
     "output_type": "stream",
     "text": [
      "INFO:tensorflow:Assets written to: models/rnn_with_feature_test/model_6_430/assets\n"
     ]
    },
    {
     "name": "stdout",
     "output_type": "stream",
     "text": [
      "645/860 [=====================>........] - ETA: 27s - loss: 0.8208 - acc: 0.8965"
     ]
    },
    {
     "name": "stderr",
     "output_type": "stream",
     "text": [
      "WARNING:absl:Found untraced functions such as gru_cell_37_layer_call_fn, gru_cell_37_layer_call_and_return_conditional_losses, gru_cell_38_layer_call_fn, gru_cell_38_layer_call_and_return_conditional_losses, gru_cell_40_layer_call_fn while saving (showing 5 of 20). These functions will not be directly callable after loading.\n"
     ]
    },
    {
     "name": "stdout",
     "output_type": "stream",
     "text": [
      "INFO:tensorflow:Assets written to: models/rnn_with_feature_test/model_6_645/assets\n"
     ]
    },
    {
     "name": "stderr",
     "output_type": "stream",
     "text": [
      "INFO:tensorflow:Assets written to: models/rnn_with_feature_test/model_6_645/assets\n"
     ]
    },
    {
     "name": "stdout",
     "output_type": "stream",
     "text": [
      "860/860 [==============================] - ETA: 0s - loss: 0.8144 - acc: 0.8982"
     ]
    },
    {
     "name": "stderr",
     "output_type": "stream",
     "text": [
      "WARNING:absl:Found untraced functions such as gru_cell_37_layer_call_fn, gru_cell_37_layer_call_and_return_conditional_losses, gru_cell_38_layer_call_fn, gru_cell_38_layer_call_and_return_conditional_losses, gru_cell_40_layer_call_fn while saving (showing 5 of 20). These functions will not be directly callable after loading.\n"
     ]
    },
    {
     "name": "stdout",
     "output_type": "stream",
     "text": [
      "INFO:tensorflow:Assets written to: models/rnn_with_feature_test/model_6_860/assets\n"
     ]
    },
    {
     "name": "stderr",
     "output_type": "stream",
     "text": [
      "INFO:tensorflow:Assets written to: models/rnn_with_feature_test/model_6_860/assets\n"
     ]
    },
    {
     "name": "stdout",
     "output_type": "stream",
     "text": [
      "860/860 [==============================] - 154s 179ms/step - loss: 0.8144 - acc: 0.8982 - val_loss: 0.8883 - val_acc: 0.8674\n",
      "Epoch 7/50\n",
      "215/860 [======>.......................] - ETA: 51s - loss: 0.7939 - acc: 0.9031"
     ]
    },
    {
     "name": "stderr",
     "output_type": "stream",
     "text": [
      "WARNING:absl:Found untraced functions such as gru_cell_37_layer_call_fn, gru_cell_37_layer_call_and_return_conditional_losses, gru_cell_38_layer_call_fn, gru_cell_38_layer_call_and_return_conditional_losses, gru_cell_40_layer_call_fn while saving (showing 5 of 20). These functions will not be directly callable after loading.\n"
     ]
    },
    {
     "name": "stdout",
     "output_type": "stream",
     "text": [
      "INFO:tensorflow:Assets written to: models/rnn_with_feature_test/model_7_215/assets\n"
     ]
    },
    {
     "name": "stderr",
     "output_type": "stream",
     "text": [
      "INFO:tensorflow:Assets written to: models/rnn_with_feature_test/model_7_215/assets\n"
     ]
    },
    {
     "name": "stdout",
     "output_type": "stream",
     "text": [
      "430/860 [==============>...............] - ETA: 50s - loss: 0.7848 - acc: 0.9070"
     ]
    },
    {
     "name": "stderr",
     "output_type": "stream",
     "text": [
      "WARNING:absl:Found untraced functions such as gru_cell_37_layer_call_fn, gru_cell_37_layer_call_and_return_conditional_losses, gru_cell_38_layer_call_fn, gru_cell_38_layer_call_and_return_conditional_losses, gru_cell_40_layer_call_fn while saving (showing 5 of 20). These functions will not be directly callable after loading.\n"
     ]
    },
    {
     "name": "stdout",
     "output_type": "stream",
     "text": [
      "INFO:tensorflow:Assets written to: models/rnn_with_feature_test/model_7_430/assets\n"
     ]
    },
    {
     "name": "stderr",
     "output_type": "stream",
     "text": [
      "INFO:tensorflow:Assets written to: models/rnn_with_feature_test/model_7_430/assets\n"
     ]
    },
    {
     "name": "stdout",
     "output_type": "stream",
     "text": [
      "645/860 [=====================>........] - ETA: 27s - loss: 0.7839 - acc: 0.9069"
     ]
    },
    {
     "name": "stderr",
     "output_type": "stream",
     "text": [
      "WARNING:absl:Found untraced functions such as gru_cell_37_layer_call_fn, gru_cell_37_layer_call_and_return_conditional_losses, gru_cell_38_layer_call_fn, gru_cell_38_layer_call_and_return_conditional_losses, gru_cell_40_layer_call_fn while saving (showing 5 of 20). These functions will not be directly callable after loading.\n"
     ]
    },
    {
     "name": "stdout",
     "output_type": "stream",
     "text": [
      "INFO:tensorflow:Assets written to: models/rnn_with_feature_test/model_7_645/assets\n"
     ]
    },
    {
     "name": "stderr",
     "output_type": "stream",
     "text": [
      "INFO:tensorflow:Assets written to: models/rnn_with_feature_test/model_7_645/assets\n"
     ]
    },
    {
     "name": "stdout",
     "output_type": "stream",
     "text": [
      "860/860 [==============================] - ETA: 0s - loss: 0.7826 - acc: 0.9077"
     ]
    },
    {
     "name": "stderr",
     "output_type": "stream",
     "text": [
      "WARNING:absl:Found untraced functions such as gru_cell_37_layer_call_fn, gru_cell_37_layer_call_and_return_conditional_losses, gru_cell_38_layer_call_fn, gru_cell_38_layer_call_and_return_conditional_losses, gru_cell_40_layer_call_fn while saving (showing 5 of 20). These functions will not be directly callable after loading.\n"
     ]
    },
    {
     "name": "stdout",
     "output_type": "stream",
     "text": [
      "INFO:tensorflow:Assets written to: models/rnn_with_feature_test/model_7_860/assets\n"
     ]
    },
    {
     "name": "stderr",
     "output_type": "stream",
     "text": [
      "INFO:tensorflow:Assets written to: models/rnn_with_feature_test/model_7_860/assets\n"
     ]
    },
    {
     "name": "stdout",
     "output_type": "stream",
     "text": [
      "860/860 [==============================] - 155s 180ms/step - loss: 0.7826 - acc: 0.9077 - val_loss: 0.9683 - val_acc: 0.8265\n",
      "Epoch 8/50\n",
      "215/860 [======>.......................] - ETA: 51s - loss: 0.7604 - acc: 0.9211"
     ]
    },
    {
     "name": "stderr",
     "output_type": "stream",
     "text": [
      "WARNING:absl:Found untraced functions such as gru_cell_37_layer_call_fn, gru_cell_37_layer_call_and_return_conditional_losses, gru_cell_38_layer_call_fn, gru_cell_38_layer_call_and_return_conditional_losses, gru_cell_40_layer_call_fn while saving (showing 5 of 20). These functions will not be directly callable after loading.\n"
     ]
    },
    {
     "name": "stdout",
     "output_type": "stream",
     "text": [
      "INFO:tensorflow:Assets written to: models/rnn_with_feature_test/model_8_215/assets\n"
     ]
    },
    {
     "name": "stderr",
     "output_type": "stream",
     "text": [
      "INFO:tensorflow:Assets written to: models/rnn_with_feature_test/model_8_215/assets\n"
     ]
    },
    {
     "name": "stdout",
     "output_type": "stream",
     "text": [
      "430/860 [==============>...............] - ETA: 49s - loss: 0.7558 - acc: 0.9212"
     ]
    },
    {
     "name": "stderr",
     "output_type": "stream",
     "text": [
      "WARNING:absl:Found untraced functions such as gru_cell_37_layer_call_fn, gru_cell_37_layer_call_and_return_conditional_losses, gru_cell_38_layer_call_fn, gru_cell_38_layer_call_and_return_conditional_losses, gru_cell_40_layer_call_fn while saving (showing 5 of 20). These functions will not be directly callable after loading.\n"
     ]
    },
    {
     "name": "stdout",
     "output_type": "stream",
     "text": [
      "INFO:tensorflow:Assets written to: models/rnn_with_feature_test/model_8_430/assets\n"
     ]
    },
    {
     "name": "stderr",
     "output_type": "stream",
     "text": [
      "INFO:tensorflow:Assets written to: models/rnn_with_feature_test/model_8_430/assets\n"
     ]
    },
    {
     "name": "stdout",
     "output_type": "stream",
     "text": [
      "645/860 [=====================>........] - ETA: 28s - loss: 0.7582 - acc: 0.9187"
     ]
    },
    {
     "name": "stderr",
     "output_type": "stream",
     "text": [
      "WARNING:absl:Found untraced functions such as gru_cell_37_layer_call_fn, gru_cell_37_layer_call_and_return_conditional_losses, gru_cell_38_layer_call_fn, gru_cell_38_layer_call_and_return_conditional_losses, gru_cell_40_layer_call_fn while saving (showing 5 of 20). These functions will not be directly callable after loading.\n"
     ]
    },
    {
     "name": "stdout",
     "output_type": "stream",
     "text": [
      "INFO:tensorflow:Assets written to: models/rnn_with_feature_test/model_8_645/assets\n"
     ]
    },
    {
     "name": "stderr",
     "output_type": "stream",
     "text": [
      "INFO:tensorflow:Assets written to: models/rnn_with_feature_test/model_8_645/assets\n"
     ]
    },
    {
     "name": "stdout",
     "output_type": "stream",
     "text": [
      "860/860 [==============================] - ETA: 0s - loss: 0.7559 - acc: 0.9188"
     ]
    },
    {
     "name": "stderr",
     "output_type": "stream",
     "text": [
      "WARNING:absl:Found untraced functions such as gru_cell_37_layer_call_fn, gru_cell_37_layer_call_and_return_conditional_losses, gru_cell_38_layer_call_fn, gru_cell_38_layer_call_and_return_conditional_losses, gru_cell_40_layer_call_fn while saving (showing 5 of 20). These functions will not be directly callable after loading.\n"
     ]
    },
    {
     "name": "stdout",
     "output_type": "stream",
     "text": [
      "INFO:tensorflow:Assets written to: models/rnn_with_feature_test/model_8_860/assets\n"
     ]
    },
    {
     "name": "stderr",
     "output_type": "stream",
     "text": [
      "INFO:tensorflow:Assets written to: models/rnn_with_feature_test/model_8_860/assets\n"
     ]
    },
    {
     "name": "stdout",
     "output_type": "stream",
     "text": [
      "860/860 [==============================] - 155s 180ms/step - loss: 0.7559 - acc: 0.9188 - val_loss: 1.0183 - val_acc: 0.8189\n",
      "Epoch 9/50\n",
      " 96/860 [==>...........................] - ETA: 1:00 - loss: 0.7299 - acc: 0.9313"
     ]
    },
    {
     "ename": "KeyboardInterrupt",
     "evalue": "",
     "output_type": "error",
     "traceback": [
      "\u001b[0;31m---------------------------------------------------------------------------\u001b[0m",
      "\u001b[0;31mKeyboardInterrupt\u001b[0m                         Traceback (most recent call last)",
      "\u001b[1;32m/home/zhkang/project_mixnn4vs/mixnn.ipynb Cell 11\u001b[0m in \u001b[0;36m<cell line: 7>\u001b[0;34m()\u001b[0m\n\u001b[1;32m      <a href='vscode-notebook-cell://ssh-remote%2B10.51.0.136/home/zhkang/project_mixnn4vs/mixnn.ipynb#X13sdnNjb2RlLXJlbW90ZQ%3D%3D?line=3'>4</a>\u001b[0m X_val \u001b[39m=\u001b[39m {\u001b[39m'\u001b[39m\u001b[39msequence\u001b[39m\u001b[39m'\u001b[39m:X_sequence_val_trimed, \u001b[39m'\u001b[39m\u001b[39mfeature\u001b[39m\u001b[39m'\u001b[39m:X_feature_val}\n\u001b[1;32m      <a href='vscode-notebook-cell://ssh-remote%2B10.51.0.136/home/zhkang/project_mixnn4vs/mixnn.ipynb#X13sdnNjb2RlLXJlbW90ZQ%3D%3D?line=4'>5</a>\u001b[0m \u001b[39m# X_train = {'image':X_image_train, 'feature':X_feature_train}\u001b[39;00m\n\u001b[1;32m      <a href='vscode-notebook-cell://ssh-remote%2B10.51.0.136/home/zhkang/project_mixnn4vs/mixnn.ipynb#X13sdnNjb2RlLXJlbW90ZQ%3D%3D?line=5'>6</a>\u001b[0m \u001b[39m# X_val = {'image':X_image_val, 'feature':X_feature_val}\u001b[39;00m\n\u001b[0;32m----> <a href='vscode-notebook-cell://ssh-remote%2B10.51.0.136/home/zhkang/project_mixnn4vs/mixnn.ipynb#X13sdnNjb2RlLXJlbW90ZQ%3D%3D?line=6'>7</a>\u001b[0m model\u001b[39m.\u001b[39;49mfit(X_train, Y_train_one_hot, batch_size\u001b[39m=\u001b[39;49m\u001b[39m32\u001b[39;49m, epochs\u001b[39m=\u001b[39;49m\u001b[39m50\u001b[39;49m, \n\u001b[1;32m      <a href='vscode-notebook-cell://ssh-remote%2B10.51.0.136/home/zhkang/project_mixnn4vs/mixnn.ipynb#X13sdnNjb2RlLXJlbW90ZQ%3D%3D?line=7'>8</a>\u001b[0m         validation_data\u001b[39m=\u001b[39;49m(X_val, Y_val_one_hot), callbacks\u001b[39m=\u001b[39;49mcallbacks)\n",
      "File \u001b[0;32m~/softwares/anaconda3/envs/DL/lib/python3.9/site-packages/keras/engine/training.py:1184\u001b[0m, in \u001b[0;36mModel.fit\u001b[0;34m(self, x, y, batch_size, epochs, verbose, callbacks, validation_split, validation_data, shuffle, class_weight, sample_weight, initial_epoch, steps_per_epoch, validation_steps, validation_batch_size, validation_freq, max_queue_size, workers, use_multiprocessing)\u001b[0m\n\u001b[1;32m   1177\u001b[0m \u001b[39mwith\u001b[39;00m tf\u001b[39m.\u001b[39mprofiler\u001b[39m.\u001b[39mexperimental\u001b[39m.\u001b[39mTrace(\n\u001b[1;32m   1178\u001b[0m     \u001b[39m'\u001b[39m\u001b[39mtrain\u001b[39m\u001b[39m'\u001b[39m,\n\u001b[1;32m   1179\u001b[0m     epoch_num\u001b[39m=\u001b[39mepoch,\n\u001b[1;32m   1180\u001b[0m     step_num\u001b[39m=\u001b[39mstep,\n\u001b[1;32m   1181\u001b[0m     batch_size\u001b[39m=\u001b[39mbatch_size,\n\u001b[1;32m   1182\u001b[0m     _r\u001b[39m=\u001b[39m\u001b[39m1\u001b[39m):\n\u001b[1;32m   1183\u001b[0m   callbacks\u001b[39m.\u001b[39mon_train_batch_begin(step)\n\u001b[0;32m-> 1184\u001b[0m   tmp_logs \u001b[39m=\u001b[39m \u001b[39mself\u001b[39;49m\u001b[39m.\u001b[39;49mtrain_function(iterator)\n\u001b[1;32m   1185\u001b[0m   \u001b[39mif\u001b[39;00m data_handler\u001b[39m.\u001b[39mshould_sync:\n\u001b[1;32m   1186\u001b[0m     context\u001b[39m.\u001b[39masync_wait()\n",
      "File \u001b[0;32m~/softwares/anaconda3/envs/DL/lib/python3.9/site-packages/tensorflow/python/eager/def_function.py:885\u001b[0m, in \u001b[0;36mFunction.__call__\u001b[0;34m(self, *args, **kwds)\u001b[0m\n\u001b[1;32m    882\u001b[0m compiler \u001b[39m=\u001b[39m \u001b[39m\"\u001b[39m\u001b[39mxla\u001b[39m\u001b[39m\"\u001b[39m \u001b[39mif\u001b[39;00m \u001b[39mself\u001b[39m\u001b[39m.\u001b[39m_jit_compile \u001b[39melse\u001b[39;00m \u001b[39m\"\u001b[39m\u001b[39mnonXla\u001b[39m\u001b[39m\"\u001b[39m\n\u001b[1;32m    884\u001b[0m \u001b[39mwith\u001b[39;00m OptionalXlaContext(\u001b[39mself\u001b[39m\u001b[39m.\u001b[39m_jit_compile):\n\u001b[0;32m--> 885\u001b[0m   result \u001b[39m=\u001b[39m \u001b[39mself\u001b[39;49m\u001b[39m.\u001b[39;49m_call(\u001b[39m*\u001b[39;49margs, \u001b[39m*\u001b[39;49m\u001b[39m*\u001b[39;49mkwds)\n\u001b[1;32m    887\u001b[0m new_tracing_count \u001b[39m=\u001b[39m \u001b[39mself\u001b[39m\u001b[39m.\u001b[39mexperimental_get_tracing_count()\n\u001b[1;32m    888\u001b[0m without_tracing \u001b[39m=\u001b[39m (tracing_count \u001b[39m==\u001b[39m new_tracing_count)\n",
      "File \u001b[0;32m~/softwares/anaconda3/envs/DL/lib/python3.9/site-packages/tensorflow/python/eager/def_function.py:917\u001b[0m, in \u001b[0;36mFunction._call\u001b[0;34m(self, *args, **kwds)\u001b[0m\n\u001b[1;32m    914\u001b[0m   \u001b[39mself\u001b[39m\u001b[39m.\u001b[39m_lock\u001b[39m.\u001b[39mrelease()\n\u001b[1;32m    915\u001b[0m   \u001b[39m# In this case we have created variables on the first call, so we run the\u001b[39;00m\n\u001b[1;32m    916\u001b[0m   \u001b[39m# defunned version which is guaranteed to never create variables.\u001b[39;00m\n\u001b[0;32m--> 917\u001b[0m   \u001b[39mreturn\u001b[39;00m \u001b[39mself\u001b[39;49m\u001b[39m.\u001b[39;49m_stateless_fn(\u001b[39m*\u001b[39;49margs, \u001b[39m*\u001b[39;49m\u001b[39m*\u001b[39;49mkwds)  \u001b[39m# pylint: disable=not-callable\u001b[39;00m\n\u001b[1;32m    918\u001b[0m \u001b[39melif\u001b[39;00m \u001b[39mself\u001b[39m\u001b[39m.\u001b[39m_stateful_fn \u001b[39mis\u001b[39;00m \u001b[39mnot\u001b[39;00m \u001b[39mNone\u001b[39;00m:\n\u001b[1;32m    919\u001b[0m   \u001b[39m# Release the lock early so that multiple threads can perform the call\u001b[39;00m\n\u001b[1;32m    920\u001b[0m   \u001b[39m# in parallel.\u001b[39;00m\n\u001b[1;32m    921\u001b[0m   \u001b[39mself\u001b[39m\u001b[39m.\u001b[39m_lock\u001b[39m.\u001b[39mrelease()\n",
      "File \u001b[0;32m~/softwares/anaconda3/envs/DL/lib/python3.9/site-packages/tensorflow/python/eager/function.py:3039\u001b[0m, in \u001b[0;36mFunction.__call__\u001b[0;34m(self, *args, **kwargs)\u001b[0m\n\u001b[1;32m   3036\u001b[0m \u001b[39mwith\u001b[39;00m \u001b[39mself\u001b[39m\u001b[39m.\u001b[39m_lock:\n\u001b[1;32m   3037\u001b[0m   (graph_function,\n\u001b[1;32m   3038\u001b[0m    filtered_flat_args) \u001b[39m=\u001b[39m \u001b[39mself\u001b[39m\u001b[39m.\u001b[39m_maybe_define_function(args, kwargs)\n\u001b[0;32m-> 3039\u001b[0m \u001b[39mreturn\u001b[39;00m graph_function\u001b[39m.\u001b[39;49m_call_flat(\n\u001b[1;32m   3040\u001b[0m     filtered_flat_args, captured_inputs\u001b[39m=\u001b[39;49mgraph_function\u001b[39m.\u001b[39;49mcaptured_inputs)\n",
      "File \u001b[0;32m~/softwares/anaconda3/envs/DL/lib/python3.9/site-packages/tensorflow/python/eager/function.py:1963\u001b[0m, in \u001b[0;36mConcreteFunction._call_flat\u001b[0;34m(self, args, captured_inputs, cancellation_manager)\u001b[0m\n\u001b[1;32m   1959\u001b[0m possible_gradient_type \u001b[39m=\u001b[39m gradients_util\u001b[39m.\u001b[39mPossibleTapeGradientTypes(args)\n\u001b[1;32m   1960\u001b[0m \u001b[39mif\u001b[39;00m (possible_gradient_type \u001b[39m==\u001b[39m gradients_util\u001b[39m.\u001b[39mPOSSIBLE_GRADIENT_TYPES_NONE\n\u001b[1;32m   1961\u001b[0m     \u001b[39mand\u001b[39;00m executing_eagerly):\n\u001b[1;32m   1962\u001b[0m   \u001b[39m# No tape is watching; skip to running the function.\u001b[39;00m\n\u001b[0;32m-> 1963\u001b[0m   \u001b[39mreturn\u001b[39;00m \u001b[39mself\u001b[39m\u001b[39m.\u001b[39m_build_call_outputs(\u001b[39mself\u001b[39;49m\u001b[39m.\u001b[39;49m_inference_function\u001b[39m.\u001b[39;49mcall(\n\u001b[1;32m   1964\u001b[0m       ctx, args, cancellation_manager\u001b[39m=\u001b[39;49mcancellation_manager))\n\u001b[1;32m   1965\u001b[0m forward_backward \u001b[39m=\u001b[39m \u001b[39mself\u001b[39m\u001b[39m.\u001b[39m_select_forward_and_backward_functions(\n\u001b[1;32m   1966\u001b[0m     args,\n\u001b[1;32m   1967\u001b[0m     possible_gradient_type,\n\u001b[1;32m   1968\u001b[0m     executing_eagerly)\n\u001b[1;32m   1969\u001b[0m forward_function, args_with_tangents \u001b[39m=\u001b[39m forward_backward\u001b[39m.\u001b[39mforward()\n",
      "File \u001b[0;32m~/softwares/anaconda3/envs/DL/lib/python3.9/site-packages/tensorflow/python/eager/function.py:591\u001b[0m, in \u001b[0;36m_EagerDefinedFunction.call\u001b[0;34m(self, ctx, args, cancellation_manager)\u001b[0m\n\u001b[1;32m    589\u001b[0m \u001b[39mwith\u001b[39;00m _InterpolateFunctionError(\u001b[39mself\u001b[39m):\n\u001b[1;32m    590\u001b[0m   \u001b[39mif\u001b[39;00m cancellation_manager \u001b[39mis\u001b[39;00m \u001b[39mNone\u001b[39;00m:\n\u001b[0;32m--> 591\u001b[0m     outputs \u001b[39m=\u001b[39m execute\u001b[39m.\u001b[39;49mexecute(\n\u001b[1;32m    592\u001b[0m         \u001b[39mstr\u001b[39;49m(\u001b[39mself\u001b[39;49m\u001b[39m.\u001b[39;49msignature\u001b[39m.\u001b[39;49mname),\n\u001b[1;32m    593\u001b[0m         num_outputs\u001b[39m=\u001b[39;49m\u001b[39mself\u001b[39;49m\u001b[39m.\u001b[39;49m_num_outputs,\n\u001b[1;32m    594\u001b[0m         inputs\u001b[39m=\u001b[39;49margs,\n\u001b[1;32m    595\u001b[0m         attrs\u001b[39m=\u001b[39;49mattrs,\n\u001b[1;32m    596\u001b[0m         ctx\u001b[39m=\u001b[39;49mctx)\n\u001b[1;32m    597\u001b[0m   \u001b[39melse\u001b[39;00m:\n\u001b[1;32m    598\u001b[0m     outputs \u001b[39m=\u001b[39m execute\u001b[39m.\u001b[39mexecute_with_cancellation(\n\u001b[1;32m    599\u001b[0m         \u001b[39mstr\u001b[39m(\u001b[39mself\u001b[39m\u001b[39m.\u001b[39msignature\u001b[39m.\u001b[39mname),\n\u001b[1;32m    600\u001b[0m         num_outputs\u001b[39m=\u001b[39m\u001b[39mself\u001b[39m\u001b[39m.\u001b[39m_num_outputs,\n\u001b[0;32m   (...)\u001b[0m\n\u001b[1;32m    603\u001b[0m         ctx\u001b[39m=\u001b[39mctx,\n\u001b[1;32m    604\u001b[0m         cancellation_manager\u001b[39m=\u001b[39mcancellation_manager)\n",
      "File \u001b[0;32m~/softwares/anaconda3/envs/DL/lib/python3.9/site-packages/tensorflow/python/eager/execute.py:59\u001b[0m, in \u001b[0;36mquick_execute\u001b[0;34m(op_name, num_outputs, inputs, attrs, ctx, name)\u001b[0m\n\u001b[1;32m     57\u001b[0m \u001b[39mtry\u001b[39;00m:\n\u001b[1;32m     58\u001b[0m   ctx\u001b[39m.\u001b[39mensure_initialized()\n\u001b[0;32m---> 59\u001b[0m   tensors \u001b[39m=\u001b[39m pywrap_tfe\u001b[39m.\u001b[39;49mTFE_Py_Execute(ctx\u001b[39m.\u001b[39;49m_handle, device_name, op_name,\n\u001b[1;32m     60\u001b[0m                                       inputs, attrs, num_outputs)\n\u001b[1;32m     61\u001b[0m \u001b[39mexcept\u001b[39;00m core\u001b[39m.\u001b[39m_NotOkStatusException \u001b[39mas\u001b[39;00m e:\n\u001b[1;32m     62\u001b[0m   \u001b[39mif\u001b[39;00m name \u001b[39mis\u001b[39;00m \u001b[39mnot\u001b[39;00m \u001b[39mNone\u001b[39;00m:\n",
      "\u001b[0;31mKeyboardInterrupt\u001b[0m: "
     ]
    }
   ],
   "source": [
    "# X_train = {'sequence':X_sequence_train_trimed, 'image':X_image_train, 'feature':X_feature_train}\n",
    "# X_val = {'sequence':X_sequence_val_trimed, 'image':X_image_val, 'feature':X_feature_val}\n",
    "X_train = {'sequence':X_sequence_train_trimed, 'feature':X_feature_train}\n",
    "X_val = {'sequence':X_sequence_val_trimed, 'feature':X_feature_val}\n",
    "# X_train = {'image':X_image_train, 'feature':X_feature_train}\n",
    "# X_val = {'image':X_image_val, 'feature':X_feature_val}\n",
    "model.fit(X_train, Y_train_one_hot, batch_size=32, epochs=50, \n",
    "        validation_data=(X_val, Y_val_one_hot), callbacks=callbacks)"
   ]
  },
  {
   "cell_type": "code",
   "execution_count": 20,
   "metadata": {},
   "outputs": [
    {
     "name": "stderr",
     "output_type": "stream",
     "text": [
      "2022-10-19 19:14:41.877316: W tensorflow/core/common_runtime/graph_constructor.cc:803] Node 'cond/while' has 14 outputs but the _output_shapes attribute specifies shapes for 48 outputs. Output shapes may be inaccurate.\n",
      "2022-10-19 19:14:42.672580: W tensorflow/core/common_runtime/graph_constructor.cc:803] Node 'cond/while' has 13 outputs but the _output_shapes attribute specifies shapes for 46 outputs. Output shapes may be inaccurate.\n",
      "2022-10-19 19:14:42.683758: W tensorflow/core/common_runtime/graph_constructor.cc:803] Node 'cond' has 4 outputs but the _output_shapes attribute specifies shapes for 46 outputs. Output shapes may be inaccurate.\n",
      "2022-10-19 19:14:42.879094: W tensorflow/core/common_runtime/graph_constructor.cc:803] Node 'cond/while' has 13 outputs but the _output_shapes attribute specifies shapes for 46 outputs. Output shapes may be inaccurate.\n",
      "2022-10-19 19:14:42.945943: W tensorflow/core/common_runtime/graph_constructor.cc:803] Node 'cond/while' has 13 outputs but the _output_shapes attribute specifies shapes for 46 outputs. Output shapes may be inaccurate.\n",
      "2022-10-19 19:14:42.955030: W tensorflow/core/common_runtime/graph_constructor.cc:803] Node 'cond' has 4 outputs but the _output_shapes attribute specifies shapes for 46 outputs. Output shapes may be inaccurate.\n",
      "2022-10-19 19:14:43.567547: W tensorflow/core/common_runtime/graph_constructor.cc:803] Node 'cond/while' has 13 outputs but the _output_shapes attribute specifies shapes for 46 outputs. Output shapes may be inaccurate.\n",
      "2022-10-19 19:14:43.577013: W tensorflow/core/common_runtime/graph_constructor.cc:803] Node 'cond' has 4 outputs but the _output_shapes attribute specifies shapes for 46 outputs. Output shapes may be inaccurate.\n",
      "2022-10-19 19:14:43.968977: W tensorflow/core/common_runtime/graph_constructor.cc:803] Node 'cond' has 4 outputs but the _output_shapes attribute specifies shapes for 46 outputs. Output shapes may be inaccurate.\n",
      "2022-10-19 19:14:44.689913: W tensorflow/core/common_runtime/graph_constructor.cc:803] Node 'cond/while' has 14 outputs but the _output_shapes attribute specifies shapes for 48 outputs. Output shapes may be inaccurate.\n",
      "2022-10-19 19:14:44.699365: W tensorflow/core/common_runtime/graph_constructor.cc:803] Node 'cond' has 4 outputs but the _output_shapes attribute specifies shapes for 48 outputs. Output shapes may be inaccurate.\n",
      "2022-10-19 19:14:45.041572: W tensorflow/core/common_runtime/graph_constructor.cc:803] Node 'cond/while' has 13 outputs but the _output_shapes attribute specifies shapes for 46 outputs. Output shapes may be inaccurate.\n",
      "2022-10-19 19:14:45.218769: W tensorflow/core/common_runtime/graph_constructor.cc:803] Node 'cond/while' has 14 outputs but the _output_shapes attribute specifies shapes for 48 outputs. Output shapes may be inaccurate.\n",
      "2022-10-19 19:14:45.228520: W tensorflow/core/common_runtime/graph_constructor.cc:803] Node 'cond' has 4 outputs but the _output_shapes attribute specifies shapes for 48 outputs. Output shapes may be inaccurate.\n",
      "2022-10-19 19:14:45.291516: W tensorflow/core/common_runtime/graph_constructor.cc:803] Node 'cond/while' has 14 outputs but the _output_shapes attribute specifies shapes for 48 outputs. Output shapes may be inaccurate.\n",
      "2022-10-19 19:14:45.301204: W tensorflow/core/common_runtime/graph_constructor.cc:803] Node 'cond' has 4 outputs but the _output_shapes attribute specifies shapes for 48 outputs. Output shapes may be inaccurate.\n",
      "2022-10-19 19:14:45.693580: W tensorflow/core/common_runtime/graph_constructor.cc:803] Node 'cond' has 4 outputs but the _output_shapes attribute specifies shapes for 48 outputs. Output shapes may be inaccurate.\n",
      "2022-10-19 19:14:45.874064: W tensorflow/core/common_runtime/graph_constructor.cc:803] Node 'cond/while' has 14 outputs but the _output_shapes attribute specifies shapes for 48 outputs. Output shapes may be inaccurate.\n",
      "2022-10-19 19:14:45.883620: W tensorflow/core/common_runtime/graph_constructor.cc:803] Node 'cond' has 4 outputs but the _output_shapes attribute specifies shapes for 48 outputs. Output shapes may be inaccurate.\n",
      "2022-10-19 19:14:46.012000: W tensorflow/core/common_runtime/graph_constructor.cc:803] Node 'cond/while' has 14 outputs but the _output_shapes attribute specifies shapes for 48 outputs. Output shapes may be inaccurate.\n",
      "2022-10-19 19:14:46.021703: W tensorflow/core/common_runtime/graph_constructor.cc:803] Node 'cond' has 4 outputs but the _output_shapes attribute specifies shapes for 48 outputs. Output shapes may be inaccurate.\n",
      "2022-10-19 19:14:46.031100: W tensorflow/core/common_runtime/graph_constructor.cc:803] Node 'cond/while' has 13 outputs but the _output_shapes attribute specifies shapes for 46 outputs. Output shapes may be inaccurate.\n",
      "2022-10-19 19:14:46.040613: W tensorflow/core/common_runtime/graph_constructor.cc:803] Node 'cond' has 4 outputs but the _output_shapes attribute specifies shapes for 46 outputs. Output shapes may be inaccurate.\n",
      "2022-10-19 19:14:46.130268: W tensorflow/core/common_runtime/graph_constructor.cc:803] Node 'cond' has 4 outputs but the _output_shapes attribute specifies shapes for 46 outputs. Output shapes may be inaccurate.\n"
     ]
    },
    {
     "name": "stdout",
     "output_type": "stream",
     "text": [
      "(11, 11)\n",
      "Normalized confusion matrix\n",
      "[[8.61111111e-01 0.00000000e+00 1.15740741e-02 6.71296296e-02\n",
      "  2.31481481e-03 0.00000000e+00 9.25925926e-03 0.00000000e+00\n",
      "  0.00000000e+00 4.39814815e-02 4.62962963e-03]\n",
      " [5.33333333e-03 8.98666667e-01 7.46666667e-02 0.00000000e+00\n",
      "  1.06666667e-02 2.66666667e-03 8.00000000e-03 0.00000000e+00\n",
      "  0.00000000e+00 0.00000000e+00 0.00000000e+00]\n",
      " [8.00000000e-02 2.40000000e-01 6.20000000e-01 0.00000000e+00\n",
      "  0.00000000e+00 0.00000000e+00 4.00000000e-02 0.00000000e+00\n",
      "  0.00000000e+00 2.00000000e-02 0.00000000e+00]\n",
      " [4.11764706e-01 0.00000000e+00 0.00000000e+00 5.88235294e-01\n",
      "  0.00000000e+00 0.00000000e+00 0.00000000e+00 0.00000000e+00\n",
      "  0.00000000e+00 0.00000000e+00 0.00000000e+00]\n",
      " [1.06382979e-03 1.06382979e-03 0.00000000e+00 0.00000000e+00\n",
      "  7.32978723e-01 5.00000000e-02 2.10106383e-01 5.31914894e-04\n",
      "  0.00000000e+00 1.59574468e-03 2.65957447e-03]\n",
      " [0.00000000e+00 0.00000000e+00 0.00000000e+00 0.00000000e+00\n",
      "  2.66666667e-02 9.71111111e-01 2.22222222e-03 0.00000000e+00\n",
      "  0.00000000e+00 0.00000000e+00 0.00000000e+00]\n",
      " [1.10192837e-02 1.92837466e-02 1.92837466e-02 0.00000000e+00\n",
      "  1.98347107e-01 1.10192837e-02 6.50137741e-01 4.40771350e-02\n",
      "  0.00000000e+00 2.75482094e-03 4.40771350e-02]\n",
      " [0.00000000e+00 0.00000000e+00 0.00000000e+00 0.00000000e+00\n",
      "  0.00000000e+00 0.00000000e+00 7.81250000e-03 9.84375000e-01\n",
      "  0.00000000e+00 0.00000000e+00 7.81250000e-03]\n",
      " [0.00000000e+00 0.00000000e+00 0.00000000e+00 0.00000000e+00\n",
      "  0.00000000e+00 0.00000000e+00 0.00000000e+00 0.00000000e+00\n",
      "  1.00000000e+00 0.00000000e+00 0.00000000e+00]\n",
      " [0.00000000e+00 0.00000000e+00 0.00000000e+00 0.00000000e+00\n",
      "  0.00000000e+00 0.00000000e+00 0.00000000e+00 0.00000000e+00\n",
      "  0.00000000e+00 9.33333333e-01 6.66666667e-02]\n",
      " [0.00000000e+00 0.00000000e+00 0.00000000e+00 0.00000000e+00\n",
      "  0.00000000e+00 0.00000000e+00 0.00000000e+00 0.00000000e+00\n",
      "  0.00000000e+00 2.00000000e-01 8.00000000e-01]]\n"
     ]
    },
    {
     "data": {
      "image/png": "[encoded data removed]",
      "text/plain": [
       "<Figure size 864x720 with 2 Axes>"
      ]
     },
     "metadata": {
      "needs_background": "light"
     },
     "output_type": "display_data"
    }
   ],
   "source": [
    "lodaed_model = keras.models.load_model('models/rnn_with_feature_test/model_5_430')\n",
    "from sklearn.metrics import confusion_matrix, ConfusionMatrixDisplay\n",
    "import matplotlib.pyplot as plt\n",
    "# from util import generate_batch\n",
    "\n",
    "def generate_batch(X_sequence, X_image,  X_feature, Y, batch_size):\n",
    "    idx = 0\n",
    "    batch_num = len(Y)/batch_size\n",
    "    while idx < batch_num:\n",
    "        batch_x_sequence = X_sequence[idx * batch_size : (idx + 1) * batch_size]\n",
    "        batch_x_image = X_image[idx * batch_size : (idx + 1) * batch_size]\n",
    "        batch_x_feature = X_feature[idx * batch_size : (idx + 1) * batch_size]\n",
    "        batch_y = Y[idx * batch_size : (idx + 1) * batch_size]\n",
    "        yield batch_x_sequence, batch_x_image, batch_x_feature, batch_y\n",
    "        idx += 1\n",
    "\n",
    "test_gen = generate_batch(X_sequence_test_trimed, X_image_test, X_feature_test, Y_test, 128)      \n",
    "y_label = Y_test\n",
    "\n",
    "# train_gen = generate_batch(X_train_trimed, Y_train,128)      \n",
    "# y_label = Y_train\n",
    "\n",
    "y_predict = np.array([])\n",
    "for x_sequence, x_image, x_feature, y in test_gen:\n",
    "# for x, y in train_gen:\n",
    "    y_predict = np.concatenate([y_predict, \n",
    "            np.argmax(lodaed_model.predict({'sequence':x_sequence, \n",
    "                                            # 'image':x_image,\n",
    "                                            'feature':x_feature}), axis=-1)])\n",
    "y_label = y_label.astype(np.int32) \n",
    "y_predict = y_predict.astype(np.int32) \n",
    "cm = confusion_matrix(y_true=y_label, y_pred=y_predict, normalize='true')\n",
    "print(cm.shape)\n",
    "# disp = ConfusionMatrixDisplay(confusion_matrix=cm)\n",
    "# disp.plot(values_format='.2g')\n",
    "\n",
    "classes = ['RRab', 'RRc','RRd', 'Blazhko','Ecl', 'EA' , 'ROT', 'LPV','DS','ACEP', 'Cep-2']\n",
    "\n",
    "from util import cm_plot\n",
    "\n",
    "plotting = cm_plot(cm, classes_types=classes, classifier_model='mix Classifier', nClasses=12,\n",
    "                    cmap=plt.cm.Blues)"
   ]
  }
 ],
 "metadata": {
  "kernelspec": {
   "display_name": "Python 3.9.7 ('DL')",
   "language": "python",
   "name": "python3"
  },
  "language_info": {
   "codemirror_mode": {
    "name": "ipython",
    "version": 3
   },
   "file_extension": ".py",
   "mimetype": "text/x-python",
   "name": "python",
   "nbconvert_exporter": "python",
   "pygments_lexer": "ipython3",
   "version": "3.9.7"
  },
  "orig_nbformat": 4,
  "vscode": {
   "interpreter": {
    "hash": "686e52782356fa5192d8da796457d9836a4bb6aebab3dc056991bb89ef60f4a8"
   }
  }
 },
 "nbformat": 4,
 "nbformat_minor": 2
}
