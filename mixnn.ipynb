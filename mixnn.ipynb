{
 "cells": [
  {
   "cell_type": "code",
   "execution_count": null,
   "metadata": {},
   "outputs": [],
   "source": [
    "from util import load_original_data\n",
    "load_original_data(0.1, 0.1)"
   ]
  },
  {
   "cell_type": "code",
   "execution_count": null,
   "metadata": {},
   "outputs": [],
   "source": [
    "from util import create_dataset\n",
    "create_dataset('data/original_dataset_0.80_0.10_0.10',5000, down_sample=True)"
   ]
  },
  {
   "cell_type": "code",
   "execution_count": 1,
   "metadata": {},
   "outputs": [],
   "source": [
    "import tensorflow as tf\n",
    "from tensorflow import keras\n",
    "from tensorflow.keras import layers\n",
    "from tensorflow.keras import regularizers\n",
    "\n",
    "import pickle\n",
    "import numpy as np\n",
    "f1 = open('data/split_0.80_0.10_0.10_aug_to_5000_down_sample_True_instance1/train_data', 'rb')\n",
    "X_sequence_train, X_feature_train, X_image_train, Y_train = pickle.load(f1)\n",
    "f1.close()\n",
    "f2 = open('data/split_0.80_0.10_0.10_aug_to_5000_down_sample_True_instance1/val_data', 'rb')\n",
    "X_sequence_val, X_feature_val, X_image_val, Y_val = pickle.load(f2)\n",
    "f2.close()\n",
    "f3 = open('data/split_0.80_0.10_0.10_aug_to_2500_down_sample_True_instance0-9/test_data', 'rb')\n",
    "X_sequence_test, X_feature_test, X_image_test, Y_test = pickle.load(f3)\n",
    "f3.close()\n",
    "\n",
    "from keras.preprocessing.sequence import pad_sequences\n",
    "X_sequence_train_paded = pad_sequences(X_sequence_train, dtype='float', padding='post', value = np.nan)\n",
    "X_sequence_val_paded = pad_sequences(X_sequence_val, dtype='float', padding='post', value = np.nan)\n",
    "X_sequence_test_paded = pad_sequences(X_sequence_test, dtype='float', padding='post', value = np.nan)\n",
    "# 先pad再预处理，因为pad可以把array的list转为ndarray\n",
    "\n",
    "from util import preprocess\n",
    "X_sequence_train_trimed = preprocess(X_sequence_train_paded)\n",
    "X_sequence_val_trimed = preprocess(X_sequence_val_paded)\n",
    "X_sequence_test_trimed = preprocess(X_sequence_test_paded)\n",
    "\n",
    "def build_channel(data):\n",
    "    X = []\n",
    "    for image in data:\n",
    "        X.append(image.reshape(128, 128, 1))\n",
    "    return X\n",
    "X_image_train = np.array(build_channel(X_image_train))\n",
    "X_image_val = np.array(build_channel(X_image_val))\n",
    "X_image_test = np.array(build_channel(X_image_test))\n",
    "X_feature_train = np.array(X_feature_train)\n",
    "X_feature_val = np.array(X_feature_val)\n",
    "X_feature_test = np.array(X_feature_test)\n",
    "Y_train = np.array(Y_train)-1 # 文件夹名从1开始但是标签从0开始\n",
    "Y_val = np.array(Y_val)-1\n",
    "Y_test = np.array(Y_test)-1"
   ]
  },
  {
   "cell_type": "code",
   "execution_count": 169,
   "metadata": {},
   "outputs": [],
   "source": [
    "\n",
    "\n",
    "def multi_input_model(sequence_shape, image_shape, feature_shape, num_classes):\n",
    "\n",
    "    sequence_inputs = keras.Input(shape=sequence_shape, name='sequence')\n",
    "    masking_layer = layers.Masking(mask_value=0)\n",
    "    x1 = masking_layer(sequence_inputs)\n",
    "    x1 = layers.Bidirectional(layers.GRU(128, return_sequences=True))(x1)\n",
    "    x1 = layers.Bidirectional(layers.GRU(64))(x1)\n",
    "    x1 = layers.Dropout(0.5)(x1)\n",
    "    x1 = layers.Dense(128, activation=\"relu\")(x1)\n",
    "    x1 = layers.Dropout(0.5)(x1)\n",
    "    x1 = layers.Dense(32, activation=\"relu\")(x1)\n",
    "\n",
    "    image_inputs = keras.Input(shape=image_shape, name='image')\n",
    "    x2 = layers.Rescaling(scale=1.0 / 255)(image_inputs)\n",
    "    x2 = layers.Conv2D(filters=32, kernel_size=(16,16), strides=2, activation=\"relu\", padding='same')(x2)\n",
    "    x2 = layers.Dropout(0.2)(x2)\n",
    "    x2 = layers.MaxPooling2D(pool_size=(3, 3) ,strides=2)(x2)\n",
    "    x2 = layers.Conv2D(filters=64, kernel_size=(8,8), padding='same', activation=\"relu\")(x2)\n",
    "    x2 = layers.Dropout(0.2)(x2)\n",
    "    x2 = layers.MaxPooling2D(pool_size=(3, 3), strides=2)(x2)\n",
    "    x2 = layers.Conv2D(filters=64, kernel_size=(4,4), padding='same', activation=\"relu\")(x2)\n",
    "    x2 = layers.Dropout(0.2)(x2)\n",
    "    x2 = layers.MaxPooling2D(pool_size=(3, 3), strides=2)(x2)\n",
    "    x2 = layers.Conv2D(filters=128, kernel_size=(3,3), padding='same', activation=\"relu\")(x2)\n",
    "    x2 = layers.Dropout(0.2)(x2)\n",
    "    x2 = layers.MaxPooling2D(pool_size=(3, 3), strides=2)(x2)\n",
    "    x2 = layers.GlobalAveragePooling2D()(x2)\n",
    "    x2 = layers.Dropout(0.2)(x2)\n",
    "    x2 = layers.Dense(256, activation=\"relu\", kernel_regularizer='l1')(x2)\n",
    "    x2 = layers.Dropout(0.2)(x2)\n",
    "    x2 = layers.Dense(32, activation=\"relu\", kernel_regularizer='l1')(x2)\n",
    "\n",
    "    feature_inputs = keras.Input(shape=feature_shape, name='feature')\n",
    "    x3 = layers.Dense(32, activation=\"relu\")(feature_inputs)\n",
    "    x3 = layers.Dense(32, activation=\"relu\")(x3)\n",
    "\n",
    "    x = layers.concatenate([x1, x2, x3])\n",
    "    outputs = layers.Dense(num_classes, activation=\"softmax\")(x)\n",
    "    model = keras.Model(inputs=[sequence_inputs, image_inputs, feature_inputs], outputs=outputs)\n",
    "    return model"
   ]
  },
  {
   "cell_type": "code",
   "execution_count": 170,
   "metadata": {},
   "outputs": [],
   "source": [
    "def rnn_with_feature(sequence_shape, feature_shape, num_classes):\n",
    "    sequence_inputs = keras.Input(shape=sequence_shape, name='sequence')\n",
    "    masking_layer = layers.Masking(mask_value=0)\n",
    "    x1 = masking_layer(sequence_inputs)\n",
    "    x1 = layers.Bidirectional(layers.GRU(128, return_sequences=True))(x1)\n",
    "    x1 = layers.Bidirectional(layers.GRU(64))(x1)\n",
    "    x1 = layers.Dropout(0.5)(x1)\n",
    "    x1 = layers.Dense(128, activation=\"relu\")(x1)\n",
    "    x1 = layers.Dropout(0.5)(x1)\n",
    "    x1 = layers.Dense(32, activation=\"relu\")(x1)\n",
    "\n",
    "    feature_inputs = keras.Input(shape=feature_shape, name='feature')\n",
    "    x3 = layers.Dense(32, activation=\"relu\")(feature_inputs)\n",
    "    x3 = layers.Dense(16, activation=\"relu\")(x3)\n",
    "\n",
    "    x = layers.concatenate([x1, x3])\n",
    "    outputs = layers.Dense(num_classes, activation=\"softmax\")(x)\n",
    "    model = keras.Model(inputs=[sequence_inputs, feature_inputs], outputs=outputs)\n",
    "    return model"
   ]
  },
  {
   "cell_type": "code",
   "execution_count": 153,
   "metadata": {},
   "outputs": [],
   "source": [
    "def cnn(image_shape,  num_classes):\n",
    "    image_inputs = keras.Input(shape=image_shape, name='image')\n",
    "    x2 = layers.Rescaling(scale=1.0 / 255)(image_inputs)\n",
    "    x2 = layers.Conv2D(filters=32, kernel_size=(16,16), strides=2, activation=\"relu\", padding='same')(x2)\n",
    "    x2 = layers.Dropout(0.2)(x2)\n",
    "    x2 = layers.MaxPooling2D(pool_size=(3, 3) ,strides=2)(x2)\n",
    "    x2 = layers.Conv2D(filters=64, kernel_size=(8,8), padding='same', activation=\"relu\")(x2)\n",
    "    x2 = layers.Dropout(0.2)(x2)\n",
    "    x2 = layers.MaxPooling2D(pool_size=(3, 3), strides=2)(x2)\n",
    "    x2 = layers.Conv2D(filters=64, kernel_size=(4,4), padding='same', activation=\"relu\")(x2)\n",
    "    x2 = layers.Dropout(0.2)(x2)\n",
    "    x2 = layers.MaxPooling2D(pool_size=(3, 3), strides=2)(x2)\n",
    "    x2 = layers.Conv2D(filters=128, kernel_size=(3,3), padding='same', activation=\"relu\")(x2)\n",
    "    x2 = layers.Dropout(0.2)(x2)\n",
    "    x2 = layers.MaxPooling2D(pool_size=(3, 3), strides=2)(x2)\n",
    "    x2 = layers.GlobalAveragePooling2D()(x2)\n",
    "    x2 = layers.Dropout(0.2)(x2)\n",
    "    x2 = layers.Dense(256, activation=\"relu\", kernel_regularizer='l1')(x2)\n",
    "    x2 = layers.Dropout(0.2)(x2)\n",
    "    x2 = layers.Dense(128, activation=\"relu\", kernel_regularizer='l1')(x2)\n",
    "    x2 = layers.Dropout(0.2)(x2)\n",
    "    outputs = layers.Dense(num_classes, activation=\"softmax\", kernel_regularizer='l1')(x2)\n",
    "    model = keras.Model(inputs=image_inputs, outputs=outputs)\n",
    "    return model"
   ]
  },
  {
   "cell_type": "code",
   "execution_count": 164,
   "metadata": {},
   "outputs": [],
   "source": [
    "def cnn_with_feature(image_shape, feature_shape, num_classes):\n",
    "    \n",
    "    image_inputs = keras.Input(shape=image_shape, name='image')\n",
    "    x2 = layers.Rescaling(scale=1.0 / 255)(image_inputs)\n",
    "    x2 = layers.Conv2D(filters=32, kernel_size=(16,16), strides=2, activation=\"relu\", padding='same')(x2)\n",
    "    x2 = layers.Dropout(0.2)(x2)\n",
    "    x2 = layers.MaxPooling2D(pool_size=(3, 3) ,strides=2)(x2)\n",
    "    x2 = layers.Conv2D(filters=64, kernel_size=(8,8), padding='same', activation=\"relu\")(x2)\n",
    "    x2 = layers.Dropout(0.2)(x2)\n",
    "    x2 = layers.MaxPooling2D(pool_size=(3, 3), strides=2)(x2)\n",
    "    x2 = layers.Conv2D(filters=64, kernel_size=(4,4), padding='same', activation=\"relu\")(x2)\n",
    "    x2 = layers.Dropout(0.2)(x2)\n",
    "    x2 = layers.MaxPooling2D(pool_size=(3, 3), strides=2)(x2)\n",
    "    x2 = layers.Conv2D(filters=128, kernel_size=(3,3), padding='same', activation=\"relu\")(x2)\n",
    "    x2 = layers.Dropout(0.2)(x2)\n",
    "    x2 = layers.MaxPooling2D(pool_size=(3, 3), strides=2)(x2)\n",
    "    x2 = layers.GlobalAveragePooling2D()(x2)\n",
    "    x2 = layers.Dropout(0.2)(x2)\n",
    "    x2 = layers.Dense(256, activation=\"relu\", kernel_regularizer='l1')(x2)\n",
    "    x2 = layers.Dropout(0.2)(x2)\n",
    "    x2 = layers.Dense(32, activation=\"relu\", kernel_regularizer='l1')(x2)\n",
    "    \n",
    "    feature_inputs = keras.Input(shape=feature_shape, name='feature')\n",
    "    x3 = layers.Dense(32, activation=\"relu\", kernel_regularizer='l1')(feature_inputs)\n",
    "    x3 = layers.Dense(32, activation=\"relu\", kernel_regularizer='l1')(x3)\n",
    "\n",
    "    x = layers.concatenate([x2, x3])\n",
    "    outputs = layers.Dense(num_classes, activation=\"softmax\", kernel_regularizer='l1')(x)\n",
    "    model = keras.Model(inputs=[image_inputs, feature_inputs], outputs=outputs)\n",
    "    return model"
   ]
  },
  {
   "cell_type": "code",
   "execution_count": 172,
   "metadata": {},
   "outputs": [
    {
     "name": "stderr",
     "output_type": "stream",
     "text": [
      "2022-10-13 09:46:57.282839: I tensorflow/core/profiler/lib/profiler_session.cc:131] Profiler session initializing.\n",
      "2022-10-13 09:46:57.282873: I tensorflow/core/profiler/lib/profiler_session.cc:146] Profiler session started.\n",
      "2022-10-13 09:46:58.176756: I tensorflow/core/profiler/lib/profiler_session.cc:164] Profiler session tear down.\n",
      "2022-10-13 09:46:58.176973: I tensorflow/core/profiler/internal/gpu/cupti_tracer.cc:1748] CUPTI activity buffer flushed\n"
     ]
    }
   ],
   "source": [
    "# model = multi_input_model(sequence_shape=(None, 3), image_shape=(128, 128, 1), \n",
    "#                         feature_shape=(2,), num_classes=11)\n",
    "model = rnn_with_feature(sequence_shape=(None, 3),feature_shape=(2,), num_classes=11)\n",
    "# model = cnn_with_feature(image_shape=(128, 128, 1), feature_shape=(2,), num_classes=11)\n",
    "# model = cnn(image_shape=(128, 128, 1), num_classes=11)\n",
    "# model.summary()\n",
    "model.compile(\n",
    "    optimizer=keras.optimizers.Adam(1e-3),\n",
    "    loss=\"sparse_categorical_crossentropy\",\n",
    "    metrics=[keras.metrics.SparseCategoricalAccuracy(name=\"acc\")],\n",
    "    run_eagerly=False,\n",
    ")\n",
    "callbacks = [\n",
    "  keras.callbacks.ModelCheckpoint(\n",
    "    filepath='models/rnn_with_feature_test/model_{epoch}',\n",
    "    save_freq='epoch'),\n",
    "  keras.callbacks.TensorBoard(log_dir='models/rnn_with_feature_test/logs')\n",
    "]"
   ]
  },
  {
   "cell_type": "code",
   "execution_count": 173,
   "metadata": {},
   "outputs": [
    {
     "name": "stdout",
     "output_type": "stream",
     "text": [
      "Epoch 1/50\n",
      "  1/860 [..............................] - ETA: 2:11:36 - loss: 12.3513 - acc: 0.0781"
     ]
    },
    {
     "name": "stderr",
     "output_type": "stream",
     "text": [
      "2022-10-13 09:47:14.880861: I tensorflow/core/profiler/lib/profiler_session.cc:131] Profiler session initializing.\n",
      "2022-10-13 09:47:14.880898: I tensorflow/core/profiler/lib/profiler_session.cc:146] Profiler session started.\n"
     ]
    },
    {
     "name": "stdout",
     "output_type": "stream",
     "text": [
      "  2/860 [..............................] - ETA: 13:55 - loss: 11.2004 - acc: 0.0703  "
     ]
    },
    {
     "name": "stderr",
     "output_type": "stream",
     "text": [
      "2022-10-13 09:47:15.781431: I tensorflow/core/profiler/lib/profiler_session.cc:66] Profiler session collecting data.\n",
      "2022-10-13 09:47:15.781967: I tensorflow/core/profiler/internal/gpu/cupti_tracer.cc:1748] CUPTI activity buffer flushed\n",
      "2022-10-13 09:47:15.845329: I tensorflow/core/profiler/internal/gpu/cupti_collector.cc:673]  GpuTracer has collected 6817 callback api events and 6814 activity events. \n",
      "2022-10-13 09:47:15.960311: I tensorflow/core/profiler/lib/profiler_session.cc:164] Profiler session tear down.\n",
      "2022-10-13 09:47:16.091415: I tensorflow/core/profiler/rpc/client/save_profile.cc:136] Creating directory: models/rnn_with_feature_test/logs/train/plugins/profile/2022_10_13_09_47_15\n",
      "\n",
      "2022-10-13 09:47:16.178172: I tensorflow/core/profiler/rpc/client/save_profile.cc:142] Dumped gzipped tool data for trace.json.gz to models/rnn_with_feature_test/logs/train/plugins/profile/2022_10_13_09_47_15/dell-Precision-7920-Tower.trace.json.gz\n",
      "2022-10-13 09:47:16.267247: I tensorflow/core/profiler/rpc/client/save_profile.cc:136] Creating directory: models/rnn_with_feature_test/logs/train/plugins/profile/2022_10_13_09_47_15\n",
      "\n",
      "2022-10-13 09:47:16.271359: I tensorflow/core/profiler/rpc/client/save_profile.cc:142] Dumped gzipped tool data for memory_profile.json.gz to models/rnn_with_feature_test/logs/train/plugins/profile/2022_10_13_09_47_15/dell-Precision-7920-Tower.memory_profile.json.gz\n",
      "2022-10-13 09:47:16.273402: I tensorflow/core/profiler/rpc/client/capture_profile.cc:251] Creating directory: models/rnn_with_feature_test/logs/train/plugins/profile/2022_10_13_09_47_15\n",
      "Dumped tool data for xplane.pb to models/rnn_with_feature_test/logs/train/plugins/profile/2022_10_13_09_47_15/dell-Precision-7920-Tower.xplane.pb\n",
      "Dumped tool data for overview_page.pb to models/rnn_with_feature_test/logs/train/plugins/profile/2022_10_13_09_47_15/dell-Precision-7920-Tower.overview_page.pb\n",
      "Dumped tool data for input_pipeline.pb to models/rnn_with_feature_test/logs/train/plugins/profile/2022_10_13_09_47_15/dell-Precision-7920-Tower.input_pipeline.pb\n",
      "Dumped tool data for tensorflow_stats.pb to models/rnn_with_feature_test/logs/train/plugins/profile/2022_10_13_09_47_15/dell-Precision-7920-Tower.tensorflow_stats.pb\n",
      "Dumped tool data for kernel_stats.pb to models/rnn_with_feature_test/logs/train/plugins/profile/2022_10_13_09_47_15/dell-Precision-7920-Tower.kernel_stats.pb\n",
      "\n"
     ]
    },
    {
     "name": "stdout",
     "output_type": "stream",
     "text": [
      "860/860 [==============================] - 101s 107ms/step - loss: 2.6330 - acc: 0.2515 - val_loss: 1.7740 - val_acc: 0.4077\n"
     ]
    },
    {
     "name": "stderr",
     "output_type": "stream",
     "text": [
      "WARNING:absl:Found untraced functions such as gru_cell_217_layer_call_and_return_conditional_losses, gru_cell_217_layer_call_fn, gru_cell_218_layer_call_and_return_conditional_losses, gru_cell_218_layer_call_fn, gru_cell_220_layer_call_and_return_conditional_losses while saving (showing 5 of 20). These functions will not be directly callable after loading.\n"
     ]
    },
    {
     "name": "stdout",
     "output_type": "stream",
     "text": [
      "INFO:tensorflow:Assets written to: models/rnn_with_feature_test/model_1/assets\n"
     ]
    },
    {
     "name": "stderr",
     "output_type": "stream",
     "text": [
      "INFO:tensorflow:Assets written to: models/rnn_with_feature_test/model_1/assets\n"
     ]
    },
    {
     "name": "stdout",
     "output_type": "stream",
     "text": [
      "Epoch 2/50\n",
      "860/860 [==============================] - 85s 99ms/step - loss: 1.6091 - acc: 0.4284 - val_loss: 1.2474 - val_acc: 0.6063\n"
     ]
    },
    {
     "name": "stderr",
     "output_type": "stream",
     "text": [
      "WARNING:absl:Found untraced functions such as gru_cell_217_layer_call_and_return_conditional_losses, gru_cell_217_layer_call_fn, gru_cell_218_layer_call_and_return_conditional_losses, gru_cell_218_layer_call_fn, gru_cell_220_layer_call_and_return_conditional_losses while saving (showing 5 of 20). These functions will not be directly callable after loading.\n"
     ]
    },
    {
     "name": "stdout",
     "output_type": "stream",
     "text": [
      "INFO:tensorflow:Assets written to: models/rnn_with_feature_test/model_2/assets\n"
     ]
    },
    {
     "name": "stderr",
     "output_type": "stream",
     "text": [
      "INFO:tensorflow:Assets written to: models/rnn_with_feature_test/model_2/assets\n"
     ]
    },
    {
     "name": "stdout",
     "output_type": "stream",
     "text": [
      "Epoch 3/50\n",
      "860/860 [==============================] - 85s 99ms/step - loss: 1.0332 - acc: 0.6477 - val_loss: 0.8511 - val_acc: 0.7226\n"
     ]
    },
    {
     "name": "stderr",
     "output_type": "stream",
     "text": [
      "WARNING:absl:Found untraced functions such as gru_cell_217_layer_call_and_return_conditional_losses, gru_cell_217_layer_call_fn, gru_cell_218_layer_call_and_return_conditional_losses, gru_cell_218_layer_call_fn, gru_cell_220_layer_call_and_return_conditional_losses while saving (showing 5 of 20). These functions will not be directly callable after loading.\n"
     ]
    },
    {
     "name": "stdout",
     "output_type": "stream",
     "text": [
      "INFO:tensorflow:Assets written to: models/rnn_with_feature_test/model_3/assets\n"
     ]
    },
    {
     "name": "stderr",
     "output_type": "stream",
     "text": [
      "INFO:tensorflow:Assets written to: models/rnn_with_feature_test/model_3/assets\n"
     ]
    },
    {
     "name": "stdout",
     "output_type": "stream",
     "text": [
      "Epoch 4/50\n",
      "860/860 [==============================] - 63s 73ms/step - loss: 0.7660 - acc: 0.7524 - val_loss: 0.6567 - val_acc: 0.7886\n"
     ]
    },
    {
     "name": "stderr",
     "output_type": "stream",
     "text": [
      "WARNING:absl:Found untraced functions such as gru_cell_217_layer_call_and_return_conditional_losses, gru_cell_217_layer_call_fn, gru_cell_218_layer_call_and_return_conditional_losses, gru_cell_218_layer_call_fn, gru_cell_220_layer_call_and_return_conditional_losses while saving (showing 5 of 20). These functions will not be directly callable after loading.\n"
     ]
    },
    {
     "name": "stdout",
     "output_type": "stream",
     "text": [
      "INFO:tensorflow:Assets written to: models/rnn_with_feature_test/model_4/assets\n"
     ]
    },
    {
     "name": "stderr",
     "output_type": "stream",
     "text": [
      "INFO:tensorflow:Assets written to: models/rnn_with_feature_test/model_4/assets\n"
     ]
    },
    {
     "name": "stdout",
     "output_type": "stream",
     "text": [
      "Epoch 5/50\n",
      "860/860 [==============================] - 53s 62ms/step - loss: 0.6194 - acc: 0.8006 - val_loss: 0.5900 - val_acc: 0.7992\n"
     ]
    },
    {
     "name": "stderr",
     "output_type": "stream",
     "text": [
      "WARNING:absl:Found untraced functions such as gru_cell_217_layer_call_and_return_conditional_losses, gru_cell_217_layer_call_fn, gru_cell_218_layer_call_and_return_conditional_losses, gru_cell_218_layer_call_fn, gru_cell_220_layer_call_and_return_conditional_losses while saving (showing 5 of 20). These functions will not be directly callable after loading.\n"
     ]
    },
    {
     "name": "stdout",
     "output_type": "stream",
     "text": [
      "INFO:tensorflow:Assets written to: models/rnn_with_feature_test/model_5/assets\n"
     ]
    },
    {
     "name": "stderr",
     "output_type": "stream",
     "text": [
      "INFO:tensorflow:Assets written to: models/rnn_with_feature_test/model_5/assets\n"
     ]
    },
    {
     "name": "stdout",
     "output_type": "stream",
     "text": [
      "Epoch 6/50\n",
      "860/860 [==============================] - 54s 63ms/step - loss: 0.5366 - acc: 0.8261 - val_loss: 0.5363 - val_acc: 0.8311\n"
     ]
    },
    {
     "name": "stderr",
     "output_type": "stream",
     "text": [
      "WARNING:absl:Found untraced functions such as gru_cell_217_layer_call_and_return_conditional_losses, gru_cell_217_layer_call_fn, gru_cell_218_layer_call_and_return_conditional_losses, gru_cell_218_layer_call_fn, gru_cell_220_layer_call_and_return_conditional_losses while saving (showing 5 of 20). These functions will not be directly callable after loading.\n"
     ]
    },
    {
     "name": "stdout",
     "output_type": "stream",
     "text": [
      "INFO:tensorflow:Assets written to: models/rnn_with_feature_test/model_6/assets\n"
     ]
    },
    {
     "name": "stderr",
     "output_type": "stream",
     "text": [
      "INFO:tensorflow:Assets written to: models/rnn_with_feature_test/model_6/assets\n"
     ]
    },
    {
     "name": "stdout",
     "output_type": "stream",
     "text": [
      "Epoch 7/50\n",
      "860/860 [==============================] - 54s 63ms/step - loss: 0.4703 - acc: 0.8488 - val_loss: 0.5440 - val_acc: 0.8244\n"
     ]
    },
    {
     "name": "stderr",
     "output_type": "stream",
     "text": [
      "WARNING:absl:Found untraced functions such as gru_cell_217_layer_call_and_return_conditional_losses, gru_cell_217_layer_call_fn, gru_cell_218_layer_call_and_return_conditional_losses, gru_cell_218_layer_call_fn, gru_cell_220_layer_call_and_return_conditional_losses while saving (showing 5 of 20). These functions will not be directly callable after loading.\n"
     ]
    },
    {
     "name": "stdout",
     "output_type": "stream",
     "text": [
      "INFO:tensorflow:Assets written to: models/rnn_with_feature_test/model_7/assets\n"
     ]
    },
    {
     "name": "stderr",
     "output_type": "stream",
     "text": [
      "INFO:tensorflow:Assets written to: models/rnn_with_feature_test/model_7/assets\n"
     ]
    },
    {
     "name": "stdout",
     "output_type": "stream",
     "text": [
      "Epoch 8/50\n",
      "860/860 [==============================] - 55s 64ms/step - loss: 0.4241 - acc: 0.8621 - val_loss: 0.5696 - val_acc: 0.8155\n"
     ]
    },
    {
     "name": "stderr",
     "output_type": "stream",
     "text": [
      "WARNING:absl:Found untraced functions such as gru_cell_217_layer_call_and_return_conditional_losses, gru_cell_217_layer_call_fn, gru_cell_218_layer_call_and_return_conditional_losses, gru_cell_218_layer_call_fn, gru_cell_220_layer_call_and_return_conditional_losses while saving (showing 5 of 20). These functions will not be directly callable after loading.\n"
     ]
    },
    {
     "name": "stdout",
     "output_type": "stream",
     "text": [
      "INFO:tensorflow:Assets written to: models/rnn_with_feature_test/model_8/assets\n"
     ]
    },
    {
     "name": "stderr",
     "output_type": "stream",
     "text": [
      "INFO:tensorflow:Assets written to: models/rnn_with_feature_test/model_8/assets\n"
     ]
    },
    {
     "name": "stdout",
     "output_type": "stream",
     "text": [
      "Epoch 9/50\n",
      " 71/860 [=>............................] - ETA: 44s - loss: 0.3923 - acc: 0.8675"
     ]
    },
    {
     "ename": "KeyboardInterrupt",
     "evalue": "",
     "output_type": "error",
     "traceback": [
      "\u001b[0;31m---------------------------------------------------------------------------\u001b[0m",
      "\u001b[0;31mKeyboardInterrupt\u001b[0m                         Traceback (most recent call last)",
      "\u001b[1;32m/home/zhkang/project_mixnn4vs/mixnn.ipynb Cell 9\u001b[0m in \u001b[0;36m<cell line: 7>\u001b[0;34m()\u001b[0m\n\u001b[1;32m      <a href='vscode-notebook-cell://ssh-remote%2B10.51.0.136/home/zhkang/project_mixnn4vs/mixnn.ipynb#X11sdnNjb2RlLXJlbW90ZQ%3D%3D?line=3'>4</a>\u001b[0m X_val \u001b[39m=\u001b[39m {\u001b[39m'\u001b[39m\u001b[39msequence\u001b[39m\u001b[39m'\u001b[39m:X_sequence_val_trimed, \u001b[39m'\u001b[39m\u001b[39mfeature\u001b[39m\u001b[39m'\u001b[39m:X_feature_val}\n\u001b[1;32m      <a href='vscode-notebook-cell://ssh-remote%2B10.51.0.136/home/zhkang/project_mixnn4vs/mixnn.ipynb#X11sdnNjb2RlLXJlbW90ZQ%3D%3D?line=4'>5</a>\u001b[0m \u001b[39m# X_train = {'image':X_image_train, 'feature':X_feature_train}\u001b[39;00m\n\u001b[1;32m      <a href='vscode-notebook-cell://ssh-remote%2B10.51.0.136/home/zhkang/project_mixnn4vs/mixnn.ipynb#X11sdnNjb2RlLXJlbW90ZQ%3D%3D?line=5'>6</a>\u001b[0m \u001b[39m# X_val = {'image':X_image_val, 'feature':X_feature_val}\u001b[39;00m\n\u001b[0;32m----> <a href='vscode-notebook-cell://ssh-remote%2B10.51.0.136/home/zhkang/project_mixnn4vs/mixnn.ipynb#X11sdnNjb2RlLXJlbW90ZQ%3D%3D?line=6'>7</a>\u001b[0m model\u001b[39m.\u001b[39;49mfit(X_train, Y_train, batch_size\u001b[39m=\u001b[39;49m\u001b[39m64\u001b[39;49m, epochs\u001b[39m=\u001b[39;49m\u001b[39m50\u001b[39;49m, \n\u001b[1;32m      <a href='vscode-notebook-cell://ssh-remote%2B10.51.0.136/home/zhkang/project_mixnn4vs/mixnn.ipynb#X11sdnNjb2RlLXJlbW90ZQ%3D%3D?line=7'>8</a>\u001b[0m         validation_data\u001b[39m=\u001b[39;49m(X_val, Y_val), callbacks\u001b[39m=\u001b[39;49mcallbacks)\n",
      "File \u001b[0;32m~/softwares/anaconda3/envs/DL/lib/python3.9/site-packages/keras/engine/training.py:1184\u001b[0m, in \u001b[0;36mModel.fit\u001b[0;34m(self, x, y, batch_size, epochs, verbose, callbacks, validation_split, validation_data, shuffle, class_weight, sample_weight, initial_epoch, steps_per_epoch, validation_steps, validation_batch_size, validation_freq, max_queue_size, workers, use_multiprocessing)\u001b[0m\n\u001b[1;32m   1177\u001b[0m \u001b[39mwith\u001b[39;00m tf\u001b[39m.\u001b[39mprofiler\u001b[39m.\u001b[39mexperimental\u001b[39m.\u001b[39mTrace(\n\u001b[1;32m   1178\u001b[0m     \u001b[39m'\u001b[39m\u001b[39mtrain\u001b[39m\u001b[39m'\u001b[39m,\n\u001b[1;32m   1179\u001b[0m     epoch_num\u001b[39m=\u001b[39mepoch,\n\u001b[1;32m   1180\u001b[0m     step_num\u001b[39m=\u001b[39mstep,\n\u001b[1;32m   1181\u001b[0m     batch_size\u001b[39m=\u001b[39mbatch_size,\n\u001b[1;32m   1182\u001b[0m     _r\u001b[39m=\u001b[39m\u001b[39m1\u001b[39m):\n\u001b[1;32m   1183\u001b[0m   callbacks\u001b[39m.\u001b[39mon_train_batch_begin(step)\n\u001b[0;32m-> 1184\u001b[0m   tmp_logs \u001b[39m=\u001b[39m \u001b[39mself\u001b[39;49m\u001b[39m.\u001b[39;49mtrain_function(iterator)\n\u001b[1;32m   1185\u001b[0m   \u001b[39mif\u001b[39;00m data_handler\u001b[39m.\u001b[39mshould_sync:\n\u001b[1;32m   1186\u001b[0m     context\u001b[39m.\u001b[39masync_wait()\n",
      "File \u001b[0;32m~/softwares/anaconda3/envs/DL/lib/python3.9/site-packages/tensorflow/python/eager/def_function.py:885\u001b[0m, in \u001b[0;36mFunction.__call__\u001b[0;34m(self, *args, **kwds)\u001b[0m\n\u001b[1;32m    882\u001b[0m compiler \u001b[39m=\u001b[39m \u001b[39m\"\u001b[39m\u001b[39mxla\u001b[39m\u001b[39m\"\u001b[39m \u001b[39mif\u001b[39;00m \u001b[39mself\u001b[39m\u001b[39m.\u001b[39m_jit_compile \u001b[39melse\u001b[39;00m \u001b[39m\"\u001b[39m\u001b[39mnonXla\u001b[39m\u001b[39m\"\u001b[39m\n\u001b[1;32m    884\u001b[0m \u001b[39mwith\u001b[39;00m OptionalXlaContext(\u001b[39mself\u001b[39m\u001b[39m.\u001b[39m_jit_compile):\n\u001b[0;32m--> 885\u001b[0m   result \u001b[39m=\u001b[39m \u001b[39mself\u001b[39;49m\u001b[39m.\u001b[39;49m_call(\u001b[39m*\u001b[39;49margs, \u001b[39m*\u001b[39;49m\u001b[39m*\u001b[39;49mkwds)\n\u001b[1;32m    887\u001b[0m new_tracing_count \u001b[39m=\u001b[39m \u001b[39mself\u001b[39m\u001b[39m.\u001b[39mexperimental_get_tracing_count()\n\u001b[1;32m    888\u001b[0m without_tracing \u001b[39m=\u001b[39m (tracing_count \u001b[39m==\u001b[39m new_tracing_count)\n",
      "File \u001b[0;32m~/softwares/anaconda3/envs/DL/lib/python3.9/site-packages/tensorflow/python/eager/def_function.py:917\u001b[0m, in \u001b[0;36mFunction._call\u001b[0;34m(self, *args, **kwds)\u001b[0m\n\u001b[1;32m    914\u001b[0m   \u001b[39mself\u001b[39m\u001b[39m.\u001b[39m_lock\u001b[39m.\u001b[39mrelease()\n\u001b[1;32m    915\u001b[0m   \u001b[39m# In this case we have created variables on the first call, so we run the\u001b[39;00m\n\u001b[1;32m    916\u001b[0m   \u001b[39m# defunned version which is guaranteed to never create variables.\u001b[39;00m\n\u001b[0;32m--> 917\u001b[0m   \u001b[39mreturn\u001b[39;00m \u001b[39mself\u001b[39;49m\u001b[39m.\u001b[39;49m_stateless_fn(\u001b[39m*\u001b[39;49margs, \u001b[39m*\u001b[39;49m\u001b[39m*\u001b[39;49mkwds)  \u001b[39m# pylint: disable=not-callable\u001b[39;00m\n\u001b[1;32m    918\u001b[0m \u001b[39melif\u001b[39;00m \u001b[39mself\u001b[39m\u001b[39m.\u001b[39m_stateful_fn \u001b[39mis\u001b[39;00m \u001b[39mnot\u001b[39;00m \u001b[39mNone\u001b[39;00m:\n\u001b[1;32m    919\u001b[0m   \u001b[39m# Release the lock early so that multiple threads can perform the call\u001b[39;00m\n\u001b[1;32m    920\u001b[0m   \u001b[39m# in parallel.\u001b[39;00m\n\u001b[1;32m    921\u001b[0m   \u001b[39mself\u001b[39m\u001b[39m.\u001b[39m_lock\u001b[39m.\u001b[39mrelease()\n",
      "File \u001b[0;32m~/softwares/anaconda3/envs/DL/lib/python3.9/site-packages/tensorflow/python/eager/function.py:3039\u001b[0m, in \u001b[0;36mFunction.__call__\u001b[0;34m(self, *args, **kwargs)\u001b[0m\n\u001b[1;32m   3036\u001b[0m \u001b[39mwith\u001b[39;00m \u001b[39mself\u001b[39m\u001b[39m.\u001b[39m_lock:\n\u001b[1;32m   3037\u001b[0m   (graph_function,\n\u001b[1;32m   3038\u001b[0m    filtered_flat_args) \u001b[39m=\u001b[39m \u001b[39mself\u001b[39m\u001b[39m.\u001b[39m_maybe_define_function(args, kwargs)\n\u001b[0;32m-> 3039\u001b[0m \u001b[39mreturn\u001b[39;00m graph_function\u001b[39m.\u001b[39;49m_call_flat(\n\u001b[1;32m   3040\u001b[0m     filtered_flat_args, captured_inputs\u001b[39m=\u001b[39;49mgraph_function\u001b[39m.\u001b[39;49mcaptured_inputs)\n",
      "File \u001b[0;32m~/softwares/anaconda3/envs/DL/lib/python3.9/site-packages/tensorflow/python/eager/function.py:1963\u001b[0m, in \u001b[0;36mConcreteFunction._call_flat\u001b[0;34m(self, args, captured_inputs, cancellation_manager)\u001b[0m\n\u001b[1;32m   1959\u001b[0m possible_gradient_type \u001b[39m=\u001b[39m gradients_util\u001b[39m.\u001b[39mPossibleTapeGradientTypes(args)\n\u001b[1;32m   1960\u001b[0m \u001b[39mif\u001b[39;00m (possible_gradient_type \u001b[39m==\u001b[39m gradients_util\u001b[39m.\u001b[39mPOSSIBLE_GRADIENT_TYPES_NONE\n\u001b[1;32m   1961\u001b[0m     \u001b[39mand\u001b[39;00m executing_eagerly):\n\u001b[1;32m   1962\u001b[0m   \u001b[39m# No tape is watching; skip to running the function.\u001b[39;00m\n\u001b[0;32m-> 1963\u001b[0m   \u001b[39mreturn\u001b[39;00m \u001b[39mself\u001b[39m\u001b[39m.\u001b[39m_build_call_outputs(\u001b[39mself\u001b[39;49m\u001b[39m.\u001b[39;49m_inference_function\u001b[39m.\u001b[39;49mcall(\n\u001b[1;32m   1964\u001b[0m       ctx, args, cancellation_manager\u001b[39m=\u001b[39;49mcancellation_manager))\n\u001b[1;32m   1965\u001b[0m forward_backward \u001b[39m=\u001b[39m \u001b[39mself\u001b[39m\u001b[39m.\u001b[39m_select_forward_and_backward_functions(\n\u001b[1;32m   1966\u001b[0m     args,\n\u001b[1;32m   1967\u001b[0m     possible_gradient_type,\n\u001b[1;32m   1968\u001b[0m     executing_eagerly)\n\u001b[1;32m   1969\u001b[0m forward_function, args_with_tangents \u001b[39m=\u001b[39m forward_backward\u001b[39m.\u001b[39mforward()\n",
      "File \u001b[0;32m~/softwares/anaconda3/envs/DL/lib/python3.9/site-packages/tensorflow/python/eager/function.py:591\u001b[0m, in \u001b[0;36m_EagerDefinedFunction.call\u001b[0;34m(self, ctx, args, cancellation_manager)\u001b[0m\n\u001b[1;32m    589\u001b[0m \u001b[39mwith\u001b[39;00m _InterpolateFunctionError(\u001b[39mself\u001b[39m):\n\u001b[1;32m    590\u001b[0m   \u001b[39mif\u001b[39;00m cancellation_manager \u001b[39mis\u001b[39;00m \u001b[39mNone\u001b[39;00m:\n\u001b[0;32m--> 591\u001b[0m     outputs \u001b[39m=\u001b[39m execute\u001b[39m.\u001b[39;49mexecute(\n\u001b[1;32m    592\u001b[0m         \u001b[39mstr\u001b[39;49m(\u001b[39mself\u001b[39;49m\u001b[39m.\u001b[39;49msignature\u001b[39m.\u001b[39;49mname),\n\u001b[1;32m    593\u001b[0m         num_outputs\u001b[39m=\u001b[39;49m\u001b[39mself\u001b[39;49m\u001b[39m.\u001b[39;49m_num_outputs,\n\u001b[1;32m    594\u001b[0m         inputs\u001b[39m=\u001b[39;49margs,\n\u001b[1;32m    595\u001b[0m         attrs\u001b[39m=\u001b[39;49mattrs,\n\u001b[1;32m    596\u001b[0m         ctx\u001b[39m=\u001b[39;49mctx)\n\u001b[1;32m    597\u001b[0m   \u001b[39melse\u001b[39;00m:\n\u001b[1;32m    598\u001b[0m     outputs \u001b[39m=\u001b[39m execute\u001b[39m.\u001b[39mexecute_with_cancellation(\n\u001b[1;32m    599\u001b[0m         \u001b[39mstr\u001b[39m(\u001b[39mself\u001b[39m\u001b[39m.\u001b[39msignature\u001b[39m.\u001b[39mname),\n\u001b[1;32m    600\u001b[0m         num_outputs\u001b[39m=\u001b[39m\u001b[39mself\u001b[39m\u001b[39m.\u001b[39m_num_outputs,\n\u001b[0;32m   (...)\u001b[0m\n\u001b[1;32m    603\u001b[0m         ctx\u001b[39m=\u001b[39mctx,\n\u001b[1;32m    604\u001b[0m         cancellation_manager\u001b[39m=\u001b[39mcancellation_manager)\n",
      "File \u001b[0;32m~/softwares/anaconda3/envs/DL/lib/python3.9/site-packages/tensorflow/python/eager/execute.py:59\u001b[0m, in \u001b[0;36mquick_execute\u001b[0;34m(op_name, num_outputs, inputs, attrs, ctx, name)\u001b[0m\n\u001b[1;32m     57\u001b[0m \u001b[39mtry\u001b[39;00m:\n\u001b[1;32m     58\u001b[0m   ctx\u001b[39m.\u001b[39mensure_initialized()\n\u001b[0;32m---> 59\u001b[0m   tensors \u001b[39m=\u001b[39m pywrap_tfe\u001b[39m.\u001b[39;49mTFE_Py_Execute(ctx\u001b[39m.\u001b[39;49m_handle, device_name, op_name,\n\u001b[1;32m     60\u001b[0m                                       inputs, attrs, num_outputs)\n\u001b[1;32m     61\u001b[0m \u001b[39mexcept\u001b[39;00m core\u001b[39m.\u001b[39m_NotOkStatusException \u001b[39mas\u001b[39;00m e:\n\u001b[1;32m     62\u001b[0m   \u001b[39mif\u001b[39;00m name \u001b[39mis\u001b[39;00m \u001b[39mnot\u001b[39;00m \u001b[39mNone\u001b[39;00m:\n",
      "\u001b[0;31mKeyboardInterrupt\u001b[0m: "
     ]
    }
   ],
   "source": [
    "# X_train = {'sequence':X_sequence_train_trimed, 'image':X_image_train, 'feature':X_feature_train}\n",
    "# X_val = {'sequence':X_sequence_val_trimed, 'image':X_image_val, 'feature':X_feature_val}\n",
    "X_train = {'sequence':X_sequence_train_trimed, 'feature':X_feature_train}\n",
    "X_val = {'sequence':X_sequence_val_trimed, 'feature':X_feature_val}\n",
    "# X_train = {'image':X_image_train, 'feature':X_feature_train}\n",
    "# X_val = {'image':X_image_val, 'feature':X_feature_val}\n",
    "model.fit(X_train, Y_train, batch_size=32, epochs=50, \n",
    "        validation_data=(X_val, Y_val), callbacks=callbacks)"
   ]
  },
  {
   "cell_type": "code",
   "execution_count": 2,
   "metadata": {},
   "outputs": [
    {
     "name": "stderr",
     "output_type": "stream",
     "text": [
      "2022-10-13 12:46:45.174602: I tensorflow/core/platform/cpu_feature_guard.cc:142] This TensorFlow binary is optimized with oneAPI Deep Neural Network Library (oneDNN) to use the following CPU instructions in performance-critical operations:  SSE4.1 SSE4.2 AVX AVX2 AVX512F FMA\n",
      "To enable them in other operations, rebuild TensorFlow with the appropriate compiler flags.\n",
      "2022-10-13 12:46:46.614918: I tensorflow/core/common_runtime/gpu/gpu_device.cc:1510] Created device /job:localhost/replica:0/task:0/device:GPU:0 with 22245 MB memory:  -> device: 0, name: GeForce RTX 3090, pci bus id: 0000:73:00.0, compute capability: 8.6\n",
      "2022-10-13 12:46:46.619781: I tensorflow/core/common_runtime/gpu/gpu_device.cc:1510] Created device /job:localhost/replica:0/task:0/device:GPU:1 with 22300 MB memory:  -> device: 1, name: GeForce RTX 3090, pci bus id: 0000:d5:00.0, compute capability: 8.6\n",
      "2022-10-13 12:46:49.348820: W tensorflow/core/common_runtime/graph_constructor.cc:803] Node 'cond/while' has 13 outputs but the _output_shapes attribute specifies shapes for 46 outputs. Output shapes may be inaccurate.\n",
      "2022-10-13 12:46:49.358448: W tensorflow/core/common_runtime/graph_constructor.cc:803] Node 'cond' has 4 outputs but the _output_shapes attribute specifies shapes for 46 outputs. Output shapes may be inaccurate.\n",
      "2022-10-13 12:46:50.029379: W tensorflow/core/common_runtime/graph_constructor.cc:803] Node 'cond/while' has 13 outputs but the _output_shapes attribute specifies shapes for 46 outputs. Output shapes may be inaccurate.\n",
      "2022-10-13 12:46:50.038534: W tensorflow/core/common_runtime/graph_constructor.cc:803] Node 'cond' has 4 outputs but the _output_shapes attribute specifies shapes for 46 outputs. Output shapes may be inaccurate.\n",
      "2022-10-13 12:46:50.446004: W tensorflow/core/common_runtime/graph_constructor.cc:803] Node 'cond/while' has 14 outputs but the _output_shapes attribute specifies shapes for 48 outputs. Output shapes may be inaccurate.\n",
      "2022-10-13 12:46:50.455328: W tensorflow/core/common_runtime/graph_constructor.cc:803] Node 'cond' has 4 outputs but the _output_shapes attribute specifies shapes for 48 outputs. Output shapes may be inaccurate.\n",
      "2022-10-13 12:46:50.478281: W tensorflow/core/common_runtime/graph_constructor.cc:803] Node 'cond/while' has 14 outputs but the _output_shapes attribute specifies shapes for 48 outputs. Output shapes may be inaccurate.\n",
      "2022-10-13 12:46:50.636864: W tensorflow/core/common_runtime/graph_constructor.cc:803] Node 'cond/while' has 14 outputs but the _output_shapes attribute specifies shapes for 48 outputs. Output shapes may be inaccurate.\n",
      "2022-10-13 12:46:50.645930: W tensorflow/core/common_runtime/graph_constructor.cc:803] Node 'cond' has 4 outputs but the _output_shapes attribute specifies shapes for 48 outputs. Output shapes may be inaccurate.\n",
      "2022-10-13 12:46:50.947187: W tensorflow/core/common_runtime/graph_constructor.cc:803] Node 'cond/while' has 14 outputs but the _output_shapes attribute specifies shapes for 48 outputs. Output shapes may be inaccurate.\n",
      "2022-10-13 12:46:50.956548: W tensorflow/core/common_runtime/graph_constructor.cc:803] Node 'cond' has 4 outputs but the _output_shapes attribute specifies shapes for 48 outputs. Output shapes may be inaccurate.\n",
      "2022-10-13 12:46:51.805017: W tensorflow/core/common_runtime/graph_constructor.cc:803] Node 'cond/while' has 13 outputs but the _output_shapes attribute specifies shapes for 46 outputs. Output shapes may be inaccurate.\n",
      "2022-10-13 12:46:51.814695: W tensorflow/core/common_runtime/graph_constructor.cc:803] Node 'cond' has 4 outputs but the _output_shapes attribute specifies shapes for 46 outputs. Output shapes may be inaccurate.\n",
      "2022-10-13 12:46:51.825231: W tensorflow/core/common_runtime/graph_constructor.cc:803] Node 'cond/while' has 14 outputs but the _output_shapes attribute specifies shapes for 48 outputs. Output shapes may be inaccurate.\n",
      "2022-10-13 12:46:51.834499: W tensorflow/core/common_runtime/graph_constructor.cc:803] Node 'cond' has 4 outputs but the _output_shapes attribute specifies shapes for 48 outputs. Output shapes may be inaccurate.\n",
      "2022-10-13 12:46:51.902661: W tensorflow/core/common_runtime/graph_constructor.cc:803] Node 'cond/while' has 13 outputs but the _output_shapes attribute specifies shapes for 46 outputs. Output shapes may be inaccurate.\n",
      "2022-10-13 12:46:51.912457: W tensorflow/core/common_runtime/graph_constructor.cc:803] Node 'cond' has 4 outputs but the _output_shapes attribute specifies shapes for 46 outputs. Output shapes may be inaccurate.\n",
      "2022-10-13 12:46:52.021985: W tensorflow/core/common_runtime/graph_constructor.cc:803] Node 'cond/while' has 13 outputs but the _output_shapes attribute specifies shapes for 46 outputs. Output shapes may be inaccurate.\n",
      "2022-10-13 12:46:52.031424: W tensorflow/core/common_runtime/graph_constructor.cc:803] Node 'cond' has 4 outputs but the _output_shapes attribute specifies shapes for 46 outputs. Output shapes may be inaccurate.\n",
      "2022-10-13 12:46:52.225077: W tensorflow/core/common_runtime/graph_constructor.cc:803] Node 'cond/while' has 14 outputs but the _output_shapes attribute specifies shapes for 48 outputs. Output shapes may be inaccurate.\n",
      "2022-10-13 12:46:52.235524: W tensorflow/core/common_runtime/graph_constructor.cc:803] Node 'cond' has 4 outputs but the _output_shapes attribute specifies shapes for 48 outputs. Output shapes may be inaccurate.\n",
      "2022-10-13 12:46:53.355378: W tensorflow/core/common_runtime/graph_constructor.cc:803] Node 'cond/while' has 13 outputs but the _output_shapes attribute specifies shapes for 46 outputs. Output shapes may be inaccurate.\n",
      "2022-10-13 12:46:53.365119: W tensorflow/core/common_runtime/graph_constructor.cc:803] Node 'cond' has 4 outputs but the _output_shapes attribute specifies shapes for 46 outputs. Output shapes may be inaccurate.\n",
      "2022-10-13 12:46:53.379826: W tensorflow/core/common_runtime/graph_constructor.cc:803] Node 'cond' has 4 outputs but the _output_shapes attribute specifies shapes for 48 outputs. Output shapes may be inaccurate.\n",
      "2022-10-13 12:46:55.622884: I tensorflow/compiler/mlir/mlir_graph_optimization_pass.cc:185] None of the MLIR Optimization Passes are enabled (registered 2)\n",
      "2022-10-13 12:46:58.635164: I tensorflow/stream_executor/cuda/cuda_blas.cc:1760] TensorFloat-32 will be used for the matrix multiplication. This will only be logged once.\n",
      "2022-10-13 12:46:58.937248: I tensorflow/stream_executor/cuda/cuda_dnn.cc:369] Loaded cuDNN version 8401\n",
      "Could not load symbol cublasGetSmCountTarget from libcublas.so.11. Error: /home/zhkang/softwares/anaconda3/envs/DL/lib/python3.9/site-packages/tensorflow/python/../../../../libcublas.so.11: undefined symbol: cublasGetSmCountTarget\n"
     ]
    },
    {
     "name": "stdout",
     "output_type": "stream",
     "text": [
      "(11, 11)\n",
      "Normalized confusion matrix\n",
      "[[7.61574074e-01 0.00000000e+00 4.62962963e-03 1.55092593e-01\n",
      "  2.31481481e-03 0.00000000e+00 2.31481481e-03 0.00000000e+00\n",
      "  0.00000000e+00 7.17592593e-02 2.31481481e-03]\n",
      " [5.33333333e-03 8.74666667e-01 9.86666667e-02 0.00000000e+00\n",
      "  8.00000000e-03 0.00000000e+00 8.00000000e-03 0.00000000e+00\n",
      "  5.33333333e-03 0.00000000e+00 0.00000000e+00]\n",
      " [2.00000000e-02 1.60000000e-01 7.40000000e-01 6.00000000e-02\n",
      "  0.00000000e+00 0.00000000e+00 0.00000000e+00 0.00000000e+00\n",
      "  0.00000000e+00 2.00000000e-02 0.00000000e+00]\n",
      " [2.35294118e-01 0.00000000e+00 0.00000000e+00 7.64705882e-01\n",
      "  0.00000000e+00 0.00000000e+00 0.00000000e+00 0.00000000e+00\n",
      "  0.00000000e+00 0.00000000e+00 0.00000000e+00]\n",
      " [1.06382979e-03 1.06382979e-03 1.06382979e-03 0.00000000e+00\n",
      "  7.92021277e-01 7.07446809e-02 1.23404255e-01 5.31914894e-04\n",
      "  0.00000000e+00 1.06382979e-03 9.04255319e-03]\n",
      " [0.00000000e+00 0.00000000e+00 0.00000000e+00 0.00000000e+00\n",
      "  3.11111111e-02 9.64444444e-01 0.00000000e+00 0.00000000e+00\n",
      "  0.00000000e+00 0.00000000e+00 4.44444444e-03]\n",
      " [1.37741047e-02 2.47933884e-02 3.03030303e-02 2.75482094e-03\n",
      "  2.78236915e-01 2.75482094e-02 5.15151515e-01 4.95867769e-02\n",
      "  0.00000000e+00 1.10192837e-02 4.68319559e-02]\n",
      " [0.00000000e+00 0.00000000e+00 0.00000000e+00 0.00000000e+00\n",
      "  7.81250000e-03 0.00000000e+00 0.00000000e+00 9.92187500e-01\n",
      "  0.00000000e+00 0.00000000e+00 0.00000000e+00]\n",
      " [0.00000000e+00 0.00000000e+00 0.00000000e+00 0.00000000e+00\n",
      "  0.00000000e+00 0.00000000e+00 0.00000000e+00 0.00000000e+00\n",
      "  1.00000000e+00 0.00000000e+00 0.00000000e+00]\n",
      " [0.00000000e+00 0.00000000e+00 0.00000000e+00 0.00000000e+00\n",
      "  0.00000000e+00 0.00000000e+00 0.00000000e+00 0.00000000e+00\n",
      "  0.00000000e+00 9.33333333e-01 6.66666667e-02]\n",
      " [0.00000000e+00 0.00000000e+00 0.00000000e+00 0.00000000e+00\n",
      "  0.00000000e+00 0.00000000e+00 0.00000000e+00 0.00000000e+00\n",
      "  0.00000000e+00 1.33333333e-01 8.66666667e-01]]\n"
     ]
    },
    {
     "data": {
      "image/png": "[encoded data removed]",
      "text/plain": [
       "<Figure size 864x720 with 2 Axes>"
      ]
     },
     "metadata": {
      "needs_background": "light"
     },
     "output_type": "display_data"
    }
   ],
   "source": [
    "lodaed_model = keras.models.load_model('models/rnn_with_feature_test/model_4')\n",
    "from sklearn.metrics import confusion_matrix, ConfusionMatrixDisplay\n",
    "import matplotlib.pyplot as plt\n",
    "# from util import generate_batch\n",
    "\n",
    "def generate_batch(X_sequence, X_image,  X_feature, Y, batch_size):\n",
    "    idx = 0\n",
    "    batch_num = len(Y)/batch_size\n",
    "    while idx < batch_num:\n",
    "        batch_x_sequence = X_sequence[idx * batch_size : (idx + 1) * batch_size]\n",
    "        batch_x_image = X_image[idx * batch_size : (idx + 1) * batch_size]\n",
    "        batch_x_feature = X_feature[idx * batch_size : (idx + 1) * batch_size]\n",
    "        batch_y = Y[idx * batch_size : (idx + 1) * batch_size]\n",
    "        yield batch_x_sequence, batch_x_image, batch_x_feature, batch_y\n",
    "        idx += 1\n",
    "\n",
    "test_gen = generate_batch(X_sequence_test_trimed, X_image_test, X_feature_test, Y_test, 128)      \n",
    "y_label = Y_test\n",
    "\n",
    "# train_gen = generate_batch(X_train_trimed, Y_train,128)      \n",
    "# y_label = Y_train\n",
    "\n",
    "y_predict = np.array([])\n",
    "for x_sequence, x_image, x_feature, y in test_gen:\n",
    "# for x, y in train_gen:\n",
    "    y_predict = np.concatenate([y_predict, \n",
    "            np.argmax(lodaed_model.predict({'sequence':x_sequence, \n",
    "                                            # 'image':x_image,\n",
    "                                            'feature':x_feature}), axis=-1)])\n",
    "y_label = y_label.astype(np.int32) \n",
    "y_predict = y_predict.astype(np.int32) \n",
    "cm = confusion_matrix(y_true=y_label, y_pred=y_predict, normalize='true')\n",
    "print(cm.shape)\n",
    "# disp = ConfusionMatrixDisplay(confusion_matrix=cm)\n",
    "# disp.plot(values_format='.2g')\n",
    "\n",
    "classes = ['RRab', 'RRc','RRd', 'Blazhko','Ecl', 'EA' , 'ROT', 'LPV','DS','ACEP', 'Cep-2']\n",
    "\n",
    "from util import cm_plot\n",
    "\n",
    "plotting = cm_plot(cm, classes_types=classes, classifier_model='mix Classifier', nClasses=12,\n",
    "                    cmap=plt.cm.Blues)"
   ]
  }
 ],
 "metadata": {
  "kernelspec": {
   "display_name": "Python 3.9.7 ('DL')",
   "language": "python",
   "name": "python3"
  },
  "language_info": {
   "codemirror_mode": {
    "name": "ipython",
    "version": 3
   },
   "file_extension": ".py",
   "mimetype": "text/x-python",
   "name": "python",
   "nbconvert_exporter": "python",
   "pygments_lexer": "ipython3",
   "version": "3.9.7"
  },
  "orig_nbformat": 4,
  "vscode": {
   "interpreter": {
    "hash": "686e52782356fa5192d8da796457d9836a4bb6aebab3dc056991bb89ef60f4a8"
   }
  }
 },
 "nbformat": 4,
 "nbformat_minor": 2
}
